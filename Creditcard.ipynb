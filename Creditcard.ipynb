{
 "cells": [
  {
   "cell_type": "code",
   "id": "initial_id",
   "metadata": {
    "collapsed": true
   },
   "source": "!pip install pycaret",
   "outputs": [],
   "execution_count": null
  },
  {
   "metadata": {},
   "cell_type": "code",
   "source": "!pip install missingno",
   "id": "36667072d1156715",
   "outputs": [],
   "execution_count": null
  },
  {
   "metadata": {
    "ExecuteTime": {
     "end_time": "2025-02-04T14:56:45.466275Z",
     "start_time": "2025-02-04T14:56:45.442369Z"
    }
   },
   "cell_type": "code",
   "source": [
    "# --- Importing Libraries ---\n",
    "import numpy as np\n",
    "import pandas as pd\n",
    "import matplotlib.pyplot as plt\n",
    "import missingno as mso\n",
    "import seaborn as sns\n",
    "import warnings\n",
    "import pycaret\n",
    "from datetime import datetime"
   ],
   "id": "4f62213cfb91a93b",
   "outputs": [],
   "execution_count": 23
  },
  {
   "metadata": {
    "ExecuteTime": {
     "end_time": "2025-02-04T14:56:48.888639Z",
     "start_time": "2025-02-04T14:56:48.881552Z"
    }
   },
   "cell_type": "code",
   "source": "from pycaret.classification import *",
   "id": "6ba971fad4ac77b5",
   "outputs": [],
   "execution_count": 24
  },
  {
   "metadata": {
    "ExecuteTime": {
     "end_time": "2025-02-04T14:56:52.131723Z",
     "start_time": "2025-02-04T14:56:52.127936Z"
    }
   },
   "cell_type": "code",
   "source": [
    "# --- Libraries Settings ---\n",
    "warnings.filterwarnings('ignore')\n",
    "plt.rcParams['figure.dpi'] = 100"
   ],
   "id": "3a1d33dbdd631592",
   "outputs": [],
   "execution_count": 25
  },
  {
   "metadata": {
    "ExecuteTime": {
     "end_time": "2025-02-04T15:33:50.060892Z",
     "start_time": "2025-02-04T15:33:49.357575Z"
    }
   },
   "cell_type": "code",
   "source": [
    "# Load Application Record\n",
    "application_df = pd.read_csv('data_set/application_record.csv')\n",
    "\n",
    "# Load Credit Record\n",
    "credit_df = pd.read_csv('data_set/credit_record.csv')"
   ],
   "id": "41298ea307c7b27f",
   "outputs": [],
   "execution_count": 45
  },
  {
   "metadata": {},
   "cell_type": "markdown",
   "source": "    Drop Dubplicate ",
   "id": "ce5ab93088819015"
  },
  {
   "metadata": {
    "ExecuteTime": {
     "end_time": "2025-02-04T15:34:00.517290Z",
     "start_time": "2025-02-04T15:34:00.189078Z"
    }
   },
   "cell_type": "code",
   "source": [
    "print(f\"Rows before removing duplicates: {len(application_df)}\")\n",
    "application_df = application_df.drop_duplicates(keep='first')\n",
    "print(f\"Rows after removing duplicates: {len(application_df)}\")"
   ],
   "id": "43097eb2441737b4",
   "outputs": [
    {
     "name": "stdout",
     "output_type": "stream",
     "text": [
      "Rows before removing duplicates: 438557\n",
      "Rows after removing duplicates: 438557\n"
     ]
    }
   ],
   "execution_count": 46
  },
  {
   "metadata": {},
   "cell_type": "markdown",
   "source": [
    "\t3.\tProcess Application Record:\n",
    "\t•\tSort and Remove Duplicates:"
   ],
   "id": "ce555a9d2c27b01"
  },
  {
   "metadata": {
    "ExecuteTime": {
     "end_time": "2025-02-04T14:56:59.398566Z",
     "start_time": "2025-02-04T14:56:59.395024Z"
    }
   },
   "cell_type": "code",
   "source": "print(application_df['DAYS_BIRTH'].head())",
   "id": "69f89f13693722e7",
   "outputs": [
    {
     "name": "stdout",
     "output_type": "stream",
     "text": [
      "0   -12005\n",
      "1   -12005\n",
      "2   -21474\n",
      "3   -19110\n",
      "4   -19110\n",
      "Name: DAYS_BIRTH, dtype: int64\n"
     ]
    }
   ],
   "execution_count": 27
  },
  {
   "metadata": {
    "ExecuteTime": {
     "end_time": "2025-02-04T14:57:12.144696Z",
     "start_time": "2025-02-04T14:57:11.937889Z"
    }
   },
   "cell_type": "code",
   "source": "application_df = application_df.sort_values(by='ID').drop_duplicates(subset='ID')",
   "id": "eab7d277ae34ee42",
   "outputs": [],
   "execution_count": 28
  },
  {
   "metadata": {},
   "cell_type": "markdown",
   "source": "•\tReplace ‘Y’/‘N’ with 1/0:",
   "id": "9ba1445dd887afc"
  },
  {
   "metadata": {
    "ExecuteTime": {
     "end_time": "2025-02-04T14:57:19.995434Z",
     "start_time": "2025-02-04T14:57:19.955795Z"
    }
   },
   "cell_type": "code",
   "source": [
    "application_df['FLAG_OWN_CAR'] = application_df['FLAG_OWN_CAR'].map({'Y': 1, 'N': 0})\n",
    "application_df['FLAG_OWN_REALTY'] = application_df['FLAG_OWN_REALTY'].map({'Y': 1, 'N': 0})"
   ],
   "id": "42e27969b0099df5",
   "outputs": [],
   "execution_count": 29
  },
  {
   "metadata": {},
   "cell_type": "markdown",
   "source": "\t•\tAdd ‘Current_Date’ Column:",
   "id": "80461b30631b3d52"
  },
  {
   "metadata": {},
   "cell_type": "markdown",
   "source": "\t•\tCalculate Age and Years Employed:",
   "id": "fa50b66d020373ab"
  },
  {
   "metadata": {
    "ExecuteTime": {
     "end_time": "2025-02-04T14:57:31.038059Z",
     "start_time": "2025-02-04T14:57:31.025963Z"
    }
   },
   "cell_type": "code",
   "source": "print(application_df['DAYS_BIRTH'].head())",
   "id": "428490a3b119af87",
   "outputs": [
    {
     "name": "stdout",
     "output_type": "stream",
     "text": [
      "0   -12005\n",
      "1   -12005\n",
      "2   -21474\n",
      "3   -19110\n",
      "4   -19110\n",
      "Name: DAYS_BIRTH, dtype: int64\n"
     ]
    }
   ],
   "execution_count": 30
  },
  {
   "metadata": {
    "ExecuteTime": {
     "end_time": "2025-02-04T14:57:44.970117Z",
     "start_time": "2025-02-04T14:57:44.937331Z"
    }
   },
   "cell_type": "code",
   "source": "print(application_df['DAYS_EMPLOYED'].describe())",
   "id": "8e66f2c506800425",
   "outputs": [
    {
     "name": "stdout",
     "output_type": "stream",
     "text": [
      "count    438510.000000\n",
      "mean      60566.221347\n",
      "std      138770.058166\n",
      "min      -17531.000000\n",
      "25%       -3103.000000\n",
      "50%       -1467.000000\n",
      "75%        -371.000000\n",
      "max      365243.000000\n",
      "Name: DAYS_EMPLOYED, dtype: float64\n"
     ]
    }
   ],
   "execution_count": 31
  },
  {
   "metadata": {},
   "cell_type": "markdown",
   "source": [
    "3. Process application_record.csv\n",
    "\n",
    "(a) จัดการค่าที่ผิดปกติใน DAYS_EMPLOYED:\n",
    "\n",
    "แทนค่าที่ผิดปกติ (365243) ด้วย NaN:\n",
    "    1.  ค่า 365243 คืออะไร?\n",
    "\t    •\tในคอลัมน์ DAYS_EMPLOYED ค่า 365243 เป็นตัวแทนของ “ข้อมูลไม่ถูกต้อง” หรือ “ไม่มีข้อมูล” (เช่น คนที่ไม่มีงานทำ หรือไม่ได้ระบุวันเริ่มทำงาน)\n",
    "\t    •\tค่านี้ไม่สมเหตุสมผล (เพราะ 365243 วัน = 1,000 ปี!) ดังนั้นจึงต้องจัดการกับมันก่อนทำการวิเคราะห์\n",
    "\t2.\tทำอะไรในคำสั่งนี้?\n",
    "\t    •\t.replace({365243: np.nan}) ใช้แทนค่าทั้งหมดที่เป็น 365243 ในคอลัมน์ DAYS_EMPLOYED ด้วย np.nan\n",
    "\t    •\tnp.nan ใน Python หมายถึง “ไม่มีข้อมูล” (missing value)\n",
    "\t3.\tทำไมต้องทำแบบนี้?\n",
    "\t    •\tถ้าปล่อยให้ค่า 365243 อยู่ จะทำให้คำนวณผิด เช่น:\n",
    "\t    •\tค่าเฉลี่ยของการทำงาน (mean) จะสูงเกินจริง\n",
    "\t    •\tการคำนวณปีที่ทำงาน (-DAYS_EMPLOYED // 365) จะได้ค่าที่ไม่สมเหตุสมผล เช่น -1000 ปี\n",
    "        •\tเมื่อเปลี่ยนเป็น np.nan โปรแกรมจะมองข้ามค่าที่ไม่มีข้อมูลเวลาคำนวณ เช่น ค่าเฉลี่ย หรือยอดรวม\n",
    "\n",
    "ก่อนแทนที่:\n",
    "DAYS_EMPLOYED\n",
    "-3000\n",
    "365243\n",
    "-5000\n",
    "365243\n",
    "\n",
    "หลัง:\n",
    "DAYS_EMPLOYED\n",
    "-3000\n",
    "NaN\n",
    "-5000\n",
    "NaN\n",
    "\n",
    "\n",
    "สรุป:\n",
    "\n",
    "คำสั่งนี้ช่วยจัดการข้อมูลที่ผิดปกติหรือไม่มีข้อมูลให้กลายเป็น NaN เพื่อป้องกันไม่ให้คำนวณผิด และให้ผลลัพธ์แม่นยำขึ้น เช่น การหาค่าเฉลี่ยหรือการวิเคราะห์ข้อมูลในภายหลัง"
   ],
   "id": "f6dadf4cc36b91e"
  },
  {
   "metadata": {
    "ExecuteTime": {
     "end_time": "2025-02-04T15:17:29.226151Z",
     "start_time": "2025-02-04T15:17:29.193232Z"
    }
   },
   "cell_type": "code",
   "source": [
    "# Replace placeholder value in DAYS_EMPLOYED\n",
    "application_df['DAYS_EMPLOYED'] = application_df['DAYS_EMPLOYED'].replace({365243: np.nan})"
   ],
   "id": "3c4b3092bbc07f9",
   "outputs": [],
   "execution_count": 32
  },
  {
   "metadata": {},
   "cell_type": "markdown",
   "source": "(b) คำนวณอายุ (AGE) และจำนวนปีทำงาน (YEARS_EMPLOYED):",
   "id": "ade301cd1f181d1f"
  },
  {
   "metadata": {
    "ExecuteTime": {
     "end_time": "2025-02-04T15:17:48.730986Z",
     "start_time": "2025-02-04T15:17:48.687569Z"
    }
   },
   "cell_type": "code",
   "source": [
    "# คำนวณอายุ\n",
    "application_df['AGE'] = (-application_df['DAYS_BIRTH']) // 365\n",
    "\n",
    "# คำนวณจำนวนปีที่ทำงาน (เฉพาะค่าที่ไม่ใช่ NaN)\n",
    "application_df['YEARS_EMPLOYED'] = (-application_df['DAYS_EMPLOYED']) // 365"
   ],
   "id": "223a250baa06403",
   "outputs": [],
   "execution_count": 33
  },
  {
   "metadata": {
    "ExecuteTime": {
     "end_time": "2025-02-04T15:17:57.464567Z",
     "start_time": "2025-02-04T15:17:57.400929Z"
    }
   },
   "cell_type": "code",
   "source": "print(application_df[['AGE', 'YEARS_EMPLOYED']].describe())",
   "id": "8734609e02dcef6b",
   "outputs": [
    {
     "name": "stdout",
     "output_type": "stream",
     "text": [
      "                 AGE  YEARS_EMPLOYED\n",
      "count  438510.000000    363186.00000\n",
      "mean       43.326604         6.68430\n",
      "std        11.467615         6.57934\n",
      "min        20.000000         0.00000\n",
      "25%        34.000000         2.00000\n",
      "50%        42.000000         5.00000\n",
      "75%        53.000000         9.00000\n",
      "max        69.000000        48.00000\n"
     ]
    }
   ],
   "execution_count": 34
  },
  {
   "metadata": {},
   "cell_type": "markdown",
   "source": [
    "4. Process credit_record.csv\n",
    "\n",
    "    (a) จัดการสถานะ (STATUS):\n",
    "    แปลง STATUS ให้เป็น “Good Debt” หรือ “Bad Debt”:"
   ],
   "id": "db5c7f09062498c6"
  },
  {
   "metadata": {
    "ExecuteTime": {
     "end_time": "2025-02-04T15:19:13.933693Z",
     "start_time": "2025-02-04T15:19:13.530384Z"
    }
   },
   "cell_type": "code",
   "source": [
    "# Define good and bad debt statuses\n",
    "good_debt_statuses = ['0', 'C', 'X']\n",
    "bad_debt_statuses = ['1', '2', '3', '4', '5']\n",
    "\n",
    "# สร้างคอลัมน์ใหม่แยก Good และ Bad Debt\n",
    "credit_df['Good_Debt'] = credit_df['STATUS'].apply(lambda x: 1 if x in good_debt_statuses else 0)\n",
    "credit_df['Bad_Debt'] = credit_df['STATUS'].apply(lambda x: 1 if x in bad_debt_statuses else 0)"
   ],
   "id": "ff1ab9b63c87ddd1",
   "outputs": [],
   "execution_count": 35
  },
  {
   "metadata": {},
   "cell_type": "markdown",
   "source": [
    "(b) รวมข้อมูลสถานะโดย ID:\n",
    "\n",
    "คำนวณจำนวนเดือนที่เป็น Good Debt และ Bad Debt สำหรับแต่ละคน:"
   ],
   "id": "2359d4e687fe8ae9"
  },
  {
   "metadata": {
    "ExecuteTime": {
     "end_time": "2025-02-04T15:19:42.868766Z",
     "start_time": "2025-02-04T15:19:42.768261Z"
    }
   },
   "cell_type": "code",
   "source": [
    "debt_summary = credit_df.groupby('ID').agg(\n",
    "    Good_Debt_Count=('Good_Debt', 'sum'),\n",
    "    Bad_Debt_Count=('Bad_Debt', 'sum')\n",
    ").reset_index()"
   ],
   "id": "54653c5b87f9f272",
   "outputs": [],
   "execution_count": 36
  },
  {
   "metadata": {},
   "cell_type": "markdown",
   "source": [
    "5. รวมข้อมูลจากทั้งสองไฟล์\n",
    "\n",
    "รวมข้อมูลจาก application_df และ credit_df โดยใช้ ID เป็นตัวเชื่อม:"
   ],
   "id": "4ba7d837314441cc"
  },
  {
   "metadata": {
    "ExecuteTime": {
     "end_time": "2025-02-04T15:20:18.519553Z",
     "start_time": "2025-02-04T15:20:18.432070Z"
    }
   },
   "cell_type": "code",
   "source": "merged_df = pd.merge(application_df, debt_summary, on='ID', how='inner')",
   "id": "d1f03a19099c5f77",
   "outputs": [],
   "execution_count": 37
  },
  {
   "metadata": {},
   "cell_type": "markdown",
   "source": [
    "6. จัดหมวดหมู่สถานะโดยรวม\n",
    "\n",
    "สร้างคอลัมน์ STATUS เพื่อจัดหมวดหมู่คนที่มีหนี้ดีหรือหนี้เสีย:"
   ],
   "id": "1d4d1bf595487c37"
  },
  {
   "metadata": {
    "ExecuteTime": {
     "end_time": "2025-02-04T15:20:48.080202Z",
     "start_time": "2025-02-04T15:20:47.931096Z"
    }
   },
   "cell_type": "code",
   "source": [
    "merged_df['STATUS'] = merged_df.apply(\n",
    "    lambda row: 1 if row['Good_Debt_Count'] > row['Bad_Debt_Count'] else 0,\n",
    "    axis=1\n",
    ")"
   ],
   "id": "e12e2a6bb78fac5a",
   "outputs": [],
   "execution_count": 38
  },
  {
   "metadata": {},
   "cell_type": "markdown",
   "source": [
    "7. Export ข้อมูลที่จัดการแล้ว\n",
    "\n",
    "บันทึกข้อมูลที่ผ่านการประมวลผลลงในไฟล์ CSV:"
   ],
   "id": "3178596c01767daf"
  },
  {
   "metadata": {
    "ExecuteTime": {
     "end_time": "2025-02-04T15:21:19.043599Z",
     "start_time": "2025-02-04T15:21:18.816043Z"
    }
   },
   "cell_type": "code",
   "source": "merged_df.to_csv('cleaned_credit_card_data.csv', index=False)",
   "id": "62eaa063f48f158",
   "outputs": [],
   "execution_count": 39
  },
  {
   "metadata": {
    "ExecuteTime": {
     "end_time": "2025-02-04T15:32:01.284578Z",
     "start_time": "2025-02-04T15:32:01.191173Z"
    }
   },
   "cell_type": "code",
   "source": [
    "# Check for duplicates\n",
    "application_df = pd.read_csv('cleaned_credit_card_data.csv')\n",
    "duplicates = application_df[application_df.duplicated()]\n",
    "print(duplicates)"
   ],
   "id": "e67a76d5adc831d1",
   "outputs": [
    {
     "name": "stdout",
     "output_type": "stream",
     "text": [
      "Empty DataFrame\n",
      "Columns: [ID, CODE_GENDER, FLAG_OWN_CAR, FLAG_OWN_REALTY, CNT_CHILDREN, AMT_INCOME_TOTAL, NAME_INCOME_TYPE, NAME_EDUCATION_TYPE, NAME_FAMILY_STATUS, NAME_HOUSING_TYPE, DAYS_BIRTH, DAYS_EMPLOYED, FLAG_MOBIL, FLAG_WORK_PHONE, FLAG_PHONE, FLAG_EMAIL, OCCUPATION_TYPE, CNT_FAM_MEMBERS, AGE, YEARS_EMPLOYED, Good_Debt_Count, Bad_Debt_Count, STATUS]\n",
      "Index: []\n",
      "\n",
      "[0 rows x 23 columns]\n"
     ]
    }
   ],
   "execution_count": 43
  },
  {
   "metadata": {
    "ExecuteTime": {
     "end_time": "2025-02-04T15:32:07.676549Z",
     "start_time": "2025-02-04T15:32:07.654956Z"
    }
   },
   "cell_type": "code",
   "source": [
    "print(f\"Rows before removing duplicates: {len(application_df)}\")\n",
    "application_df = application_df.drop_duplicates(keep='first')\n",
    "print(f\"Rows after removing duplicates: {len(application_df)}\")"
   ],
   "id": "ca3a91c72e3c62f7",
   "outputs": [
    {
     "name": "stdout",
     "output_type": "stream",
     "text": [
      "Rows before removing duplicates: 36457\n",
      "Rows after removing duplicates: 36457\n"
     ]
    }
   ],
   "execution_count": 44
  },
  {
   "metadata": {},
   "cell_type": "code",
   "outputs": [],
   "execution_count": null,
   "source": "",
   "id": "2d1cb49cb76ecde"
  }
 ],
 "metadata": {
  "kernelspec": {
   "display_name": "Python 3",
   "language": "python",
   "name": "python3"
  },
  "language_info": {
   "codemirror_mode": {
    "name": "ipython",
    "version": 2
   },
   "file_extension": ".py",
   "mimetype": "text/x-python",
   "name": "python",
   "nbconvert_exporter": "python",
   "pygments_lexer": "ipython2",
   "version": "2.7.6"
  }
 },
 "nbformat": 4,
 "nbformat_minor": 5
}
