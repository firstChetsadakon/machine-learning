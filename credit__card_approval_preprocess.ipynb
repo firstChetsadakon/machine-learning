{
 "cells": [
  {
   "cell_type": "code",
   "id": "initial_id",
   "metadata": {
    "collapsed": true,
    "ExecuteTime": {
     "end_time": "2025-02-12T09:37:21.564273Z",
     "start_time": "2025-02-12T09:37:21.545769Z"
    }
   },
   "source": [
    "%matplotlib inline\n",
    "%config InlineBackend.figure_format = 'svg'\n",
    "import warnings\n",
    "warnings.filterwarnings('ignore')\n",
    "import numpy as np\n",
    "import pandas as pd\n",
    "import matplotlib.pyplot as plt\n",
    "import seaborn as sns\n",
    "import itertools"
   ],
   "outputs": [],
   "execution_count": 1
  },
  {
   "metadata": {
    "ExecuteTime": {
     "end_time": "2025-02-12T09:37:23.445694Z",
     "start_time": "2025-02-12T09:37:23.119714Z"
    }
   },
   "cell_type": "code",
   "source": "from sklearn.preprocessing import StandardScaler, MinMaxScaler",
   "id": "8f0d2f389f00bbd3",
   "outputs": [],
   "execution_count": 2
  },
  {
   "metadata": {},
   "cell_type": "markdown",
   "source": "## Using TensorFlow backend.",
   "id": "8e1b2a155c39e108"
  },
  {
   "metadata": {
    "ExecuteTime": {
     "end_time": "2025-02-12T09:37:55.567052Z",
     "start_time": "2025-02-12T09:37:54.940167Z"
    }
   },
   "cell_type": "code",
   "source": [
    "data = pd.read_csv(\"data_set/application_record.csv\", encoding ='utf-8')\n",
    "record = pd.read_csv(\"data_set/credit_record.csv\", encoding ='utf-8')"
   ],
   "id": "3b997a7c748d47e8",
   "outputs": [],
   "execution_count": 3
  },
  {
   "metadata": {
    "ExecuteTime": {
     "end_time": "2025-02-12T09:37:57.094017Z",
     "start_time": "2025-02-12T09:37:57.091886Z"
    }
   },
   "cell_type": "code",
   "source": "plt.rcParams['figure.facecolor'] = 'white'",
   "id": "3c147fb592519e86",
   "outputs": [],
   "execution_count": 4
  },
  {
   "metadata": {},
   "cell_type": "markdown",
   "source": [
    "## Feature Engineering\n",
    "-  Response Variable"
   ],
   "id": "4d6e56f5e1599937"
  },
  {
   "metadata": {
    "ExecuteTime": {
     "end_time": "2025-02-12T09:38:02.509382Z",
     "start_time": "2025-02-12T09:38:02.386724Z"
    }
   },
   "cell_type": "code",
   "source": [
    "begin_month=pd.DataFrame(record.groupby([\"ID\"])[\"MONTHS_BALANCE\"].agg(min))\n",
    "begin_month=begin_month.rename(columns={'MONTHS_BALANCE':'begin_month'})\n",
    "new_data=pd.merge(data,begin_month,how=\"left\",on=\"ID\") #merge to record data"
   ],
   "id": "30bc8f938ed12f6e",
   "outputs": [],
   "execution_count": 5
  },
  {
   "metadata": {},
   "cell_type": "markdown",
   "source": "- adjust the STATUS mapping based on dep_value > 2 (90+ days past due).",
   "id": "ed95a6bbd1756097"
  },
  {
   "metadata": {
    "ExecuteTime": {
     "end_time": "2025-02-12T09:38:04.507170Z",
     "start_time": "2025-02-12T09:38:04.389779Z"
    }
   },
   "cell_type": "code",
   "source": [
    "record['dep_value'] = None\n",
    "record['dep_value'][record['STATUS'] =='3']='Yes'\n",
    "record['dep_value'][record['STATUS'] =='4']='Yes'\n",
    "record['dep_value'][record['STATUS'] =='5']='Yes' "
   ],
   "id": "97e646fafc529574",
   "outputs": [],
   "execution_count": 6
  },
  {
   "metadata": {},
   "cell_type": "markdown",
   "source": "# label target each row(application)",
   "id": "8b93cf79d9618d10"
  },
  {
   "metadata": {
    "ExecuteTime": {
     "end_time": "2025-02-12T09:38:05.683262Z",
     "start_time": "2025-02-12T09:38:05.635983Z"
    }
   },
   "cell_type": "code",
   "source": "cpunt=record.groupby('ID').count()",
   "id": "b338579ef8723fde",
   "outputs": [],
   "execution_count": 7
  },
  {
   "metadata": {
    "ExecuteTime": {
     "end_time": "2025-02-12T09:38:05.946077Z",
     "start_time": "2025-02-12T09:38:05.940403Z"
    }
   },
   "cell_type": "code",
   "source": [
    "cpunt['dep_value'][cpunt['dep_value'] > 0]='Yes' # bad_dept\n",
    "cpunt['dep_value'][cpunt['dep_value'] == 0]='No' # good_dept"
   ],
   "id": "2eeb5e42709b881a",
   "outputs": [],
   "execution_count": 8
  },
  {
   "metadata": {
    "ExecuteTime": {
     "end_time": "2025-02-12T09:38:06.246300Z",
     "start_time": "2025-02-12T09:38:06.179501Z"
    }
   },
   "cell_type": "code",
   "source": [
    "cpunt = cpunt[['dep_value']] #make cpunt ID and dep_value pair \n",
    "new_data = pd.merge(new_data,cpunt,how='inner',on='ID') \n",
    "new_data['target'] = new_data['dep_value']\n",
    "new_data.loc[new_data['target']=='Yes','target'] = 1\n",
    "new_data.loc[new_data['target']=='No','target'] = 0"
   ],
   "id": "574b90fa51fc3c78",
   "outputs": [],
   "execution_count": 9
  },
  {
   "metadata": {},
   "cell_type": "markdown",
   "source": "# Calculate Applicant Age and Years of Working",
   "id": "f54bab12ad2df4b2"
  },
  {
   "metadata": {
    "ExecuteTime": {
     "end_time": "2025-02-12T09:38:06.645640Z",
     "start_time": "2025-02-12T09:38:06.640062Z"
    }
   },
   "cell_type": "code",
   "source": [
    "# Calculate Applicant Age and Years of Working\n",
    "new_data[\"APPLICATION_AGE\"] = -new_data[\"DAYS_BIRTH\"] // 365\n",
    "new_data[\"YEARS_OF_WORKING\"] = -new_data[\"DAYS_EMPLOYED\"] // 365"
   ],
   "id": "d5740b8bf1f24f71",
   "outputs": [],
   "execution_count": 10
  },
  {
   "metadata": {},
   "cell_type": "markdown",
   "source": "# Drop rows where either Years_of_Working is negative",
   "id": "77e9dbf93da368e9"
  },
  {
   "metadata": {
    "ExecuteTime": {
     "end_time": "2025-02-12T09:38:07.146902Z",
     "start_time": "2025-02-12T09:38:07.139815Z"
    }
   },
   "cell_type": "code",
   "source": [
    "# Drop rows where either Years_of_Working is negative\n",
    "new_data = new_data[\n",
    "    (new_data['YEARS_OF_WORKING'] >= 0)\n",
    "    ]"
   ],
   "id": "a400ebe4ee3dcf69",
   "outputs": [],
   "execution_count": 11
  },
  {
   "metadata": {},
   "cell_type": "markdown",
   "source": [
    "# Drop column before we have cal \n",
    "   - DAYS_BIRTH to APPLICATION_AGE\n",
    "   - DAYS_EMPLOYED to YEARS_OF_WORKS\n",
    "   - dep_value and begin_month we receive target label so not use anymore "
   ],
   "id": "3399958c42e69300"
  },
  {
   "metadata": {
    "ExecuteTime": {
     "end_time": "2025-02-12T09:38:07.607071Z",
     "start_time": "2025-02-12T09:38:07.600801Z"
    }
   },
   "cell_type": "code",
   "source": "new_data = new_data.drop(['DAYS_BIRTH', 'DAYS_EMPLOYED','dep_value', 'begin_month'], axis=1)",
   "id": "352cef2d8d84c948",
   "outputs": [],
   "execution_count": 12
  },
  {
   "metadata": {},
   "cell_type": "markdown",
   "source": [
    "## Normalization \n",
    "- AMT_INCOME_TOTAL (Z-score for data that have many outlier like income this may have effect to the other data)"
   ],
   "id": "3b3c4e420bd92237"
  },
  {
   "metadata": {
    "ExecuteTime": {
     "end_time": "2025-02-12T09:38:08.090238Z",
     "start_time": "2025-02-12T09:38:08.083410Z"
    }
   },
   "cell_type": "code",
   "source": [
    "# For Z-score normalization\n",
    "scaler_zscore = StandardScaler()\n",
    "zscore_cols = ['AMT_INCOME_TOTAL']\n",
    "# Create new column names for normalized features\n",
    "zscore_cols_scaled = [col + '_zscore' for col in zscore_cols]\n",
    "# Transform and assign to new columns\n",
    "new_data[zscore_cols_scaled] = scaler_zscore.fit_transform(new_data[zscore_cols])\n"
   ],
   "id": "215ce1218e6cf79b",
   "outputs": [],
   "execution_count": 13
  },
  {
   "metadata": {
    "ExecuteTime": {
     "end_time": "2025-02-12T09:38:08.288468Z",
     "start_time": "2025-02-12T09:38:08.283076Z"
    }
   },
   "cell_type": "code",
   "source": [
    "# Drop after we have z-score\n",
    "new_data = new_data.drop(['AMT_INCOME_TOTAL'], axis=1)"
   ],
   "id": "fa2fc31408def8b4",
   "outputs": [],
   "execution_count": 14
  },
  {
   "metadata": {},
   "cell_type": "markdown",
   "source": [
    "# Apply filtering conditions\n",
    "- for credit card age 21 may not have eligible to approve\n",
    "- other column that may have null"
   ],
   "id": "b81c7ed690d5cfd2"
  },
  {
   "metadata": {
    "ExecuteTime": {
     "end_time": "2025-02-12T09:38:08.766024Z",
     "start_time": "2025-02-12T09:38:08.750425Z"
    }
   },
   "cell_type": "code",
   "source": [
    "# Apply filtering conditions\n",
    "filtered_application_df = new_data[\n",
    "    (new_data[\"APPLICATION_AGE\"] >= 21) &\n",
    "    new_data[\"CODE_GENDER\"].notnull() &\n",
    "    new_data[\"FLAG_OWN_CAR\"].notnull() &\n",
    "    new_data[\"FLAG_OWN_REALTY\"].notnull() &\n",
    "    new_data[\"CNT_CHILDREN\"].notnull() &\n",
    "    new_data[\"NAME_INCOME_TYPE\"].notnull() &\n",
    "    new_data[\"NAME_EDUCATION_TYPE\"].notnull() &\n",
    "    new_data[\"NAME_FAMILY_STATUS\"].notnull() &\n",
    "    new_data[\"NAME_HOUSING_TYPE\"].notnull()\n",
    "    ]"
   ],
   "id": "c58c275225292a28",
   "outputs": [],
   "execution_count": 15
  },
  {
   "metadata": {},
   "cell_type": "markdown",
   "source": [
    "### check FLAG_MOBIL to may not import because every record have value 1 I don't know why \n",
    "- so i would like to drop it"
   ],
   "id": "267987653d43bc2a"
  },
  {
   "metadata": {
    "ExecuteTime": {
     "end_time": "2025-02-12T09:38:09.924200Z",
     "start_time": "2025-02-12T09:38:09.918662Z"
    }
   },
   "cell_type": "code",
   "source": "filtered_application_df['FLAG_MOBIL'].value_counts()",
   "id": "eb6c96895ce220e",
   "outputs": [
    {
     "data": {
      "text/plain": [
       "FLAG_MOBIL\n",
       "1    30321\n",
       "Name: count, dtype: int64"
      ]
     },
     "execution_count": 16,
     "metadata": {},
     "output_type": "execute_result"
    }
   ],
   "execution_count": 16
  },
  {
   "metadata": {
    "ExecuteTime": {
     "end_time": "2025-02-12T09:38:10.980563Z",
     "start_time": "2025-02-12T09:38:10.974919Z"
    }
   },
   "cell_type": "code",
   "source": "filtered_application_df = filtered_application_df.drop(['FLAG_MOBIL'], axis=1)",
   "id": "fa1b80798e26addc",
   "outputs": [],
   "execution_count": 17
  },
  {
   "metadata": {
    "ExecuteTime": {
     "end_time": "2025-02-12T09:38:12.019985Z",
     "start_time": "2025-02-12T09:38:12.016570Z"
    }
   },
   "cell_type": "code",
   "source": [
    "# target to type int \n",
    "filtered_application_df['target'] = new_data['target'].astype(int)"
   ],
   "id": "869ff762f1b2133",
   "outputs": [],
   "execution_count": 18
  },
  {
   "metadata": {},
   "cell_type": "markdown",
   "source": [
    "## handle with null and NAN\n",
    "- drop null and NAN before 30321 after 25133"
   ],
   "id": "378c34d0d568ad47"
  },
  {
   "metadata": {
    "ExecuteTime": {
     "end_time": "2025-02-12T09:38:13.362382Z",
     "start_time": "2025-02-12T09:38:13.329906Z"
    }
   },
   "cell_type": "code",
   "source": [
    "filtered_application_df.dropna()\n",
    "filtered_application_df = filtered_application_df.mask(filtered_application_df == 'NULL').dropna()\n",
    "filtered_application_df"
   ],
   "id": "14a9f818dcb469b",
   "outputs": [
    {
     "data": {
      "text/plain": [
       "            ID CODE_GENDER FLAG_OWN_CAR FLAG_OWN_REALTY  CNT_CHILDREN  \\\n",
       "2      5008806           M            Y               Y             0   \n",
       "3      5008808           F            N               Y             0   \n",
       "4      5008809           F            N               Y             0   \n",
       "5      5008810           F            N               Y             0   \n",
       "6      5008811           F            N               Y             0   \n",
       "...        ...         ...          ...             ...           ...   \n",
       "36452  5149828           M            Y               Y             0   \n",
       "36453  5149834           F            N               Y             0   \n",
       "36454  5149838           F            N               Y             0   \n",
       "36455  5150049           F            N               Y             0   \n",
       "36456  5150337           M            N               Y             0   \n",
       "\n",
       "           NAME_INCOME_TYPE            NAME_EDUCATION_TYPE  \\\n",
       "2                   Working  Secondary / secondary special   \n",
       "3      Commercial associate  Secondary / secondary special   \n",
       "4      Commercial associate  Secondary / secondary special   \n",
       "5      Commercial associate  Secondary / secondary special   \n",
       "6      Commercial associate  Secondary / secondary special   \n",
       "...                     ...                            ...   \n",
       "36452               Working  Secondary / secondary special   \n",
       "36453  Commercial associate               Higher education   \n",
       "36454             Pensioner               Higher education   \n",
       "36455               Working  Secondary / secondary special   \n",
       "36456               Working  Secondary / secondary special   \n",
       "\n",
       "         NAME_FAMILY_STATUS  NAME_HOUSING_TYPE  FLAG_WORK_PHONE  FLAG_PHONE  \\\n",
       "2                   Married  House / apartment                0           0   \n",
       "3      Single / not married  House / apartment                0           1   \n",
       "4      Single / not married  House / apartment                0           1   \n",
       "5      Single / not married  House / apartment                0           1   \n",
       "6      Single / not married  House / apartment                0           1   \n",
       "...                     ...                ...              ...         ...   \n",
       "36452               Married  House / apartment                0           0   \n",
       "36453               Married  House / apartment                0           1   \n",
       "36454               Married  House / apartment                0           1   \n",
       "36455               Married  House / apartment                0           0   \n",
       "36456  Single / not married   Rented apartment                0           0   \n",
       "\n",
       "       FLAG_EMAIL OCCUPATION_TYPE  CNT_FAM_MEMBERS  target  APPLICATION_AGE  \\\n",
       "2               0  Security staff              2.0       0               58   \n",
       "3               1     Sales staff              1.0       0               52   \n",
       "4               1     Sales staff              1.0       0               52   \n",
       "5               1     Sales staff              1.0       0               52   \n",
       "6               1     Sales staff              1.0       0               52   \n",
       "...           ...             ...              ...     ...              ...   \n",
       "36452           0        Managers              2.0       1               47   \n",
       "36453           1  Medicine staff              2.0       1               33   \n",
       "36454           1  Medicine staff              2.0       1               33   \n",
       "36455           0     Sales staff              2.0       0               49   \n",
       "36456           0        Laborers              1.0       0               25   \n",
       "\n",
       "       YEARS_OF_WORKING  AMT_INCOME_TOTAL_zscore  \n",
       "2                     3                -0.783777  \n",
       "3                     8                 0.723608  \n",
       "4                     8                 0.723608  \n",
       "5                     8                 0.723608  \n",
       "6                     8                 0.723608  \n",
       "...                 ...                      ...  \n",
       "36452                 6                 1.154290  \n",
       "36453                 3                -0.353096  \n",
       "36454                 3                -0.353096  \n",
       "36455                 1                 0.852813  \n",
       "36456                 3                -0.783777  \n",
       "\n",
       "[25133 rows x 18 columns]"
      ],
      "text/html": [
       "<div>\n",
       "<style scoped>\n",
       "    .dataframe tbody tr th:only-of-type {\n",
       "        vertical-align: middle;\n",
       "    }\n",
       "\n",
       "    .dataframe tbody tr th {\n",
       "        vertical-align: top;\n",
       "    }\n",
       "\n",
       "    .dataframe thead th {\n",
       "        text-align: right;\n",
       "    }\n",
       "</style>\n",
       "<table border=\"1\" class=\"dataframe\">\n",
       "  <thead>\n",
       "    <tr style=\"text-align: right;\">\n",
       "      <th></th>\n",
       "      <th>ID</th>\n",
       "      <th>CODE_GENDER</th>\n",
       "      <th>FLAG_OWN_CAR</th>\n",
       "      <th>FLAG_OWN_REALTY</th>\n",
       "      <th>CNT_CHILDREN</th>\n",
       "      <th>NAME_INCOME_TYPE</th>\n",
       "      <th>NAME_EDUCATION_TYPE</th>\n",
       "      <th>NAME_FAMILY_STATUS</th>\n",
       "      <th>NAME_HOUSING_TYPE</th>\n",
       "      <th>FLAG_WORK_PHONE</th>\n",
       "      <th>FLAG_PHONE</th>\n",
       "      <th>FLAG_EMAIL</th>\n",
       "      <th>OCCUPATION_TYPE</th>\n",
       "      <th>CNT_FAM_MEMBERS</th>\n",
       "      <th>target</th>\n",
       "      <th>APPLICATION_AGE</th>\n",
       "      <th>YEARS_OF_WORKING</th>\n",
       "      <th>AMT_INCOME_TOTAL_zscore</th>\n",
       "    </tr>\n",
       "  </thead>\n",
       "  <tbody>\n",
       "    <tr>\n",
       "      <th>2</th>\n",
       "      <td>5008806</td>\n",
       "      <td>M</td>\n",
       "      <td>Y</td>\n",
       "      <td>Y</td>\n",
       "      <td>0</td>\n",
       "      <td>Working</td>\n",
       "      <td>Secondary / secondary special</td>\n",
       "      <td>Married</td>\n",
       "      <td>House / apartment</td>\n",
       "      <td>0</td>\n",
       "      <td>0</td>\n",
       "      <td>0</td>\n",
       "      <td>Security staff</td>\n",
       "      <td>2.0</td>\n",
       "      <td>0</td>\n",
       "      <td>58</td>\n",
       "      <td>3</td>\n",
       "      <td>-0.783777</td>\n",
       "    </tr>\n",
       "    <tr>\n",
       "      <th>3</th>\n",
       "      <td>5008808</td>\n",
       "      <td>F</td>\n",
       "      <td>N</td>\n",
       "      <td>Y</td>\n",
       "      <td>0</td>\n",
       "      <td>Commercial associate</td>\n",
       "      <td>Secondary / secondary special</td>\n",
       "      <td>Single / not married</td>\n",
       "      <td>House / apartment</td>\n",
       "      <td>0</td>\n",
       "      <td>1</td>\n",
       "      <td>1</td>\n",
       "      <td>Sales staff</td>\n",
       "      <td>1.0</td>\n",
       "      <td>0</td>\n",
       "      <td>52</td>\n",
       "      <td>8</td>\n",
       "      <td>0.723608</td>\n",
       "    </tr>\n",
       "    <tr>\n",
       "      <th>4</th>\n",
       "      <td>5008809</td>\n",
       "      <td>F</td>\n",
       "      <td>N</td>\n",
       "      <td>Y</td>\n",
       "      <td>0</td>\n",
       "      <td>Commercial associate</td>\n",
       "      <td>Secondary / secondary special</td>\n",
       "      <td>Single / not married</td>\n",
       "      <td>House / apartment</td>\n",
       "      <td>0</td>\n",
       "      <td>1</td>\n",
       "      <td>1</td>\n",
       "      <td>Sales staff</td>\n",
       "      <td>1.0</td>\n",
       "      <td>0</td>\n",
       "      <td>52</td>\n",
       "      <td>8</td>\n",
       "      <td>0.723608</td>\n",
       "    </tr>\n",
       "    <tr>\n",
       "      <th>5</th>\n",
       "      <td>5008810</td>\n",
       "      <td>F</td>\n",
       "      <td>N</td>\n",
       "      <td>Y</td>\n",
       "      <td>0</td>\n",
       "      <td>Commercial associate</td>\n",
       "      <td>Secondary / secondary special</td>\n",
       "      <td>Single / not married</td>\n",
       "      <td>House / apartment</td>\n",
       "      <td>0</td>\n",
       "      <td>1</td>\n",
       "      <td>1</td>\n",
       "      <td>Sales staff</td>\n",
       "      <td>1.0</td>\n",
       "      <td>0</td>\n",
       "      <td>52</td>\n",
       "      <td>8</td>\n",
       "      <td>0.723608</td>\n",
       "    </tr>\n",
       "    <tr>\n",
       "      <th>6</th>\n",
       "      <td>5008811</td>\n",
       "      <td>F</td>\n",
       "      <td>N</td>\n",
       "      <td>Y</td>\n",
       "      <td>0</td>\n",
       "      <td>Commercial associate</td>\n",
       "      <td>Secondary / secondary special</td>\n",
       "      <td>Single / not married</td>\n",
       "      <td>House / apartment</td>\n",
       "      <td>0</td>\n",
       "      <td>1</td>\n",
       "      <td>1</td>\n",
       "      <td>Sales staff</td>\n",
       "      <td>1.0</td>\n",
       "      <td>0</td>\n",
       "      <td>52</td>\n",
       "      <td>8</td>\n",
       "      <td>0.723608</td>\n",
       "    </tr>\n",
       "    <tr>\n",
       "      <th>...</th>\n",
       "      <td>...</td>\n",
       "      <td>...</td>\n",
       "      <td>...</td>\n",
       "      <td>...</td>\n",
       "      <td>...</td>\n",
       "      <td>...</td>\n",
       "      <td>...</td>\n",
       "      <td>...</td>\n",
       "      <td>...</td>\n",
       "      <td>...</td>\n",
       "      <td>...</td>\n",
       "      <td>...</td>\n",
       "      <td>...</td>\n",
       "      <td>...</td>\n",
       "      <td>...</td>\n",
       "      <td>...</td>\n",
       "      <td>...</td>\n",
       "      <td>...</td>\n",
       "    </tr>\n",
       "    <tr>\n",
       "      <th>36452</th>\n",
       "      <td>5149828</td>\n",
       "      <td>M</td>\n",
       "      <td>Y</td>\n",
       "      <td>Y</td>\n",
       "      <td>0</td>\n",
       "      <td>Working</td>\n",
       "      <td>Secondary / secondary special</td>\n",
       "      <td>Married</td>\n",
       "      <td>House / apartment</td>\n",
       "      <td>0</td>\n",
       "      <td>0</td>\n",
       "      <td>0</td>\n",
       "      <td>Managers</td>\n",
       "      <td>2.0</td>\n",
       "      <td>1</td>\n",
       "      <td>47</td>\n",
       "      <td>6</td>\n",
       "      <td>1.154290</td>\n",
       "    </tr>\n",
       "    <tr>\n",
       "      <th>36453</th>\n",
       "      <td>5149834</td>\n",
       "      <td>F</td>\n",
       "      <td>N</td>\n",
       "      <td>Y</td>\n",
       "      <td>0</td>\n",
       "      <td>Commercial associate</td>\n",
       "      <td>Higher education</td>\n",
       "      <td>Married</td>\n",
       "      <td>House / apartment</td>\n",
       "      <td>0</td>\n",
       "      <td>1</td>\n",
       "      <td>1</td>\n",
       "      <td>Medicine staff</td>\n",
       "      <td>2.0</td>\n",
       "      <td>1</td>\n",
       "      <td>33</td>\n",
       "      <td>3</td>\n",
       "      <td>-0.353096</td>\n",
       "    </tr>\n",
       "    <tr>\n",
       "      <th>36454</th>\n",
       "      <td>5149838</td>\n",
       "      <td>F</td>\n",
       "      <td>N</td>\n",
       "      <td>Y</td>\n",
       "      <td>0</td>\n",
       "      <td>Pensioner</td>\n",
       "      <td>Higher education</td>\n",
       "      <td>Married</td>\n",
       "      <td>House / apartment</td>\n",
       "      <td>0</td>\n",
       "      <td>1</td>\n",
       "      <td>1</td>\n",
       "      <td>Medicine staff</td>\n",
       "      <td>2.0</td>\n",
       "      <td>1</td>\n",
       "      <td>33</td>\n",
       "      <td>3</td>\n",
       "      <td>-0.353096</td>\n",
       "    </tr>\n",
       "    <tr>\n",
       "      <th>36455</th>\n",
       "      <td>5150049</td>\n",
       "      <td>F</td>\n",
       "      <td>N</td>\n",
       "      <td>Y</td>\n",
       "      <td>0</td>\n",
       "      <td>Working</td>\n",
       "      <td>Secondary / secondary special</td>\n",
       "      <td>Married</td>\n",
       "      <td>House / apartment</td>\n",
       "      <td>0</td>\n",
       "      <td>0</td>\n",
       "      <td>0</td>\n",
       "      <td>Sales staff</td>\n",
       "      <td>2.0</td>\n",
       "      <td>0</td>\n",
       "      <td>49</td>\n",
       "      <td>1</td>\n",
       "      <td>0.852813</td>\n",
       "    </tr>\n",
       "    <tr>\n",
       "      <th>36456</th>\n",
       "      <td>5150337</td>\n",
       "      <td>M</td>\n",
       "      <td>N</td>\n",
       "      <td>Y</td>\n",
       "      <td>0</td>\n",
       "      <td>Working</td>\n",
       "      <td>Secondary / secondary special</td>\n",
       "      <td>Single / not married</td>\n",
       "      <td>Rented apartment</td>\n",
       "      <td>0</td>\n",
       "      <td>0</td>\n",
       "      <td>0</td>\n",
       "      <td>Laborers</td>\n",
       "      <td>1.0</td>\n",
       "      <td>0</td>\n",
       "      <td>25</td>\n",
       "      <td>3</td>\n",
       "      <td>-0.783777</td>\n",
       "    </tr>\n",
       "  </tbody>\n",
       "</table>\n",
       "<p>25133 rows × 18 columns</p>\n",
       "</div>"
      ]
     },
     "execution_count": 19,
     "metadata": {},
     "output_type": "execute_result"
    }
   ],
   "execution_count": 19
  },
  {
   "metadata": {},
   "cell_type": "markdown",
   "source": "## Features",
   "id": "929a2725c6db0136"
  },
  {
   "metadata": {
    "ExecuteTime": {
     "end_time": "2025-02-12T09:38:15.168135Z",
     "start_time": "2025-02-12T09:38:15.141256Z"
    }
   },
   "cell_type": "code",
   "source": [
    "ivtable=pd.DataFrame(filtered_application_df.columns,columns=['variable'])\n",
    "ivtable['IV']=None\n",
    "namelist = ['target','ID']\n",
    "\n",
    "for i in namelist:\n",
    "    ivtable.drop(ivtable[ivtable['variable'] == i].index, inplace=True)"
   ],
   "id": "d480e0b70a3beb39",
   "outputs": [],
   "execution_count": 20
  },
  {
   "metadata": {},
   "cell_type": "markdown",
   "source": "- Define calc_iv function to calculate -> https://www.kaggle.com/code/puremath86/iv-woe-starter-for-python Information Value and WOE Value",
   "id": "dd7f3cf555d7e222"
  },
  {
   "metadata": {},
   "cell_type": "markdown",
   "source": "# Binary Features\n",
   "id": "f4539a29580b0b49"
  },
  {
   "metadata": {
    "ExecuteTime": {
     "end_time": "2025-02-12T09:38:19.965687Z",
     "start_time": "2025-02-12T09:38:19.953221Z"
    }
   },
   "cell_type": "code",
   "source": [
    "# Calculate information value\n",
    "def calc_iv(df, feature, target, pr=False):\n",
    "    lst = []\n",
    "    df[feature] = df[feature].fillna(\"NULL\")\n",
    "\n",
    "    for i in range(df[feature].nunique()):\n",
    "        val = list(df[feature].unique())[i]\n",
    "        lst.append([feature,                                                        # Variable\n",
    "                    val,                                                            # Value\n",
    "                    df[df[feature] == val].count()[feature],                        # All\n",
    "                    df[(df[feature] == val) & (df[target] == 0)].count()[feature],  # Good (think: Fraud == 0)\n",
    "                    df[(df[feature] == val) & (df[target] == 1)].count()[feature]]) # Bad (think: Fraud == 1)\n",
    "\n",
    "    data = pd.DataFrame(lst, columns=['Variable', 'Value', 'All', 'Good', 'Bad'])\n",
    "    data['Share'] = data['All'] / data['All'].sum()\n",
    "    data['Bad Rate'] = data['Bad'] / data['All']\n",
    "    data['Distribution Good'] = (data['All'] - data['Bad']) / (data['All'].sum() - data['Bad'].sum())\n",
    "    data['Distribution Bad'] = data['Bad'] / data['Bad'].sum()\n",
    "    data['WoE'] = np.log(data['Distribution Good'] / data['Distribution Bad'])\n",
    "\n",
    "    data = data.replace({'WoE': {np.inf: 0, -np.inf: 0}})\n",
    "\n",
    "    data['IV'] = data['WoE'] * (data['Distribution Good'] - data['Distribution Bad'])\n",
    "\n",
    "    data = data.sort_values(by=['Variable', 'Value'], ascending=[True, True])\n",
    "    data.index = range(len(data.index))\n",
    "\n",
    "    if pr:\n",
    "        print(data)\n",
    "        print('IV = ', data['IV'].sum())\n",
    "\n",
    "    iv = data['IV'].sum()\n",
    "    print('This variable\\'s IV is:',iv)\n",
    "    print(df[feature].value_counts())\n",
    "    return iv, data"
   ],
   "id": "b9f931249794e080",
   "outputs": [],
   "execution_count": 21
  },
  {
   "metadata": {
    "ExecuteTime": {
     "end_time": "2025-02-12T09:38:20.584891Z",
     "start_time": "2025-02-12T09:38:20.582107Z"
    }
   },
   "cell_type": "code",
   "source": [
    "def convert_dummy(df, feature,rank=0):\n",
    "    pos = pd.get_dummies(df[feature], prefix=feature)\n",
    "    mode = df[feature].value_counts().index[rank]\n",
    "    biggest = feature + '_' + str(mode)\n",
    "    pos.drop([biggest],axis=1,inplace=True)\n",
    "    df.drop([feature],axis=1,inplace=True)\n",
    "    df=df.join(pos)\n",
    "    return df"
   ],
   "id": "ecfa5a40cc9860af",
   "outputs": [],
   "execution_count": 22
  },
  {
   "metadata": {
    "ExecuteTime": {
     "end_time": "2025-02-12T09:38:21.014093Z",
     "start_time": "2025-02-12T09:38:21.011584Z"
    }
   },
   "cell_type": "code",
   "source": [
    "def get_category(df, col, binsnum, labels, qcut = False):\n",
    "    if qcut:\n",
    "        localdf = pd.qcut(df[col], q = binsnum, labels = labels) # quantile cut\n",
    "    else:\n",
    "        localdf = pd.cut(df[col], bins = binsnum, labels = labels) # equal-length cut\n",
    "\n",
    "    localdf = pd.DataFrame(localdf)\n",
    "    name = 'gp' + '_' + col\n",
    "    localdf[name] = localdf[col]\n",
    "    df = df.join(localdf[name])\n",
    "    df[name] = df[name].astype(object)\n",
    "    return df"
   ],
   "id": "4c73b1f51b608a8b",
   "outputs": [],
   "execution_count": 23
  },
  {
   "metadata": {
    "ExecuteTime": {
     "end_time": "2025-02-12T09:38:21.645810Z",
     "start_time": "2025-02-12T09:38:21.642587Z"
    }
   },
   "cell_type": "code",
   "source": [
    "def plot_confusion_matrix(cm, classes,\n",
    "                          normalize=False,\n",
    "                          title='Confusion matrix',\n",
    "                          cmap=plt.cm.Blues):\n",
    "    if normalize:\n",
    "        cm = cm.astype('float') / cm.sum(axis=1)[:, np.newaxis]\n",
    "\n",
    "    print(cm)\n",
    "\n",
    "    plt.imshow(cm, interpolation='nearest', cmap=cmap)\n",
    "    plt.title(title)\n",
    "    plt.colorbar()\n",
    "    tick_marks = np.arange(len(classes))\n",
    "    plt.xticks(tick_marks, classes)\n",
    "    plt.yticks(tick_marks, classes)\n",
    "\n",
    "    fmt = '.2f' if normalize else 'd'\n",
    "    thresh = cm.max() / 2.\n",
    "    for i, j in itertools.product(range(cm.shape[0]), range(cm.shape[1])):\n",
    "        plt.text(j, i, format(cm[i, j], fmt),\n",
    "                 horizontalalignment=\"center\",\n",
    "                 color=\"white\" if cm[i, j] > thresh else \"black\")\n",
    "\n",
    "    plt.tight_layout()\n",
    "    plt.ylabel('True label')\n",
    "    plt.xlabel('Predicted label')"
   ],
   "id": "d57e43a25bd3d237",
   "outputs": [],
   "execution_count": 24
  },
  {
   "metadata": {},
   "cell_type": "markdown",
   "source": "- Gender",
   "id": "70f2a67d07057ab"
  },
  {
   "metadata": {
    "ExecuteTime": {
     "end_time": "2025-02-12T09:38:23.089747Z",
     "start_time": "2025-02-12T09:38:23.036959Z"
    }
   },
   "cell_type": "code",
   "source": [
    "filtered_application_df['CODE_GENDER'] = filtered_application_df['CODE_GENDER'].replace(['F','M'],[0,1])\n",
    "print(filtered_application_df['CODE_GENDER'].value_counts())\n",
    "iv, data = calc_iv(filtered_application_df,'CODE_GENDER','target')\n",
    "ivtable.loc[ivtable['variable']=='CODE_GENDER','IV']=iv\n",
    "data.head()"
   ],
   "id": "a496a005db3dab4b",
   "outputs": [
    {
     "name": "stdout",
     "output_type": "stream",
     "text": [
      "CODE_GENDER\n",
      "0    15629\n",
      "1     9504\n",
      "Name: count, dtype: int64\n",
      "This variable's IV is: 0.023628136136266492\n",
      "CODE_GENDER\n",
      "0    15629\n",
      "1     9504\n",
      "Name: count, dtype: int64\n"
     ]
    },
    {
     "data": {
      "text/plain": [
       "      Variable  Value    All   Good  Bad     Share  Bad Rate  \\\n",
       "0  CODE_GENDER      0  15629  15518  111  0.621852  0.007102   \n",
       "1  CODE_GENDER      1   9504   9412   92  0.378148  0.009680   \n",
       "\n",
       "   Distribution Good  Distribution Bad       WoE        IV  \n",
       "0           0.622463          0.546798  0.129605  0.009807  \n",
       "1           0.377537          0.453202 -0.182669  0.013822  "
      ],
      "text/html": [
       "<div>\n",
       "<style scoped>\n",
       "    .dataframe tbody tr th:only-of-type {\n",
       "        vertical-align: middle;\n",
       "    }\n",
       "\n",
       "    .dataframe tbody tr th {\n",
       "        vertical-align: top;\n",
       "    }\n",
       "\n",
       "    .dataframe thead th {\n",
       "        text-align: right;\n",
       "    }\n",
       "</style>\n",
       "<table border=\"1\" class=\"dataframe\">\n",
       "  <thead>\n",
       "    <tr style=\"text-align: right;\">\n",
       "      <th></th>\n",
       "      <th>Variable</th>\n",
       "      <th>Value</th>\n",
       "      <th>All</th>\n",
       "      <th>Good</th>\n",
       "      <th>Bad</th>\n",
       "      <th>Share</th>\n",
       "      <th>Bad Rate</th>\n",
       "      <th>Distribution Good</th>\n",
       "      <th>Distribution Bad</th>\n",
       "      <th>WoE</th>\n",
       "      <th>IV</th>\n",
       "    </tr>\n",
       "  </thead>\n",
       "  <tbody>\n",
       "    <tr>\n",
       "      <th>0</th>\n",
       "      <td>CODE_GENDER</td>\n",
       "      <td>0</td>\n",
       "      <td>15629</td>\n",
       "      <td>15518</td>\n",
       "      <td>111</td>\n",
       "      <td>0.621852</td>\n",
       "      <td>0.007102</td>\n",
       "      <td>0.622463</td>\n",
       "      <td>0.546798</td>\n",
       "      <td>0.129605</td>\n",
       "      <td>0.009807</td>\n",
       "    </tr>\n",
       "    <tr>\n",
       "      <th>1</th>\n",
       "      <td>CODE_GENDER</td>\n",
       "      <td>1</td>\n",
       "      <td>9504</td>\n",
       "      <td>9412</td>\n",
       "      <td>92</td>\n",
       "      <td>0.378148</td>\n",
       "      <td>0.009680</td>\n",
       "      <td>0.377537</td>\n",
       "      <td>0.453202</td>\n",
       "      <td>-0.182669</td>\n",
       "      <td>0.013822</td>\n",
       "    </tr>\n",
       "  </tbody>\n",
       "</table>\n",
       "</div>"
      ]
     },
     "execution_count": 25,
     "metadata": {},
     "output_type": "execute_result"
    }
   ],
   "execution_count": 25
  },
  {
   "metadata": {},
   "cell_type": "markdown",
   "source": "- Having a car or not",
   "id": "e7e749a588bed9b3"
  },
  {
   "metadata": {
    "ExecuteTime": {
     "end_time": "2025-02-12T09:38:24.974320Z",
     "start_time": "2025-02-12T09:38:24.940325Z"
    }
   },
   "cell_type": "code",
   "source": [
    "filtered_application_df['FLAG_OWN_CAR'] = filtered_application_df['FLAG_OWN_CAR'].replace(['N','Y'],[0,1])\n",
    "print(filtered_application_df['FLAG_OWN_CAR'].value_counts())\n",
    "iv, data=calc_iv(filtered_application_df,'FLAG_OWN_CAR','target')\n",
    "ivtable.loc[ivtable['variable']=='FLAG_OWN_CAR','IV']=iv\n",
    "data.head()"
   ],
   "id": "440c9ed98961d916",
   "outputs": [
    {
     "name": "stdout",
     "output_type": "stream",
     "text": [
      "FLAG_OWN_CAR\n",
      "0    14618\n",
      "1    10515\n",
      "Name: count, dtype: int64\n",
      "This variable's IV is: 8.779280833932987e-05\n",
      "FLAG_OWN_CAR\n",
      "0    14618\n",
      "1    10515\n",
      "Name: count, dtype: int64\n"
     ]
    },
    {
     "data": {
      "text/plain": [
       "       Variable  Value    All   Good  Bad     Share  Bad Rate  \\\n",
       "0  FLAG_OWN_CAR      0  14618  14499  119  0.581626  0.008141   \n",
       "1  FLAG_OWN_CAR      1  10515  10431   84  0.418374  0.007989   \n",
       "\n",
       "   Distribution Good  Distribution Bad       WoE        IV  \n",
       "0           0.581588          0.586207 -0.007910  0.000037  \n",
       "1           0.418412          0.413793  0.011099  0.000051  "
      ],
      "text/html": [
       "<div>\n",
       "<style scoped>\n",
       "    .dataframe tbody tr th:only-of-type {\n",
       "        vertical-align: middle;\n",
       "    }\n",
       "\n",
       "    .dataframe tbody tr th {\n",
       "        vertical-align: top;\n",
       "    }\n",
       "\n",
       "    .dataframe thead th {\n",
       "        text-align: right;\n",
       "    }\n",
       "</style>\n",
       "<table border=\"1\" class=\"dataframe\">\n",
       "  <thead>\n",
       "    <tr style=\"text-align: right;\">\n",
       "      <th></th>\n",
       "      <th>Variable</th>\n",
       "      <th>Value</th>\n",
       "      <th>All</th>\n",
       "      <th>Good</th>\n",
       "      <th>Bad</th>\n",
       "      <th>Share</th>\n",
       "      <th>Bad Rate</th>\n",
       "      <th>Distribution Good</th>\n",
       "      <th>Distribution Bad</th>\n",
       "      <th>WoE</th>\n",
       "      <th>IV</th>\n",
       "    </tr>\n",
       "  </thead>\n",
       "  <tbody>\n",
       "    <tr>\n",
       "      <th>0</th>\n",
       "      <td>FLAG_OWN_CAR</td>\n",
       "      <td>0</td>\n",
       "      <td>14618</td>\n",
       "      <td>14499</td>\n",
       "      <td>119</td>\n",
       "      <td>0.581626</td>\n",
       "      <td>0.008141</td>\n",
       "      <td>0.581588</td>\n",
       "      <td>0.586207</td>\n",
       "      <td>-0.007910</td>\n",
       "      <td>0.000037</td>\n",
       "    </tr>\n",
       "    <tr>\n",
       "      <th>1</th>\n",
       "      <td>FLAG_OWN_CAR</td>\n",
       "      <td>1</td>\n",
       "      <td>10515</td>\n",
       "      <td>10431</td>\n",
       "      <td>84</td>\n",
       "      <td>0.418374</td>\n",
       "      <td>0.007989</td>\n",
       "      <td>0.418412</td>\n",
       "      <td>0.413793</td>\n",
       "      <td>0.011099</td>\n",
       "      <td>0.000051</td>\n",
       "    </tr>\n",
       "  </tbody>\n",
       "</table>\n",
       "</div>"
      ]
     },
     "execution_count": 26,
     "metadata": {},
     "output_type": "execute_result"
    }
   ],
   "execution_count": 26
  },
  {
   "metadata": {},
   "cell_type": "markdown",
   "source": "- Having house reality or not¶",
   "id": "f8f6513dd7425495"
  },
  {
   "metadata": {
    "ExecuteTime": {
     "end_time": "2025-02-12T09:38:26.990190Z",
     "start_time": "2025-02-12T09:38:26.960272Z"
    }
   },
   "cell_type": "code",
   "source": [
    "filtered_application_df['FLAG_OWN_REALTY'] = filtered_application_df['FLAG_OWN_REALTY'].replace(['N','Y'],[0,1])\n",
    "print(filtered_application_df['FLAG_OWN_REALTY'].value_counts())\n",
    "iv, data=calc_iv(filtered_application_df,'FLAG_OWN_REALTY','target')\n",
    "ivtable.loc[ivtable['variable']=='FLAG_OWN_REALTY','IV']=iv\n",
    "data.head()"
   ],
   "id": "7e5138bff5109119",
   "outputs": [
    {
     "name": "stdout",
     "output_type": "stream",
     "text": [
      "FLAG_OWN_REALTY\n",
      "1    16460\n",
      "0     8673\n",
      "Name: count, dtype: int64\n",
      "This variable's IV is: 0.012673064096649079\n",
      "FLAG_OWN_REALTY\n",
      "1    16460\n",
      "0     8673\n",
      "Name: count, dtype: int64\n"
     ]
    },
    {
     "data": {
      "text/plain": [
       "          Variable  Value    All   Good  Bad     Share  Bad Rate  \\\n",
       "0  FLAG_OWN_REALTY      0   8673   8592   81  0.345084  0.009339   \n",
       "1  FLAG_OWN_REALTY      1  16460  16338  122  0.654916  0.007412   \n",
       "\n",
       "   Distribution Good  Distribution Bad       WoE        IV  \n",
       "0           0.344645          0.399015 -0.146484  0.007964  \n",
       "1           0.655355          0.600985  0.086607  0.004709  "
      ],
      "text/html": [
       "<div>\n",
       "<style scoped>\n",
       "    .dataframe tbody tr th:only-of-type {\n",
       "        vertical-align: middle;\n",
       "    }\n",
       "\n",
       "    .dataframe tbody tr th {\n",
       "        vertical-align: top;\n",
       "    }\n",
       "\n",
       "    .dataframe thead th {\n",
       "        text-align: right;\n",
       "    }\n",
       "</style>\n",
       "<table border=\"1\" class=\"dataframe\">\n",
       "  <thead>\n",
       "    <tr style=\"text-align: right;\">\n",
       "      <th></th>\n",
       "      <th>Variable</th>\n",
       "      <th>Value</th>\n",
       "      <th>All</th>\n",
       "      <th>Good</th>\n",
       "      <th>Bad</th>\n",
       "      <th>Share</th>\n",
       "      <th>Bad Rate</th>\n",
       "      <th>Distribution Good</th>\n",
       "      <th>Distribution Bad</th>\n",
       "      <th>WoE</th>\n",
       "      <th>IV</th>\n",
       "    </tr>\n",
       "  </thead>\n",
       "  <tbody>\n",
       "    <tr>\n",
       "      <th>0</th>\n",
       "      <td>FLAG_OWN_REALTY</td>\n",
       "      <td>0</td>\n",
       "      <td>8673</td>\n",
       "      <td>8592</td>\n",
       "      <td>81</td>\n",
       "      <td>0.345084</td>\n",
       "      <td>0.009339</td>\n",
       "      <td>0.344645</td>\n",
       "      <td>0.399015</td>\n",
       "      <td>-0.146484</td>\n",
       "      <td>0.007964</td>\n",
       "    </tr>\n",
       "    <tr>\n",
       "      <th>1</th>\n",
       "      <td>FLAG_OWN_REALTY</td>\n",
       "      <td>1</td>\n",
       "      <td>16460</td>\n",
       "      <td>16338</td>\n",
       "      <td>122</td>\n",
       "      <td>0.654916</td>\n",
       "      <td>0.007412</td>\n",
       "      <td>0.655355</td>\n",
       "      <td>0.600985</td>\n",
       "      <td>0.086607</td>\n",
       "      <td>0.004709</td>\n",
       "    </tr>\n",
       "  </tbody>\n",
       "</table>\n",
       "</div>"
      ]
     },
     "execution_count": 27,
     "metadata": {},
     "output_type": "execute_result"
    }
   ],
   "execution_count": 27
  },
  {
   "metadata": {},
   "cell_type": "markdown",
   "source": "- Having a phone or not",
   "id": "988d57c9b3224fec"
  },
  {
   "metadata": {
    "ExecuteTime": {
     "end_time": "2025-02-12T09:38:28.678581Z",
     "start_time": "2025-02-12T09:38:28.628756Z"
    }
   },
   "cell_type": "code",
   "source": [
    "filtered_application_df['FLAG_PHONE']=filtered_application_df['FLAG_PHONE'].astype(int)\n",
    "print(filtered_application_df['FLAG_PHONE'].value_counts(normalize=True,sort=False))\n",
    "filtered_application_df.drop(filtered_application_df[filtered_application_df['FLAG_PHONE'] == 'nan' ].index, inplace=True)\n",
    "iv, data=calc_iv(new_data,'FLAG_PHONE','target')\n",
    "ivtable.loc[ivtable['variable']=='FLAG_PHONE','IV']=iv\n",
    "data.head()"
   ],
   "id": "9c597a7a68a048c4",
   "outputs": [
    {
     "name": "stdout",
     "output_type": "stream",
     "text": [
      "FLAG_PHONE\n",
      "0    0.707237\n",
      "1    0.292763\n",
      "Name: proportion, dtype: float64\n",
      "This variable's IV is: 0.017224481781277095\n",
      "FLAG_PHONE\n",
      "0    21342\n",
      "1     8980\n",
      "Name: count, dtype: int64\n"
     ]
    },
    {
     "data": {
      "text/plain": [
       "     Variable  Value    All   Good  Bad     Share  Bad Rate  \\\n",
       "0  FLAG_PHONE      0  21342  21189  153  0.703845  0.007169   \n",
       "1  FLAG_PHONE      1   8980   8895   85  0.296155  0.009465   \n",
       "\n",
       "   Distribution Good  Distribution Bad       WoE        IV  \n",
       "0           0.704328          0.642857  0.091321  0.005614  \n",
       "1           0.295672          0.357143 -0.188885  0.011611  "
      ],
      "text/html": [
       "<div>\n",
       "<style scoped>\n",
       "    .dataframe tbody tr th:only-of-type {\n",
       "        vertical-align: middle;\n",
       "    }\n",
       "\n",
       "    .dataframe tbody tr th {\n",
       "        vertical-align: top;\n",
       "    }\n",
       "\n",
       "    .dataframe thead th {\n",
       "        text-align: right;\n",
       "    }\n",
       "</style>\n",
       "<table border=\"1\" class=\"dataframe\">\n",
       "  <thead>\n",
       "    <tr style=\"text-align: right;\">\n",
       "      <th></th>\n",
       "      <th>Variable</th>\n",
       "      <th>Value</th>\n",
       "      <th>All</th>\n",
       "      <th>Good</th>\n",
       "      <th>Bad</th>\n",
       "      <th>Share</th>\n",
       "      <th>Bad Rate</th>\n",
       "      <th>Distribution Good</th>\n",
       "      <th>Distribution Bad</th>\n",
       "      <th>WoE</th>\n",
       "      <th>IV</th>\n",
       "    </tr>\n",
       "  </thead>\n",
       "  <tbody>\n",
       "    <tr>\n",
       "      <th>0</th>\n",
       "      <td>FLAG_PHONE</td>\n",
       "      <td>0</td>\n",
       "      <td>21342</td>\n",
       "      <td>21189</td>\n",
       "      <td>153</td>\n",
       "      <td>0.703845</td>\n",
       "      <td>0.007169</td>\n",
       "      <td>0.704328</td>\n",
       "      <td>0.642857</td>\n",
       "      <td>0.091321</td>\n",
       "      <td>0.005614</td>\n",
       "    </tr>\n",
       "    <tr>\n",
       "      <th>1</th>\n",
       "      <td>FLAG_PHONE</td>\n",
       "      <td>1</td>\n",
       "      <td>8980</td>\n",
       "      <td>8895</td>\n",
       "      <td>85</td>\n",
       "      <td>0.296155</td>\n",
       "      <td>0.009465</td>\n",
       "      <td>0.295672</td>\n",
       "      <td>0.357143</td>\n",
       "      <td>-0.188885</td>\n",
       "      <td>0.011611</td>\n",
       "    </tr>\n",
       "  </tbody>\n",
       "</table>\n",
       "</div>"
      ]
     },
     "execution_count": 28,
     "metadata": {},
     "output_type": "execute_result"
    }
   ],
   "execution_count": 28
  },
  {
   "metadata": {},
   "cell_type": "markdown",
   "source": "- Having an email or not",
   "id": "95d09255dc8e3d8f"
  },
  {
   "metadata": {
    "ExecuteTime": {
     "end_time": "2025-02-12T09:38:30.195037Z",
     "start_time": "2025-02-12T09:38:30.157236Z"
    }
   },
   "cell_type": "code",
   "source": [
    "print(filtered_application_df['FLAG_EMAIL'].value_counts(normalize=True,sort=False))\n",
    "filtered_application_df['FLAG_EMAIL']=filtered_application_df['FLAG_EMAIL'].astype(int)\n",
    "iv, data=calc_iv(new_data,'FLAG_EMAIL','target')\n",
    "ivtable.loc[ivtable['variable']=='FLAG_EMAIL','IV']=iv\n",
    "data.head()"
   ],
   "id": "611c03d07a09af8d",
   "outputs": [
    {
     "name": "stdout",
     "output_type": "stream",
     "text": [
      "FLAG_EMAIL\n",
      "0    0.899375\n",
      "1    0.100625\n",
      "Name: proportion, dtype: float64\n",
      "This variable's IV is: 0.00455672695552156\n",
      "FLAG_EMAIL\n",
      "0    27265\n",
      "1     3057\n",
      "Name: count, dtype: int64\n"
     ]
    },
    {
     "data": {
      "text/plain": [
       "     Variable  Value    All   Good  Bad     Share  Bad Rate  \\\n",
       "0  FLAG_EMAIL      0  27265  27056  209  0.899182  0.007666   \n",
       "1  FLAG_EMAIL      1   3057   3028   29  0.100818  0.009486   \n",
       "\n",
       "   Distribution Good  Distribution Bad       WoE        IV  \n",
       "0           0.899348          0.878151  0.023852  0.000506  \n",
       "1           0.100652          0.121849 -0.191116  0.004051  "
      ],
      "text/html": [
       "<div>\n",
       "<style scoped>\n",
       "    .dataframe tbody tr th:only-of-type {\n",
       "        vertical-align: middle;\n",
       "    }\n",
       "\n",
       "    .dataframe tbody tr th {\n",
       "        vertical-align: top;\n",
       "    }\n",
       "\n",
       "    .dataframe thead th {\n",
       "        text-align: right;\n",
       "    }\n",
       "</style>\n",
       "<table border=\"1\" class=\"dataframe\">\n",
       "  <thead>\n",
       "    <tr style=\"text-align: right;\">\n",
       "      <th></th>\n",
       "      <th>Variable</th>\n",
       "      <th>Value</th>\n",
       "      <th>All</th>\n",
       "      <th>Good</th>\n",
       "      <th>Bad</th>\n",
       "      <th>Share</th>\n",
       "      <th>Bad Rate</th>\n",
       "      <th>Distribution Good</th>\n",
       "      <th>Distribution Bad</th>\n",
       "      <th>WoE</th>\n",
       "      <th>IV</th>\n",
       "    </tr>\n",
       "  </thead>\n",
       "  <tbody>\n",
       "    <tr>\n",
       "      <th>0</th>\n",
       "      <td>FLAG_EMAIL</td>\n",
       "      <td>0</td>\n",
       "      <td>27265</td>\n",
       "      <td>27056</td>\n",
       "      <td>209</td>\n",
       "      <td>0.899182</td>\n",
       "      <td>0.007666</td>\n",
       "      <td>0.899348</td>\n",
       "      <td>0.878151</td>\n",
       "      <td>0.023852</td>\n",
       "      <td>0.000506</td>\n",
       "    </tr>\n",
       "    <tr>\n",
       "      <th>1</th>\n",
       "      <td>FLAG_EMAIL</td>\n",
       "      <td>1</td>\n",
       "      <td>3057</td>\n",
       "      <td>3028</td>\n",
       "      <td>29</td>\n",
       "      <td>0.100818</td>\n",
       "      <td>0.009486</td>\n",
       "      <td>0.100652</td>\n",
       "      <td>0.121849</td>\n",
       "      <td>-0.191116</td>\n",
       "      <td>0.004051</td>\n",
       "    </tr>\n",
       "  </tbody>\n",
       "</table>\n",
       "</div>"
      ]
     },
     "execution_count": 29,
     "metadata": {},
     "output_type": "execute_result"
    }
   ],
   "execution_count": 29
  },
  {
   "metadata": {},
   "cell_type": "markdown",
   "source": "- Having a Work Phone or not",
   "id": "1d1e96527b53a2a0"
  },
  {
   "metadata": {
    "ExecuteTime": {
     "end_time": "2025-02-12T09:38:31.900497Z",
     "start_time": "2025-02-12T09:38:31.852307Z"
    }
   },
   "cell_type": "code",
   "source": [
    "filtered_application_df['FLAG_WORK_PHONE']=filtered_application_df['FLAG_WORK_PHONE'].astype(str)\n",
    "iv, data = calc_iv(filtered_application_df,'FLAG_WORK_PHONE','target')\n",
    "new_data.drop(filtered_application_df[filtered_application_df['FLAG_WORK_PHONE'] == 'nan' ].index, inplace=True)\n",
    "ivtable.loc[ivtable['variable']=='FLAG_WORK_PHONE','IV']=iv\n",
    "data.head()"
   ],
   "id": "33a0110e7e818ec7",
   "outputs": [
    {
     "name": "stdout",
     "output_type": "stream",
     "text": [
      "This variable's IV is: 0.0007133590889604317\n",
      "FLAG_WORK_PHONE\n",
      "0    18251\n",
      "1     6882\n",
      "Name: count, dtype: int64\n"
     ]
    },
    {
     "data": {
      "text/plain": [
       "          Variable Value    All   Good  Bad     Share  Bad Rate  \\\n",
       "0  FLAG_WORK_PHONE     0  18251  18106  145  0.726177  0.007945   \n",
       "1  FLAG_WORK_PHONE     1   6882   6824   58  0.273823  0.008428   \n",
       "\n",
       "   Distribution Good  Distribution Bad       WoE        IV  \n",
       "0           0.726274          0.714286  0.016644  0.000200  \n",
       "1           0.273726          0.285714 -0.042863  0.000514  "
      ],
      "text/html": [
       "<div>\n",
       "<style scoped>\n",
       "    .dataframe tbody tr th:only-of-type {\n",
       "        vertical-align: middle;\n",
       "    }\n",
       "\n",
       "    .dataframe tbody tr th {\n",
       "        vertical-align: top;\n",
       "    }\n",
       "\n",
       "    .dataframe thead th {\n",
       "        text-align: right;\n",
       "    }\n",
       "</style>\n",
       "<table border=\"1\" class=\"dataframe\">\n",
       "  <thead>\n",
       "    <tr style=\"text-align: right;\">\n",
       "      <th></th>\n",
       "      <th>Variable</th>\n",
       "      <th>Value</th>\n",
       "      <th>All</th>\n",
       "      <th>Good</th>\n",
       "      <th>Bad</th>\n",
       "      <th>Share</th>\n",
       "      <th>Bad Rate</th>\n",
       "      <th>Distribution Good</th>\n",
       "      <th>Distribution Bad</th>\n",
       "      <th>WoE</th>\n",
       "      <th>IV</th>\n",
       "    </tr>\n",
       "  </thead>\n",
       "  <tbody>\n",
       "    <tr>\n",
       "      <th>0</th>\n",
       "      <td>FLAG_WORK_PHONE</td>\n",
       "      <td>0</td>\n",
       "      <td>18251</td>\n",
       "      <td>18106</td>\n",
       "      <td>145</td>\n",
       "      <td>0.726177</td>\n",
       "      <td>0.007945</td>\n",
       "      <td>0.726274</td>\n",
       "      <td>0.714286</td>\n",
       "      <td>0.016644</td>\n",
       "      <td>0.000200</td>\n",
       "    </tr>\n",
       "    <tr>\n",
       "      <th>1</th>\n",
       "      <td>FLAG_WORK_PHONE</td>\n",
       "      <td>1</td>\n",
       "      <td>6882</td>\n",
       "      <td>6824</td>\n",
       "      <td>58</td>\n",
       "      <td>0.273823</td>\n",
       "      <td>0.008428</td>\n",
       "      <td>0.273726</td>\n",
       "      <td>0.285714</td>\n",
       "      <td>-0.042863</td>\n",
       "      <td>0.000514</td>\n",
       "    </tr>\n",
       "  </tbody>\n",
       "</table>\n",
       "</div>"
      ]
     },
     "execution_count": 30,
     "metadata": {},
     "output_type": "execute_result"
    }
   ],
   "execution_count": 30
  },
  {
   "metadata": {},
   "cell_type": "markdown",
   "source": [
    "## Plot corr of numerical data in this data set \n",
    "   - binary is \n",
    "      - FLAG_OWN_REALTY\n",
    "      - FLAG_OWN_CAR\n",
    "      - CODE_GENDER\n",
    "      - FLAG_WORK_PHONE \n",
    "      - FLAG_EMAIL\n",
    "      - FLAG_PHONE"
   ],
   "id": "ba77e4c439ca193d"
  },
  {
   "metadata": {
    "ExecuteTime": {
     "end_time": "2025-02-12T09:38:34.505976Z",
     "start_time": "2025-02-12T09:38:34.089521Z"
    }
   },
   "cell_type": "code",
   "source": [
    "numeric_cols = ['FLAG_OWN_REALTY', 'FLAG_OWN_CAR', 'CODE_GENDER', \n",
    "                'FLAG_WORK_PHONE', 'FLAG_PHONE', 'FLAG_EMAIL',\n",
    "                'CNT_CHILDREN', 'APPLICATION_AGE', 'YEARS_OF_WORKING',\n",
    "                'CNT_FAM_MEMBERS', 'AMT_INCOME_TOTAL_zscore','target']\n",
    "\n",
    "# Calculate correlation matrix\n",
    "correlation_matrix = filtered_application_df[numeric_cols].corr()\n",
    "\n",
    "# Create heatmap\n",
    "plt.figure(figsize=(9, 8))\n",
    "sns.heatmap(correlation_matrix,\n",
    "            annot=True,  # Show numbers\n",
    "            cmap='coolwarm',  # Red/Blue color scheme\n",
    "            center=0,  # Center the colorbar at 0\n",
    "            fmt='.3f',  # 2 decimal places\n",
    "            square=True)  # Make cells square\n",
    "\n",
    "plt.title('Correlation Heatmap of Numeric Features')\n",
    "plt.xticks(rotation=45, ha='right')  # Rotate x-axis labels for better readability\n",
    "plt.yticks(rotation=0)\n",
    "plt.tight_layout()\n",
    "plt.show()"
   ],
   "id": "d902f14a35058a0e",
   "outputs": [
    {
     "data": {
      "text/plain": [
       "<Figure size 900x800 with 2 Axes>"
      ],
      "image/svg+xml": "<?xml version=\"1.0\" encoding=\"utf-8\" standalone=\"no\"?>\n<!DOCTYPE svg PUBLIC \"-//W3C//DTD SVG 1.1//EN\"\n  \"http://www.w3.org/Graphics/SVG/1.1/DTD/svg11.dtd\">\n<svg xmlns:xlink=\"http://www.w3.org/1999/xlink\" width=\"618.649829pt\" height=\"551.65834pt\" viewBox=\"0 0 618.649829 551.65834\" xmlns=\"http://www.w3.org/2000/svg\" version=\"1.1\">\n <metadata>\n  <rdf:RDF xmlns:dc=\"http://purl.org/dc/elements/1.1/\" xmlns:cc=\"http://creativecommons.org/ns#\" xmlns:rdf=\"http://www.w3.org/1999/02/22-rdf-syntax-ns#\">\n   <cc:Work>\n    <dc:type rdf:resource=\"http://purl.org/dc/dcmitype/StillImage\"/>\n    <dc:date>2025-02-12T16:38:34.408166</dc:date>\n    <dc:format>image/svg+xml</dc:format>\n    <dc:creator>\n     <cc:Agent>\n      <dc:title>Matplotlib v3.7.5, https://matplotlib.org/</dc:title>\n     </cc:Agent>\n    </dc:creator>\n   </cc:Work>\n  </rdf:RDF>\n </metadata>\n <defs>\n  <style type=\"text/css\">*{stroke-linejoin: round; stroke-linecap: butt}</style>\n </defs>\n <g id=\"figure_1\">\n  <g id=\"patch_1\">\n   <path d=\"M 0 551.65834 \nL 618.649829 551.65834 \nL 618.649829 0 \nL 0 0 \nz\n\" style=\"fill: #ffffff\"/>\n  </g>\n  <g id=\"axes_1\">\n   <g id=\"patch_2\">\n    <path d=\"M 152.754687 432.92807 \nL 537.682688 432.92807 \nL 537.682688 48.00007 \nL 152.754687 48.00007 \nz\n\" style=\"fill: #eaeaf2\"/>\n   </g>\n   <g id=\"matplotlib.axis_1\">\n    <g id=\"xtick_1\">\n     <g id=\"line2d_1\">\n      <path d=\"M 168.793354 432.92807 \nL 168.793354 48.00007 \n\" clip-path=\"url(#p3c42d633a0)\" style=\"fill: none; stroke: #ffffff; stroke-width: 0.8; stroke-linecap: round\"/>\n     </g>\n     <g id=\"text_1\">\n      <!-- FLAG_OWN_REALTY -->\n      <g style=\"fill: #262626\" transform=\"translate(96.788892 515.679094) rotate(-45) scale(0.1 -0.1)\">\n       <defs>\n        <path id=\"ArialMT-46\" d=\"M 525 0 \nL 525 4581 \nL 3616 4581 \nL 3616 4041 \nL 1131 4041 \nL 1131 2622 \nL 3281 2622 \nL 3281 2081 \nL 1131 2081 \nL 1131 0 \nL 525 0 \nz\n\" transform=\"scale(0.015625)\"/>\n        <path id=\"ArialMT-4c\" d=\"M 469 0 \nL 469 4581 \nL 1075 4581 \nL 1075 541 \nL 3331 541 \nL 3331 0 \nL 469 0 \nz\n\" transform=\"scale(0.015625)\"/>\n        <path id=\"ArialMT-41\" d=\"M -9 0 \nL 1750 4581 \nL 2403 4581 \nL 4278 0 \nL 3588 0 \nL 3053 1388 \nL 1138 1388 \nL 634 0 \nL -9 0 \nz\nM 1313 1881 \nL 2866 1881 \nL 2388 3150 \nQ 2169 3728 2063 4100 \nQ 1975 3659 1816 3225 \nL 1313 1881 \nz\n\" transform=\"scale(0.015625)\"/>\n        <path id=\"ArialMT-47\" d=\"M 2638 1797 \nL 2638 2334 \nL 4578 2338 \nL 4578 638 \nQ 4131 281 3656 101 \nQ 3181 -78 2681 -78 \nQ 2006 -78 1454 211 \nQ 903 500 622 1047 \nQ 341 1594 341 2269 \nQ 341 2938 620 3517 \nQ 900 4097 1425 4378 \nQ 1950 4659 2634 4659 \nQ 3131 4659 3532 4498 \nQ 3934 4338 4162 4050 \nQ 4391 3763 4509 3300 \nL 3963 3150 \nQ 3859 3500 3706 3700 \nQ 3553 3900 3268 4020 \nQ 2984 4141 2638 4141 \nQ 2222 4141 1919 4014 \nQ 1616 3888 1430 3681 \nQ 1244 3475 1141 3228 \nQ 966 2803 966 2306 \nQ 966 1694 1177 1281 \nQ 1388 869 1791 669 \nQ 2194 469 2647 469 \nQ 3041 469 3416 620 \nQ 3791 772 3984 944 \nL 3984 1797 \nL 2638 1797 \nz\n\" transform=\"scale(0.015625)\"/>\n        <path id=\"ArialMT-5f\" d=\"M -97 -1272 \nL -97 -866 \nL 3631 -866 \nL 3631 -1272 \nL -97 -1272 \nz\n\" transform=\"scale(0.015625)\"/>\n        <path id=\"ArialMT-4f\" d=\"M 309 2231 \nQ 309 3372 921 4017 \nQ 1534 4663 2503 4663 \nQ 3138 4663 3647 4359 \nQ 4156 4056 4423 3514 \nQ 4691 2972 4691 2284 \nQ 4691 1588 4409 1038 \nQ 4128 488 3612 205 \nQ 3097 -78 2500 -78 \nQ 1853 -78 1343 234 \nQ 834 547 571 1087 \nQ 309 1628 309 2231 \nz\nM 934 2222 \nQ 934 1394 1379 917 \nQ 1825 441 2497 441 \nQ 3181 441 3623 922 \nQ 4066 1403 4066 2288 \nQ 4066 2847 3877 3264 \nQ 3688 3681 3323 3911 \nQ 2959 4141 2506 4141 \nQ 1863 4141 1398 3698 \nQ 934 3256 934 2222 \nz\n\" transform=\"scale(0.015625)\"/>\n        <path id=\"ArialMT-57\" d=\"M 1294 0 \nL 78 4581 \nL 700 4581 \nL 1397 1578 \nQ 1509 1106 1591 641 \nQ 1766 1375 1797 1488 \nL 2669 4581 \nL 3400 4581 \nL 4056 2263 \nQ 4303 1400 4413 641 \nQ 4500 1075 4641 1638 \nL 5359 4581 \nL 5969 4581 \nL 4713 0 \nL 4128 0 \nL 3163 3491 \nQ 3041 3928 3019 4028 \nQ 2947 3713 2884 3491 \nL 1913 0 \nL 1294 0 \nz\n\" transform=\"scale(0.015625)\"/>\n        <path id=\"ArialMT-4e\" d=\"M 488 0 \nL 488 4581 \nL 1109 4581 \nL 3516 984 \nL 3516 4581 \nL 4097 4581 \nL 4097 0 \nL 3475 0 \nL 1069 3600 \nL 1069 0 \nL 488 0 \nz\n\" transform=\"scale(0.015625)\"/>\n        <path id=\"ArialMT-52\" d=\"M 503 0 \nL 503 4581 \nL 2534 4581 \nQ 3147 4581 3465 4457 \nQ 3784 4334 3975 4021 \nQ 4166 3709 4166 3331 \nQ 4166 2844 3850 2509 \nQ 3534 2175 2875 2084 \nQ 3116 1969 3241 1856 \nQ 3506 1613 3744 1247 \nL 4541 0 \nL 3778 0 \nL 3172 953 \nQ 2906 1366 2734 1584 \nQ 2563 1803 2427 1890 \nQ 2291 1978 2150 2013 \nQ 2047 2034 1813 2034 \nL 1109 2034 \nL 1109 0 \nL 503 0 \nz\nM 1109 2559 \nL 2413 2559 \nQ 2828 2559 3062 2645 \nQ 3297 2731 3419 2920 \nQ 3541 3109 3541 3331 \nQ 3541 3656 3305 3865 \nQ 3069 4075 2559 4075 \nL 1109 4075 \nL 1109 2559 \nz\n\" transform=\"scale(0.015625)\"/>\n        <path id=\"ArialMT-45\" d=\"M 506 0 \nL 506 4581 \nL 3819 4581 \nL 3819 4041 \nL 1113 4041 \nL 1113 2638 \nL 3647 2638 \nL 3647 2100 \nL 1113 2100 \nL 1113 541 \nL 3925 541 \nL 3925 0 \nL 506 0 \nz\n\" transform=\"scale(0.015625)\"/>\n        <path id=\"ArialMT-54\" d=\"M 1659 0 \nL 1659 4041 \nL 150 4041 \nL 150 4581 \nL 3781 4581 \nL 3781 4041 \nL 2266 4041 \nL 2266 0 \nL 1659 0 \nz\n\" transform=\"scale(0.015625)\"/>\n        <path id=\"ArialMT-59\" d=\"M 1784 0 \nL 1784 1941 \nL 19 4581 \nL 756 4581 \nL 1659 3200 \nQ 1909 2813 2125 2425 \nQ 2331 2784 2625 3234 \nL 3513 4581 \nL 4219 4581 \nL 2391 1941 \nL 2391 0 \nL 1784 0 \nz\n\" transform=\"scale(0.015625)\"/>\n       </defs>\n       <use xlink:href=\"#ArialMT-46\"/>\n       <use xlink:href=\"#ArialMT-4c\" x=\"61.083984\"/>\n       <use xlink:href=\"#ArialMT-41\" x=\"116.699219\"/>\n       <use xlink:href=\"#ArialMT-47\" x=\"183.398438\"/>\n       <use xlink:href=\"#ArialMT-5f\" x=\"261.181641\"/>\n       <use xlink:href=\"#ArialMT-4f\" x=\"316.796875\"/>\n       <use xlink:href=\"#ArialMT-57\" x=\"394.580078\"/>\n       <use xlink:href=\"#ArialMT-4e\" x=\"488.964844\"/>\n       <use xlink:href=\"#ArialMT-5f\" x=\"561.181641\"/>\n       <use xlink:href=\"#ArialMT-52\" x=\"616.796875\"/>\n       <use xlink:href=\"#ArialMT-45\" x=\"689.013672\"/>\n       <use xlink:href=\"#ArialMT-41\" x=\"755.712891\"/>\n       <use xlink:href=\"#ArialMT-4c\" x=\"822.412109\"/>\n       <use xlink:href=\"#ArialMT-54\" x=\"870.652344\"/>\n       <use xlink:href=\"#ArialMT-59\" x=\"931.736328\"/>\n      </g>\n     </g>\n    </g>\n    <g id=\"xtick_2\">\n     <g id=\"line2d_2\">\n      <path d=\"M 200.870687 432.92807 \nL 200.870687 48.00007 \n\" clip-path=\"url(#p3c42d633a0)\" style=\"fill: none; stroke: #ffffff; stroke-width: 0.8; stroke-linecap: round\"/>\n     </g>\n     <g id=\"text_2\">\n      <!-- FLAG_OWN_CAR -->\n      <g style=\"fill: #262626\" transform=\"translate(140.922396 503.622923) rotate(-45) scale(0.1 -0.1)\">\n       <defs>\n        <path id=\"ArialMT-43\" d=\"M 3763 1606 \nL 4369 1453 \nQ 4178 706 3683 314 \nQ 3188 -78 2472 -78 \nQ 1731 -78 1267 223 \nQ 803 525 561 1097 \nQ 319 1669 319 2325 \nQ 319 3041 592 3573 \nQ 866 4106 1370 4382 \nQ 1875 4659 2481 4659 \nQ 3169 4659 3637 4309 \nQ 4106 3959 4291 3325 \nL 3694 3184 \nQ 3534 3684 3231 3912 \nQ 2928 4141 2469 4141 \nQ 1941 4141 1586 3887 \nQ 1231 3634 1087 3207 \nQ 944 2781 944 2328 \nQ 944 1744 1114 1308 \nQ 1284 872 1643 656 \nQ 2003 441 2422 441 \nQ 2931 441 3284 734 \nQ 3638 1028 3763 1606 \nz\n\" transform=\"scale(0.015625)\"/>\n       </defs>\n       <use xlink:href=\"#ArialMT-46\"/>\n       <use xlink:href=\"#ArialMT-4c\" x=\"61.083984\"/>\n       <use xlink:href=\"#ArialMT-41\" x=\"116.699219\"/>\n       <use xlink:href=\"#ArialMT-47\" x=\"183.398438\"/>\n       <use xlink:href=\"#ArialMT-5f\" x=\"261.181641\"/>\n       <use xlink:href=\"#ArialMT-4f\" x=\"316.796875\"/>\n       <use xlink:href=\"#ArialMT-57\" x=\"394.580078\"/>\n       <use xlink:href=\"#ArialMT-4e\" x=\"488.964844\"/>\n       <use xlink:href=\"#ArialMT-5f\" x=\"561.181641\"/>\n       <use xlink:href=\"#ArialMT-43\" x=\"616.796875\"/>\n       <use xlink:href=\"#ArialMT-41\" x=\"689.013672\"/>\n       <use xlink:href=\"#ArialMT-52\" x=\"755.712891\"/>\n      </g>\n     </g>\n    </g>\n    <g id=\"xtick_3\">\n     <g id=\"line2d_3\">\n      <path d=\"M 232.948021 432.92807 \nL 232.948021 48.00007 \n\" clip-path=\"url(#p3c42d633a0)\" style=\"fill: none; stroke: #ffffff; stroke-width: 0.8; stroke-linecap: round\"/>\n     </g>\n     <g id=\"text_3\">\n      <!-- CODE_GENDER -->\n      <g style=\"fill: #262626\" transform=\"translate(176.927486 499.695166) rotate(-45) scale(0.1 -0.1)\">\n       <defs>\n        <path id=\"ArialMT-44\" d=\"M 494 0 \nL 494 4581 \nL 2072 4581 \nQ 2606 4581 2888 4516 \nQ 3281 4425 3559 4188 \nQ 3922 3881 4101 3404 \nQ 4281 2928 4281 2316 \nQ 4281 1794 4159 1391 \nQ 4038 988 3847 723 \nQ 3656 459 3429 307 \nQ 3203 156 2883 78 \nQ 2563 0 2147 0 \nL 494 0 \nz\nM 1100 541 \nL 2078 541 \nQ 2531 541 2789 625 \nQ 3047 709 3200 863 \nQ 3416 1078 3536 1442 \nQ 3656 1806 3656 2325 \nQ 3656 3044 3420 3430 \nQ 3184 3816 2847 3947 \nQ 2603 4041 2063 4041 \nL 1100 4041 \nL 1100 541 \nz\n\" transform=\"scale(0.015625)\"/>\n       </defs>\n       <use xlink:href=\"#ArialMT-43\"/>\n       <use xlink:href=\"#ArialMT-4f\" x=\"72.216797\"/>\n       <use xlink:href=\"#ArialMT-44\" x=\"150\"/>\n       <use xlink:href=\"#ArialMT-45\" x=\"222.216797\"/>\n       <use xlink:href=\"#ArialMT-5f\" x=\"288.916016\"/>\n       <use xlink:href=\"#ArialMT-47\" x=\"344.53125\"/>\n       <use xlink:href=\"#ArialMT-45\" x=\"422.314453\"/>\n       <use xlink:href=\"#ArialMT-4e\" x=\"489.013672\"/>\n       <use xlink:href=\"#ArialMT-44\" x=\"561.230469\"/>\n       <use xlink:href=\"#ArialMT-45\" x=\"633.447266\"/>\n       <use xlink:href=\"#ArialMT-52\" x=\"700.146484\"/>\n      </g>\n     </g>\n    </g>\n    <g id=\"xtick_4\">\n     <g id=\"line2d_4\">\n      <path d=\"M 265.025354 432.92807 \nL 265.025354 48.00007 \n\" clip-path=\"url(#p3c42d633a0)\" style=\"fill: none; stroke: #ffffff; stroke-width: 0.8; stroke-linecap: round\"/>\n     </g>\n     <g id=\"text_4\">\n      <!-- FLAG_WORK_PHONE -->\n      <g style=\"fill: #262626\" transform=\"translate(190.143851 518.556134) rotate(-45) scale(0.1 -0.1)\">\n       <defs>\n        <path id=\"ArialMT-4b\" d=\"M 469 0 \nL 469 4581 \nL 1075 4581 \nL 1075 2309 \nL 3350 4581 \nL 4172 4581 \nL 2250 2725 \nL 4256 0 \nL 3456 0 \nL 1825 2319 \nL 1075 1588 \nL 1075 0 \nL 469 0 \nz\n\" transform=\"scale(0.015625)\"/>\n        <path id=\"ArialMT-50\" d=\"M 494 0 \nL 494 4581 \nL 2222 4581 \nQ 2678 4581 2919 4538 \nQ 3256 4481 3484 4323 \nQ 3713 4166 3852 3881 \nQ 3991 3597 3991 3256 \nQ 3991 2672 3619 2267 \nQ 3247 1863 2275 1863 \nL 1100 1863 \nL 1100 0 \nL 494 0 \nz\nM 1100 2403 \nL 2284 2403 \nQ 2872 2403 3119 2622 \nQ 3366 2841 3366 3238 \nQ 3366 3525 3220 3729 \nQ 3075 3934 2838 4000 \nQ 2684 4041 2272 4041 \nL 1100 4041 \nL 1100 2403 \nz\n\" transform=\"scale(0.015625)\"/>\n        <path id=\"ArialMT-48\" d=\"M 513 0 \nL 513 4581 \nL 1119 4581 \nL 1119 2700 \nL 3500 2700 \nL 3500 4581 \nL 4106 4581 \nL 4106 0 \nL 3500 0 \nL 3500 2159 \nL 1119 2159 \nL 1119 0 \nL 513 0 \nz\n\" transform=\"scale(0.015625)\"/>\n       </defs>\n       <use xlink:href=\"#ArialMT-46\"/>\n       <use xlink:href=\"#ArialMT-4c\" x=\"61.083984\"/>\n       <use xlink:href=\"#ArialMT-41\" x=\"116.699219\"/>\n       <use xlink:href=\"#ArialMT-47\" x=\"183.398438\"/>\n       <use xlink:href=\"#ArialMT-5f\" x=\"261.181641\"/>\n       <use xlink:href=\"#ArialMT-57\" x=\"316.796875\"/>\n       <use xlink:href=\"#ArialMT-4f\" x=\"411.181641\"/>\n       <use xlink:href=\"#ArialMT-52\" x=\"488.964844\"/>\n       <use xlink:href=\"#ArialMT-4b\" x=\"561.181641\"/>\n       <use xlink:href=\"#ArialMT-5f\" x=\"627.880859\"/>\n       <use xlink:href=\"#ArialMT-50\" x=\"683.496094\"/>\n       <use xlink:href=\"#ArialMT-48\" x=\"750.195312\"/>\n       <use xlink:href=\"#ArialMT-4f\" x=\"822.412109\"/>\n       <use xlink:href=\"#ArialMT-4e\" x=\"900.195312\"/>\n       <use xlink:href=\"#ArialMT-45\" x=\"972.412109\"/>\n      </g>\n     </g>\n    </g>\n    <g id=\"xtick_5\">\n     <g id=\"line2d_5\">\n      <path d=\"M 297.102688 432.92807 \nL 297.102688 48.00007 \n\" clip-path=\"url(#p3c42d633a0)\" style=\"fill: none; stroke: #ffffff; stroke-width: 0.8; stroke-linecap: round\"/>\n     </g>\n     <g id=\"text_5\">\n      <!-- FLAG_PHONE -->\n      <g style=\"fill: #262626\" transform=\"translate(248.151011 492.626308) rotate(-45) scale(0.1 -0.1)\">\n       <use xlink:href=\"#ArialMT-46\"/>\n       <use xlink:href=\"#ArialMT-4c\" x=\"61.083984\"/>\n       <use xlink:href=\"#ArialMT-41\" x=\"116.699219\"/>\n       <use xlink:href=\"#ArialMT-47\" x=\"183.398438\"/>\n       <use xlink:href=\"#ArialMT-5f\" x=\"261.181641\"/>\n       <use xlink:href=\"#ArialMT-50\" x=\"316.796875\"/>\n       <use xlink:href=\"#ArialMT-48\" x=\"383.496094\"/>\n       <use xlink:href=\"#ArialMT-4f\" x=\"455.712891\"/>\n       <use xlink:href=\"#ArialMT-4e\" x=\"533.496094\"/>\n       <use xlink:href=\"#ArialMT-45\" x=\"605.712891\"/>\n      </g>\n     </g>\n    </g>\n    <g id=\"xtick_6\">\n     <g id=\"line2d_6\">\n      <path d=\"M 329.180021 432.92807 \nL 329.180021 48.00007 \n\" clip-path=\"url(#p3c42d633a0)\" style=\"fill: none; stroke: #ffffff; stroke-width: 0.8; stroke-linecap: round\"/>\n     </g>\n     <g id=\"text_6\">\n      <!-- FLAG_EMAIL -->\n      <g style=\"fill: #262626\" transform=\"translate(284.154997 488.695236) rotate(-45) scale(0.1 -0.1)\">\n       <defs>\n        <path id=\"ArialMT-4d\" d=\"M 475 0 \nL 475 4581 \nL 1388 4581 \nL 2472 1338 \nQ 2622 884 2691 659 \nQ 2769 909 2934 1394 \nL 4031 4581 \nL 4847 4581 \nL 4847 0 \nL 4263 0 \nL 4263 3834 \nL 2931 0 \nL 2384 0 \nL 1059 3900 \nL 1059 0 \nL 475 0 \nz\n\" transform=\"scale(0.015625)\"/>\n        <path id=\"ArialMT-49\" d=\"M 597 0 \nL 597 4581 \nL 1203 4581 \nL 1203 0 \nL 597 0 \nz\n\" transform=\"scale(0.015625)\"/>\n       </defs>\n       <use xlink:href=\"#ArialMT-46\"/>\n       <use xlink:href=\"#ArialMT-4c\" x=\"61.083984\"/>\n       <use xlink:href=\"#ArialMT-41\" x=\"116.699219\"/>\n       <use xlink:href=\"#ArialMT-47\" x=\"183.398438\"/>\n       <use xlink:href=\"#ArialMT-5f\" x=\"261.181641\"/>\n       <use xlink:href=\"#ArialMT-45\" x=\"316.796875\"/>\n       <use xlink:href=\"#ArialMT-4d\" x=\"383.496094\"/>\n       <use xlink:href=\"#ArialMT-41\" x=\"466.796875\"/>\n       <use xlink:href=\"#ArialMT-49\" x=\"533.496094\"/>\n       <use xlink:href=\"#ArialMT-4c\" x=\"561.279297\"/>\n      </g>\n     </g>\n    </g>\n    <g id=\"xtick_7\">\n     <g id=\"line2d_7\">\n      <path d=\"M 361.257354 432.92807 \nL 361.257354 48.00007 \n\" clip-path=\"url(#p3c42d633a0)\" style=\"fill: none; stroke: #ffffff; stroke-width: 0.8; stroke-linecap: round\"/>\n     </g>\n     <g id=\"text_7\">\n      <!-- CNT_CHILDREN -->\n      <g style=\"fill: #262626\" transform=\"translate(305.241239 499.686327) rotate(-45) scale(0.1 -0.1)\">\n       <use xlink:href=\"#ArialMT-43\"/>\n       <use xlink:href=\"#ArialMT-4e\" x=\"72.216797\"/>\n       <use xlink:href=\"#ArialMT-54\" x=\"144.433594\"/>\n       <use xlink:href=\"#ArialMT-5f\" x=\"205.517578\"/>\n       <use xlink:href=\"#ArialMT-43\" x=\"261.132812\"/>\n       <use xlink:href=\"#ArialMT-48\" x=\"333.349609\"/>\n       <use xlink:href=\"#ArialMT-49\" x=\"405.566406\"/>\n       <use xlink:href=\"#ArialMT-4c\" x=\"433.349609\"/>\n       <use xlink:href=\"#ArialMT-44\" x=\"488.964844\"/>\n       <use xlink:href=\"#ArialMT-52\" x=\"561.181641\"/>\n       <use xlink:href=\"#ArialMT-45\" x=\"633.398438\"/>\n       <use xlink:href=\"#ArialMT-4e\" x=\"700.097656\"/>\n      </g>\n     </g>\n    </g>\n    <g id=\"xtick_8\">\n     <g id=\"line2d_8\">\n      <path d=\"M 393.334687 432.92807 \nL 393.334687 48.00007 \n\" clip-path=\"url(#p3c42d633a0)\" style=\"fill: none; stroke: #ffffff; stroke-width: 0.8; stroke-linecap: round\"/>\n     </g>\n     <g id=\"text_8\">\n      <!-- APPLICATION_AGE -->\n      <g style=\"fill: #262626\" transform=\"translate(326.82577 510.183548) rotate(-45) scale(0.1 -0.1)\">\n       <use xlink:href=\"#ArialMT-41\"/>\n       <use xlink:href=\"#ArialMT-50\" x=\"66.699219\"/>\n       <use xlink:href=\"#ArialMT-50\" x=\"133.398438\"/>\n       <use xlink:href=\"#ArialMT-4c\" x=\"200.097656\"/>\n       <use xlink:href=\"#ArialMT-49\" x=\"255.712891\"/>\n       <use xlink:href=\"#ArialMT-43\" x=\"283.496094\"/>\n       <use xlink:href=\"#ArialMT-41\" x=\"355.712891\"/>\n       <use xlink:href=\"#ArialMT-54\" x=\"415.037109\"/>\n       <use xlink:href=\"#ArialMT-49\" x=\"476.121094\"/>\n       <use xlink:href=\"#ArialMT-4f\" x=\"503.904297\"/>\n       <use xlink:href=\"#ArialMT-4e\" x=\"581.6875\"/>\n       <use xlink:href=\"#ArialMT-5f\" x=\"653.904297\"/>\n       <use xlink:href=\"#ArialMT-41\" x=\"709.519531\"/>\n       <use xlink:href=\"#ArialMT-47\" x=\"776.21875\"/>\n       <use xlink:href=\"#ArialMT-45\" x=\"854.001953\"/>\n      </g>\n     </g>\n    </g>\n    <g id=\"xtick_9\">\n     <g id=\"line2d_9\">\n      <path d=\"M 425.412021 432.92807 \nL 425.412021 48.00007 \n\" clip-path=\"url(#p3c42d633a0)\" style=\"fill: none; stroke: #ffffff; stroke-width: 0.8; stroke-linecap: round\"/>\n     </g>\n     <g id=\"text_9\">\n      <!-- YEARS_OF_WORKING -->\n      <g style=\"fill: #262626\" transform=\"translate(347.78164 521.305012) rotate(-45) scale(0.1 -0.1)\">\n       <defs>\n        <path id=\"ArialMT-53\" d=\"M 288 1472 \nL 859 1522 \nQ 900 1178 1048 958 \nQ 1197 738 1509 602 \nQ 1822 466 2213 466 \nQ 2559 466 2825 569 \nQ 3091 672 3220 851 \nQ 3350 1031 3350 1244 \nQ 3350 1459 3225 1620 \nQ 3100 1781 2813 1891 \nQ 2628 1963 1997 2114 \nQ 1366 2266 1113 2400 \nQ 784 2572 623 2826 \nQ 463 3081 463 3397 \nQ 463 3744 659 4045 \nQ 856 4347 1234 4503 \nQ 1613 4659 2075 4659 \nQ 2584 4659 2973 4495 \nQ 3363 4331 3572 4012 \nQ 3781 3694 3797 3291 \nL 3216 3247 \nQ 3169 3681 2898 3903 \nQ 2628 4125 2100 4125 \nQ 1550 4125 1298 3923 \nQ 1047 3722 1047 3438 \nQ 1047 3191 1225 3031 \nQ 1400 2872 2139 2705 \nQ 2878 2538 3153 2413 \nQ 3553 2228 3743 1945 \nQ 3934 1663 3934 1294 \nQ 3934 928 3725 604 \nQ 3516 281 3123 101 \nQ 2731 -78 2241 -78 \nQ 1619 -78 1198 103 \nQ 778 284 539 648 \nQ 300 1013 288 1472 \nz\n\" transform=\"scale(0.015625)\"/>\n       </defs>\n       <use xlink:href=\"#ArialMT-59\"/>\n       <use xlink:href=\"#ArialMT-45\" x=\"66.699219\"/>\n       <use xlink:href=\"#ArialMT-41\" x=\"133.398438\"/>\n       <use xlink:href=\"#ArialMT-52\" x=\"200.097656\"/>\n       <use xlink:href=\"#ArialMT-53\" x=\"272.314453\"/>\n       <use xlink:href=\"#ArialMT-5f\" x=\"339.013672\"/>\n       <use xlink:href=\"#ArialMT-4f\" x=\"394.628906\"/>\n       <use xlink:href=\"#ArialMT-46\" x=\"472.412109\"/>\n       <use xlink:href=\"#ArialMT-5f\" x=\"533.496094\"/>\n       <use xlink:href=\"#ArialMT-57\" x=\"589.111328\"/>\n       <use xlink:href=\"#ArialMT-4f\" x=\"683.496094\"/>\n       <use xlink:href=\"#ArialMT-52\" x=\"761.279297\"/>\n       <use xlink:href=\"#ArialMT-4b\" x=\"833.496094\"/>\n       <use xlink:href=\"#ArialMT-49\" x=\"900.195312\"/>\n       <use xlink:href=\"#ArialMT-4e\" x=\"927.978516\"/>\n       <use xlink:href=\"#ArialMT-47\" x=\"1000.195312\"/>\n      </g>\n     </g>\n    </g>\n    <g id=\"xtick_10\">\n     <g id=\"line2d_10\">\n      <path d=\"M 457.489354 432.92807 \nL 457.489354 48.00007 \n\" clip-path=\"url(#p3c42d633a0)\" style=\"fill: none; stroke: #ffffff; stroke-width: 0.8; stroke-linecap: round\"/>\n     </g>\n     <g id=\"text_10\">\n      <!-- CNT_FAM_MEMBERS -->\n      <g style=\"fill: #262626\" transform=\"translate(383.397822 517.761744) rotate(-45) scale(0.1 -0.1)\">\n       <defs>\n        <path id=\"ArialMT-42\" d=\"M 469 0 \nL 469 4581 \nL 2188 4581 \nQ 2713 4581 3030 4442 \nQ 3347 4303 3526 4014 \nQ 3706 3725 3706 3409 \nQ 3706 3116 3547 2856 \nQ 3388 2597 3066 2438 \nQ 3481 2316 3704 2022 \nQ 3928 1728 3928 1328 \nQ 3928 1006 3792 729 \nQ 3656 453 3456 303 \nQ 3256 153 2954 76 \nQ 2653 0 2216 0 \nL 469 0 \nz\nM 1075 2656 \nL 2066 2656 \nQ 2469 2656 2644 2709 \nQ 2875 2778 2992 2937 \nQ 3109 3097 3109 3338 \nQ 3109 3566 3000 3739 \nQ 2891 3913 2687 3977 \nQ 2484 4041 1991 4041 \nL 1075 4041 \nL 1075 2656 \nz\nM 1075 541 \nL 2216 541 \nQ 2509 541 2628 563 \nQ 2838 600 2978 687 \nQ 3119 775 3209 942 \nQ 3300 1109 3300 1328 \nQ 3300 1584 3169 1773 \nQ 3038 1963 2805 2039 \nQ 2572 2116 2134 2116 \nL 1075 2116 \nL 1075 541 \nz\n\" transform=\"scale(0.015625)\"/>\n       </defs>\n       <use xlink:href=\"#ArialMT-43\"/>\n       <use xlink:href=\"#ArialMT-4e\" x=\"72.216797\"/>\n       <use xlink:href=\"#ArialMT-54\" x=\"144.433594\"/>\n       <use xlink:href=\"#ArialMT-5f\" x=\"205.517578\"/>\n       <use xlink:href=\"#ArialMT-46\" x=\"261.132812\"/>\n       <use xlink:href=\"#ArialMT-41\" x=\"316.716797\"/>\n       <use xlink:href=\"#ArialMT-4d\" x=\"383.416016\"/>\n       <use xlink:href=\"#ArialMT-5f\" x=\"466.716797\"/>\n       <use xlink:href=\"#ArialMT-4d\" x=\"522.332031\"/>\n       <use xlink:href=\"#ArialMT-45\" x=\"605.632812\"/>\n       <use xlink:href=\"#ArialMT-4d\" x=\"672.332031\"/>\n       <use xlink:href=\"#ArialMT-42\" x=\"755.632812\"/>\n       <use xlink:href=\"#ArialMT-45\" x=\"822.332031\"/>\n       <use xlink:href=\"#ArialMT-52\" x=\"889.03125\"/>\n       <use xlink:href=\"#ArialMT-53\" x=\"961.248047\"/>\n      </g>\n     </g>\n    </g>\n    <g id=\"xtick_11\">\n     <g id=\"line2d_11\">\n      <path d=\"M 489.566688 432.92807 \nL 489.566688 48.00007 \n\" clip-path=\"url(#p3c42d633a0)\" style=\"fill: none; stroke: #ffffff; stroke-width: 0.8; stroke-linecap: round\"/>\n     </g>\n     <g id=\"text_11\">\n      <!-- AMT_INCOME_TOTAL_zscore -->\n      <g style=\"fill: #262626\" transform=\"translate(390.188354 543.052965) rotate(-45) scale(0.1 -0.1)\">\n       <defs>\n        <path id=\"ArialMT-7a\" d=\"M 125 0 \nL 125 456 \nL 2238 2881 \nQ 1878 2863 1603 2863 \nL 250 2863 \nL 250 3319 \nL 2963 3319 \nL 2963 2947 \nL 1166 841 \nL 819 456 \nQ 1197 484 1528 484 \nL 3063 484 \nL 3063 0 \nL 125 0 \nz\n\" transform=\"scale(0.015625)\"/>\n        <path id=\"ArialMT-73\" d=\"M 197 991 \nL 753 1078 \nQ 800 744 1014 566 \nQ 1228 388 1613 388 \nQ 2000 388 2187 545 \nQ 2375 703 2375 916 \nQ 2375 1106 2209 1216 \nQ 2094 1291 1634 1406 \nQ 1016 1563 777 1677 \nQ 538 1791 414 1992 \nQ 291 2194 291 2438 \nQ 291 2659 392 2848 \nQ 494 3038 669 3163 \nQ 800 3259 1026 3326 \nQ 1253 3394 1513 3394 \nQ 1903 3394 2198 3281 \nQ 2494 3169 2634 2976 \nQ 2775 2784 2828 2463 \nL 2278 2388 \nQ 2241 2644 2061 2787 \nQ 1881 2931 1553 2931 \nQ 1166 2931 1000 2803 \nQ 834 2675 834 2503 \nQ 834 2394 903 2306 \nQ 972 2216 1119 2156 \nQ 1203 2125 1616 2013 \nQ 2213 1853 2448 1751 \nQ 2684 1650 2818 1456 \nQ 2953 1263 2953 975 \nQ 2953 694 2789 445 \nQ 2625 197 2315 61 \nQ 2006 -75 1616 -75 \nQ 969 -75 630 194 \nQ 291 463 197 991 \nz\n\" transform=\"scale(0.015625)\"/>\n        <path id=\"ArialMT-63\" d=\"M 2588 1216 \nL 3141 1144 \nQ 3050 572 2676 248 \nQ 2303 -75 1759 -75 \nQ 1078 -75 664 370 \nQ 250 816 250 1647 \nQ 250 2184 428 2587 \nQ 606 2991 970 3192 \nQ 1334 3394 1763 3394 \nQ 2303 3394 2647 3120 \nQ 2991 2847 3088 2344 \nL 2541 2259 \nQ 2463 2594 2264 2762 \nQ 2066 2931 1784 2931 \nQ 1359 2931 1093 2626 \nQ 828 2322 828 1663 \nQ 828 994 1084 691 \nQ 1341 388 1753 388 \nQ 2084 388 2306 591 \nQ 2528 794 2588 1216 \nz\n\" transform=\"scale(0.015625)\"/>\n        <path id=\"ArialMT-6f\" d=\"M 213 1659 \nQ 213 2581 725 3025 \nQ 1153 3394 1769 3394 \nQ 2453 3394 2887 2945 \nQ 3322 2497 3322 1706 \nQ 3322 1066 3130 698 \nQ 2938 331 2570 128 \nQ 2203 -75 1769 -75 \nQ 1072 -75 642 372 \nQ 213 819 213 1659 \nz\nM 791 1659 \nQ 791 1022 1069 705 \nQ 1347 388 1769 388 \nQ 2188 388 2466 706 \nQ 2744 1025 2744 1678 \nQ 2744 2294 2464 2611 \nQ 2184 2928 1769 2928 \nQ 1347 2928 1069 2612 \nQ 791 2297 791 1659 \nz\n\" transform=\"scale(0.015625)\"/>\n        <path id=\"ArialMT-72\" d=\"M 416 0 \nL 416 3319 \nL 922 3319 \nL 922 2816 \nQ 1116 3169 1280 3281 \nQ 1444 3394 1641 3394 \nQ 1925 3394 2219 3213 \nL 2025 2691 \nQ 1819 2813 1613 2813 \nQ 1428 2813 1281 2702 \nQ 1134 2591 1072 2394 \nQ 978 2094 978 1738 \nL 978 0 \nL 416 0 \nz\n\" transform=\"scale(0.015625)\"/>\n        <path id=\"ArialMT-65\" d=\"M 2694 1069 \nL 3275 997 \nQ 3138 488 2766 206 \nQ 2394 -75 1816 -75 \nQ 1088 -75 661 373 \nQ 234 822 234 1631 \nQ 234 2469 665 2931 \nQ 1097 3394 1784 3394 \nQ 2450 3394 2872 2941 \nQ 3294 2488 3294 1666 \nQ 3294 1616 3291 1516 \nL 816 1516 \nQ 847 969 1125 678 \nQ 1403 388 1819 388 \nQ 2128 388 2347 550 \nQ 2566 713 2694 1069 \nz\nM 847 1978 \nL 2700 1978 \nQ 2663 2397 2488 2606 \nQ 2219 2931 1791 2931 \nQ 1403 2931 1139 2672 \nQ 875 2413 847 1978 \nz\n\" transform=\"scale(0.015625)\"/>\n       </defs>\n       <use xlink:href=\"#ArialMT-41\"/>\n       <use xlink:href=\"#ArialMT-4d\" x=\"66.699219\"/>\n       <use xlink:href=\"#ArialMT-54\" x=\"150\"/>\n       <use xlink:href=\"#ArialMT-5f\" x=\"211.083984\"/>\n       <use xlink:href=\"#ArialMT-49\" x=\"266.699219\"/>\n       <use xlink:href=\"#ArialMT-4e\" x=\"294.482422\"/>\n       <use xlink:href=\"#ArialMT-43\" x=\"366.699219\"/>\n       <use xlink:href=\"#ArialMT-4f\" x=\"438.916016\"/>\n       <use xlink:href=\"#ArialMT-4d\" x=\"516.699219\"/>\n       <use xlink:href=\"#ArialMT-45\" x=\"600\"/>\n       <use xlink:href=\"#ArialMT-5f\" x=\"666.699219\"/>\n       <use xlink:href=\"#ArialMT-54\" x=\"722.314453\"/>\n       <use xlink:href=\"#ArialMT-4f\" x=\"781.648438\"/>\n       <use xlink:href=\"#ArialMT-54\" x=\"859.431641\"/>\n       <use xlink:href=\"#ArialMT-41\" x=\"913.140625\"/>\n       <use xlink:href=\"#ArialMT-4c\" x=\"979.839844\"/>\n       <use xlink:href=\"#ArialMT-5f\" x=\"1035.455078\"/>\n       <use xlink:href=\"#ArialMT-7a\" x=\"1091.070312\"/>\n       <use xlink:href=\"#ArialMT-73\" x=\"1141.070312\"/>\n       <use xlink:href=\"#ArialMT-63\" x=\"1191.070312\"/>\n       <use xlink:href=\"#ArialMT-6f\" x=\"1241.070312\"/>\n       <use xlink:href=\"#ArialMT-72\" x=\"1296.685547\"/>\n       <use xlink:href=\"#ArialMT-65\" x=\"1329.986328\"/>\n      </g>\n     </g>\n    </g>\n    <g id=\"xtick_12\">\n     <g id=\"line2d_12\">\n      <path d=\"M 521.644021 432.92807 \nL 521.644021 48.00007 \n\" clip-path=\"url(#p3c42d633a0)\" style=\"fill: none; stroke: #ffffff; stroke-width: 0.8; stroke-linecap: round\"/>\n     </g>\n     <g id=\"text_12\">\n      <!-- target -->\n      <g style=\"fill: #262626\" transform=\"translate(502.075946 462.98638) rotate(-45) scale(0.1 -0.1)\">\n       <defs>\n        <path id=\"ArialMT-74\" d=\"M 1650 503 \nL 1731 6 \nQ 1494 -44 1306 -44 \nQ 1000 -44 831 53 \nQ 663 150 594 308 \nQ 525 466 525 972 \nL 525 2881 \nL 113 2881 \nL 113 3319 \nL 525 3319 \nL 525 4141 \nL 1084 4478 \nL 1084 3319 \nL 1650 3319 \nL 1650 2881 \nL 1084 2881 \nL 1084 941 \nQ 1084 700 1114 631 \nQ 1144 563 1211 522 \nQ 1278 481 1403 481 \nQ 1497 481 1650 503 \nz\n\" transform=\"scale(0.015625)\"/>\n        <path id=\"ArialMT-61\" d=\"M 2588 409 \nQ 2275 144 1986 34 \nQ 1697 -75 1366 -75 \nQ 819 -75 525 192 \nQ 231 459 231 875 \nQ 231 1119 342 1320 \nQ 453 1522 633 1644 \nQ 813 1766 1038 1828 \nQ 1203 1872 1538 1913 \nQ 2219 1994 2541 2106 \nQ 2544 2222 2544 2253 \nQ 2544 2597 2384 2738 \nQ 2169 2928 1744 2928 \nQ 1347 2928 1158 2789 \nQ 969 2650 878 2297 \nL 328 2372 \nQ 403 2725 575 2942 \nQ 747 3159 1072 3276 \nQ 1397 3394 1825 3394 \nQ 2250 3394 2515 3294 \nQ 2781 3194 2906 3042 \nQ 3031 2891 3081 2659 \nQ 3109 2516 3109 2141 \nL 3109 1391 \nQ 3109 606 3145 398 \nQ 3181 191 3288 0 \nL 2700 0 \nQ 2613 175 2588 409 \nz\nM 2541 1666 \nQ 2234 1541 1622 1453 \nQ 1275 1403 1131 1340 \nQ 988 1278 909 1158 \nQ 831 1038 831 891 \nQ 831 666 1001 516 \nQ 1172 366 1500 366 \nQ 1825 366 2078 508 \nQ 2331 650 2450 897 \nQ 2541 1088 2541 1459 \nL 2541 1666 \nz\n\" transform=\"scale(0.015625)\"/>\n        <path id=\"ArialMT-67\" d=\"M 319 -275 \nL 866 -356 \nQ 900 -609 1056 -725 \nQ 1266 -881 1628 -881 \nQ 2019 -881 2231 -725 \nQ 2444 -569 2519 -288 \nQ 2563 -116 2559 434 \nQ 2191 0 1641 0 \nQ 956 0 581 494 \nQ 206 988 206 1678 \nQ 206 2153 378 2554 \nQ 550 2956 876 3175 \nQ 1203 3394 1644 3394 \nQ 2231 3394 2613 2919 \nL 2613 3319 \nL 3131 3319 \nL 3131 450 \nQ 3131 -325 2973 -648 \nQ 2816 -972 2473 -1159 \nQ 2131 -1347 1631 -1347 \nQ 1038 -1347 672 -1080 \nQ 306 -813 319 -275 \nz\nM 784 1719 \nQ 784 1066 1043 766 \nQ 1303 466 1694 466 \nQ 2081 466 2343 764 \nQ 2606 1063 2606 1700 \nQ 2606 2309 2336 2618 \nQ 2066 2928 1684 2928 \nQ 1309 2928 1046 2623 \nQ 784 2319 784 1719 \nz\n\" transform=\"scale(0.015625)\"/>\n       </defs>\n       <use xlink:href=\"#ArialMT-74\"/>\n       <use xlink:href=\"#ArialMT-61\" x=\"27.783203\"/>\n       <use xlink:href=\"#ArialMT-72\" x=\"83.398438\"/>\n       <use xlink:href=\"#ArialMT-67\" x=\"116.699219\"/>\n       <use xlink:href=\"#ArialMT-65\" x=\"172.314453\"/>\n       <use xlink:href=\"#ArialMT-74\" x=\"227.929688\"/>\n      </g>\n     </g>\n    </g>\n   </g>\n   <g id=\"matplotlib.axis_2\">\n    <g id=\"ytick_1\">\n     <g id=\"line2d_13\">\n      <path d=\"M 152.754687 64.038737 \nL 537.682688 64.038737 \n\" clip-path=\"url(#p3c42d633a0)\" style=\"fill: none; stroke: #ffffff; stroke-width: 0.8; stroke-linecap: round\"/>\n     </g>\n     <g id=\"text_13\">\n      <!-- FLAG_OWN_REALTY -->\n      <g style=\"fill: #262626\" transform=\"translate(45.9125 66.687955) scale(0.1 -0.1)\">\n       <use xlink:href=\"#ArialMT-46\"/>\n       <use xlink:href=\"#ArialMT-4c\" x=\"61.083984\"/>\n       <use xlink:href=\"#ArialMT-41\" x=\"116.699219\"/>\n       <use xlink:href=\"#ArialMT-47\" x=\"183.398438\"/>\n       <use xlink:href=\"#ArialMT-5f\" x=\"261.181641\"/>\n       <use xlink:href=\"#ArialMT-4f\" x=\"316.796875\"/>\n       <use xlink:href=\"#ArialMT-57\" x=\"394.580078\"/>\n       <use xlink:href=\"#ArialMT-4e\" x=\"488.964844\"/>\n       <use xlink:href=\"#ArialMT-5f\" x=\"561.181641\"/>\n       <use xlink:href=\"#ArialMT-52\" x=\"616.796875\"/>\n       <use xlink:href=\"#ArialMT-45\" x=\"689.013672\"/>\n       <use xlink:href=\"#ArialMT-41\" x=\"755.712891\"/>\n       <use xlink:href=\"#ArialMT-4c\" x=\"822.412109\"/>\n       <use xlink:href=\"#ArialMT-54\" x=\"870.652344\"/>\n       <use xlink:href=\"#ArialMT-59\" x=\"931.736328\"/>\n      </g>\n     </g>\n    </g>\n    <g id=\"ytick_2\">\n     <g id=\"line2d_14\">\n      <path d=\"M 152.754687 96.11607 \nL 537.682688 96.11607 \n\" clip-path=\"url(#p3c42d633a0)\" style=\"fill: none; stroke: #ffffff; stroke-width: 0.8; stroke-linecap: round\"/>\n     </g>\n     <g id=\"text_14\">\n      <!-- FLAG_OWN_CAR -->\n      <g style=\"fill: #262626\" transform=\"translate(62.9625 98.765289) scale(0.1 -0.1)\">\n       <use xlink:href=\"#ArialMT-46\"/>\n       <use xlink:href=\"#ArialMT-4c\" x=\"61.083984\"/>\n       <use xlink:href=\"#ArialMT-41\" x=\"116.699219\"/>\n       <use xlink:href=\"#ArialMT-47\" x=\"183.398438\"/>\n       <use xlink:href=\"#ArialMT-5f\" x=\"261.181641\"/>\n       <use xlink:href=\"#ArialMT-4f\" x=\"316.796875\"/>\n       <use xlink:href=\"#ArialMT-57\" x=\"394.580078\"/>\n       <use xlink:href=\"#ArialMT-4e\" x=\"488.964844\"/>\n       <use xlink:href=\"#ArialMT-5f\" x=\"561.181641\"/>\n       <use xlink:href=\"#ArialMT-43\" x=\"616.796875\"/>\n       <use xlink:href=\"#ArialMT-41\" x=\"689.013672\"/>\n       <use xlink:href=\"#ArialMT-52\" x=\"755.712891\"/>\n      </g>\n     </g>\n    </g>\n    <g id=\"ytick_3\">\n     <g id=\"line2d_15\">\n      <path d=\"M 152.754687 128.193403 \nL 537.682688 128.193403 \n\" clip-path=\"url(#p3c42d633a0)\" style=\"fill: none; stroke: #ffffff; stroke-width: 0.8; stroke-linecap: round\"/>\n     </g>\n     <g id=\"text_15\">\n      <!-- CODE_GENDER -->\n      <g style=\"fill: #262626\" transform=\"translate(68.517187 130.842622) scale(0.1 -0.1)\">\n       <use xlink:href=\"#ArialMT-43\"/>\n       <use xlink:href=\"#ArialMT-4f\" x=\"72.216797\"/>\n       <use xlink:href=\"#ArialMT-44\" x=\"150\"/>\n       <use xlink:href=\"#ArialMT-45\" x=\"222.216797\"/>\n       <use xlink:href=\"#ArialMT-5f\" x=\"288.916016\"/>\n       <use xlink:href=\"#ArialMT-47\" x=\"344.53125\"/>\n       <use xlink:href=\"#ArialMT-45\" x=\"422.314453\"/>\n       <use xlink:href=\"#ArialMT-4e\" x=\"489.013672\"/>\n       <use xlink:href=\"#ArialMT-44\" x=\"561.230469\"/>\n       <use xlink:href=\"#ArialMT-45\" x=\"633.447266\"/>\n       <use xlink:href=\"#ArialMT-52\" x=\"700.146484\"/>\n      </g>\n     </g>\n    </g>\n    <g id=\"ytick_4\">\n     <g id=\"line2d_16\">\n      <path d=\"M 152.754687 160.270737 \nL 537.682688 160.270737 \n\" clip-path=\"url(#p3c42d633a0)\" style=\"fill: none; stroke: #ffffff; stroke-width: 0.8; stroke-linecap: round\"/>\n     </g>\n     <g id=\"text_16\">\n      <!-- FLAG_WORK_PHONE -->\n      <g style=\"fill: #262626\" transform=\"translate(41.84375 162.919955) scale(0.1 -0.1)\">\n       <use xlink:href=\"#ArialMT-46\"/>\n       <use xlink:href=\"#ArialMT-4c\" x=\"61.083984\"/>\n       <use xlink:href=\"#ArialMT-41\" x=\"116.699219\"/>\n       <use xlink:href=\"#ArialMT-47\" x=\"183.398438\"/>\n       <use xlink:href=\"#ArialMT-5f\" x=\"261.181641\"/>\n       <use xlink:href=\"#ArialMT-57\" x=\"316.796875\"/>\n       <use xlink:href=\"#ArialMT-4f\" x=\"411.181641\"/>\n       <use xlink:href=\"#ArialMT-52\" x=\"488.964844\"/>\n       <use xlink:href=\"#ArialMT-4b\" x=\"561.181641\"/>\n       <use xlink:href=\"#ArialMT-5f\" x=\"627.880859\"/>\n       <use xlink:href=\"#ArialMT-50\" x=\"683.496094\"/>\n       <use xlink:href=\"#ArialMT-48\" x=\"750.195312\"/>\n       <use xlink:href=\"#ArialMT-4f\" x=\"822.412109\"/>\n       <use xlink:href=\"#ArialMT-4e\" x=\"900.195312\"/>\n       <use xlink:href=\"#ArialMT-45\" x=\"972.412109\"/>\n      </g>\n     </g>\n    </g>\n    <g id=\"ytick_5\">\n     <g id=\"line2d_17\">\n      <path d=\"M 152.754687 192.34807 \nL 537.682688 192.34807 \n\" clip-path=\"url(#p3c42d633a0)\" style=\"fill: none; stroke: #ffffff; stroke-width: 0.8; stroke-linecap: round\"/>\n     </g>\n     <g id=\"text_17\">\n      <!-- FLAG_PHONE -->\n      <g style=\"fill: #262626\" transform=\"translate(78.514062 194.997289) scale(0.1 -0.1)\">\n       <use xlink:href=\"#ArialMT-46\"/>\n       <use xlink:href=\"#ArialMT-4c\" x=\"61.083984\"/>\n       <use xlink:href=\"#ArialMT-41\" x=\"116.699219\"/>\n       <use xlink:href=\"#ArialMT-47\" x=\"183.398438\"/>\n       <use xlink:href=\"#ArialMT-5f\" x=\"261.181641\"/>\n       <use xlink:href=\"#ArialMT-50\" x=\"316.796875\"/>\n       <use xlink:href=\"#ArialMT-48\" x=\"383.496094\"/>\n       <use xlink:href=\"#ArialMT-4f\" x=\"455.712891\"/>\n       <use xlink:href=\"#ArialMT-4e\" x=\"533.496094\"/>\n       <use xlink:href=\"#ArialMT-45\" x=\"605.712891\"/>\n      </g>\n     </g>\n    </g>\n    <g id=\"ytick_6\">\n     <g id=\"line2d_18\">\n      <path d=\"M 152.754687 224.425403 \nL 537.682688 224.425403 \n\" clip-path=\"url(#p3c42d633a0)\" style=\"fill: none; stroke: #ffffff; stroke-width: 0.8; stroke-linecap: round\"/>\n     </g>\n     <g id=\"text_18\">\n      <!-- FLAG_EMAIL -->\n      <g style=\"fill: #262626\" transform=\"translate(84.067187 227.071497) scale(0.1 -0.1)\">\n       <use xlink:href=\"#ArialMT-46\"/>\n       <use xlink:href=\"#ArialMT-4c\" x=\"61.083984\"/>\n       <use xlink:href=\"#ArialMT-41\" x=\"116.699219\"/>\n       <use xlink:href=\"#ArialMT-47\" x=\"183.398438\"/>\n       <use xlink:href=\"#ArialMT-5f\" x=\"261.181641\"/>\n       <use xlink:href=\"#ArialMT-45\" x=\"316.796875\"/>\n       <use xlink:href=\"#ArialMT-4d\" x=\"383.496094\"/>\n       <use xlink:href=\"#ArialMT-41\" x=\"466.796875\"/>\n       <use xlink:href=\"#ArialMT-49\" x=\"533.496094\"/>\n       <use xlink:href=\"#ArialMT-4c\" x=\"561.279297\"/>\n      </g>\n     </g>\n    </g>\n    <g id=\"ytick_7\">\n     <g id=\"line2d_19\">\n      <path d=\"M 152.754687 256.502737 \nL 537.682688 256.502737 \n\" clip-path=\"url(#p3c42d633a0)\" style=\"fill: none; stroke: #ffffff; stroke-width: 0.8; stroke-linecap: round\"/>\n     </g>\n     <g id=\"text_19\">\n      <!-- CNT_CHILDREN -->\n      <g style=\"fill: #262626\" transform=\"translate(68.523437 259.14883) scale(0.1 -0.1)\">\n       <use xlink:href=\"#ArialMT-43\"/>\n       <use xlink:href=\"#ArialMT-4e\" x=\"72.216797\"/>\n       <use xlink:href=\"#ArialMT-54\" x=\"144.433594\"/>\n       <use xlink:href=\"#ArialMT-5f\" x=\"205.517578\"/>\n       <use xlink:href=\"#ArialMT-43\" x=\"261.132812\"/>\n       <use xlink:href=\"#ArialMT-48\" x=\"333.349609\"/>\n       <use xlink:href=\"#ArialMT-49\" x=\"405.566406\"/>\n       <use xlink:href=\"#ArialMT-4c\" x=\"433.349609\"/>\n       <use xlink:href=\"#ArialMT-44\" x=\"488.964844\"/>\n       <use xlink:href=\"#ArialMT-52\" x=\"561.181641\"/>\n       <use xlink:href=\"#ArialMT-45\" x=\"633.398438\"/>\n       <use xlink:href=\"#ArialMT-4e\" x=\"700.097656\"/>\n      </g>\n     </g>\n    </g>\n    <g id=\"ytick_8\">\n     <g id=\"line2d_20\">\n      <path d=\"M 152.754687 288.58007 \nL 537.682688 288.58007 \n\" clip-path=\"url(#p3c42d633a0)\" style=\"fill: none; stroke: #ffffff; stroke-width: 0.8; stroke-linecap: round\"/>\n     </g>\n     <g id=\"text_20\">\n      <!-- APPLICATION_AGE -->\n      <g style=\"fill: #262626\" transform=\"translate(53.684375 291.229289) scale(0.1 -0.1)\">\n       <use xlink:href=\"#ArialMT-41\"/>\n       <use xlink:href=\"#ArialMT-50\" x=\"66.699219\"/>\n       <use xlink:href=\"#ArialMT-50\" x=\"133.398438\"/>\n       <use xlink:href=\"#ArialMT-4c\" x=\"200.097656\"/>\n       <use xlink:href=\"#ArialMT-49\" x=\"255.712891\"/>\n       <use xlink:href=\"#ArialMT-43\" x=\"283.496094\"/>\n       <use xlink:href=\"#ArialMT-41\" x=\"355.712891\"/>\n       <use xlink:href=\"#ArialMT-54\" x=\"415.037109\"/>\n       <use xlink:href=\"#ArialMT-49\" x=\"476.121094\"/>\n       <use xlink:href=\"#ArialMT-4f\" x=\"503.904297\"/>\n       <use xlink:href=\"#ArialMT-4e\" x=\"581.6875\"/>\n       <use xlink:href=\"#ArialMT-5f\" x=\"653.904297\"/>\n       <use xlink:href=\"#ArialMT-41\" x=\"709.519531\"/>\n       <use xlink:href=\"#ArialMT-47\" x=\"776.21875\"/>\n       <use xlink:href=\"#ArialMT-45\" x=\"854.001953\"/>\n      </g>\n     </g>\n    </g>\n    <g id=\"ytick_9\">\n     <g id=\"line2d_21\">\n      <path d=\"M 152.754687 320.657403 \nL 537.682688 320.657403 \n\" clip-path=\"url(#p3c42d633a0)\" style=\"fill: none; stroke: #ffffff; stroke-width: 0.8; stroke-linecap: round\"/>\n     </g>\n     <g id=\"text_21\">\n      <!-- YEARS_OF_WORKING -->\n      <g style=\"fill: #262626\" transform=\"translate(37.95625 323.306622) scale(0.1 -0.1)\">\n       <use xlink:href=\"#ArialMT-59\"/>\n       <use xlink:href=\"#ArialMT-45\" x=\"66.699219\"/>\n       <use xlink:href=\"#ArialMT-41\" x=\"133.398438\"/>\n       <use xlink:href=\"#ArialMT-52\" x=\"200.097656\"/>\n       <use xlink:href=\"#ArialMT-53\" x=\"272.314453\"/>\n       <use xlink:href=\"#ArialMT-5f\" x=\"339.013672\"/>\n       <use xlink:href=\"#ArialMT-4f\" x=\"394.628906\"/>\n       <use xlink:href=\"#ArialMT-46\" x=\"472.412109\"/>\n       <use xlink:href=\"#ArialMT-5f\" x=\"533.496094\"/>\n       <use xlink:href=\"#ArialMT-57\" x=\"589.111328\"/>\n       <use xlink:href=\"#ArialMT-4f\" x=\"683.496094\"/>\n       <use xlink:href=\"#ArialMT-52\" x=\"761.279297\"/>\n       <use xlink:href=\"#ArialMT-4b\" x=\"833.496094\"/>\n       <use xlink:href=\"#ArialMT-49\" x=\"900.195312\"/>\n       <use xlink:href=\"#ArialMT-4e\" x=\"927.978516\"/>\n       <use xlink:href=\"#ArialMT-47\" x=\"1000.195312\"/>\n      </g>\n     </g>\n    </g>\n    <g id=\"ytick_10\">\n     <g id=\"line2d_22\">\n      <path d=\"M 152.754687 352.734737 \nL 537.682688 352.734737 \n\" clip-path=\"url(#p3c42d633a0)\" style=\"fill: none; stroke: #ffffff; stroke-width: 0.8; stroke-linecap: round\"/>\n     </g>\n     <g id=\"text_22\">\n      <!-- CNT_FAM_MEMBERS -->\n      <g style=\"fill: #262626\" transform=\"translate(42.960937 355.38083) scale(0.1 -0.1)\">\n       <use xlink:href=\"#ArialMT-43\"/>\n       <use xlink:href=\"#ArialMT-4e\" x=\"72.216797\"/>\n       <use xlink:href=\"#ArialMT-54\" x=\"144.433594\"/>\n       <use xlink:href=\"#ArialMT-5f\" x=\"205.517578\"/>\n       <use xlink:href=\"#ArialMT-46\" x=\"261.132812\"/>\n       <use xlink:href=\"#ArialMT-41\" x=\"316.716797\"/>\n       <use xlink:href=\"#ArialMT-4d\" x=\"383.416016\"/>\n       <use xlink:href=\"#ArialMT-5f\" x=\"466.716797\"/>\n       <use xlink:href=\"#ArialMT-4d\" x=\"522.332031\"/>\n       <use xlink:href=\"#ArialMT-45\" x=\"605.632812\"/>\n       <use xlink:href=\"#ArialMT-4d\" x=\"672.332031\"/>\n       <use xlink:href=\"#ArialMT-42\" x=\"755.632812\"/>\n       <use xlink:href=\"#ArialMT-45\" x=\"822.332031\"/>\n       <use xlink:href=\"#ArialMT-52\" x=\"889.03125\"/>\n       <use xlink:href=\"#ArialMT-53\" x=\"961.248047\"/>\n      </g>\n     </g>\n    </g>\n    <g id=\"ytick_11\">\n     <g id=\"line2d_23\">\n      <path d=\"M 152.754687 384.81207 \nL 537.682688 384.81207 \n\" clip-path=\"url(#p3c42d633a0)\" style=\"fill: none; stroke: #ffffff; stroke-width: 0.8; stroke-linecap: round\"/>\n     </g>\n     <g id=\"text_23\">\n      <!-- AMT_INCOME_TOTAL_zscore -->\n      <g style=\"fill: #262626\" transform=\"translate(7.2 387.461289) scale(0.1 -0.1)\">\n       <use xlink:href=\"#ArialMT-41\"/>\n       <use xlink:href=\"#ArialMT-4d\" x=\"66.699219\"/>\n       <use xlink:href=\"#ArialMT-54\" x=\"150\"/>\n       <use xlink:href=\"#ArialMT-5f\" x=\"211.083984\"/>\n       <use xlink:href=\"#ArialMT-49\" x=\"266.699219\"/>\n       <use xlink:href=\"#ArialMT-4e\" x=\"294.482422\"/>\n       <use xlink:href=\"#ArialMT-43\" x=\"366.699219\"/>\n       <use xlink:href=\"#ArialMT-4f\" x=\"438.916016\"/>\n       <use xlink:href=\"#ArialMT-4d\" x=\"516.699219\"/>\n       <use xlink:href=\"#ArialMT-45\" x=\"600\"/>\n       <use xlink:href=\"#ArialMT-5f\" x=\"666.699219\"/>\n       <use xlink:href=\"#ArialMT-54\" x=\"722.314453\"/>\n       <use xlink:href=\"#ArialMT-4f\" x=\"781.648438\"/>\n       <use xlink:href=\"#ArialMT-54\" x=\"859.431641\"/>\n       <use xlink:href=\"#ArialMT-41\" x=\"913.140625\"/>\n       <use xlink:href=\"#ArialMT-4c\" x=\"979.839844\"/>\n       <use xlink:href=\"#ArialMT-5f\" x=\"1035.455078\"/>\n       <use xlink:href=\"#ArialMT-7a\" x=\"1091.070312\"/>\n       <use xlink:href=\"#ArialMT-73\" x=\"1141.070312\"/>\n       <use xlink:href=\"#ArialMT-63\" x=\"1191.070312\"/>\n       <use xlink:href=\"#ArialMT-6f\" x=\"1241.070312\"/>\n       <use xlink:href=\"#ArialMT-72\" x=\"1296.685547\"/>\n       <use xlink:href=\"#ArialMT-65\" x=\"1329.986328\"/>\n      </g>\n     </g>\n    </g>\n    <g id=\"ytick_12\">\n     <g id=\"line2d_24\">\n      <path d=\"M 152.754687 416.889403 \nL 537.682688 416.889403 \n\" clip-path=\"url(#p3c42d633a0)\" style=\"fill: none; stroke: #ffffff; stroke-width: 0.8; stroke-linecap: round\"/>\n     </g>\n     <g id=\"text_24\">\n      <!-- target -->\n      <g style=\"fill: #262626\" transform=\"translate(120.185937 419.357372) scale(0.1 -0.1)\">\n       <use xlink:href=\"#ArialMT-74\"/>\n       <use xlink:href=\"#ArialMT-61\" x=\"27.783203\"/>\n       <use xlink:href=\"#ArialMT-72\" x=\"83.398438\"/>\n       <use xlink:href=\"#ArialMT-67\" x=\"116.699219\"/>\n       <use xlink:href=\"#ArialMT-65\" x=\"172.314453\"/>\n       <use xlink:href=\"#ArialMT-74\" x=\"227.929688\"/>\n      </g>\n     </g>\n    </g>\n   </g>\n   <g id=\"QuadMesh_1\">\n    <path d=\"M 152.754687 48.00007 \nL 184.832021 48.00007 \nL 184.832021 80.077403 \nL 152.754687 80.077403 \nL 152.754687 48.00007 \n\" clip-path=\"url(#p3c42d633a0)\" style=\"fill: #b40426\"/>\n    <path d=\"M 184.832021 48.00007 \nL 216.909354 48.00007 \nL 216.909354 80.077403 \nL 184.832021 80.077403 \nL 184.832021 48.00007 \n\" clip-path=\"url(#p3c42d633a0)\" style=\"fill: #dddcdc\"/>\n    <path d=\"M 216.909354 48.00007 \nL 248.986687 48.00007 \nL 248.986687 80.077403 \nL 216.909354 80.077403 \nL 216.909354 48.00007 \n\" clip-path=\"url(#p3c42d633a0)\" style=\"fill: #d7dce3\"/>\n    <path d=\"M 248.986687 48.00007 \nL 281.064021 48.00007 \nL 281.064021 80.077403 \nL 248.986687 80.077403 \nL 248.986687 48.00007 \n\" clip-path=\"url(#p3c42d633a0)\" style=\"fill: #bed2f6\"/>\n    <path d=\"M 281.064021 48.00007 \nL 313.141354 48.00007 \nL 313.141354 80.077403 \nL 281.064021 80.077403 \nL 281.064021 48.00007 \n\" clip-path=\"url(#p3c42d633a0)\" style=\"fill: #d4dbe6\"/>\n    <path d=\"M 313.141354 48.00007 \nL 345.218687 48.00007 \nL 345.218687 80.077403 \nL 313.141354 80.077403 \nL 313.141354 48.00007 \n\" clip-path=\"url(#p3c42d633a0)\" style=\"fill: #e4d9d2\"/>\n    <path d=\"M 345.218687 48.00007 \nL 377.296021 48.00007 \nL 377.296021 80.077403 \nL 345.218687 80.077403 \nL 345.218687 48.00007 \n\" clip-path=\"url(#p3c42d633a0)\" style=\"fill: #dfdbd9\"/>\n    <path d=\"M 377.296021 48.00007 \nL 409.373354 48.00007 \nL 409.373354 80.077403 \nL 377.296021 80.077403 \nL 377.296021 48.00007 \n\" clip-path=\"url(#p3c42d633a0)\" style=\"fill: #e8d6cc\"/>\n    <path d=\"M 409.373354 48.00007 \nL 441.450688 48.00007 \nL 441.450688 80.077403 \nL 409.373354 80.077403 \nL 409.373354 48.00007 \n\" clip-path=\"url(#p3c42d633a0)\" style=\"fill: #dedcdb\"/>\n    <path d=\"M 441.450688 48.00007 \nL 473.528021 48.00007 \nL 473.528021 80.077403 \nL 441.450688 80.077403 \nL 441.450688 48.00007 \n\" clip-path=\"url(#p3c42d633a0)\" style=\"fill: #dfdbd9\"/>\n    <path d=\"M 473.528021 48.00007 \nL 505.605354 48.00007 \nL 505.605354 80.077403 \nL 473.528021 80.077403 \nL 473.528021 48.00007 \n\" clip-path=\"url(#p3c42d633a0)\" style=\"fill: #e1dad6\"/>\n    <path d=\"M 505.605354 48.00007 \nL 537.682687 48.00007 \nL 537.682687 80.077403 \nL 505.605354 80.077403 \nL 505.605354 48.00007 \n\" clip-path=\"url(#p3c42d633a0)\" style=\"fill: #dbdcde\"/>\n    <path d=\"M 152.754687 80.077403 \nL 184.832021 80.077403 \nL 184.832021 112.154737 \nL 152.754687 112.154737 \nL 152.754687 80.077403 \n\" clip-path=\"url(#p3c42d633a0)\" style=\"fill: #dddcdc\"/>\n    <path d=\"M 184.832021 80.077403 \nL 216.909354 80.077403 \nL 216.909354 112.154737 \nL 184.832021 112.154737 \nL 184.832021 80.077403 \n\" clip-path=\"url(#p3c42d633a0)\" style=\"fill: #b40426\"/>\n    <path d=\"M 216.909354 80.077403 \nL 248.986687 80.077403 \nL 248.986687 112.154737 \nL 216.909354 112.154737 \nL 216.909354 80.077403 \n\" clip-path=\"url(#p3c42d633a0)\" style=\"fill: #f7b79b\"/>\n    <path d=\"M 248.986687 80.077403 \nL 281.064021 80.077403 \nL 281.064021 112.154737 \nL 248.986687 112.154737 \nL 248.986687 80.077403 \n\" clip-path=\"url(#p3c42d633a0)\" style=\"fill: #d9dce1\"/>\n    <path d=\"M 281.064021 80.077403 \nL 313.141354 80.077403 \nL 313.141354 112.154737 \nL 281.064021 112.154737 \nL 281.064021 80.077403 \n\" clip-path=\"url(#p3c42d633a0)\" style=\"fill: #d9dce1\"/>\n    <path d=\"M 313.141354 80.077403 \nL 345.218687 80.077403 \nL 345.218687 112.154737 \nL 313.141354 112.154737 \nL 313.141354 80.077403 \n\" clip-path=\"url(#p3c42d633a0)\" style=\"fill: #dcdddd\"/>\n    <path d=\"M 345.218687 80.077403 \nL 377.296021 80.077403 \nL 377.296021 112.154737 \nL 345.218687 112.154737 \nL 345.218687 80.077403 \n\" clip-path=\"url(#p3c42d633a0)\" style=\"fill: #e5d8d1\"/>\n    <path d=\"M 377.296021 80.077403 \nL 409.373354 80.077403 \nL 409.373354 112.154737 \nL 377.296021 112.154737 \nL 377.296021 80.077403 \n\" clip-path=\"url(#p3c42d633a0)\" style=\"fill: #d3dbe7\"/>\n    <path d=\"M 409.373354 80.077403 \nL 441.450688 80.077403 \nL 441.450688 112.154737 \nL 409.373354 112.154737 \nL 409.373354 80.077403 \n\" clip-path=\"url(#p3c42d633a0)\" style=\"fill: #d3dbe7\"/>\n    <path d=\"M 441.450688 80.077403 \nL 473.528021 80.077403 \nL 473.528021 112.154737 \nL 441.450688 112.154737 \nL 441.450688 80.077403 \n\" clip-path=\"url(#p3c42d633a0)\" style=\"fill: #ead4c8\"/>\n    <path d=\"M 473.528021 80.077403 \nL 505.605354 80.077403 \nL 505.605354 112.154737 \nL 473.528021 112.154737 \nL 473.528021 80.077403 \n\" clip-path=\"url(#p3c42d633a0)\" style=\"fill: #f2cbb7\"/>\n    <path d=\"M 505.605354 80.077403 \nL 537.682687 80.077403 \nL 537.682687 112.154737 \nL 505.605354 112.154737 \nL 505.605354 80.077403 \n\" clip-path=\"url(#p3c42d633a0)\" style=\"fill: #dcdddd\"/>\n    <path d=\"M 152.754687 112.154737 \nL 184.832021 112.154737 \nL 184.832021 144.23207 \nL 152.754687 144.23207 \nL 152.754687 112.154737 \n\" clip-path=\"url(#p3c42d633a0)\" style=\"fill: #d7dce3\"/>\n    <path d=\"M 184.832021 112.154737 \nL 216.909354 112.154737 \nL 216.909354 144.23207 \nL 184.832021 144.23207 \nL 184.832021 112.154737 \n\" clip-path=\"url(#p3c42d633a0)\" style=\"fill: #f7b79b\"/>\n    <path d=\"M 216.909354 112.154737 \nL 248.986687 112.154737 \nL 248.986687 144.23207 \nL 216.909354 144.23207 \nL 216.909354 112.154737 \n\" clip-path=\"url(#p3c42d633a0)\" style=\"fill: #b40426\"/>\n    <path d=\"M 248.986687 112.154737 \nL 281.064021 112.154737 \nL 281.064021 144.23207 \nL 248.986687 144.23207 \nL 248.986687 112.154737 \n\" clip-path=\"url(#p3c42d633a0)\" style=\"fill: #dedcdb\"/>\n    <path d=\"M 281.064021 112.154737 \nL 313.141354 112.154737 \nL 313.141354 144.23207 \nL 281.064021 144.23207 \nL 281.064021 112.154737 \n\" clip-path=\"url(#p3c42d633a0)\" style=\"fill: #d9dce1\"/>\n    <path d=\"M 313.141354 112.154737 \nL 345.218687 112.154737 \nL 345.218687 144.23207 \nL 313.141354 144.23207 \nL 313.141354 112.154737 \n\" clip-path=\"url(#p3c42d633a0)\" style=\"fill: #d9dce1\"/>\n    <path d=\"M 345.218687 112.154737 \nL 377.296021 112.154737 \nL 377.296021 144.23207 \nL 345.218687 144.23207 \nL 345.218687 112.154737 \n\" clip-path=\"url(#p3c42d633a0)\" style=\"fill: #dfdbd9\"/>\n    <path d=\"M 377.296021 112.154737 \nL 409.373354 112.154737 \nL 409.373354 144.23207 \nL 377.296021 144.23207 \nL 377.296021 112.154737 \n\" clip-path=\"url(#p3c42d633a0)\" style=\"fill: #cedaeb\"/>\n    <path d=\"M 409.373354 112.154737 \nL 441.450688 112.154737 \nL 441.450688 144.23207 \nL 409.373354 144.23207 \nL 409.373354 112.154737 \n\" clip-path=\"url(#p3c42d633a0)\" style=\"fill: #cbd8ee\"/>\n    <path d=\"M 441.450688 112.154737 \nL 473.528021 112.154737 \nL 473.528021 144.23207 \nL 441.450688 144.23207 \nL 441.450688 112.154737 \n\" clip-path=\"url(#p3c42d633a0)\" style=\"fill: #e3d9d3\"/>\n    <path d=\"M 473.528021 112.154737 \nL 505.605354 112.154737 \nL 505.605354 144.23207 \nL 473.528021 144.23207 \nL 473.528021 112.154737 \n\" clip-path=\"url(#p3c42d633a0)\" style=\"fill: #f1ccb8\"/>\n    <path d=\"M 505.605354 112.154737 \nL 537.682687 112.154737 \nL 537.682687 144.23207 \nL 505.605354 144.23207 \nL 505.605354 112.154737 \n\" clip-path=\"url(#p3c42d633a0)\" style=\"fill: #dedcdb\"/>\n    <path d=\"M 152.754687 144.23207 \nL 184.832021 144.23207 \nL 184.832021 176.309403 \nL 152.754687 176.309403 \nL 152.754687 144.23207 \n\" clip-path=\"url(#p3c42d633a0)\" style=\"fill: #bed2f6\"/>\n    <path d=\"M 184.832021 144.23207 \nL 216.909354 144.23207 \nL 216.909354 176.309403 \nL 184.832021 176.309403 \nL 184.832021 144.23207 \n\" clip-path=\"url(#p3c42d633a0)\" style=\"fill: #d9dce1\"/>\n    <path d=\"M 216.909354 144.23207 \nL 248.986687 144.23207 \nL 248.986687 176.309403 \nL 216.909354 176.309403 \nL 216.909354 144.23207 \n\" clip-path=\"url(#p3c42d633a0)\" style=\"fill: #dedcdb\"/>\n    <path d=\"M 248.986687 144.23207 \nL 281.064021 144.23207 \nL 281.064021 176.309403 \nL 248.986687 176.309403 \nL 248.986687 144.23207 \n\" clip-path=\"url(#p3c42d633a0)\" style=\"fill: #b40426\"/>\n    <path d=\"M 281.064021 144.23207 \nL 313.141354 144.23207 \nL 313.141354 176.309403 \nL 281.064021 176.309403 \nL 281.064021 144.23207 \n\" clip-path=\"url(#p3c42d633a0)\" style=\"fill: #f7b194\"/>\n    <path d=\"M 313.141354 144.23207 \nL 345.218687 144.23207 \nL 345.218687 176.309403 \nL 313.141354 176.309403 \nL 313.141354 144.23207 \n\" clip-path=\"url(#p3c42d633a0)\" style=\"fill: #d4dbe6\"/>\n    <path d=\"M 345.218687 144.23207 \nL 377.296021 144.23207 \nL 377.296021 176.309403 \nL 345.218687 176.309403 \nL 345.218687 144.23207 \n\" clip-path=\"url(#p3c42d633a0)\" style=\"fill: #dbdcde\"/>\n    <path d=\"M 377.296021 144.23207 \nL 409.373354 144.23207 \nL 409.373354 176.309403 \nL 377.296021 176.309403 \nL 377.296021 144.23207 \n\" clip-path=\"url(#p3c42d633a0)\" style=\"fill: #d7dce3\"/>\n    <path d=\"M 409.373354 144.23207 \nL 441.450688 144.23207 \nL 441.450688 176.309403 \nL 409.373354 176.309403 \nL 409.373354 144.23207 \n\" clip-path=\"url(#p3c42d633a0)\" style=\"fill: #dedcdb\"/>\n    <path d=\"M 441.450688 144.23207 \nL 473.528021 144.23207 \nL 473.528021 176.309403 \nL 441.450688 176.309403 \nL 441.450688 144.23207 \n\" clip-path=\"url(#p3c42d633a0)\" style=\"fill: #dddcdc\"/>\n    <path d=\"M 473.528021 144.23207 \nL 505.605354 144.23207 \nL 505.605354 176.309403 \nL 473.528021 176.309403 \nL 473.528021 144.23207 \n\" clip-path=\"url(#p3c42d633a0)\" style=\"fill: #d1dae9\"/>\n    <path d=\"M 505.605354 144.23207 \nL 537.682687 144.23207 \nL 537.682687 176.309403 \nL 505.605354 176.309403 \nL 505.605354 144.23207 \n\" clip-path=\"url(#p3c42d633a0)\" style=\"fill: #dcdddd\"/>\n    <path d=\"M 152.754687 176.309403 \nL 184.832021 176.309403 \nL 184.832021 208.386737 \nL 152.754687 208.386737 \nL 152.754687 176.309403 \n\" clip-path=\"url(#p3c42d633a0)\" style=\"fill: #d4dbe6\"/>\n    <path d=\"M 184.832021 176.309403 \nL 216.909354 176.309403 \nL 216.909354 208.386737 \nL 184.832021 208.386737 \nL 184.832021 176.309403 \n\" clip-path=\"url(#p3c42d633a0)\" style=\"fill: #d9dce1\"/>\n    <path d=\"M 216.909354 176.309403 \nL 248.986687 176.309403 \nL 248.986687 208.386737 \nL 216.909354 208.386737 \nL 216.909354 176.309403 \n\" clip-path=\"url(#p3c42d633a0)\" style=\"fill: #d9dce1\"/>\n    <path d=\"M 248.986687 176.309403 \nL 281.064021 176.309403 \nL 281.064021 208.386737 \nL 248.986687 208.386737 \nL 248.986687 176.309403 \n\" clip-path=\"url(#p3c42d633a0)\" style=\"fill: #f7b194\"/>\n    <path d=\"M 281.064021 176.309403 \nL 313.141354 176.309403 \nL 313.141354 208.386737 \nL 281.064021 208.386737 \nL 281.064021 176.309403 \n\" clip-path=\"url(#p3c42d633a0)\" style=\"fill: #b40426\"/>\n    <path d=\"M 313.141354 176.309403 \nL 345.218687 176.309403 \nL 345.218687 208.386737 \nL 313.141354 208.386737 \nL 313.141354 176.309403 \n\" clip-path=\"url(#p3c42d633a0)\" style=\"fill: #dedcdb\"/>\n    <path d=\"M 345.218687 176.309403 \nL 377.296021 176.309403 \nL 377.296021 208.386737 \nL 345.218687 208.386737 \nL 345.218687 176.309403 \n\" clip-path=\"url(#p3c42d633a0)\" style=\"fill: #dadce0\"/>\n    <path d=\"M 377.296021 176.309403 \nL 409.373354 176.309403 \nL 409.373354 208.386737 \nL 377.296021 208.386737 \nL 377.296021 176.309403 \n\" clip-path=\"url(#p3c42d633a0)\" style=\"fill: #e0dbd8\"/>\n    <path d=\"M 409.373354 176.309403 \nL 441.450688 176.309403 \nL 441.450688 208.386737 \nL 409.373354 208.386737 \nL 409.373354 176.309403 \n\" clip-path=\"url(#p3c42d633a0)\" style=\"fill: #e2dad5\"/>\n    <path d=\"M 441.450688 176.309403 \nL 473.528021 176.309403 \nL 473.528021 208.386737 \nL 441.450688 208.386737 \nL 441.450688 176.309403 \n\" clip-path=\"url(#p3c42d633a0)\" style=\"fill: #dbdcde\"/>\n    <path d=\"M 473.528021 176.309403 \nL 505.605354 176.309403 \nL 505.605354 208.386737 \nL 473.528021 208.386737 \nL 473.528021 176.309403 \n\" clip-path=\"url(#p3c42d633a0)\" style=\"fill: #dedcdb\"/>\n    <path d=\"M 505.605354 176.309403 \nL 537.682687 176.309403 \nL 537.682687 208.386737 \nL 505.605354 208.386737 \nL 505.605354 176.309403 \n\" clip-path=\"url(#p3c42d633a0)\" style=\"fill: #dedcdb\"/>\n    <path d=\"M 152.754687 208.386737 \nL 184.832021 208.386737 \nL 184.832021 240.46407 \nL 152.754687 240.46407 \nL 152.754687 208.386737 \n\" clip-path=\"url(#p3c42d633a0)\" style=\"fill: #e4d9d2\"/>\n    <path d=\"M 184.832021 208.386737 \nL 216.909354 208.386737 \nL 216.909354 240.46407 \nL 184.832021 240.46407 \nL 184.832021 208.386737 \n\" clip-path=\"url(#p3c42d633a0)\" style=\"fill: #dcdddd\"/>\n    <path d=\"M 216.909354 208.386737 \nL 248.986687 208.386737 \nL 248.986687 240.46407 \nL 216.909354 240.46407 \nL 216.909354 208.386737 \n\" clip-path=\"url(#p3c42d633a0)\" style=\"fill: #d9dce1\"/>\n    <path d=\"M 248.986687 208.386737 \nL 281.064021 208.386737 \nL 281.064021 240.46407 \nL 248.986687 240.46407 \nL 248.986687 208.386737 \n\" clip-path=\"url(#p3c42d633a0)\" style=\"fill: #d4dbe6\"/>\n    <path d=\"M 281.064021 208.386737 \nL 313.141354 208.386737 \nL 313.141354 240.46407 \nL 281.064021 240.46407 \nL 281.064021 208.386737 \n\" clip-path=\"url(#p3c42d633a0)\" style=\"fill: #dedcdb\"/>\n    <path d=\"M 313.141354 208.386737 \nL 345.218687 208.386737 \nL 345.218687 240.46407 \nL 313.141354 240.46407 \nL 313.141354 208.386737 \n\" clip-path=\"url(#p3c42d633a0)\" style=\"fill: #b40426\"/>\n    <path d=\"M 345.218687 208.386737 \nL 377.296021 208.386737 \nL 377.296021 240.46407 \nL 345.218687 240.46407 \nL 345.218687 208.386737 \n\" clip-path=\"url(#p3c42d633a0)\" style=\"fill: #dbdcde\"/>\n    <path d=\"M 377.296021 208.386737 \nL 409.373354 208.386737 \nL 409.373354 240.46407 \nL 377.296021 240.46407 \nL 377.296021 208.386737 \n\" clip-path=\"url(#p3c42d633a0)\" style=\"fill: #d4dbe6\"/>\n    <path d=\"M 409.373354 208.386737 \nL 441.450688 208.386737 \nL 441.450688 240.46407 \nL 409.373354 240.46407 \nL 409.373354 208.386737 \n\" clip-path=\"url(#p3c42d633a0)\" style=\"fill: #d7dce3\"/>\n    <path d=\"M 441.450688 208.386737 \nL 473.528021 208.386737 \nL 473.528021 240.46407 \nL 441.450688 240.46407 \nL 441.450688 208.386737 \n\" clip-path=\"url(#p3c42d633a0)\" style=\"fill: #dbdcde\"/>\n    <path d=\"M 473.528021 208.386737 \nL 505.605354 208.386737 \nL 505.605354 240.46407 \nL 473.528021 240.46407 \nL 473.528021 208.386737 \n\" clip-path=\"url(#p3c42d633a0)\" style=\"fill: #e6d7cf\"/>\n    <path d=\"M 505.605354 208.386737 \nL 537.682687 208.386737 \nL 537.682687 240.46407 \nL 505.605354 240.46407 \nL 505.605354 208.386737 \n\" clip-path=\"url(#p3c42d633a0)\" style=\"fill: #dddcdc\"/>\n    <path d=\"M 152.754687 240.46407 \nL 184.832021 240.46407 \nL 184.832021 272.541403 \nL 152.754687 272.541403 \nL 152.754687 240.46407 \n\" clip-path=\"url(#p3c42d633a0)\" style=\"fill: #dfdbd9\"/>\n    <path d=\"M 184.832021 240.46407 \nL 216.909354 240.46407 \nL 216.909354 272.541403 \nL 184.832021 272.541403 \nL 184.832021 240.46407 \n\" clip-path=\"url(#p3c42d633a0)\" style=\"fill: #e5d8d1\"/>\n    <path d=\"M 216.909354 240.46407 \nL 248.986687 240.46407 \nL 248.986687 272.541403 \nL 216.909354 272.541403 \nL 216.909354 240.46407 \n\" clip-path=\"url(#p3c42d633a0)\" style=\"fill: #dfdbd9\"/>\n    <path d=\"M 248.986687 240.46407 \nL 281.064021 240.46407 \nL 281.064021 272.541403 \nL 248.986687 272.541403 \nL 248.986687 240.46407 \n\" clip-path=\"url(#p3c42d633a0)\" style=\"fill: #dbdcde\"/>\n    <path d=\"M 281.064021 240.46407 \nL 313.141354 240.46407 \nL 313.141354 272.541403 \nL 281.064021 272.541403 \nL 281.064021 240.46407 \n\" clip-path=\"url(#p3c42d633a0)\" style=\"fill: #dadce0\"/>\n    <path d=\"M 313.141354 240.46407 \nL 345.218687 240.46407 \nL 345.218687 272.541403 \nL 313.141354 272.541403 \nL 313.141354 240.46407 \n\" clip-path=\"url(#p3c42d633a0)\" style=\"fill: #dbdcde\"/>\n    <path d=\"M 345.218687 240.46407 \nL 377.296021 240.46407 \nL 377.296021 272.541403 \nL 345.218687 272.541403 \nL 345.218687 240.46407 \n\" clip-path=\"url(#p3c42d633a0)\" style=\"fill: #b40426\"/>\n    <path d=\"M 377.296021 240.46407 \nL 409.373354 240.46407 \nL 409.373354 272.541403 \nL 377.296021 272.541403 \nL 377.296021 240.46407 \n\" clip-path=\"url(#p3c42d633a0)\" style=\"fill: #b7cff9\"/>\n    <path d=\"M 409.373354 240.46407 \nL 441.450688 240.46407 \nL 441.450688 272.541403 \nL 409.373354 272.541403 \nL 409.373354 240.46407 \n\" clip-path=\"url(#p3c42d633a0)\" style=\"fill: #d4dbe6\"/>\n    <path d=\"M 441.450688 240.46407 \nL 473.528021 240.46407 \nL 473.528021 272.541403 \nL 441.450688 272.541403 \nL 441.450688 240.46407 \n\" clip-path=\"url(#p3c42d633a0)\" style=\"fill: #c43032\"/>\n    <path d=\"M 473.528021 240.46407 \nL 505.605354 240.46407 \nL 505.605354 272.541403 \nL 473.528021 272.541403 \nL 473.528021 240.46407 \n\" clip-path=\"url(#p3c42d633a0)\" style=\"fill: #dbdcde\"/>\n    <path d=\"M 505.605354 240.46407 \nL 537.682687 240.46407 \nL 537.682687 272.541403 \nL 505.605354 272.541403 \nL 505.605354 240.46407 \n\" clip-path=\"url(#p3c42d633a0)\" style=\"fill: #dcdddd\"/>\n    <path d=\"M 152.754687 272.541403 \nL 184.832021 272.541403 \nL 184.832021 304.618737 \nL 152.754687 304.618737 \nL 152.754687 272.541403 \n\" clip-path=\"url(#p3c42d633a0)\" style=\"fill: #e8d6cc\"/>\n    <path d=\"M 184.832021 272.541403 \nL 216.909354 272.541403 \nL 216.909354 304.618737 \nL 184.832021 304.618737 \nL 184.832021 272.541403 \n\" clip-path=\"url(#p3c42d633a0)\" style=\"fill: #d3dbe7\"/>\n    <path d=\"M 216.909354 272.541403 \nL 248.986687 272.541403 \nL 248.986687 304.618737 \nL 216.909354 304.618737 \nL 216.909354 272.541403 \n\" clip-path=\"url(#p3c42d633a0)\" style=\"fill: #cedaeb\"/>\n    <path d=\"M 248.986687 272.541403 \nL 281.064021 272.541403 \nL 281.064021 304.618737 \nL 248.986687 304.618737 \nL 248.986687 272.541403 \n\" clip-path=\"url(#p3c42d633a0)\" style=\"fill: #d7dce3\"/>\n    <path d=\"M 281.064021 272.541403 \nL 313.141354 272.541403 \nL 313.141354 304.618737 \nL 281.064021 304.618737 \nL 281.064021 272.541403 \n\" clip-path=\"url(#p3c42d633a0)\" style=\"fill: #e0dbd8\"/>\n    <path d=\"M 313.141354 272.541403 \nL 345.218687 272.541403 \nL 345.218687 304.618737 \nL 313.141354 304.618737 \nL 313.141354 272.541403 \n\" clip-path=\"url(#p3c42d633a0)\" style=\"fill: #d4dbe6\"/>\n    <path d=\"M 345.218687 272.541403 \nL 377.296021 272.541403 \nL 377.296021 304.618737 \nL 345.218687 304.618737 \nL 345.218687 272.541403 \n\" clip-path=\"url(#p3c42d633a0)\" style=\"fill: #b7cff9\"/>\n    <path d=\"M 377.296021 272.541403 \nL 409.373354 272.541403 \nL 409.373354 304.618737 \nL 377.296021 304.618737 \nL 377.296021 272.541403 \n\" clip-path=\"url(#p3c42d633a0)\" style=\"fill: #b40426\"/>\n    <path d=\"M 409.373354 272.541403 \nL 441.450688 272.541403 \nL 441.450688 304.618737 \nL 409.373354 304.618737 \nL 409.373354 272.541403 \n\" clip-path=\"url(#p3c42d633a0)\" style=\"fill: #f7b79b\"/>\n    <path d=\"M 441.450688 272.541403 \nL 473.528021 272.541403 \nL 473.528021 304.618737 \nL 441.450688 304.618737 \nL 441.450688 272.541403 \n\" clip-path=\"url(#p3c42d633a0)\" style=\"fill: #bed2f6\"/>\n    <path d=\"M 473.528021 272.541403 \nL 505.605354 272.541403 \nL 505.605354 304.618737 \nL 473.528021 304.618737 \nL 473.528021 272.541403 \n\" clip-path=\"url(#p3c42d633a0)\" style=\"fill: #e4d9d2\"/>\n    <path d=\"M 505.605354 272.541403 \nL 537.682687 272.541403 \nL 537.682687 304.618737 \nL 505.605354 304.618737 \nL 505.605354 272.541403 \n\" clip-path=\"url(#p3c42d633a0)\" style=\"fill: #dcdddd\"/>\n    <path d=\"M 152.754687 304.618737 \nL 184.832021 304.618737 \nL 184.832021 336.69607 \nL 152.754687 336.69607 \nL 152.754687 304.618737 \n\" clip-path=\"url(#p3c42d633a0)\" style=\"fill: #dedcdb\"/>\n    <path d=\"M 184.832021 304.618737 \nL 216.909354 304.618737 \nL 216.909354 336.69607 \nL 184.832021 336.69607 \nL 184.832021 304.618737 \n\" clip-path=\"url(#p3c42d633a0)\" style=\"fill: #d3dbe7\"/>\n    <path d=\"M 216.909354 304.618737 \nL 248.986687 304.618737 \nL 248.986687 336.69607 \nL 216.909354 336.69607 \nL 216.909354 304.618737 \n\" clip-path=\"url(#p3c42d633a0)\" style=\"fill: #cbd8ee\"/>\n    <path d=\"M 248.986687 304.618737 \nL 281.064021 304.618737 \nL 281.064021 336.69607 \nL 248.986687 336.69607 \nL 248.986687 304.618737 \n\" clip-path=\"url(#p3c42d633a0)\" style=\"fill: #dedcdb\"/>\n    <path d=\"M 281.064021 304.618737 \nL 313.141354 304.618737 \nL 313.141354 336.69607 \nL 281.064021 336.69607 \nL 281.064021 304.618737 \n\" clip-path=\"url(#p3c42d633a0)\" style=\"fill: #e2dad5\"/>\n    <path d=\"M 313.141354 304.618737 \nL 345.218687 304.618737 \nL 345.218687 336.69607 \nL 313.141354 336.69607 \nL 313.141354 304.618737 \n\" clip-path=\"url(#p3c42d633a0)\" style=\"fill: #d7dce3\"/>\n    <path d=\"M 345.218687 304.618737 \nL 377.296021 304.618737 \nL 377.296021 336.69607 \nL 345.218687 336.69607 \nL 345.218687 304.618737 \n\" clip-path=\"url(#p3c42d633a0)\" style=\"fill: #d4dbe6\"/>\n    <path d=\"M 377.296021 304.618737 \nL 409.373354 304.618737 \nL 409.373354 336.69607 \nL 377.296021 336.69607 \nL 377.296021 304.618737 \n\" clip-path=\"url(#p3c42d633a0)\" style=\"fill: #f7b79b\"/>\n    <path d=\"M 409.373354 304.618737 \nL 441.450688 304.618737 \nL 441.450688 336.69607 \nL 409.373354 336.69607 \nL 409.373354 304.618737 \n\" clip-path=\"url(#p3c42d633a0)\" style=\"fill: #b40426\"/>\n    <path d=\"M 441.450688 304.618737 \nL 473.528021 304.618737 \nL 473.528021 336.69607 \nL 441.450688 336.69607 \nL 441.450688 304.618737 \n\" clip-path=\"url(#p3c42d633a0)\" style=\"fill: #d6dce4\"/>\n    <path d=\"M 473.528021 304.618737 \nL 505.605354 304.618737 \nL 505.605354 336.69607 \nL 473.528021 336.69607 \nL 473.528021 304.618737 \n\" clip-path=\"url(#p3c42d633a0)\" style=\"fill: #dfdbd9\"/>\n    <path d=\"M 505.605354 304.618737 \nL 537.682687 304.618737 \nL 537.682687 336.69607 \nL 505.605354 336.69607 \nL 505.605354 304.618737 \n\" clip-path=\"url(#p3c42d633a0)\" style=\"fill: #d9dce1\"/>\n    <path d=\"M 152.754687 336.69607 \nL 184.832021 336.69607 \nL 184.832021 368.773403 \nL 152.754687 368.773403 \nL 152.754687 336.69607 \n\" clip-path=\"url(#p3c42d633a0)\" style=\"fill: #dfdbd9\"/>\n    <path d=\"M 184.832021 336.69607 \nL 216.909354 336.69607 \nL 216.909354 368.773403 \nL 184.832021 368.773403 \nL 184.832021 336.69607 \n\" clip-path=\"url(#p3c42d633a0)\" style=\"fill: #ead4c8\"/>\n    <path d=\"M 216.909354 336.69607 \nL 248.986687 336.69607 \nL 248.986687 368.773403 \nL 216.909354 368.773403 \nL 216.909354 336.69607 \n\" clip-path=\"url(#p3c42d633a0)\" style=\"fill: #e3d9d3\"/>\n    <path d=\"M 248.986687 336.69607 \nL 281.064021 336.69607 \nL 281.064021 368.773403 \nL 248.986687 368.773403 \nL 248.986687 336.69607 \n\" clip-path=\"url(#p3c42d633a0)\" style=\"fill: #dddcdc\"/>\n    <path d=\"M 281.064021 336.69607 \nL 313.141354 336.69607 \nL 313.141354 368.773403 \nL 281.064021 368.773403 \nL 281.064021 336.69607 \n\" clip-path=\"url(#p3c42d633a0)\" style=\"fill: #dbdcde\"/>\n    <path d=\"M 313.141354 336.69607 \nL 345.218687 336.69607 \nL 345.218687 368.773403 \nL 313.141354 368.773403 \nL 313.141354 336.69607 \n\" clip-path=\"url(#p3c42d633a0)\" style=\"fill: #dbdcde\"/>\n    <path d=\"M 345.218687 336.69607 \nL 377.296021 336.69607 \nL 377.296021 368.773403 \nL 345.218687 368.773403 \nL 345.218687 336.69607 \n\" clip-path=\"url(#p3c42d633a0)\" style=\"fill: #c43032\"/>\n    <path d=\"M 377.296021 336.69607 \nL 409.373354 336.69607 \nL 409.373354 368.773403 \nL 377.296021 368.773403 \nL 377.296021 336.69607 \n\" clip-path=\"url(#p3c42d633a0)\" style=\"fill: #bed2f6\"/>\n    <path d=\"M 409.373354 336.69607 \nL 441.450688 336.69607 \nL 441.450688 368.773403 \nL 409.373354 368.773403 \nL 409.373354 336.69607 \n\" clip-path=\"url(#p3c42d633a0)\" style=\"fill: #d6dce4\"/>\n    <path d=\"M 441.450688 336.69607 \nL 473.528021 336.69607 \nL 473.528021 368.773403 \nL 441.450688 368.773403 \nL 441.450688 336.69607 \n\" clip-path=\"url(#p3c42d633a0)\" style=\"fill: #b40426\"/>\n    <path d=\"M 473.528021 336.69607 \nL 505.605354 336.69607 \nL 505.605354 368.773403 \nL 473.528021 368.773403 \nL 473.528021 336.69607 \n\" clip-path=\"url(#p3c42d633a0)\" style=\"fill: #d9dce1\"/>\n    <path d=\"M 505.605354 336.69607 \nL 537.682687 336.69607 \nL 537.682687 368.773403 \nL 505.605354 368.773403 \nL 505.605354 336.69607 \n\" clip-path=\"url(#p3c42d633a0)\" style=\"fill: #dbdcde\"/>\n    <path d=\"M 152.754687 368.773403 \nL 184.832021 368.773403 \nL 184.832021 400.850737 \nL 152.754687 400.850737 \nL 152.754687 368.773403 \n\" clip-path=\"url(#p3c42d633a0)\" style=\"fill: #e1dad6\"/>\n    <path d=\"M 184.832021 368.773403 \nL 216.909354 368.773403 \nL 216.909354 400.850737 \nL 184.832021 400.850737 \nL 184.832021 368.773403 \n\" clip-path=\"url(#p3c42d633a0)\" style=\"fill: #f2cbb7\"/>\n    <path d=\"M 216.909354 368.773403 \nL 248.986687 368.773403 \nL 248.986687 400.850737 \nL 216.909354 400.850737 \nL 216.909354 368.773403 \n\" clip-path=\"url(#p3c42d633a0)\" style=\"fill: #f1ccb8\"/>\n    <path d=\"M 248.986687 368.773403 \nL 281.064021 368.773403 \nL 281.064021 400.850737 \nL 248.986687 400.850737 \nL 248.986687 368.773403 \n\" clip-path=\"url(#p3c42d633a0)\" style=\"fill: #d1dae9\"/>\n    <path d=\"M 281.064021 368.773403 \nL 313.141354 368.773403 \nL 313.141354 400.850737 \nL 281.064021 400.850737 \nL 281.064021 368.773403 \n\" clip-path=\"url(#p3c42d633a0)\" style=\"fill: #dedcdb\"/>\n    <path d=\"M 313.141354 368.773403 \nL 345.218687 368.773403 \nL 345.218687 400.850737 \nL 313.141354 400.850737 \nL 313.141354 368.773403 \n\" clip-path=\"url(#p3c42d633a0)\" style=\"fill: #e6d7cf\"/>\n    <path d=\"M 345.218687 368.773403 \nL 377.296021 368.773403 \nL 377.296021 400.850737 \nL 345.218687 400.850737 \nL 345.218687 368.773403 \n\" clip-path=\"url(#p3c42d633a0)\" style=\"fill: #dbdcde\"/>\n    <path d=\"M 377.296021 368.773403 \nL 409.373354 368.773403 \nL 409.373354 400.850737 \nL 377.296021 400.850737 \nL 377.296021 368.773403 \n\" clip-path=\"url(#p3c42d633a0)\" style=\"fill: #e4d9d2\"/>\n    <path d=\"M 409.373354 368.773403 \nL 441.450688 368.773403 \nL 441.450688 400.850737 \nL 409.373354 400.850737 \nL 409.373354 368.773403 \n\" clip-path=\"url(#p3c42d633a0)\" style=\"fill: #dfdbd9\"/>\n    <path d=\"M 441.450688 368.773403 \nL 473.528021 368.773403 \nL 473.528021 400.850737 \nL 441.450688 400.850737 \nL 441.450688 368.773403 \n\" clip-path=\"url(#p3c42d633a0)\" style=\"fill: #d9dce1\"/>\n    <path d=\"M 473.528021 368.773403 \nL 505.605354 368.773403 \nL 505.605354 400.850737 \nL 473.528021 400.850737 \nL 473.528021 368.773403 \n\" clip-path=\"url(#p3c42d633a0)\" style=\"fill: #b40426\"/>\n    <path d=\"M 505.605354 368.773403 \nL 537.682687 368.773403 \nL 537.682687 400.850737 \nL 505.605354 400.850737 \nL 505.605354 368.773403 \n\" clip-path=\"url(#p3c42d633a0)\" style=\"fill: #dddcdc\"/>\n    <path d=\"M 152.754687 400.850737 \nL 184.832021 400.850737 \nL 184.832021 432.92807 \nL 152.754687 432.92807 \nL 152.754687 400.850737 \n\" clip-path=\"url(#p3c42d633a0)\" style=\"fill: #dbdcde\"/>\n    <path d=\"M 184.832021 400.850737 \nL 216.909354 400.850737 \nL 216.909354 432.92807 \nL 184.832021 432.92807 \nL 184.832021 400.850737 \n\" clip-path=\"url(#p3c42d633a0)\" style=\"fill: #dcdddd\"/>\n    <path d=\"M 216.909354 400.850737 \nL 248.986687 400.850737 \nL 248.986687 432.92807 \nL 216.909354 432.92807 \nL 216.909354 400.850737 \n\" clip-path=\"url(#p3c42d633a0)\" style=\"fill: #dedcdb\"/>\n    <path d=\"M 248.986687 400.850737 \nL 281.064021 400.850737 \nL 281.064021 432.92807 \nL 248.986687 432.92807 \nL 248.986687 400.850737 \n\" clip-path=\"url(#p3c42d633a0)\" style=\"fill: #dcdddd\"/>\n    <path d=\"M 281.064021 400.850737 \nL 313.141354 400.850737 \nL 313.141354 432.92807 \nL 281.064021 432.92807 \nL 281.064021 400.850737 \n\" clip-path=\"url(#p3c42d633a0)\" style=\"fill: #dedcdb\"/>\n    <path d=\"M 313.141354 400.850737 \nL 345.218687 400.850737 \nL 345.218687 432.92807 \nL 313.141354 432.92807 \nL 313.141354 400.850737 \n\" clip-path=\"url(#p3c42d633a0)\" style=\"fill: #dddcdc\"/>\n    <path d=\"M 345.218687 400.850737 \nL 377.296021 400.850737 \nL 377.296021 432.92807 \nL 345.218687 432.92807 \nL 345.218687 400.850737 \n\" clip-path=\"url(#p3c42d633a0)\" style=\"fill: #dcdddd\"/>\n    <path d=\"M 377.296021 400.850737 \nL 409.373354 400.850737 \nL 409.373354 432.92807 \nL 377.296021 432.92807 \nL 377.296021 400.850737 \n\" clip-path=\"url(#p3c42d633a0)\" style=\"fill: #dcdddd\"/>\n    <path d=\"M 409.373354 400.850737 \nL 441.450688 400.850737 \nL 441.450688 432.92807 \nL 409.373354 432.92807 \nL 409.373354 400.850737 \n\" clip-path=\"url(#p3c42d633a0)\" style=\"fill: #d9dce1\"/>\n    <path d=\"M 441.450688 400.850737 \nL 473.528021 400.850737 \nL 473.528021 432.92807 \nL 441.450688 432.92807 \nL 441.450688 400.850737 \n\" clip-path=\"url(#p3c42d633a0)\" style=\"fill: #dbdcde\"/>\n    <path d=\"M 473.528021 400.850737 \nL 505.605354 400.850737 \nL 505.605354 432.92807 \nL 473.528021 432.92807 \nL 473.528021 400.850737 \n\" clip-path=\"url(#p3c42d633a0)\" style=\"fill: #dddcdc\"/>\n    <path d=\"M 505.605354 400.850737 \nL 537.682687 400.850737 \nL 537.682687 432.92807 \nL 505.605354 432.92807 \nL 505.605354 400.850737 \n\" clip-path=\"url(#p3c42d633a0)\" style=\"fill: #b40426\"/>\n   </g>\n   <g id=\"text_25\">\n    <!-- 1.000 -->\n    <g style=\"fill: #ffffff\" transform=\"translate(156.282417 66.623893) scale(0.1 -0.1)\">\n     <defs>\n      <path id=\"ArialMT-31\" d=\"M 2384 0 \nL 1822 0 \nL 1822 3584 \nQ 1619 3391 1289 3197 \nQ 959 3003 697 2906 \nL 697 3450 \nQ 1169 3672 1522 3987 \nQ 1875 4303 2022 4600 \nL 2384 4600 \nL 2384 0 \nz\n\" transform=\"scale(0.015625)\"/>\n      <path id=\"ArialMT-2e\" d=\"M 581 0 \nL 581 641 \nL 1222 641 \nL 1222 0 \nL 581 0 \nz\n\" transform=\"scale(0.015625)\"/>\n      <path id=\"ArialMT-30\" d=\"M 266 2259 \nQ 266 3072 433 3567 \nQ 600 4063 929 4331 \nQ 1259 4600 1759 4600 \nQ 2128 4600 2406 4451 \nQ 2684 4303 2865 4023 \nQ 3047 3744 3150 3342 \nQ 3253 2941 3253 2259 \nQ 3253 1453 3087 958 \nQ 2922 463 2592 192 \nQ 2263 -78 1759 -78 \nQ 1097 -78 719 397 \nQ 266 969 266 2259 \nz\nM 844 2259 \nQ 844 1131 1108 757 \nQ 1372 384 1759 384 \nQ 2147 384 2411 759 \nQ 2675 1134 2675 2259 \nQ 2675 3391 2411 3762 \nQ 2147 4134 1753 4134 \nQ 1366 4134 1134 3806 \nQ 844 3388 844 2259 \nz\n\" transform=\"scale(0.015625)\"/>\n     </defs>\n     <use xlink:href=\"#ArialMT-31\"/>\n     <use xlink:href=\"#ArialMT-2e\" x=\"55.615234\"/>\n     <use xlink:href=\"#ArialMT-30\" x=\"83.398438\"/>\n     <use xlink:href=\"#ArialMT-30\" x=\"139.013672\"/>\n     <use xlink:href=\"#ArialMT-30\" x=\"194.628906\"/>\n    </g>\n   </g>\n   <g id=\"text_26\">\n    <!-- 0.005 -->\n    <g style=\"fill: #262626\" transform=\"translate(188.35975 66.623893) scale(0.1 -0.1)\">\n     <defs>\n      <path id=\"ArialMT-35\" d=\"M 266 1200 \nL 856 1250 \nQ 922 819 1161 601 \nQ 1400 384 1738 384 \nQ 2144 384 2425 690 \nQ 2706 997 2706 1503 \nQ 2706 1984 2436 2262 \nQ 2166 2541 1728 2541 \nQ 1456 2541 1237 2417 \nQ 1019 2294 894 2097 \nL 366 2166 \nL 809 4519 \nL 3088 4519 \nL 3088 3981 \nL 1259 3981 \nL 1013 2750 \nQ 1425 3038 1878 3038 \nQ 2478 3038 2890 2622 \nQ 3303 2206 3303 1553 \nQ 3303 931 2941 478 \nQ 2500 -78 1738 -78 \nQ 1113 -78 717 272 \nQ 322 622 266 1200 \nz\n\" transform=\"scale(0.015625)\"/>\n     </defs>\n     <use xlink:href=\"#ArialMT-30\"/>\n     <use xlink:href=\"#ArialMT-2e\" x=\"55.615234\"/>\n     <use xlink:href=\"#ArialMT-30\" x=\"83.398438\"/>\n     <use xlink:href=\"#ArialMT-30\" x=\"139.013672\"/>\n     <use xlink:href=\"#ArialMT-35\" x=\"194.628906\"/>\n    </g>\n   </g>\n   <g id=\"text_27\">\n    <!-- -0.038 -->\n    <g style=\"fill: #262626\" transform=\"translate(218.77224 66.623893) scale(0.1 -0.1)\">\n     <defs>\n      <path id=\"ArialMT-2d\" d=\"M 203 1375 \nL 203 1941 \nL 1931 1941 \nL 1931 1375 \nL 203 1375 \nz\n\" transform=\"scale(0.015625)\"/>\n      <path id=\"ArialMT-33\" d=\"M 269 1209 \nL 831 1284 \nQ 928 806 1161 595 \nQ 1394 384 1728 384 \nQ 2125 384 2398 659 \nQ 2672 934 2672 1341 \nQ 2672 1728 2419 1979 \nQ 2166 2231 1775 2231 \nQ 1616 2231 1378 2169 \nL 1441 2663 \nQ 1497 2656 1531 2656 \nQ 1891 2656 2178 2843 \nQ 2466 3031 2466 3422 \nQ 2466 3731 2256 3934 \nQ 2047 4138 1716 4138 \nQ 1388 4138 1169 3931 \nQ 950 3725 888 3313 \nL 325 3413 \nQ 428 3978 793 4289 \nQ 1159 4600 1703 4600 \nQ 2078 4600 2393 4439 \nQ 2709 4278 2876 4000 \nQ 3044 3722 3044 3409 \nQ 3044 3113 2884 2869 \nQ 2725 2625 2413 2481 \nQ 2819 2388 3044 2092 \nQ 3269 1797 3269 1353 \nQ 3269 753 2831 336 \nQ 2394 -81 1725 -81 \nQ 1122 -81 723 278 \nQ 325 638 269 1209 \nz\n\" transform=\"scale(0.015625)\"/>\n      <path id=\"ArialMT-38\" d=\"M 1131 2484 \nQ 781 2613 612 2850 \nQ 444 3088 444 3419 \nQ 444 3919 803 4259 \nQ 1163 4600 1759 4600 \nQ 2359 4600 2725 4251 \nQ 3091 3903 3091 3403 \nQ 3091 3084 2923 2848 \nQ 2756 2613 2416 2484 \nQ 2838 2347 3058 2040 \nQ 3278 1734 3278 1309 \nQ 3278 722 2862 322 \nQ 2447 -78 1769 -78 \nQ 1091 -78 675 323 \nQ 259 725 259 1325 \nQ 259 1772 486 2073 \nQ 713 2375 1131 2484 \nz\nM 1019 3438 \nQ 1019 3113 1228 2906 \nQ 1438 2700 1772 2700 \nQ 2097 2700 2305 2904 \nQ 2513 3109 2513 3406 \nQ 2513 3716 2298 3927 \nQ 2084 4138 1766 4138 \nQ 1444 4138 1231 3931 \nQ 1019 3725 1019 3438 \nz\nM 838 1322 \nQ 838 1081 952 856 \nQ 1066 631 1291 507 \nQ 1516 384 1775 384 \nQ 2178 384 2440 643 \nQ 2703 903 2703 1303 \nQ 2703 1709 2433 1975 \nQ 2163 2241 1756 2241 \nQ 1359 2241 1098 1978 \nQ 838 1716 838 1322 \nz\n\" transform=\"scale(0.015625)\"/>\n     </defs>\n     <use xlink:href=\"#ArialMT-2d\"/>\n     <use xlink:href=\"#ArialMT-30\" x=\"33.300781\"/>\n     <use xlink:href=\"#ArialMT-2e\" x=\"88.916016\"/>\n     <use xlink:href=\"#ArialMT-30\" x=\"116.699219\"/>\n     <use xlink:href=\"#ArialMT-33\" x=\"172.314453\"/>\n     <use xlink:href=\"#ArialMT-38\" x=\"227.929688\"/>\n    </g>\n   </g>\n   <g id=\"text_28\">\n    <!-- -0.209 -->\n    <g style=\"fill: #262626\" transform=\"translate(250.849573 66.623893) scale(0.1 -0.1)\">\n     <defs>\n      <path id=\"ArialMT-32\" d=\"M 3222 541 \nL 3222 0 \nL 194 0 \nQ 188 203 259 391 \nQ 375 700 629 1000 \nQ 884 1300 1366 1694 \nQ 2113 2306 2375 2664 \nQ 2638 3022 2638 3341 \nQ 2638 3675 2398 3904 \nQ 2159 4134 1775 4134 \nQ 1369 4134 1125 3890 \nQ 881 3647 878 3216 \nL 300 3275 \nQ 359 3922 746 4261 \nQ 1134 4600 1788 4600 \nQ 2447 4600 2831 4234 \nQ 3216 3869 3216 3328 \nQ 3216 3053 3103 2787 \nQ 2991 2522 2730 2228 \nQ 2469 1934 1863 1422 \nQ 1356 997 1212 845 \nQ 1069 694 975 541 \nL 3222 541 \nz\n\" transform=\"scale(0.015625)\"/>\n      <path id=\"ArialMT-39\" d=\"M 350 1059 \nL 891 1109 \nQ 959 728 1153 556 \nQ 1347 384 1650 384 \nQ 1909 384 2104 503 \nQ 2300 622 2425 820 \nQ 2550 1019 2634 1356 \nQ 2719 1694 2719 2044 \nQ 2719 2081 2716 2156 \nQ 2547 1888 2255 1720 \nQ 1963 1553 1622 1553 \nQ 1053 1553 659 1965 \nQ 266 2378 266 3053 \nQ 266 3750 677 4175 \nQ 1088 4600 1706 4600 \nQ 2153 4600 2523 4359 \nQ 2894 4119 3086 3673 \nQ 3278 3228 3278 2384 \nQ 3278 1506 3087 986 \nQ 2897 466 2520 194 \nQ 2144 -78 1638 -78 \nQ 1100 -78 759 220 \nQ 419 519 350 1059 \nz\nM 2653 3081 \nQ 2653 3566 2395 3850 \nQ 2138 4134 1775 4134 \nQ 1400 4134 1122 3828 \nQ 844 3522 844 3034 \nQ 844 2597 1108 2323 \nQ 1372 2050 1759 2050 \nQ 2150 2050 2401 2323 \nQ 2653 2597 2653 3081 \nz\n\" transform=\"scale(0.015625)\"/>\n     </defs>\n     <use xlink:href=\"#ArialMT-2d\"/>\n     <use xlink:href=\"#ArialMT-30\" x=\"33.300781\"/>\n     <use xlink:href=\"#ArialMT-2e\" x=\"88.916016\"/>\n     <use xlink:href=\"#ArialMT-32\" x=\"116.699219\"/>\n     <use xlink:href=\"#ArialMT-30\" x=\"172.314453\"/>\n     <use xlink:href=\"#ArialMT-39\" x=\"227.929688\"/>\n    </g>\n   </g>\n   <g id=\"text_29\">\n    <!-- -0.064 -->\n    <g style=\"fill: #262626\" transform=\"translate(282.926906 66.623893) scale(0.1 -0.1)\">\n     <defs>\n      <path id=\"ArialMT-36\" d=\"M 3184 3459 \nL 2625 3416 \nQ 2550 3747 2413 3897 \nQ 2184 4138 1850 4138 \nQ 1581 4138 1378 3988 \nQ 1113 3794 959 3422 \nQ 806 3050 800 2363 \nQ 1003 2672 1297 2822 \nQ 1591 2972 1913 2972 \nQ 2475 2972 2870 2558 \nQ 3266 2144 3266 1488 \nQ 3266 1056 3080 686 \nQ 2894 316 2569 119 \nQ 2244 -78 1831 -78 \nQ 1128 -78 684 439 \nQ 241 956 241 2144 \nQ 241 3472 731 4075 \nQ 1159 4600 1884 4600 \nQ 2425 4600 2770 4297 \nQ 3116 3994 3184 3459 \nz\nM 888 1484 \nQ 888 1194 1011 928 \nQ 1134 663 1356 523 \nQ 1578 384 1822 384 \nQ 2178 384 2434 671 \nQ 2691 959 2691 1453 \nQ 2691 1928 2437 2201 \nQ 2184 2475 1800 2475 \nQ 1419 2475 1153 2201 \nQ 888 1928 888 1484 \nz\n\" transform=\"scale(0.015625)\"/>\n      <path id=\"ArialMT-34\" d=\"M 2069 0 \nL 2069 1097 \nL 81 1097 \nL 81 1613 \nL 2172 4581 \nL 2631 4581 \nL 2631 1613 \nL 3250 1613 \nL 3250 1097 \nL 2631 1097 \nL 2631 0 \nL 2069 0 \nz\nM 2069 1613 \nL 2069 3678 \nL 634 1613 \nL 2069 1613 \nz\n\" transform=\"scale(0.015625)\"/>\n     </defs>\n     <use xlink:href=\"#ArialMT-2d\"/>\n     <use xlink:href=\"#ArialMT-30\" x=\"33.300781\"/>\n     <use xlink:href=\"#ArialMT-2e\" x=\"88.916016\"/>\n     <use xlink:href=\"#ArialMT-30\" x=\"116.699219\"/>\n     <use xlink:href=\"#ArialMT-36\" x=\"172.314453\"/>\n     <use xlink:href=\"#ArialMT-34\" x=\"227.929688\"/>\n    </g>\n   </g>\n   <g id=\"text_30\">\n    <!-- 0.061 -->\n    <g style=\"fill: #262626\" transform=\"translate(316.669083 66.623893) scale(0.1 -0.1)\">\n     <use xlink:href=\"#ArialMT-30\"/>\n     <use xlink:href=\"#ArialMT-2e\" x=\"55.615234\"/>\n     <use xlink:href=\"#ArialMT-30\" x=\"83.398438\"/>\n     <use xlink:href=\"#ArialMT-36\" x=\"139.013672\"/>\n     <use xlink:href=\"#ArialMT-31\" x=\"194.628906\"/>\n    </g>\n   </g>\n   <g id=\"text_31\">\n    <!-- 0.022 -->\n    <g style=\"fill: #262626\" transform=\"translate(348.746417 66.623893) scale(0.1 -0.1)\">\n     <use xlink:href=\"#ArialMT-30\"/>\n     <use xlink:href=\"#ArialMT-2e\" x=\"55.615234\"/>\n     <use xlink:href=\"#ArialMT-30\" x=\"83.398438\"/>\n     <use xlink:href=\"#ArialMT-32\" x=\"139.013672\"/>\n     <use xlink:href=\"#ArialMT-32\" x=\"194.628906\"/>\n    </g>\n   </g>\n   <g id=\"text_32\">\n    <!-- 0.091 -->\n    <g style=\"fill: #262626\" transform=\"translate(380.82375 66.623893) scale(0.1 -0.1)\">\n     <use xlink:href=\"#ArialMT-30\"/>\n     <use xlink:href=\"#ArialMT-2e\" x=\"55.615234\"/>\n     <use xlink:href=\"#ArialMT-30\" x=\"83.398438\"/>\n     <use xlink:href=\"#ArialMT-39\" x=\"139.013672\"/>\n     <use xlink:href=\"#ArialMT-31\" x=\"194.628906\"/>\n    </g>\n   </g>\n   <g id=\"text_33\">\n    <!-- 0.009 -->\n    <g style=\"fill: #262626\" transform=\"translate(412.901083 66.623893) scale(0.1 -0.1)\">\n     <use xlink:href=\"#ArialMT-30\"/>\n     <use xlink:href=\"#ArialMT-2e\" x=\"55.615234\"/>\n     <use xlink:href=\"#ArialMT-30\" x=\"83.398438\"/>\n     <use xlink:href=\"#ArialMT-30\" x=\"139.013672\"/>\n     <use xlink:href=\"#ArialMT-39\" x=\"194.628906\"/>\n    </g>\n   </g>\n   <g id=\"text_34\">\n    <!-- 0.020 -->\n    <g style=\"fill: #262626\" transform=\"translate(444.978417 66.623893) scale(0.1 -0.1)\">\n     <use xlink:href=\"#ArialMT-30\"/>\n     <use xlink:href=\"#ArialMT-2e\" x=\"55.615234\"/>\n     <use xlink:href=\"#ArialMT-30\" x=\"83.398438\"/>\n     <use xlink:href=\"#ArialMT-32\" x=\"139.013672\"/>\n     <use xlink:href=\"#ArialMT-30\" x=\"194.628906\"/>\n    </g>\n   </g>\n   <g id=\"text_35\">\n    <!-- 0.035 -->\n    <g style=\"fill: #262626\" transform=\"translate(477.05575 66.623893) scale(0.1 -0.1)\">\n     <use xlink:href=\"#ArialMT-30\"/>\n     <use xlink:href=\"#ArialMT-2e\" x=\"55.615234\"/>\n     <use xlink:href=\"#ArialMT-30\" x=\"83.398438\"/>\n     <use xlink:href=\"#ArialMT-33\" x=\"139.013672\"/>\n     <use xlink:href=\"#ArialMT-35\" x=\"194.628906\"/>\n    </g>\n   </g>\n   <g id=\"text_36\">\n    <!-- -0.010 -->\n    <g style=\"fill: #262626\" transform=\"translate(507.46824 66.623893) scale(0.1 -0.1)\">\n     <use xlink:href=\"#ArialMT-2d\"/>\n     <use xlink:href=\"#ArialMT-30\" x=\"33.300781\"/>\n     <use xlink:href=\"#ArialMT-2e\" x=\"88.916016\"/>\n     <use xlink:href=\"#ArialMT-30\" x=\"116.699219\"/>\n     <use xlink:href=\"#ArialMT-31\" x=\"172.314453\"/>\n     <use xlink:href=\"#ArialMT-30\" x=\"227.929688\"/>\n    </g>\n   </g>\n   <g id=\"text_37\">\n    <!-- 0.005 -->\n    <g style=\"fill: #262626\" transform=\"translate(156.282417 98.701226) scale(0.1 -0.1)\">\n     <use xlink:href=\"#ArialMT-30\"/>\n     <use xlink:href=\"#ArialMT-2e\" x=\"55.615234\"/>\n     <use xlink:href=\"#ArialMT-30\" x=\"83.398438\"/>\n     <use xlink:href=\"#ArialMT-30\" x=\"139.013672\"/>\n     <use xlink:href=\"#ArialMT-35\" x=\"194.628906\"/>\n    </g>\n   </g>\n   <g id=\"text_38\">\n    <!-- 1.000 -->\n    <g style=\"fill: #ffffff\" transform=\"translate(188.35975 98.701226) scale(0.1 -0.1)\">\n     <use xlink:href=\"#ArialMT-31\"/>\n     <use xlink:href=\"#ArialMT-2e\" x=\"55.615234\"/>\n     <use xlink:href=\"#ArialMT-30\" x=\"83.398438\"/>\n     <use xlink:href=\"#ArialMT-30\" x=\"139.013672\"/>\n     <use xlink:href=\"#ArialMT-30\" x=\"194.628906\"/>\n    </g>\n   </g>\n   <g id=\"text_39\">\n    <!-- 0.341 -->\n    <g style=\"fill: #262626\" transform=\"translate(220.437083 98.701226) scale(0.1 -0.1)\">\n     <use xlink:href=\"#ArialMT-30\"/>\n     <use xlink:href=\"#ArialMT-2e\" x=\"55.615234\"/>\n     <use xlink:href=\"#ArialMT-33\" x=\"83.398438\"/>\n     <use xlink:href=\"#ArialMT-34\" x=\"139.013672\"/>\n     <use xlink:href=\"#ArialMT-31\" x=\"194.628906\"/>\n    </g>\n   </g>\n   <g id=\"text_40\">\n    <!-- -0.023 -->\n    <g style=\"fill: #262626\" transform=\"translate(250.849573 98.701226) scale(0.1 -0.1)\">\n     <use xlink:href=\"#ArialMT-2d\"/>\n     <use xlink:href=\"#ArialMT-30\" x=\"33.300781\"/>\n     <use xlink:href=\"#ArialMT-2e\" x=\"88.916016\"/>\n     <use xlink:href=\"#ArialMT-30\" x=\"116.699219\"/>\n     <use xlink:href=\"#ArialMT-32\" x=\"172.314453\"/>\n     <use xlink:href=\"#ArialMT-33\" x=\"227.929688\"/>\n    </g>\n   </g>\n   <g id=\"text_41\">\n    <!-- -0.025 -->\n    <g style=\"fill: #262626\" transform=\"translate(282.926906 98.701226) scale(0.1 -0.1)\">\n     <use xlink:href=\"#ArialMT-2d\"/>\n     <use xlink:href=\"#ArialMT-30\" x=\"33.300781\"/>\n     <use xlink:href=\"#ArialMT-2e\" x=\"88.916016\"/>\n     <use xlink:href=\"#ArialMT-30\" x=\"116.699219\"/>\n     <use xlink:href=\"#ArialMT-32\" x=\"172.314453\"/>\n     <use xlink:href=\"#ArialMT-35\" x=\"227.929688\"/>\n    </g>\n   </g>\n   <g id=\"text_42\">\n    <!-- 0.000 -->\n    <g style=\"fill: #262626\" transform=\"translate(316.669083 98.701226) scale(0.1 -0.1)\">\n     <use xlink:href=\"#ArialMT-30\"/>\n     <use xlink:href=\"#ArialMT-2e\" x=\"55.615234\"/>\n     <use xlink:href=\"#ArialMT-30\" x=\"83.398438\"/>\n     <use xlink:href=\"#ArialMT-30\" x=\"139.013672\"/>\n     <use xlink:href=\"#ArialMT-30\" x=\"194.628906\"/>\n    </g>\n   </g>\n   <g id=\"text_43\">\n    <!-- 0.069 -->\n    <g style=\"fill: #262626\" transform=\"translate(348.746417 98.701226) scale(0.1 -0.1)\">\n     <use xlink:href=\"#ArialMT-30\"/>\n     <use xlink:href=\"#ArialMT-2e\" x=\"55.615234\"/>\n     <use xlink:href=\"#ArialMT-30\" x=\"83.398438\"/>\n     <use xlink:href=\"#ArialMT-36\" x=\"139.013672\"/>\n     <use xlink:href=\"#ArialMT-39\" x=\"194.628906\"/>\n    </g>\n   </g>\n   <g id=\"text_44\">\n    <!-- -0.072 -->\n    <g style=\"fill: #262626\" transform=\"translate(379.158906 98.701226) scale(0.1 -0.1)\">\n     <defs>\n      <path id=\"ArialMT-37\" d=\"M 303 3981 \nL 303 4522 \nL 3269 4522 \nL 3269 4084 \nQ 2831 3619 2401 2847 \nQ 1972 2075 1738 1259 \nQ 1569 684 1522 0 \nL 944 0 \nQ 953 541 1156 1306 \nQ 1359 2072 1739 2783 \nQ 2119 3494 2547 3981 \nL 303 3981 \nz\n\" transform=\"scale(0.015625)\"/>\n     </defs>\n     <use xlink:href=\"#ArialMT-2d\"/>\n     <use xlink:href=\"#ArialMT-30\" x=\"33.300781\"/>\n     <use xlink:href=\"#ArialMT-2e\" x=\"88.916016\"/>\n     <use xlink:href=\"#ArialMT-30\" x=\"116.699219\"/>\n     <use xlink:href=\"#ArialMT-37\" x=\"172.314453\"/>\n     <use xlink:href=\"#ArialMT-32\" x=\"227.929688\"/>\n    </g>\n   </g>\n   <g id=\"text_45\">\n    <!-- -0.071 -->\n    <g style=\"fill: #262626\" transform=\"translate(411.23624 98.701226) scale(0.1 -0.1)\">\n     <use xlink:href=\"#ArialMT-2d\"/>\n     <use xlink:href=\"#ArialMT-30\" x=\"33.300781\"/>\n     <use xlink:href=\"#ArialMT-2e\" x=\"88.916016\"/>\n     <use xlink:href=\"#ArialMT-30\" x=\"116.699219\"/>\n     <use xlink:href=\"#ArialMT-37\" x=\"172.314453\"/>\n     <use xlink:href=\"#ArialMT-31\" x=\"227.929688\"/>\n    </g>\n   </g>\n   <g id=\"text_46\">\n    <!-- 0.113 -->\n    <g style=\"fill: #262626\" transform=\"translate(445.347167 98.701226) scale(0.1 -0.1)\">\n     <use xlink:href=\"#ArialMT-30\"/>\n     <use xlink:href=\"#ArialMT-2e\" x=\"55.615234\"/>\n     <use xlink:href=\"#ArialMT-31\" x=\"83.398438\"/>\n     <use xlink:href=\"#ArialMT-31\" x=\"131.638672\"/>\n     <use xlink:href=\"#ArialMT-33\" x=\"187.253906\"/>\n    </g>\n   </g>\n   <g id=\"text_47\">\n    <!-- 0.198 -->\n    <g style=\"fill: #262626\" transform=\"translate(477.05575 98.701226) scale(0.1 -0.1)\">\n     <use xlink:href=\"#ArialMT-30\"/>\n     <use xlink:href=\"#ArialMT-2e\" x=\"55.615234\"/>\n     <use xlink:href=\"#ArialMT-31\" x=\"83.398438\"/>\n     <use xlink:href=\"#ArialMT-39\" x=\"139.013672\"/>\n     <use xlink:href=\"#ArialMT-38\" x=\"194.628906\"/>\n    </g>\n   </g>\n   <g id=\"text_48\">\n    <!-- -0.001 -->\n    <g style=\"fill: #262626\" transform=\"translate(507.46824 98.701226) scale(0.1 -0.1)\">\n     <use xlink:href=\"#ArialMT-2d\"/>\n     <use xlink:href=\"#ArialMT-30\" x=\"33.300781\"/>\n     <use xlink:href=\"#ArialMT-2e\" x=\"88.916016\"/>\n     <use xlink:href=\"#ArialMT-30\" x=\"116.699219\"/>\n     <use xlink:href=\"#ArialMT-30\" x=\"172.314453\"/>\n     <use xlink:href=\"#ArialMT-31\" x=\"227.929688\"/>\n    </g>\n   </g>\n   <g id=\"text_49\">\n    <!-- -0.038 -->\n    <g style=\"fill: #262626\" transform=\"translate(154.617573 130.77856) scale(0.1 -0.1)\">\n     <use xlink:href=\"#ArialMT-2d\"/>\n     <use xlink:href=\"#ArialMT-30\" x=\"33.300781\"/>\n     <use xlink:href=\"#ArialMT-2e\" x=\"88.916016\"/>\n     <use xlink:href=\"#ArialMT-30\" x=\"116.699219\"/>\n     <use xlink:href=\"#ArialMT-33\" x=\"172.314453\"/>\n     <use xlink:href=\"#ArialMT-38\" x=\"227.929688\"/>\n    </g>\n   </g>\n   <g id=\"text_50\">\n    <!-- 0.341 -->\n    <g style=\"fill: #262626\" transform=\"translate(188.35975 130.77856) scale(0.1 -0.1)\">\n     <use xlink:href=\"#ArialMT-30\"/>\n     <use xlink:href=\"#ArialMT-2e\" x=\"55.615234\"/>\n     <use xlink:href=\"#ArialMT-33\" x=\"83.398438\"/>\n     <use xlink:href=\"#ArialMT-34\" x=\"139.013672\"/>\n     <use xlink:href=\"#ArialMT-31\" x=\"194.628906\"/>\n    </g>\n   </g>\n   <g id=\"text_51\">\n    <!-- 1.000 -->\n    <g style=\"fill: #ffffff\" transform=\"translate(220.437083 130.77856) scale(0.1 -0.1)\">\n     <use xlink:href=\"#ArialMT-31\"/>\n     <use xlink:href=\"#ArialMT-2e\" x=\"55.615234\"/>\n     <use xlink:href=\"#ArialMT-30\" x=\"83.398438\"/>\n     <use xlink:href=\"#ArialMT-30\" x=\"139.013672\"/>\n     <use xlink:href=\"#ArialMT-30\" x=\"194.628906\"/>\n    </g>\n   </g>\n   <g id=\"text_52\">\n    <!-- 0.015 -->\n    <g style=\"fill: #262626\" transform=\"translate(252.514417 130.77856) scale(0.1 -0.1)\">\n     <use xlink:href=\"#ArialMT-30\"/>\n     <use xlink:href=\"#ArialMT-2e\" x=\"55.615234\"/>\n     <use xlink:href=\"#ArialMT-30\" x=\"83.398438\"/>\n     <use xlink:href=\"#ArialMT-31\" x=\"139.013672\"/>\n     <use xlink:href=\"#ArialMT-35\" x=\"194.628906\"/>\n    </g>\n   </g>\n   <g id=\"text_53\">\n    <!-- -0.024 -->\n    <g style=\"fill: #262626\" transform=\"translate(282.926906 130.77856) scale(0.1 -0.1)\">\n     <use xlink:href=\"#ArialMT-2d\"/>\n     <use xlink:href=\"#ArialMT-30\" x=\"33.300781\"/>\n     <use xlink:href=\"#ArialMT-2e\" x=\"88.916016\"/>\n     <use xlink:href=\"#ArialMT-30\" x=\"116.699219\"/>\n     <use xlink:href=\"#ArialMT-32\" x=\"172.314453\"/>\n     <use xlink:href=\"#ArialMT-34\" x=\"227.929688\"/>\n    </g>\n   </g>\n   <g id=\"text_54\">\n    <!-- -0.021 -->\n    <g style=\"fill: #262626\" transform=\"translate(315.00424 130.77856) scale(0.1 -0.1)\">\n     <use xlink:href=\"#ArialMT-2d\"/>\n     <use xlink:href=\"#ArialMT-30\" x=\"33.300781\"/>\n     <use xlink:href=\"#ArialMT-2e\" x=\"88.916016\"/>\n     <use xlink:href=\"#ArialMT-30\" x=\"116.699219\"/>\n     <use xlink:href=\"#ArialMT-32\" x=\"172.314453\"/>\n     <use xlink:href=\"#ArialMT-31\" x=\"227.929688\"/>\n    </g>\n   </g>\n   <g id=\"text_55\">\n    <!-- 0.020 -->\n    <g style=\"fill: #262626\" transform=\"translate(348.746417 130.77856) scale(0.1 -0.1)\">\n     <use xlink:href=\"#ArialMT-30\"/>\n     <use xlink:href=\"#ArialMT-2e\" x=\"55.615234\"/>\n     <use xlink:href=\"#ArialMT-30\" x=\"83.398438\"/>\n     <use xlink:href=\"#ArialMT-32\" x=\"139.013672\"/>\n     <use xlink:href=\"#ArialMT-30\" x=\"194.628906\"/>\n    </g>\n   </g>\n   <g id=\"text_56\">\n    <!-- -0.108 -->\n    <g style=\"fill: #262626\" transform=\"translate(379.158906 130.77856) scale(0.1 -0.1)\">\n     <use xlink:href=\"#ArialMT-2d\"/>\n     <use xlink:href=\"#ArialMT-30\" x=\"33.300781\"/>\n     <use xlink:href=\"#ArialMT-2e\" x=\"88.916016\"/>\n     <use xlink:href=\"#ArialMT-31\" x=\"116.699219\"/>\n     <use xlink:href=\"#ArialMT-30\" x=\"172.314453\"/>\n     <use xlink:href=\"#ArialMT-38\" x=\"227.929688\"/>\n    </g>\n   </g>\n   <g id=\"text_57\">\n    <!-- -0.127 -->\n    <g style=\"fill: #262626\" transform=\"translate(411.23624 130.77856) scale(0.1 -0.1)\">\n     <use xlink:href=\"#ArialMT-2d\"/>\n     <use xlink:href=\"#ArialMT-30\" x=\"33.300781\"/>\n     <use xlink:href=\"#ArialMT-2e\" x=\"88.916016\"/>\n     <use xlink:href=\"#ArialMT-31\" x=\"116.699219\"/>\n     <use xlink:href=\"#ArialMT-32\" x=\"172.314453\"/>\n     <use xlink:href=\"#ArialMT-37\" x=\"227.929688\"/>\n    </g>\n   </g>\n   <g id=\"text_58\">\n    <!-- 0.050 -->\n    <g style=\"fill: #262626\" transform=\"translate(444.978417 130.77856) scale(0.1 -0.1)\">\n     <use xlink:href=\"#ArialMT-30\"/>\n     <use xlink:href=\"#ArialMT-2e\" x=\"55.615234\"/>\n     <use xlink:href=\"#ArialMT-30\" x=\"83.398438\"/>\n     <use xlink:href=\"#ArialMT-35\" x=\"139.013672\"/>\n     <use xlink:href=\"#ArialMT-30\" x=\"194.628906\"/>\n    </g>\n   </g>\n   <g id=\"text_59\">\n    <!-- 0.192 -->\n    <g style=\"fill: #262626\" transform=\"translate(477.05575 130.77856) scale(0.1 -0.1)\">\n     <use xlink:href=\"#ArialMT-30\"/>\n     <use xlink:href=\"#ArialMT-2e\" x=\"55.615234\"/>\n     <use xlink:href=\"#ArialMT-31\" x=\"83.398438\"/>\n     <use xlink:href=\"#ArialMT-39\" x=\"139.013672\"/>\n     <use xlink:href=\"#ArialMT-32\" x=\"194.628906\"/>\n    </g>\n   </g>\n   <g id=\"text_60\">\n    <!-- 0.014 -->\n    <g style=\"fill: #262626\" transform=\"translate(509.133083 130.77856) scale(0.1 -0.1)\">\n     <use xlink:href=\"#ArialMT-30\"/>\n     <use xlink:href=\"#ArialMT-2e\" x=\"55.615234\"/>\n     <use xlink:href=\"#ArialMT-30\" x=\"83.398438\"/>\n     <use xlink:href=\"#ArialMT-31\" x=\"139.013672\"/>\n     <use xlink:href=\"#ArialMT-34\" x=\"194.628906\"/>\n    </g>\n   </g>\n   <g id=\"text_61\">\n    <!-- -0.209 -->\n    <g style=\"fill: #262626\" transform=\"translate(154.617573 162.855893) scale(0.1 -0.1)\">\n     <use xlink:href=\"#ArialMT-2d\"/>\n     <use xlink:href=\"#ArialMT-30\" x=\"33.300781\"/>\n     <use xlink:href=\"#ArialMT-2e\" x=\"88.916016\"/>\n     <use xlink:href=\"#ArialMT-32\" x=\"116.699219\"/>\n     <use xlink:href=\"#ArialMT-30\" x=\"172.314453\"/>\n     <use xlink:href=\"#ArialMT-39\" x=\"227.929688\"/>\n    </g>\n   </g>\n   <g id=\"text_62\">\n    <!-- -0.023 -->\n    <g style=\"fill: #262626\" transform=\"translate(186.694906 162.855893) scale(0.1 -0.1)\">\n     <use xlink:href=\"#ArialMT-2d\"/>\n     <use xlink:href=\"#ArialMT-30\" x=\"33.300781\"/>\n     <use xlink:href=\"#ArialMT-2e\" x=\"88.916016\"/>\n     <use xlink:href=\"#ArialMT-30\" x=\"116.699219\"/>\n     <use xlink:href=\"#ArialMT-32\" x=\"172.314453\"/>\n     <use xlink:href=\"#ArialMT-33\" x=\"227.929688\"/>\n    </g>\n   </g>\n   <g id=\"text_63\">\n    <!-- 0.015 -->\n    <g style=\"fill: #262626\" transform=\"translate(220.437083 162.855893) scale(0.1 -0.1)\">\n     <use xlink:href=\"#ArialMT-30\"/>\n     <use xlink:href=\"#ArialMT-2e\" x=\"55.615234\"/>\n     <use xlink:href=\"#ArialMT-30\" x=\"83.398438\"/>\n     <use xlink:href=\"#ArialMT-31\" x=\"139.013672\"/>\n     <use xlink:href=\"#ArialMT-35\" x=\"194.628906\"/>\n    </g>\n   </g>\n   <g id=\"text_64\">\n    <!-- 1.000 -->\n    <g style=\"fill: #ffffff\" transform=\"translate(252.514417 162.855893) scale(0.1 -0.1)\">\n     <use xlink:href=\"#ArialMT-31\"/>\n     <use xlink:href=\"#ArialMT-2e\" x=\"55.615234\"/>\n     <use xlink:href=\"#ArialMT-30\" x=\"83.398438\"/>\n     <use xlink:href=\"#ArialMT-30\" x=\"139.013672\"/>\n     <use xlink:href=\"#ArialMT-30\" x=\"194.628906\"/>\n    </g>\n   </g>\n   <g id=\"text_65\">\n    <!-- 0.370 -->\n    <g style=\"fill: #262626\" transform=\"translate(284.59175 162.855893) scale(0.1 -0.1)\">\n     <use xlink:href=\"#ArialMT-30\"/>\n     <use xlink:href=\"#ArialMT-2e\" x=\"55.615234\"/>\n     <use xlink:href=\"#ArialMT-33\" x=\"83.398438\"/>\n     <use xlink:href=\"#ArialMT-37\" x=\"139.013672\"/>\n     <use xlink:href=\"#ArialMT-30\" x=\"194.628906\"/>\n    </g>\n   </g>\n   <g id=\"text_66\">\n    <!-- -0.067 -->\n    <g style=\"fill: #262626\" transform=\"translate(315.00424 162.855893) scale(0.1 -0.1)\">\n     <use xlink:href=\"#ArialMT-2d\"/>\n     <use xlink:href=\"#ArialMT-30\" x=\"33.300781\"/>\n     <use xlink:href=\"#ArialMT-2e\" x=\"88.916016\"/>\n     <use xlink:href=\"#ArialMT-30\" x=\"116.699219\"/>\n     <use xlink:href=\"#ArialMT-36\" x=\"172.314453\"/>\n     <use xlink:href=\"#ArialMT-37\" x=\"227.929688\"/>\n    </g>\n   </g>\n   <g id=\"text_67\">\n    <!-- -0.010 -->\n    <g style=\"fill: #262626\" transform=\"translate(347.081573 162.855893) scale(0.1 -0.1)\">\n     <use xlink:href=\"#ArialMT-2d\"/>\n     <use xlink:href=\"#ArialMT-30\" x=\"33.300781\"/>\n     <use xlink:href=\"#ArialMT-2e\" x=\"88.916016\"/>\n     <use xlink:href=\"#ArialMT-30\" x=\"116.699219\"/>\n     <use xlink:href=\"#ArialMT-31\" x=\"172.314453\"/>\n     <use xlink:href=\"#ArialMT-30\" x=\"227.929688\"/>\n    </g>\n   </g>\n   <g id=\"text_68\">\n    <!-- -0.039 -->\n    <g style=\"fill: #262626\" transform=\"translate(379.158906 162.855893) scale(0.1 -0.1)\">\n     <use xlink:href=\"#ArialMT-2d\"/>\n     <use xlink:href=\"#ArialMT-30\" x=\"33.300781\"/>\n     <use xlink:href=\"#ArialMT-2e\" x=\"88.916016\"/>\n     <use xlink:href=\"#ArialMT-30\" x=\"116.699219\"/>\n     <use xlink:href=\"#ArialMT-33\" x=\"172.314453\"/>\n     <use xlink:href=\"#ArialMT-39\" x=\"227.929688\"/>\n    </g>\n   </g>\n   <g id=\"text_69\">\n    <!-- 0.012 -->\n    <g style=\"fill: #262626\" transform=\"translate(412.901083 162.855893) scale(0.1 -0.1)\">\n     <use xlink:href=\"#ArialMT-30\"/>\n     <use xlink:href=\"#ArialMT-2e\" x=\"55.615234\"/>\n     <use xlink:href=\"#ArialMT-30\" x=\"83.398438\"/>\n     <use xlink:href=\"#ArialMT-31\" x=\"139.013672\"/>\n     <use xlink:href=\"#ArialMT-32\" x=\"194.628906\"/>\n    </g>\n   </g>\n   <g id=\"text_70\">\n    <!-- 0.008 -->\n    <g style=\"fill: #262626\" transform=\"translate(444.978417 162.855893) scale(0.1 -0.1)\">\n     <use xlink:href=\"#ArialMT-30\"/>\n     <use xlink:href=\"#ArialMT-2e\" x=\"55.615234\"/>\n     <use xlink:href=\"#ArialMT-30\" x=\"83.398438\"/>\n     <use xlink:href=\"#ArialMT-30\" x=\"139.013672\"/>\n     <use xlink:href=\"#ArialMT-38\" x=\"194.628906\"/>\n    </g>\n   </g>\n   <g id=\"text_71\">\n    <!-- -0.090 -->\n    <g style=\"fill: #262626\" transform=\"translate(475.390906 162.855893) scale(0.1 -0.1)\">\n     <use xlink:href=\"#ArialMT-2d\"/>\n     <use xlink:href=\"#ArialMT-30\" x=\"33.300781\"/>\n     <use xlink:href=\"#ArialMT-2e\" x=\"88.916016\"/>\n     <use xlink:href=\"#ArialMT-30\" x=\"116.699219\"/>\n     <use xlink:href=\"#ArialMT-39\" x=\"172.314453\"/>\n     <use xlink:href=\"#ArialMT-30\" x=\"227.929688\"/>\n    </g>\n   </g>\n   <g id=\"text_72\">\n    <!-- 0.002 -->\n    <g style=\"fill: #262626\" transform=\"translate(509.133083 162.855893) scale(0.1 -0.1)\">\n     <use xlink:href=\"#ArialMT-30\"/>\n     <use xlink:href=\"#ArialMT-2e\" x=\"55.615234\"/>\n     <use xlink:href=\"#ArialMT-30\" x=\"83.398438\"/>\n     <use xlink:href=\"#ArialMT-30\" x=\"139.013672\"/>\n     <use xlink:href=\"#ArialMT-32\" x=\"194.628906\"/>\n    </g>\n   </g>\n   <g id=\"text_73\">\n    <!-- -0.064 -->\n    <g style=\"fill: #262626\" transform=\"translate(154.617573 194.933226) scale(0.1 -0.1)\">\n     <use xlink:href=\"#ArialMT-2d\"/>\n     <use xlink:href=\"#ArialMT-30\" x=\"33.300781\"/>\n     <use xlink:href=\"#ArialMT-2e\" x=\"88.916016\"/>\n     <use xlink:href=\"#ArialMT-30\" x=\"116.699219\"/>\n     <use xlink:href=\"#ArialMT-36\" x=\"172.314453\"/>\n     <use xlink:href=\"#ArialMT-34\" x=\"227.929688\"/>\n    </g>\n   </g>\n   <g id=\"text_74\">\n    <!-- -0.025 -->\n    <g style=\"fill: #262626\" transform=\"translate(186.694906 194.933226) scale(0.1 -0.1)\">\n     <use xlink:href=\"#ArialMT-2d\"/>\n     <use xlink:href=\"#ArialMT-30\" x=\"33.300781\"/>\n     <use xlink:href=\"#ArialMT-2e\" x=\"88.916016\"/>\n     <use xlink:href=\"#ArialMT-30\" x=\"116.699219\"/>\n     <use xlink:href=\"#ArialMT-32\" x=\"172.314453\"/>\n     <use xlink:href=\"#ArialMT-35\" x=\"227.929688\"/>\n    </g>\n   </g>\n   <g id=\"text_75\">\n    <!-- -0.024 -->\n    <g style=\"fill: #262626\" transform=\"translate(218.77224 194.933226) scale(0.1 -0.1)\">\n     <use xlink:href=\"#ArialMT-2d\"/>\n     <use xlink:href=\"#ArialMT-30\" x=\"33.300781\"/>\n     <use xlink:href=\"#ArialMT-2e\" x=\"88.916016\"/>\n     <use xlink:href=\"#ArialMT-30\" x=\"116.699219\"/>\n     <use xlink:href=\"#ArialMT-32\" x=\"172.314453\"/>\n     <use xlink:href=\"#ArialMT-34\" x=\"227.929688\"/>\n    </g>\n   </g>\n   <g id=\"text_76\">\n    <!-- 0.370 -->\n    <g style=\"fill: #262626\" transform=\"translate(252.514417 194.933226) scale(0.1 -0.1)\">\n     <use xlink:href=\"#ArialMT-30\"/>\n     <use xlink:href=\"#ArialMT-2e\" x=\"55.615234\"/>\n     <use xlink:href=\"#ArialMT-33\" x=\"83.398438\"/>\n     <use xlink:href=\"#ArialMT-37\" x=\"139.013672\"/>\n     <use xlink:href=\"#ArialMT-30\" x=\"194.628906\"/>\n    </g>\n   </g>\n   <g id=\"text_77\">\n    <!-- 1.000 -->\n    <g style=\"fill: #ffffff\" transform=\"translate(284.59175 194.933226) scale(0.1 -0.1)\">\n     <use xlink:href=\"#ArialMT-31\"/>\n     <use xlink:href=\"#ArialMT-2e\" x=\"55.615234\"/>\n     <use xlink:href=\"#ArialMT-30\" x=\"83.398438\"/>\n     <use xlink:href=\"#ArialMT-30\" x=\"139.013672\"/>\n     <use xlink:href=\"#ArialMT-30\" x=\"194.628906\"/>\n    </g>\n   </g>\n   <g id=\"text_78\">\n    <!-- 0.009 -->\n    <g style=\"fill: #262626\" transform=\"translate(316.669083 194.933226) scale(0.1 -0.1)\">\n     <use xlink:href=\"#ArialMT-30\"/>\n     <use xlink:href=\"#ArialMT-2e\" x=\"55.615234\"/>\n     <use xlink:href=\"#ArialMT-30\" x=\"83.398438\"/>\n     <use xlink:href=\"#ArialMT-30\" x=\"139.013672\"/>\n     <use xlink:href=\"#ArialMT-39\" x=\"194.628906\"/>\n    </g>\n   </g>\n   <g id=\"text_79\">\n    <!-- -0.019 -->\n    <g style=\"fill: #262626\" transform=\"translate(347.081573 194.933226) scale(0.1 -0.1)\">\n     <use xlink:href=\"#ArialMT-2d\"/>\n     <use xlink:href=\"#ArialMT-30\" x=\"33.300781\"/>\n     <use xlink:href=\"#ArialMT-2e\" x=\"88.916016\"/>\n     <use xlink:href=\"#ArialMT-30\" x=\"116.699219\"/>\n     <use xlink:href=\"#ArialMT-31\" x=\"172.314453\"/>\n     <use xlink:href=\"#ArialMT-39\" x=\"227.929688\"/>\n    </g>\n   </g>\n   <g id=\"text_80\">\n    <!-- 0.027 -->\n    <g style=\"fill: #262626\" transform=\"translate(380.82375 194.933226) scale(0.1 -0.1)\">\n     <use xlink:href=\"#ArialMT-30\"/>\n     <use xlink:href=\"#ArialMT-2e\" x=\"55.615234\"/>\n     <use xlink:href=\"#ArialMT-30\" x=\"83.398438\"/>\n     <use xlink:href=\"#ArialMT-32\" x=\"139.013672\"/>\n     <use xlink:href=\"#ArialMT-37\" x=\"194.628906\"/>\n    </g>\n   </g>\n   <g id=\"text_81\">\n    <!-- 0.040 -->\n    <g style=\"fill: #262626\" transform=\"translate(412.901083 194.933226) scale(0.1 -0.1)\">\n     <use xlink:href=\"#ArialMT-30\"/>\n     <use xlink:href=\"#ArialMT-2e\" x=\"55.615234\"/>\n     <use xlink:href=\"#ArialMT-30\" x=\"83.398438\"/>\n     <use xlink:href=\"#ArialMT-34\" x=\"139.013672\"/>\n     <use xlink:href=\"#ArialMT-30\" x=\"194.628906\"/>\n    </g>\n   </g>\n   <g id=\"text_82\">\n    <!-- -0.007 -->\n    <g style=\"fill: #262626\" transform=\"translate(443.313573 194.933226) scale(0.1 -0.1)\">\n     <use xlink:href=\"#ArialMT-2d\"/>\n     <use xlink:href=\"#ArialMT-30\" x=\"33.300781\"/>\n     <use xlink:href=\"#ArialMT-2e\" x=\"88.916016\"/>\n     <use xlink:href=\"#ArialMT-30\" x=\"116.699219\"/>\n     <use xlink:href=\"#ArialMT-30\" x=\"172.314453\"/>\n     <use xlink:href=\"#ArialMT-37\" x=\"227.929688\"/>\n    </g>\n   </g>\n   <g id=\"text_83\">\n    <!-- 0.011 -->\n    <g style=\"fill: #262626\" transform=\"translate(477.4245 194.933226) scale(0.1 -0.1)\">\n     <use xlink:href=\"#ArialMT-30\"/>\n     <use xlink:href=\"#ArialMT-2e\" x=\"55.615234\"/>\n     <use xlink:href=\"#ArialMT-30\" x=\"83.398438\"/>\n     <use xlink:href=\"#ArialMT-31\" x=\"139.013672\"/>\n     <use xlink:href=\"#ArialMT-31\" x=\"187.253906\"/>\n    </g>\n   </g>\n   <g id=\"text_84\">\n    <!-- 0.013 -->\n    <g style=\"fill: #262626\" transform=\"translate(509.133083 194.933226) scale(0.1 -0.1)\">\n     <use xlink:href=\"#ArialMT-30\"/>\n     <use xlink:href=\"#ArialMT-2e\" x=\"55.615234\"/>\n     <use xlink:href=\"#ArialMT-30\" x=\"83.398438\"/>\n     <use xlink:href=\"#ArialMT-31\" x=\"139.013672\"/>\n     <use xlink:href=\"#ArialMT-33\" x=\"194.628906\"/>\n    </g>\n   </g>\n   <g id=\"text_85\">\n    <!-- 0.061 -->\n    <g style=\"fill: #262626\" transform=\"translate(156.282417 227.01056) scale(0.1 -0.1)\">\n     <use xlink:href=\"#ArialMT-30\"/>\n     <use xlink:href=\"#ArialMT-2e\" x=\"55.615234\"/>\n     <use xlink:href=\"#ArialMT-30\" x=\"83.398438\"/>\n     <use xlink:href=\"#ArialMT-36\" x=\"139.013672\"/>\n     <use xlink:href=\"#ArialMT-31\" x=\"194.628906\"/>\n    </g>\n   </g>\n   <g id=\"text_86\">\n    <!-- 0.000 -->\n    <g style=\"fill: #262626\" transform=\"translate(188.35975 227.01056) scale(0.1 -0.1)\">\n     <use xlink:href=\"#ArialMT-30\"/>\n     <use xlink:href=\"#ArialMT-2e\" x=\"55.615234\"/>\n     <use xlink:href=\"#ArialMT-30\" x=\"83.398438\"/>\n     <use xlink:href=\"#ArialMT-30\" x=\"139.013672\"/>\n     <use xlink:href=\"#ArialMT-30\" x=\"194.628906\"/>\n    </g>\n   </g>\n   <g id=\"text_87\">\n    <!-- -0.021 -->\n    <g style=\"fill: #262626\" transform=\"translate(218.77224 227.01056) scale(0.1 -0.1)\">\n     <use xlink:href=\"#ArialMT-2d\"/>\n     <use xlink:href=\"#ArialMT-30\" x=\"33.300781\"/>\n     <use xlink:href=\"#ArialMT-2e\" x=\"88.916016\"/>\n     <use xlink:href=\"#ArialMT-30\" x=\"116.699219\"/>\n     <use xlink:href=\"#ArialMT-32\" x=\"172.314453\"/>\n     <use xlink:href=\"#ArialMT-31\" x=\"227.929688\"/>\n    </g>\n   </g>\n   <g id=\"text_88\">\n    <!-- -0.067 -->\n    <g style=\"fill: #262626\" transform=\"translate(250.849573 227.01056) scale(0.1 -0.1)\">\n     <use xlink:href=\"#ArialMT-2d\"/>\n     <use xlink:href=\"#ArialMT-30\" x=\"33.300781\"/>\n     <use xlink:href=\"#ArialMT-2e\" x=\"88.916016\"/>\n     <use xlink:href=\"#ArialMT-30\" x=\"116.699219\"/>\n     <use xlink:href=\"#ArialMT-36\" x=\"172.314453\"/>\n     <use xlink:href=\"#ArialMT-37\" x=\"227.929688\"/>\n    </g>\n   </g>\n   <g id=\"text_89\">\n    <!-- 0.009 -->\n    <g style=\"fill: #262626\" transform=\"translate(284.59175 227.01056) scale(0.1 -0.1)\">\n     <use xlink:href=\"#ArialMT-30\"/>\n     <use xlink:href=\"#ArialMT-2e\" x=\"55.615234\"/>\n     <use xlink:href=\"#ArialMT-30\" x=\"83.398438\"/>\n     <use xlink:href=\"#ArialMT-30\" x=\"139.013672\"/>\n     <use xlink:href=\"#ArialMT-39\" x=\"194.628906\"/>\n    </g>\n   </g>\n   <g id=\"text_90\">\n    <!-- 1.000 -->\n    <g style=\"fill: #ffffff\" transform=\"translate(316.669083 227.01056) scale(0.1 -0.1)\">\n     <use xlink:href=\"#ArialMT-31\"/>\n     <use xlink:href=\"#ArialMT-2e\" x=\"55.615234\"/>\n     <use xlink:href=\"#ArialMT-30\" x=\"83.398438\"/>\n     <use xlink:href=\"#ArialMT-30\" x=\"139.013672\"/>\n     <use xlink:href=\"#ArialMT-30\" x=\"194.628906\"/>\n    </g>\n   </g>\n   <g id=\"text_91\">\n    <!-- -0.015 -->\n    <g style=\"fill: #262626\" transform=\"translate(347.081573 227.01056) scale(0.1 -0.1)\">\n     <use xlink:href=\"#ArialMT-2d\"/>\n     <use xlink:href=\"#ArialMT-30\" x=\"33.300781\"/>\n     <use xlink:href=\"#ArialMT-2e\" x=\"88.916016\"/>\n     <use xlink:href=\"#ArialMT-30\" x=\"116.699219\"/>\n     <use xlink:href=\"#ArialMT-31\" x=\"172.314453\"/>\n     <use xlink:href=\"#ArialMT-35\" x=\"227.929688\"/>\n    </g>\n   </g>\n   <g id=\"text_92\">\n    <!-- -0.062 -->\n    <g style=\"fill: #262626\" transform=\"translate(379.158906 227.01056) scale(0.1 -0.1)\">\n     <use xlink:href=\"#ArialMT-2d\"/>\n     <use xlink:href=\"#ArialMT-30\" x=\"33.300781\"/>\n     <use xlink:href=\"#ArialMT-2e\" x=\"88.916016\"/>\n     <use xlink:href=\"#ArialMT-30\" x=\"116.699219\"/>\n     <use xlink:href=\"#ArialMT-36\" x=\"172.314453\"/>\n     <use xlink:href=\"#ArialMT-32\" x=\"227.929688\"/>\n    </g>\n   </g>\n   <g id=\"text_93\">\n    <!-- -0.040 -->\n    <g style=\"fill: #262626\" transform=\"translate(411.23624 227.01056) scale(0.1 -0.1)\">\n     <use xlink:href=\"#ArialMT-2d\"/>\n     <use xlink:href=\"#ArialMT-30\" x=\"33.300781\"/>\n     <use xlink:href=\"#ArialMT-2e\" x=\"88.916016\"/>\n     <use xlink:href=\"#ArialMT-30\" x=\"116.699219\"/>\n     <use xlink:href=\"#ArialMT-34\" x=\"172.314453\"/>\n     <use xlink:href=\"#ArialMT-30\" x=\"227.929688\"/>\n    </g>\n   </g>\n   <g id=\"text_94\">\n    <!-- -0.010 -->\n    <g style=\"fill: #262626\" transform=\"translate(443.313573 227.01056) scale(0.1 -0.1)\">\n     <use xlink:href=\"#ArialMT-2d\"/>\n     <use xlink:href=\"#ArialMT-30\" x=\"33.300781\"/>\n     <use xlink:href=\"#ArialMT-2e\" x=\"88.916016\"/>\n     <use xlink:href=\"#ArialMT-30\" x=\"116.699219\"/>\n     <use xlink:href=\"#ArialMT-31\" x=\"172.314453\"/>\n     <use xlink:href=\"#ArialMT-30\" x=\"227.929688\"/>\n    </g>\n   </g>\n   <g id=\"text_95\">\n    <!-- 0.076 -->\n    <g style=\"fill: #262626\" transform=\"translate(477.05575 227.01056) scale(0.1 -0.1)\">\n     <use xlink:href=\"#ArialMT-30\"/>\n     <use xlink:href=\"#ArialMT-2e\" x=\"55.615234\"/>\n     <use xlink:href=\"#ArialMT-30\" x=\"83.398438\"/>\n     <use xlink:href=\"#ArialMT-37\" x=\"139.013672\"/>\n     <use xlink:href=\"#ArialMT-36\" x=\"194.628906\"/>\n    </g>\n   </g>\n   <g id=\"text_96\">\n    <!-- 0.008 -->\n    <g style=\"fill: #262626\" transform=\"translate(509.133083 227.01056) scale(0.1 -0.1)\">\n     <use xlink:href=\"#ArialMT-30\"/>\n     <use xlink:href=\"#ArialMT-2e\" x=\"55.615234\"/>\n     <use xlink:href=\"#ArialMT-30\" x=\"83.398438\"/>\n     <use xlink:href=\"#ArialMT-30\" x=\"139.013672\"/>\n     <use xlink:href=\"#ArialMT-38\" x=\"194.628906\"/>\n    </g>\n   </g>\n   <g id=\"text_97\">\n    <!-- 0.022 -->\n    <g style=\"fill: #262626\" transform=\"translate(156.282417 259.087893) scale(0.1 -0.1)\">\n     <use xlink:href=\"#ArialMT-30\"/>\n     <use xlink:href=\"#ArialMT-2e\" x=\"55.615234\"/>\n     <use xlink:href=\"#ArialMT-30\" x=\"83.398438\"/>\n     <use xlink:href=\"#ArialMT-32\" x=\"139.013672\"/>\n     <use xlink:href=\"#ArialMT-32\" x=\"194.628906\"/>\n    </g>\n   </g>\n   <g id=\"text_98\">\n    <!-- 0.069 -->\n    <g style=\"fill: #262626\" transform=\"translate(188.35975 259.087893) scale(0.1 -0.1)\">\n     <use xlink:href=\"#ArialMT-30\"/>\n     <use xlink:href=\"#ArialMT-2e\" x=\"55.615234\"/>\n     <use xlink:href=\"#ArialMT-30\" x=\"83.398438\"/>\n     <use xlink:href=\"#ArialMT-36\" x=\"139.013672\"/>\n     <use xlink:href=\"#ArialMT-39\" x=\"194.628906\"/>\n    </g>\n   </g>\n   <g id=\"text_99\">\n    <!-- 0.020 -->\n    <g style=\"fill: #262626\" transform=\"translate(220.437083 259.087893) scale(0.1 -0.1)\">\n     <use xlink:href=\"#ArialMT-30\"/>\n     <use xlink:href=\"#ArialMT-2e\" x=\"55.615234\"/>\n     <use xlink:href=\"#ArialMT-30\" x=\"83.398438\"/>\n     <use xlink:href=\"#ArialMT-32\" x=\"139.013672\"/>\n     <use xlink:href=\"#ArialMT-30\" x=\"194.628906\"/>\n    </g>\n   </g>\n   <g id=\"text_100\">\n    <!-- -0.010 -->\n    <g style=\"fill: #262626\" transform=\"translate(250.849573 259.087893) scale(0.1 -0.1)\">\n     <use xlink:href=\"#ArialMT-2d\"/>\n     <use xlink:href=\"#ArialMT-30\" x=\"33.300781\"/>\n     <use xlink:href=\"#ArialMT-2e\" x=\"88.916016\"/>\n     <use xlink:href=\"#ArialMT-30\" x=\"116.699219\"/>\n     <use xlink:href=\"#ArialMT-31\" x=\"172.314453\"/>\n     <use xlink:href=\"#ArialMT-30\" x=\"227.929688\"/>\n    </g>\n   </g>\n   <g id=\"text_101\">\n    <!-- -0.019 -->\n    <g style=\"fill: #262626\" transform=\"translate(282.926906 259.087893) scale(0.1 -0.1)\">\n     <use xlink:href=\"#ArialMT-2d\"/>\n     <use xlink:href=\"#ArialMT-30\" x=\"33.300781\"/>\n     <use xlink:href=\"#ArialMT-2e\" x=\"88.916016\"/>\n     <use xlink:href=\"#ArialMT-30\" x=\"116.699219\"/>\n     <use xlink:href=\"#ArialMT-31\" x=\"172.314453\"/>\n     <use xlink:href=\"#ArialMT-39\" x=\"227.929688\"/>\n    </g>\n   </g>\n   <g id=\"text_102\">\n    <!-- -0.015 -->\n    <g style=\"fill: #262626\" transform=\"translate(315.00424 259.087893) scale(0.1 -0.1)\">\n     <use xlink:href=\"#ArialMT-2d\"/>\n     <use xlink:href=\"#ArialMT-30\" x=\"33.300781\"/>\n     <use xlink:href=\"#ArialMT-2e\" x=\"88.916016\"/>\n     <use xlink:href=\"#ArialMT-30\" x=\"116.699219\"/>\n     <use xlink:href=\"#ArialMT-31\" x=\"172.314453\"/>\n     <use xlink:href=\"#ArialMT-35\" x=\"227.929688\"/>\n    </g>\n   </g>\n   <g id=\"text_103\">\n    <!-- 1.000 -->\n    <g style=\"fill: #ffffff\" transform=\"translate(348.746417 259.087893) scale(0.1 -0.1)\">\n     <use xlink:href=\"#ArialMT-31\"/>\n     <use xlink:href=\"#ArialMT-2e\" x=\"55.615234\"/>\n     <use xlink:href=\"#ArialMT-30\" x=\"83.398438\"/>\n     <use xlink:href=\"#ArialMT-30\" x=\"139.013672\"/>\n     <use xlink:href=\"#ArialMT-30\" x=\"194.628906\"/>\n    </g>\n   </g>\n   <g id=\"text_104\">\n    <!-- -0.256 -->\n    <g style=\"fill: #262626\" transform=\"translate(379.158906 259.087893) scale(0.1 -0.1)\">\n     <use xlink:href=\"#ArialMT-2d\"/>\n     <use xlink:href=\"#ArialMT-30\" x=\"33.300781\"/>\n     <use xlink:href=\"#ArialMT-2e\" x=\"88.916016\"/>\n     <use xlink:href=\"#ArialMT-32\" x=\"116.699219\"/>\n     <use xlink:href=\"#ArialMT-35\" x=\"172.314453\"/>\n     <use xlink:href=\"#ArialMT-36\" x=\"227.929688\"/>\n    </g>\n   </g>\n   <g id=\"text_105\">\n    <!-- -0.064 -->\n    <g style=\"fill: #262626\" transform=\"translate(411.23624 259.087893) scale(0.1 -0.1)\">\n     <use xlink:href=\"#ArialMT-2d\"/>\n     <use xlink:href=\"#ArialMT-30\" x=\"33.300781\"/>\n     <use xlink:href=\"#ArialMT-2e\" x=\"88.916016\"/>\n     <use xlink:href=\"#ArialMT-30\" x=\"116.699219\"/>\n     <use xlink:href=\"#ArialMT-36\" x=\"172.314453\"/>\n     <use xlink:href=\"#ArialMT-34\" x=\"227.929688\"/>\n    </g>\n   </g>\n   <g id=\"text_106\">\n    <!-- 0.902 -->\n    <g style=\"fill: #ffffff\" transform=\"translate(444.978417 259.087893) scale(0.1 -0.1)\">\n     <use xlink:href=\"#ArialMT-30\"/>\n     <use xlink:href=\"#ArialMT-2e\" x=\"55.615234\"/>\n     <use xlink:href=\"#ArialMT-39\" x=\"83.398438\"/>\n     <use xlink:href=\"#ArialMT-30\" x=\"139.013672\"/>\n     <use xlink:href=\"#ArialMT-32\" x=\"194.628906\"/>\n    </g>\n   </g>\n   <g id=\"text_107\">\n    <!-- -0.015 -->\n    <g style=\"fill: #262626\" transform=\"translate(475.390906 259.087893) scale(0.1 -0.1)\">\n     <use xlink:href=\"#ArialMT-2d\"/>\n     <use xlink:href=\"#ArialMT-30\" x=\"33.300781\"/>\n     <use xlink:href=\"#ArialMT-2e\" x=\"88.916016\"/>\n     <use xlink:href=\"#ArialMT-30\" x=\"116.699219\"/>\n     <use xlink:href=\"#ArialMT-31\" x=\"172.314453\"/>\n     <use xlink:href=\"#ArialMT-35\" x=\"227.929688\"/>\n    </g>\n   </g>\n   <g id=\"text_108\">\n    <!-- -0.002 -->\n    <g style=\"fill: #262626\" transform=\"translate(507.46824 259.087893) scale(0.1 -0.1)\">\n     <use xlink:href=\"#ArialMT-2d\"/>\n     <use xlink:href=\"#ArialMT-30\" x=\"33.300781\"/>\n     <use xlink:href=\"#ArialMT-2e\" x=\"88.916016\"/>\n     <use xlink:href=\"#ArialMT-30\" x=\"116.699219\"/>\n     <use xlink:href=\"#ArialMT-30\" x=\"172.314453\"/>\n     <use xlink:href=\"#ArialMT-32\" x=\"227.929688\"/>\n    </g>\n   </g>\n   <g id=\"text_109\">\n    <!-- 0.091 -->\n    <g style=\"fill: #262626\" transform=\"translate(156.282417 291.165226) scale(0.1 -0.1)\">\n     <use xlink:href=\"#ArialMT-30\"/>\n     <use xlink:href=\"#ArialMT-2e\" x=\"55.615234\"/>\n     <use xlink:href=\"#ArialMT-30\" x=\"83.398438\"/>\n     <use xlink:href=\"#ArialMT-39\" x=\"139.013672\"/>\n     <use xlink:href=\"#ArialMT-31\" x=\"194.628906\"/>\n    </g>\n   </g>\n   <g id=\"text_110\">\n    <!-- -0.072 -->\n    <g style=\"fill: #262626\" transform=\"translate(186.694906 291.165226) scale(0.1 -0.1)\">\n     <use xlink:href=\"#ArialMT-2d\"/>\n     <use xlink:href=\"#ArialMT-30\" x=\"33.300781\"/>\n     <use xlink:href=\"#ArialMT-2e\" x=\"88.916016\"/>\n     <use xlink:href=\"#ArialMT-30\" x=\"116.699219\"/>\n     <use xlink:href=\"#ArialMT-37\" x=\"172.314453\"/>\n     <use xlink:href=\"#ArialMT-32\" x=\"227.929688\"/>\n    </g>\n   </g>\n   <g id=\"text_111\">\n    <!-- -0.108 -->\n    <g style=\"fill: #262626\" transform=\"translate(218.77224 291.165226) scale(0.1 -0.1)\">\n     <use xlink:href=\"#ArialMT-2d\"/>\n     <use xlink:href=\"#ArialMT-30\" x=\"33.300781\"/>\n     <use xlink:href=\"#ArialMT-2e\" x=\"88.916016\"/>\n     <use xlink:href=\"#ArialMT-31\" x=\"116.699219\"/>\n     <use xlink:href=\"#ArialMT-30\" x=\"172.314453\"/>\n     <use xlink:href=\"#ArialMT-38\" x=\"227.929688\"/>\n    </g>\n   </g>\n   <g id=\"text_112\">\n    <!-- -0.039 -->\n    <g style=\"fill: #262626\" transform=\"translate(250.849573 291.165226) scale(0.1 -0.1)\">\n     <use xlink:href=\"#ArialMT-2d\"/>\n     <use xlink:href=\"#ArialMT-30\" x=\"33.300781\"/>\n     <use xlink:href=\"#ArialMT-2e\" x=\"88.916016\"/>\n     <use xlink:href=\"#ArialMT-30\" x=\"116.699219\"/>\n     <use xlink:href=\"#ArialMT-33\" x=\"172.314453\"/>\n     <use xlink:href=\"#ArialMT-39\" x=\"227.929688\"/>\n    </g>\n   </g>\n   <g id=\"text_113\">\n    <!-- 0.027 -->\n    <g style=\"fill: #262626\" transform=\"translate(284.59175 291.165226) scale(0.1 -0.1)\">\n     <use xlink:href=\"#ArialMT-30\"/>\n     <use xlink:href=\"#ArialMT-2e\" x=\"55.615234\"/>\n     <use xlink:href=\"#ArialMT-30\" x=\"83.398438\"/>\n     <use xlink:href=\"#ArialMT-32\" x=\"139.013672\"/>\n     <use xlink:href=\"#ArialMT-37\" x=\"194.628906\"/>\n    </g>\n   </g>\n   <g id=\"text_114\">\n    <!-- -0.062 -->\n    <g style=\"fill: #262626\" transform=\"translate(315.00424 291.165226) scale(0.1 -0.1)\">\n     <use xlink:href=\"#ArialMT-2d\"/>\n     <use xlink:href=\"#ArialMT-30\" x=\"33.300781\"/>\n     <use xlink:href=\"#ArialMT-2e\" x=\"88.916016\"/>\n     <use xlink:href=\"#ArialMT-30\" x=\"116.699219\"/>\n     <use xlink:href=\"#ArialMT-36\" x=\"172.314453\"/>\n     <use xlink:href=\"#ArialMT-32\" x=\"227.929688\"/>\n    </g>\n   </g>\n   <g id=\"text_115\">\n    <!-- -0.256 -->\n    <g style=\"fill: #262626\" transform=\"translate(347.081573 291.165226) scale(0.1 -0.1)\">\n     <use xlink:href=\"#ArialMT-2d\"/>\n     <use xlink:href=\"#ArialMT-30\" x=\"33.300781\"/>\n     <use xlink:href=\"#ArialMT-2e\" x=\"88.916016\"/>\n     <use xlink:href=\"#ArialMT-32\" x=\"116.699219\"/>\n     <use xlink:href=\"#ArialMT-35\" x=\"172.314453\"/>\n     <use xlink:href=\"#ArialMT-36\" x=\"227.929688\"/>\n    </g>\n   </g>\n   <g id=\"text_116\">\n    <!-- 1.000 -->\n    <g style=\"fill: #ffffff\" transform=\"translate(380.82375 291.165226) scale(0.1 -0.1)\">\n     <use xlink:href=\"#ArialMT-31\"/>\n     <use xlink:href=\"#ArialMT-2e\" x=\"55.615234\"/>\n     <use xlink:href=\"#ArialMT-30\" x=\"83.398438\"/>\n     <use xlink:href=\"#ArialMT-30\" x=\"139.013672\"/>\n     <use xlink:href=\"#ArialMT-30\" x=\"194.628906\"/>\n    </g>\n   </g>\n   <g id=\"text_117\">\n    <!-- 0.338 -->\n    <g style=\"fill: #262626\" transform=\"translate(412.901083 291.165226) scale(0.1 -0.1)\">\n     <use xlink:href=\"#ArialMT-30\"/>\n     <use xlink:href=\"#ArialMT-2e\" x=\"55.615234\"/>\n     <use xlink:href=\"#ArialMT-33\" x=\"83.398438\"/>\n     <use xlink:href=\"#ArialMT-33\" x=\"139.013672\"/>\n     <use xlink:href=\"#ArialMT-38\" x=\"194.628906\"/>\n    </g>\n   </g>\n   <g id=\"text_118\">\n    <!-- -0.213 -->\n    <g style=\"fill: #262626\" transform=\"translate(443.313573 291.165226) scale(0.1 -0.1)\">\n     <use xlink:href=\"#ArialMT-2d\"/>\n     <use xlink:href=\"#ArialMT-30\" x=\"33.300781\"/>\n     <use xlink:href=\"#ArialMT-2e\" x=\"88.916016\"/>\n     <use xlink:href=\"#ArialMT-32\" x=\"116.699219\"/>\n     <use xlink:href=\"#ArialMT-31\" x=\"172.314453\"/>\n     <use xlink:href=\"#ArialMT-33\" x=\"227.929688\"/>\n    </g>\n   </g>\n   <g id=\"text_119\">\n    <!-- 0.058 -->\n    <g style=\"fill: #262626\" transform=\"translate(477.05575 291.165226) scale(0.1 -0.1)\">\n     <use xlink:href=\"#ArialMT-30\"/>\n     <use xlink:href=\"#ArialMT-2e\" x=\"55.615234\"/>\n     <use xlink:href=\"#ArialMT-30\" x=\"83.398438\"/>\n     <use xlink:href=\"#ArialMT-35\" x=\"139.013672\"/>\n     <use xlink:href=\"#ArialMT-38\" x=\"194.628906\"/>\n    </g>\n   </g>\n   <g id=\"text_120\">\n    <!-- 0.001 -->\n    <g style=\"fill: #262626\" transform=\"translate(509.133083 291.165226) scale(0.1 -0.1)\">\n     <use xlink:href=\"#ArialMT-30\"/>\n     <use xlink:href=\"#ArialMT-2e\" x=\"55.615234\"/>\n     <use xlink:href=\"#ArialMT-30\" x=\"83.398438\"/>\n     <use xlink:href=\"#ArialMT-30\" x=\"139.013672\"/>\n     <use xlink:href=\"#ArialMT-31\" x=\"194.628906\"/>\n    </g>\n   </g>\n   <g id=\"text_121\">\n    <!-- 0.009 -->\n    <g style=\"fill: #262626\" transform=\"translate(156.282417 323.24256) scale(0.1 -0.1)\">\n     <use xlink:href=\"#ArialMT-30\"/>\n     <use xlink:href=\"#ArialMT-2e\" x=\"55.615234\"/>\n     <use xlink:href=\"#ArialMT-30\" x=\"83.398438\"/>\n     <use xlink:href=\"#ArialMT-30\" x=\"139.013672\"/>\n     <use xlink:href=\"#ArialMT-39\" x=\"194.628906\"/>\n    </g>\n   </g>\n   <g id=\"text_122\">\n    <!-- -0.071 -->\n    <g style=\"fill: #262626\" transform=\"translate(186.694906 323.24256) scale(0.1 -0.1)\">\n     <use xlink:href=\"#ArialMT-2d\"/>\n     <use xlink:href=\"#ArialMT-30\" x=\"33.300781\"/>\n     <use xlink:href=\"#ArialMT-2e\" x=\"88.916016\"/>\n     <use xlink:href=\"#ArialMT-30\" x=\"116.699219\"/>\n     <use xlink:href=\"#ArialMT-37\" x=\"172.314453\"/>\n     <use xlink:href=\"#ArialMT-31\" x=\"227.929688\"/>\n    </g>\n   </g>\n   <g id=\"text_123\">\n    <!-- -0.127 -->\n    <g style=\"fill: #262626\" transform=\"translate(218.77224 323.24256) scale(0.1 -0.1)\">\n     <use xlink:href=\"#ArialMT-2d\"/>\n     <use xlink:href=\"#ArialMT-30\" x=\"33.300781\"/>\n     <use xlink:href=\"#ArialMT-2e\" x=\"88.916016\"/>\n     <use xlink:href=\"#ArialMT-31\" x=\"116.699219\"/>\n     <use xlink:href=\"#ArialMT-32\" x=\"172.314453\"/>\n     <use xlink:href=\"#ArialMT-37\" x=\"227.929688\"/>\n    </g>\n   </g>\n   <g id=\"text_124\">\n    <!-- 0.012 -->\n    <g style=\"fill: #262626\" transform=\"translate(252.514417 323.24256) scale(0.1 -0.1)\">\n     <use xlink:href=\"#ArialMT-30\"/>\n     <use xlink:href=\"#ArialMT-2e\" x=\"55.615234\"/>\n     <use xlink:href=\"#ArialMT-30\" x=\"83.398438\"/>\n     <use xlink:href=\"#ArialMT-31\" x=\"139.013672\"/>\n     <use xlink:href=\"#ArialMT-32\" x=\"194.628906\"/>\n    </g>\n   </g>\n   <g id=\"text_125\">\n    <!-- 0.040 -->\n    <g style=\"fill: #262626\" transform=\"translate(284.59175 323.24256) scale(0.1 -0.1)\">\n     <use xlink:href=\"#ArialMT-30\"/>\n     <use xlink:href=\"#ArialMT-2e\" x=\"55.615234\"/>\n     <use xlink:href=\"#ArialMT-30\" x=\"83.398438\"/>\n     <use xlink:href=\"#ArialMT-34\" x=\"139.013672\"/>\n     <use xlink:href=\"#ArialMT-30\" x=\"194.628906\"/>\n    </g>\n   </g>\n   <g id=\"text_126\">\n    <!-- -0.040 -->\n    <g style=\"fill: #262626\" transform=\"translate(315.00424 323.24256) scale(0.1 -0.1)\">\n     <use xlink:href=\"#ArialMT-2d\"/>\n     <use xlink:href=\"#ArialMT-30\" x=\"33.300781\"/>\n     <use xlink:href=\"#ArialMT-2e\" x=\"88.916016\"/>\n     <use xlink:href=\"#ArialMT-30\" x=\"116.699219\"/>\n     <use xlink:href=\"#ArialMT-34\" x=\"172.314453\"/>\n     <use xlink:href=\"#ArialMT-30\" x=\"227.929688\"/>\n    </g>\n   </g>\n   <g id=\"text_127\">\n    <!-- -0.064 -->\n    <g style=\"fill: #262626\" transform=\"translate(347.081573 323.24256) scale(0.1 -0.1)\">\n     <use xlink:href=\"#ArialMT-2d\"/>\n     <use xlink:href=\"#ArialMT-30\" x=\"33.300781\"/>\n     <use xlink:href=\"#ArialMT-2e\" x=\"88.916016\"/>\n     <use xlink:href=\"#ArialMT-30\" x=\"116.699219\"/>\n     <use xlink:href=\"#ArialMT-36\" x=\"172.314453\"/>\n     <use xlink:href=\"#ArialMT-34\" x=\"227.929688\"/>\n    </g>\n   </g>\n   <g id=\"text_128\">\n    <!-- 0.338 -->\n    <g style=\"fill: #262626\" transform=\"translate(380.82375 323.24256) scale(0.1 -0.1)\">\n     <use xlink:href=\"#ArialMT-30\"/>\n     <use xlink:href=\"#ArialMT-2e\" x=\"55.615234\"/>\n     <use xlink:href=\"#ArialMT-33\" x=\"83.398438\"/>\n     <use xlink:href=\"#ArialMT-33\" x=\"139.013672\"/>\n     <use xlink:href=\"#ArialMT-38\" x=\"194.628906\"/>\n    </g>\n   </g>\n   <g id=\"text_129\">\n    <!-- 1.000 -->\n    <g style=\"fill: #ffffff\" transform=\"translate(412.901083 323.24256) scale(0.1 -0.1)\">\n     <use xlink:href=\"#ArialMT-31\"/>\n     <use xlink:href=\"#ArialMT-2e\" x=\"55.615234\"/>\n     <use xlink:href=\"#ArialMT-30\" x=\"83.398438\"/>\n     <use xlink:href=\"#ArialMT-30\" x=\"139.013672\"/>\n     <use xlink:href=\"#ArialMT-30\" x=\"194.628906\"/>\n    </g>\n   </g>\n   <g id=\"text_130\">\n    <!-- -0.048 -->\n    <g style=\"fill: #262626\" transform=\"translate(443.313573 323.24256) scale(0.1 -0.1)\">\n     <use xlink:href=\"#ArialMT-2d\"/>\n     <use xlink:href=\"#ArialMT-30\" x=\"33.300781\"/>\n     <use xlink:href=\"#ArialMT-2e\" x=\"88.916016\"/>\n     <use xlink:href=\"#ArialMT-30\" x=\"116.699219\"/>\n     <use xlink:href=\"#ArialMT-34\" x=\"172.314453\"/>\n     <use xlink:href=\"#ArialMT-38\" x=\"227.929688\"/>\n    </g>\n   </g>\n   <g id=\"text_131\">\n    <!-- 0.020 -->\n    <g style=\"fill: #262626\" transform=\"translate(477.05575 323.24256) scale(0.1 -0.1)\">\n     <use xlink:href=\"#ArialMT-30\"/>\n     <use xlink:href=\"#ArialMT-2e\" x=\"55.615234\"/>\n     <use xlink:href=\"#ArialMT-30\" x=\"83.398438\"/>\n     <use xlink:href=\"#ArialMT-32\" x=\"139.013672\"/>\n     <use xlink:href=\"#ArialMT-30\" x=\"194.628906\"/>\n    </g>\n   </g>\n   <g id=\"text_132\">\n    <!-- -0.025 -->\n    <g style=\"fill: #262626\" transform=\"translate(507.46824 323.24256) scale(0.1 -0.1)\">\n     <use xlink:href=\"#ArialMT-2d\"/>\n     <use xlink:href=\"#ArialMT-30\" x=\"33.300781\"/>\n     <use xlink:href=\"#ArialMT-2e\" x=\"88.916016\"/>\n     <use xlink:href=\"#ArialMT-30\" x=\"116.699219\"/>\n     <use xlink:href=\"#ArialMT-32\" x=\"172.314453\"/>\n     <use xlink:href=\"#ArialMT-35\" x=\"227.929688\"/>\n    </g>\n   </g>\n   <g id=\"text_133\">\n    <!-- 0.020 -->\n    <g style=\"fill: #262626\" transform=\"translate(156.282417 355.319893) scale(0.1 -0.1)\">\n     <use xlink:href=\"#ArialMT-30\"/>\n     <use xlink:href=\"#ArialMT-2e\" x=\"55.615234\"/>\n     <use xlink:href=\"#ArialMT-30\" x=\"83.398438\"/>\n     <use xlink:href=\"#ArialMT-32\" x=\"139.013672\"/>\n     <use xlink:href=\"#ArialMT-30\" x=\"194.628906\"/>\n    </g>\n   </g>\n   <g id=\"text_134\">\n    <!-- 0.113 -->\n    <g style=\"fill: #262626\" transform=\"translate(188.7285 355.319893) scale(0.1 -0.1)\">\n     <use xlink:href=\"#ArialMT-30\"/>\n     <use xlink:href=\"#ArialMT-2e\" x=\"55.615234\"/>\n     <use xlink:href=\"#ArialMT-31\" x=\"83.398438\"/>\n     <use xlink:href=\"#ArialMT-31\" x=\"131.638672\"/>\n     <use xlink:href=\"#ArialMT-33\" x=\"187.253906\"/>\n    </g>\n   </g>\n   <g id=\"text_135\">\n    <!-- 0.050 -->\n    <g style=\"fill: #262626\" transform=\"translate(220.437083 355.319893) scale(0.1 -0.1)\">\n     <use xlink:href=\"#ArialMT-30\"/>\n     <use xlink:href=\"#ArialMT-2e\" x=\"55.615234\"/>\n     <use xlink:href=\"#ArialMT-30\" x=\"83.398438\"/>\n     <use xlink:href=\"#ArialMT-35\" x=\"139.013672\"/>\n     <use xlink:href=\"#ArialMT-30\" x=\"194.628906\"/>\n    </g>\n   </g>\n   <g id=\"text_136\">\n    <!-- 0.008 -->\n    <g style=\"fill: #262626\" transform=\"translate(252.514417 355.319893) scale(0.1 -0.1)\">\n     <use xlink:href=\"#ArialMT-30\"/>\n     <use xlink:href=\"#ArialMT-2e\" x=\"55.615234\"/>\n     <use xlink:href=\"#ArialMT-30\" x=\"83.398438\"/>\n     <use xlink:href=\"#ArialMT-30\" x=\"139.013672\"/>\n     <use xlink:href=\"#ArialMT-38\" x=\"194.628906\"/>\n    </g>\n   </g>\n   <g id=\"text_137\">\n    <!-- -0.007 -->\n    <g style=\"fill: #262626\" transform=\"translate(282.926906 355.319893) scale(0.1 -0.1)\">\n     <use xlink:href=\"#ArialMT-2d\"/>\n     <use xlink:href=\"#ArialMT-30\" x=\"33.300781\"/>\n     <use xlink:href=\"#ArialMT-2e\" x=\"88.916016\"/>\n     <use xlink:href=\"#ArialMT-30\" x=\"116.699219\"/>\n     <use xlink:href=\"#ArialMT-30\" x=\"172.314453\"/>\n     <use xlink:href=\"#ArialMT-37\" x=\"227.929688\"/>\n    </g>\n   </g>\n   <g id=\"text_138\">\n    <!-- -0.010 -->\n    <g style=\"fill: #262626\" transform=\"translate(315.00424 355.319893) scale(0.1 -0.1)\">\n     <use xlink:href=\"#ArialMT-2d\"/>\n     <use xlink:href=\"#ArialMT-30\" x=\"33.300781\"/>\n     <use xlink:href=\"#ArialMT-2e\" x=\"88.916016\"/>\n     <use xlink:href=\"#ArialMT-30\" x=\"116.699219\"/>\n     <use xlink:href=\"#ArialMT-31\" x=\"172.314453\"/>\n     <use xlink:href=\"#ArialMT-30\" x=\"227.929688\"/>\n    </g>\n   </g>\n   <g id=\"text_139\">\n    <!-- 0.902 -->\n    <g style=\"fill: #ffffff\" transform=\"translate(348.746417 355.319893) scale(0.1 -0.1)\">\n     <use xlink:href=\"#ArialMT-30\"/>\n     <use xlink:href=\"#ArialMT-2e\" x=\"55.615234\"/>\n     <use xlink:href=\"#ArialMT-39\" x=\"83.398438\"/>\n     <use xlink:href=\"#ArialMT-30\" x=\"139.013672\"/>\n     <use xlink:href=\"#ArialMT-32\" x=\"194.628906\"/>\n    </g>\n   </g>\n   <g id=\"text_140\">\n    <!-- -0.213 -->\n    <g style=\"fill: #262626\" transform=\"translate(379.158906 355.319893) scale(0.1 -0.1)\">\n     <use xlink:href=\"#ArialMT-2d\"/>\n     <use xlink:href=\"#ArialMT-30\" x=\"33.300781\"/>\n     <use xlink:href=\"#ArialMT-2e\" x=\"88.916016\"/>\n     <use xlink:href=\"#ArialMT-32\" x=\"116.699219\"/>\n     <use xlink:href=\"#ArialMT-31\" x=\"172.314453\"/>\n     <use xlink:href=\"#ArialMT-33\" x=\"227.929688\"/>\n    </g>\n   </g>\n   <g id=\"text_141\">\n    <!-- -0.048 -->\n    <g style=\"fill: #262626\" transform=\"translate(411.23624 355.319893) scale(0.1 -0.1)\">\n     <use xlink:href=\"#ArialMT-2d\"/>\n     <use xlink:href=\"#ArialMT-30\" x=\"33.300781\"/>\n     <use xlink:href=\"#ArialMT-2e\" x=\"88.916016\"/>\n     <use xlink:href=\"#ArialMT-30\" x=\"116.699219\"/>\n     <use xlink:href=\"#ArialMT-34\" x=\"172.314453\"/>\n     <use xlink:href=\"#ArialMT-38\" x=\"227.929688\"/>\n    </g>\n   </g>\n   <g id=\"text_142\">\n    <!-- 1.000 -->\n    <g style=\"fill: #ffffff\" transform=\"translate(444.978417 355.319893) scale(0.1 -0.1)\">\n     <use xlink:href=\"#ArialMT-31\"/>\n     <use xlink:href=\"#ArialMT-2e\" x=\"55.615234\"/>\n     <use xlink:href=\"#ArialMT-30\" x=\"83.398438\"/>\n     <use xlink:href=\"#ArialMT-30\" x=\"139.013672\"/>\n     <use xlink:href=\"#ArialMT-30\" x=\"194.628906\"/>\n    </g>\n   </g>\n   <g id=\"text_143\">\n    <!-- -0.026 -->\n    <g style=\"fill: #262626\" transform=\"translate(475.390906 355.319893) scale(0.1 -0.1)\">\n     <use xlink:href=\"#ArialMT-2d\"/>\n     <use xlink:href=\"#ArialMT-30\" x=\"33.300781\"/>\n     <use xlink:href=\"#ArialMT-2e\" x=\"88.916016\"/>\n     <use xlink:href=\"#ArialMT-30\" x=\"116.699219\"/>\n     <use xlink:href=\"#ArialMT-32\" x=\"172.314453\"/>\n     <use xlink:href=\"#ArialMT-36\" x=\"227.929688\"/>\n    </g>\n   </g>\n   <g id=\"text_144\">\n    <!-- -0.008 -->\n    <g style=\"fill: #262626\" transform=\"translate(507.46824 355.319893) scale(0.1 -0.1)\">\n     <use xlink:href=\"#ArialMT-2d\"/>\n     <use xlink:href=\"#ArialMT-30\" x=\"33.300781\"/>\n     <use xlink:href=\"#ArialMT-2e\" x=\"88.916016\"/>\n     <use xlink:href=\"#ArialMT-30\" x=\"116.699219\"/>\n     <use xlink:href=\"#ArialMT-30\" x=\"172.314453\"/>\n     <use xlink:href=\"#ArialMT-38\" x=\"227.929688\"/>\n    </g>\n   </g>\n   <g id=\"text_145\">\n    <!-- 0.035 -->\n    <g style=\"fill: #262626\" transform=\"translate(156.282417 387.397226) scale(0.1 -0.1)\">\n     <use xlink:href=\"#ArialMT-30\"/>\n     <use xlink:href=\"#ArialMT-2e\" x=\"55.615234\"/>\n     <use xlink:href=\"#ArialMT-30\" x=\"83.398438\"/>\n     <use xlink:href=\"#ArialMT-33\" x=\"139.013672\"/>\n     <use xlink:href=\"#ArialMT-35\" x=\"194.628906\"/>\n    </g>\n   </g>\n   <g id=\"text_146\">\n    <!-- 0.198 -->\n    <g style=\"fill: #262626\" transform=\"translate(188.35975 387.397226) scale(0.1 -0.1)\">\n     <use xlink:href=\"#ArialMT-30\"/>\n     <use xlink:href=\"#ArialMT-2e\" x=\"55.615234\"/>\n     <use xlink:href=\"#ArialMT-31\" x=\"83.398438\"/>\n     <use xlink:href=\"#ArialMT-39\" x=\"139.013672\"/>\n     <use xlink:href=\"#ArialMT-38\" x=\"194.628906\"/>\n    </g>\n   </g>\n   <g id=\"text_147\">\n    <!-- 0.192 -->\n    <g style=\"fill: #262626\" transform=\"translate(220.437083 387.397226) scale(0.1 -0.1)\">\n     <use xlink:href=\"#ArialMT-30\"/>\n     <use xlink:href=\"#ArialMT-2e\" x=\"55.615234\"/>\n     <use xlink:href=\"#ArialMT-31\" x=\"83.398438\"/>\n     <use xlink:href=\"#ArialMT-39\" x=\"139.013672\"/>\n     <use xlink:href=\"#ArialMT-32\" x=\"194.628906\"/>\n    </g>\n   </g>\n   <g id=\"text_148\">\n    <!-- -0.090 -->\n    <g style=\"fill: #262626\" transform=\"translate(250.849573 387.397226) scale(0.1 -0.1)\">\n     <use xlink:href=\"#ArialMT-2d\"/>\n     <use xlink:href=\"#ArialMT-30\" x=\"33.300781\"/>\n     <use xlink:href=\"#ArialMT-2e\" x=\"88.916016\"/>\n     <use xlink:href=\"#ArialMT-30\" x=\"116.699219\"/>\n     <use xlink:href=\"#ArialMT-39\" x=\"172.314453\"/>\n     <use xlink:href=\"#ArialMT-30\" x=\"227.929688\"/>\n    </g>\n   </g>\n   <g id=\"text_149\">\n    <!-- 0.011 -->\n    <g style=\"fill: #262626\" transform=\"translate(284.9605 387.397226) scale(0.1 -0.1)\">\n     <use xlink:href=\"#ArialMT-30\"/>\n     <use xlink:href=\"#ArialMT-2e\" x=\"55.615234\"/>\n     <use xlink:href=\"#ArialMT-30\" x=\"83.398438\"/>\n     <use xlink:href=\"#ArialMT-31\" x=\"139.013672\"/>\n     <use xlink:href=\"#ArialMT-31\" x=\"187.253906\"/>\n    </g>\n   </g>\n   <g id=\"text_150\">\n    <!-- 0.076 -->\n    <g style=\"fill: #262626\" transform=\"translate(316.669083 387.397226) scale(0.1 -0.1)\">\n     <use xlink:href=\"#ArialMT-30\"/>\n     <use xlink:href=\"#ArialMT-2e\" x=\"55.615234\"/>\n     <use xlink:href=\"#ArialMT-30\" x=\"83.398438\"/>\n     <use xlink:href=\"#ArialMT-37\" x=\"139.013672\"/>\n     <use xlink:href=\"#ArialMT-36\" x=\"194.628906\"/>\n    </g>\n   </g>\n   <g id=\"text_151\">\n    <!-- -0.015 -->\n    <g style=\"fill: #262626\" transform=\"translate(347.081573 387.397226) scale(0.1 -0.1)\">\n     <use xlink:href=\"#ArialMT-2d\"/>\n     <use xlink:href=\"#ArialMT-30\" x=\"33.300781\"/>\n     <use xlink:href=\"#ArialMT-2e\" x=\"88.916016\"/>\n     <use xlink:href=\"#ArialMT-30\" x=\"116.699219\"/>\n     <use xlink:href=\"#ArialMT-31\" x=\"172.314453\"/>\n     <use xlink:href=\"#ArialMT-35\" x=\"227.929688\"/>\n    </g>\n   </g>\n   <g id=\"text_152\">\n    <!-- 0.058 -->\n    <g style=\"fill: #262626\" transform=\"translate(380.82375 387.397226) scale(0.1 -0.1)\">\n     <use xlink:href=\"#ArialMT-30\"/>\n     <use xlink:href=\"#ArialMT-2e\" x=\"55.615234\"/>\n     <use xlink:href=\"#ArialMT-30\" x=\"83.398438\"/>\n     <use xlink:href=\"#ArialMT-35\" x=\"139.013672\"/>\n     <use xlink:href=\"#ArialMT-38\" x=\"194.628906\"/>\n    </g>\n   </g>\n   <g id=\"text_153\">\n    <!-- 0.020 -->\n    <g style=\"fill: #262626\" transform=\"translate(412.901083 387.397226) scale(0.1 -0.1)\">\n     <use xlink:href=\"#ArialMT-30\"/>\n     <use xlink:href=\"#ArialMT-2e\" x=\"55.615234\"/>\n     <use xlink:href=\"#ArialMT-30\" x=\"83.398438\"/>\n     <use xlink:href=\"#ArialMT-32\" x=\"139.013672\"/>\n     <use xlink:href=\"#ArialMT-30\" x=\"194.628906\"/>\n    </g>\n   </g>\n   <g id=\"text_154\">\n    <!-- -0.026 -->\n    <g style=\"fill: #262626\" transform=\"translate(443.313573 387.397226) scale(0.1 -0.1)\">\n     <use xlink:href=\"#ArialMT-2d\"/>\n     <use xlink:href=\"#ArialMT-30\" x=\"33.300781\"/>\n     <use xlink:href=\"#ArialMT-2e\" x=\"88.916016\"/>\n     <use xlink:href=\"#ArialMT-30\" x=\"116.699219\"/>\n     <use xlink:href=\"#ArialMT-32\" x=\"172.314453\"/>\n     <use xlink:href=\"#ArialMT-36\" x=\"227.929688\"/>\n    </g>\n   </g>\n   <g id=\"text_155\">\n    <!-- 1.000 -->\n    <g style=\"fill: #ffffff\" transform=\"translate(477.05575 387.397226) scale(0.1 -0.1)\">\n     <use xlink:href=\"#ArialMT-31\"/>\n     <use xlink:href=\"#ArialMT-2e\" x=\"55.615234\"/>\n     <use xlink:href=\"#ArialMT-30\" x=\"83.398438\"/>\n     <use xlink:href=\"#ArialMT-30\" x=\"139.013672\"/>\n     <use xlink:href=\"#ArialMT-30\" x=\"194.628906\"/>\n    </g>\n   </g>\n   <g id=\"text_156\">\n    <!-- 0.008 -->\n    <g style=\"fill: #262626\" transform=\"translate(509.133083 387.397226) scale(0.1 -0.1)\">\n     <use xlink:href=\"#ArialMT-30\"/>\n     <use xlink:href=\"#ArialMT-2e\" x=\"55.615234\"/>\n     <use xlink:href=\"#ArialMT-30\" x=\"83.398438\"/>\n     <use xlink:href=\"#ArialMT-30\" x=\"139.013672\"/>\n     <use xlink:href=\"#ArialMT-38\" x=\"194.628906\"/>\n    </g>\n   </g>\n   <g id=\"text_157\">\n    <!-- -0.010 -->\n    <g style=\"fill: #262626\" transform=\"translate(154.617573 419.47456) scale(0.1 -0.1)\">\n     <use xlink:href=\"#ArialMT-2d\"/>\n     <use xlink:href=\"#ArialMT-30\" x=\"33.300781\"/>\n     <use xlink:href=\"#ArialMT-2e\" x=\"88.916016\"/>\n     <use xlink:href=\"#ArialMT-30\" x=\"116.699219\"/>\n     <use xlink:href=\"#ArialMT-31\" x=\"172.314453\"/>\n     <use xlink:href=\"#ArialMT-30\" x=\"227.929688\"/>\n    </g>\n   </g>\n   <g id=\"text_158\">\n    <!-- -0.001 -->\n    <g style=\"fill: #262626\" transform=\"translate(186.694906 419.47456) scale(0.1 -0.1)\">\n     <use xlink:href=\"#ArialMT-2d\"/>\n     <use xlink:href=\"#ArialMT-30\" x=\"33.300781\"/>\n     <use xlink:href=\"#ArialMT-2e\" x=\"88.916016\"/>\n     <use xlink:href=\"#ArialMT-30\" x=\"116.699219\"/>\n     <use xlink:href=\"#ArialMT-30\" x=\"172.314453\"/>\n     <use xlink:href=\"#ArialMT-31\" x=\"227.929688\"/>\n    </g>\n   </g>\n   <g id=\"text_159\">\n    <!-- 0.014 -->\n    <g style=\"fill: #262626\" transform=\"translate(220.437083 419.47456) scale(0.1 -0.1)\">\n     <use xlink:href=\"#ArialMT-30\"/>\n     <use xlink:href=\"#ArialMT-2e\" x=\"55.615234\"/>\n     <use xlink:href=\"#ArialMT-30\" x=\"83.398438\"/>\n     <use xlink:href=\"#ArialMT-31\" x=\"139.013672\"/>\n     <use xlink:href=\"#ArialMT-34\" x=\"194.628906\"/>\n    </g>\n   </g>\n   <g id=\"text_160\">\n    <!-- 0.002 -->\n    <g style=\"fill: #262626\" transform=\"translate(252.514417 419.47456) scale(0.1 -0.1)\">\n     <use xlink:href=\"#ArialMT-30\"/>\n     <use xlink:href=\"#ArialMT-2e\" x=\"55.615234\"/>\n     <use xlink:href=\"#ArialMT-30\" x=\"83.398438\"/>\n     <use xlink:href=\"#ArialMT-30\" x=\"139.013672\"/>\n     <use xlink:href=\"#ArialMT-32\" x=\"194.628906\"/>\n    </g>\n   </g>\n   <g id=\"text_161\">\n    <!-- 0.013 -->\n    <g style=\"fill: #262626\" transform=\"translate(284.59175 419.47456) scale(0.1 -0.1)\">\n     <use xlink:href=\"#ArialMT-30\"/>\n     <use xlink:href=\"#ArialMT-2e\" x=\"55.615234\"/>\n     <use xlink:href=\"#ArialMT-30\" x=\"83.398438\"/>\n     <use xlink:href=\"#ArialMT-31\" x=\"139.013672\"/>\n     <use xlink:href=\"#ArialMT-33\" x=\"194.628906\"/>\n    </g>\n   </g>\n   <g id=\"text_162\">\n    <!-- 0.008 -->\n    <g style=\"fill: #262626\" transform=\"translate(316.669083 419.47456) scale(0.1 -0.1)\">\n     <use xlink:href=\"#ArialMT-30\"/>\n     <use xlink:href=\"#ArialMT-2e\" x=\"55.615234\"/>\n     <use xlink:href=\"#ArialMT-30\" x=\"83.398438\"/>\n     <use xlink:href=\"#ArialMT-30\" x=\"139.013672\"/>\n     <use xlink:href=\"#ArialMT-38\" x=\"194.628906\"/>\n    </g>\n   </g>\n   <g id=\"text_163\">\n    <!-- -0.002 -->\n    <g style=\"fill: #262626\" transform=\"translate(347.081573 419.47456) scale(0.1 -0.1)\">\n     <use xlink:href=\"#ArialMT-2d\"/>\n     <use xlink:href=\"#ArialMT-30\" x=\"33.300781\"/>\n     <use xlink:href=\"#ArialMT-2e\" x=\"88.916016\"/>\n     <use xlink:href=\"#ArialMT-30\" x=\"116.699219\"/>\n     <use xlink:href=\"#ArialMT-30\" x=\"172.314453\"/>\n     <use xlink:href=\"#ArialMT-32\" x=\"227.929688\"/>\n    </g>\n   </g>\n   <g id=\"text_164\">\n    <!-- 0.001 -->\n    <g style=\"fill: #262626\" transform=\"translate(380.82375 419.47456) scale(0.1 -0.1)\">\n     <use xlink:href=\"#ArialMT-30\"/>\n     <use xlink:href=\"#ArialMT-2e\" x=\"55.615234\"/>\n     <use xlink:href=\"#ArialMT-30\" x=\"83.398438\"/>\n     <use xlink:href=\"#ArialMT-30\" x=\"139.013672\"/>\n     <use xlink:href=\"#ArialMT-31\" x=\"194.628906\"/>\n    </g>\n   </g>\n   <g id=\"text_165\">\n    <!-- -0.025 -->\n    <g style=\"fill: #262626\" transform=\"translate(411.23624 419.47456) scale(0.1 -0.1)\">\n     <use xlink:href=\"#ArialMT-2d\"/>\n     <use xlink:href=\"#ArialMT-30\" x=\"33.300781\"/>\n     <use xlink:href=\"#ArialMT-2e\" x=\"88.916016\"/>\n     <use xlink:href=\"#ArialMT-30\" x=\"116.699219\"/>\n     <use xlink:href=\"#ArialMT-32\" x=\"172.314453\"/>\n     <use xlink:href=\"#ArialMT-35\" x=\"227.929688\"/>\n    </g>\n   </g>\n   <g id=\"text_166\">\n    <!-- -0.008 -->\n    <g style=\"fill: #262626\" transform=\"translate(443.313573 419.47456) scale(0.1 -0.1)\">\n     <use xlink:href=\"#ArialMT-2d\"/>\n     <use xlink:href=\"#ArialMT-30\" x=\"33.300781\"/>\n     <use xlink:href=\"#ArialMT-2e\" x=\"88.916016\"/>\n     <use xlink:href=\"#ArialMT-30\" x=\"116.699219\"/>\n     <use xlink:href=\"#ArialMT-30\" x=\"172.314453\"/>\n     <use xlink:href=\"#ArialMT-38\" x=\"227.929688\"/>\n    </g>\n   </g>\n   <g id=\"text_167\">\n    <!-- 0.008 -->\n    <g style=\"fill: #262626\" transform=\"translate(477.05575 419.47456) scale(0.1 -0.1)\">\n     <use xlink:href=\"#ArialMT-30\"/>\n     <use xlink:href=\"#ArialMT-2e\" x=\"55.615234\"/>\n     <use xlink:href=\"#ArialMT-30\" x=\"83.398438\"/>\n     <use xlink:href=\"#ArialMT-30\" x=\"139.013672\"/>\n     <use xlink:href=\"#ArialMT-38\" x=\"194.628906\"/>\n    </g>\n   </g>\n   <g id=\"text_168\">\n    <!-- 1.000 -->\n    <g style=\"fill: #ffffff\" transform=\"translate(509.133083 419.47456) scale(0.1 -0.1)\">\n     <use xlink:href=\"#ArialMT-31\"/>\n     <use xlink:href=\"#ArialMT-2e\" x=\"55.615234\"/>\n     <use xlink:href=\"#ArialMT-30\" x=\"83.398438\"/>\n     <use xlink:href=\"#ArialMT-30\" x=\"139.013672\"/>\n     <use xlink:href=\"#ArialMT-30\" x=\"194.628906\"/>\n    </g>\n   </g>\n   <g id=\"text_169\">\n    <!-- Correlation Heatmap of Numeric Features -->\n    <g style=\"fill: #262626\" transform=\"translate(233.848375 42.00007) scale(0.12 -0.12)\">\n     <defs>\n      <path id=\"ArialMT-6c\" d=\"M 409 0 \nL 409 4581 \nL 972 4581 \nL 972 0 \nL 409 0 \nz\n\" transform=\"scale(0.015625)\"/>\n      <path id=\"ArialMT-69\" d=\"M 425 3934 \nL 425 4581 \nL 988 4581 \nL 988 3934 \nL 425 3934 \nz\nM 425 0 \nL 425 3319 \nL 988 3319 \nL 988 0 \nL 425 0 \nz\n\" transform=\"scale(0.015625)\"/>\n      <path id=\"ArialMT-6e\" d=\"M 422 0 \nL 422 3319 \nL 928 3319 \nL 928 2847 \nQ 1294 3394 1984 3394 \nQ 2284 3394 2536 3286 \nQ 2788 3178 2913 3003 \nQ 3038 2828 3088 2588 \nQ 3119 2431 3119 2041 \nL 3119 0 \nL 2556 0 \nL 2556 2019 \nQ 2556 2363 2490 2533 \nQ 2425 2703 2258 2804 \nQ 2091 2906 1866 2906 \nQ 1506 2906 1245 2678 \nQ 984 2450 984 1813 \nL 984 0 \nL 422 0 \nz\n\" transform=\"scale(0.015625)\"/>\n      <path id=\"ArialMT-20\" transform=\"scale(0.015625)\"/>\n      <path id=\"ArialMT-6d\" d=\"M 422 0 \nL 422 3319 \nL 925 3319 \nL 925 2853 \nQ 1081 3097 1340 3245 \nQ 1600 3394 1931 3394 \nQ 2300 3394 2536 3241 \nQ 2772 3088 2869 2813 \nQ 3263 3394 3894 3394 \nQ 4388 3394 4653 3120 \nQ 4919 2847 4919 2278 \nL 4919 0 \nL 4359 0 \nL 4359 2091 \nQ 4359 2428 4304 2576 \nQ 4250 2725 4106 2815 \nQ 3963 2906 3769 2906 \nQ 3419 2906 3187 2673 \nQ 2956 2441 2956 1928 \nL 2956 0 \nL 2394 0 \nL 2394 2156 \nQ 2394 2531 2256 2718 \nQ 2119 2906 1806 2906 \nQ 1569 2906 1367 2781 \nQ 1166 2656 1075 2415 \nQ 984 2175 984 1722 \nL 984 0 \nL 422 0 \nz\n\" transform=\"scale(0.015625)\"/>\n      <path id=\"ArialMT-70\" d=\"M 422 -1272 \nL 422 3319 \nL 934 3319 \nL 934 2888 \nQ 1116 3141 1344 3267 \nQ 1572 3394 1897 3394 \nQ 2322 3394 2647 3175 \nQ 2972 2956 3137 2557 \nQ 3303 2159 3303 1684 \nQ 3303 1175 3120 767 \nQ 2938 359 2589 142 \nQ 2241 -75 1856 -75 \nQ 1575 -75 1351 44 \nQ 1128 163 984 344 \nL 984 -1272 \nL 422 -1272 \nz\nM 931 1641 \nQ 931 1000 1190 694 \nQ 1450 388 1819 388 \nQ 2194 388 2461 705 \nQ 2728 1022 2728 1688 \nQ 2728 2322 2467 2637 \nQ 2206 2953 1844 2953 \nQ 1484 2953 1207 2617 \nQ 931 2281 931 1641 \nz\n\" transform=\"scale(0.015625)\"/>\n      <path id=\"ArialMT-66\" d=\"M 556 0 \nL 556 2881 \nL 59 2881 \nL 59 3319 \nL 556 3319 \nL 556 3672 \nQ 556 4006 616 4169 \nQ 697 4388 901 4523 \nQ 1106 4659 1475 4659 \nQ 1713 4659 2000 4603 \nL 1916 4113 \nQ 1741 4144 1584 4144 \nQ 1328 4144 1222 4034 \nQ 1116 3925 1116 3625 \nL 1116 3319 \nL 1763 3319 \nL 1763 2881 \nL 1116 2881 \nL 1116 0 \nL 556 0 \nz\n\" transform=\"scale(0.015625)\"/>\n      <path id=\"ArialMT-75\" d=\"M 2597 0 \nL 2597 488 \nQ 2209 -75 1544 -75 \nQ 1250 -75 995 37 \nQ 741 150 617 320 \nQ 494 491 444 738 \nQ 409 903 409 1263 \nL 409 3319 \nL 972 3319 \nL 972 1478 \nQ 972 1038 1006 884 \nQ 1059 663 1231 536 \nQ 1403 409 1656 409 \nQ 1909 409 2131 539 \nQ 2353 669 2445 892 \nQ 2538 1116 2538 1541 \nL 2538 3319 \nL 3100 3319 \nL 3100 0 \nL 2597 0 \nz\n\" transform=\"scale(0.015625)\"/>\n     </defs>\n     <use xlink:href=\"#ArialMT-43\"/>\n     <use xlink:href=\"#ArialMT-6f\" x=\"72.216797\"/>\n     <use xlink:href=\"#ArialMT-72\" x=\"127.832031\"/>\n     <use xlink:href=\"#ArialMT-72\" x=\"161.132812\"/>\n     <use xlink:href=\"#ArialMT-65\" x=\"194.433594\"/>\n     <use xlink:href=\"#ArialMT-6c\" x=\"250.048828\"/>\n     <use xlink:href=\"#ArialMT-61\" x=\"272.265625\"/>\n     <use xlink:href=\"#ArialMT-74\" x=\"327.880859\"/>\n     <use xlink:href=\"#ArialMT-69\" x=\"355.664062\"/>\n     <use xlink:href=\"#ArialMT-6f\" x=\"377.880859\"/>\n     <use xlink:href=\"#ArialMT-6e\" x=\"433.496094\"/>\n     <use xlink:href=\"#ArialMT-20\" x=\"489.111328\"/>\n     <use xlink:href=\"#ArialMT-48\" x=\"516.894531\"/>\n     <use xlink:href=\"#ArialMT-65\" x=\"589.111328\"/>\n     <use xlink:href=\"#ArialMT-61\" x=\"644.726562\"/>\n     <use xlink:href=\"#ArialMT-74\" x=\"700.341797\"/>\n     <use xlink:href=\"#ArialMT-6d\" x=\"728.125\"/>\n     <use xlink:href=\"#ArialMT-61\" x=\"811.425781\"/>\n     <use xlink:href=\"#ArialMT-70\" x=\"867.041016\"/>\n     <use xlink:href=\"#ArialMT-20\" x=\"922.65625\"/>\n     <use xlink:href=\"#ArialMT-6f\" x=\"950.439453\"/>\n     <use xlink:href=\"#ArialMT-66\" x=\"1006.054688\"/>\n     <use xlink:href=\"#ArialMT-20\" x=\"1033.837891\"/>\n     <use xlink:href=\"#ArialMT-4e\" x=\"1061.621094\"/>\n     <use xlink:href=\"#ArialMT-75\" x=\"1133.837891\"/>\n     <use xlink:href=\"#ArialMT-6d\" x=\"1189.453125\"/>\n     <use xlink:href=\"#ArialMT-65\" x=\"1272.753906\"/>\n     <use xlink:href=\"#ArialMT-72\" x=\"1328.369141\"/>\n     <use xlink:href=\"#ArialMT-69\" x=\"1361.669922\"/>\n     <use xlink:href=\"#ArialMT-63\" x=\"1383.886719\"/>\n     <use xlink:href=\"#ArialMT-20\" x=\"1433.886719\"/>\n     <use xlink:href=\"#ArialMT-46\" x=\"1461.669922\"/>\n     <use xlink:href=\"#ArialMT-65\" x=\"1522.753906\"/>\n     <use xlink:href=\"#ArialMT-61\" x=\"1578.369141\"/>\n     <use xlink:href=\"#ArialMT-74\" x=\"1633.984375\"/>\n     <use xlink:href=\"#ArialMT-75\" x=\"1661.767578\"/>\n     <use xlink:href=\"#ArialMT-72\" x=\"1717.382812\"/>\n     <use xlink:href=\"#ArialMT-65\" x=\"1750.683594\"/>\n     <use xlink:href=\"#ArialMT-73\" x=\"1806.298828\"/>\n    </g>\n   </g>\n  </g>\n  <g id=\"axes_2\">\n   <g id=\"patch_3\">\n    <path d=\"M 561.740688 470.149234 \nL 584.709204 470.149234 \nL 584.709204 10.778906 \nL 561.740688 10.778906 \nz\n\" style=\"fill: #eaeaf2\"/>\n   </g>\n   <g id=\"matplotlib.axis_3\"/>\n   <g id=\"matplotlib.axis_4\">\n    <g id=\"ytick_13\">\n     <g id=\"line2d_25\">\n      <defs>\n       <path id=\"me1dbca3ed5\" d=\"M 0 0 \nL 3.5 0 \n\" style=\"stroke: #262626; stroke-width: 0.8\"/>\n      </defs>\n      <g>\n       <use xlink:href=\"#me1dbca3ed5\" x=\"584.709204\" y=\"449.560575\" style=\"fill: #262626; stroke: #262626; stroke-width: 0.8\"/>\n      </g>\n     </g>\n     <g id=\"text_170\">\n      <!-- −0.2 -->\n      <g style=\"fill: #262626\" transform=\"translate(591.709204 453.139481) scale(0.1 -0.1)\">\n       <defs>\n        <path id=\"ArialMT-2212\" d=\"M 3381 1997 \nL 356 1997 \nL 356 2522 \nL 3381 2522 \nL 3381 1997 \nz\n\" transform=\"scale(0.015625)\"/>\n       </defs>\n       <use xlink:href=\"#ArialMT-2212\"/>\n       <use xlink:href=\"#ArialMT-30\" x=\"58.398438\"/>\n       <use xlink:href=\"#ArialMT-2e\" x=\"114.013672\"/>\n       <use xlink:href=\"#ArialMT-32\" x=\"141.796875\"/>\n      </g>\n     </g>\n    </g>\n    <g id=\"ytick_14\">\n     <g id=\"line2d_26\">\n      <g>\n       <use xlink:href=\"#me1dbca3ed5\" x=\"584.709204\" y=\"376.430297\" style=\"fill: #262626; stroke: #262626; stroke-width: 0.8\"/>\n      </g>\n     </g>\n     <g id=\"text_171\">\n      <!-- 0.0 -->\n      <g style=\"fill: #262626\" transform=\"translate(591.709204 380.009203) scale(0.1 -0.1)\">\n       <use xlink:href=\"#ArialMT-30\"/>\n       <use xlink:href=\"#ArialMT-2e\" x=\"55.615234\"/>\n       <use xlink:href=\"#ArialMT-30\" x=\"83.398438\"/>\n      </g>\n     </g>\n    </g>\n    <g id=\"ytick_15\">\n     <g id=\"line2d_27\">\n      <g>\n       <use xlink:href=\"#me1dbca3ed5\" x=\"584.709204\" y=\"303.300019\" style=\"fill: #262626; stroke: #262626; stroke-width: 0.8\"/>\n      </g>\n     </g>\n     <g id=\"text_172\">\n      <!-- 0.2 -->\n      <g style=\"fill: #262626\" transform=\"translate(591.709204 306.878925) scale(0.1 -0.1)\">\n       <use xlink:href=\"#ArialMT-30\"/>\n       <use xlink:href=\"#ArialMT-2e\" x=\"55.615234\"/>\n       <use xlink:href=\"#ArialMT-32\" x=\"83.398438\"/>\n      </g>\n     </g>\n    </g>\n    <g id=\"ytick_16\">\n     <g id=\"line2d_28\">\n      <g>\n       <use xlink:href=\"#me1dbca3ed5\" x=\"584.709204\" y=\"230.169741\" style=\"fill: #262626; stroke: #262626; stroke-width: 0.8\"/>\n      </g>\n     </g>\n     <g id=\"text_173\">\n      <!-- 0.4 -->\n      <g style=\"fill: #262626\" transform=\"translate(591.709204 233.748647) scale(0.1 -0.1)\">\n       <use xlink:href=\"#ArialMT-30\"/>\n       <use xlink:href=\"#ArialMT-2e\" x=\"55.615234\"/>\n       <use xlink:href=\"#ArialMT-34\" x=\"83.398438\"/>\n      </g>\n     </g>\n    </g>\n    <g id=\"ytick_17\">\n     <g id=\"line2d_29\">\n      <g>\n       <use xlink:href=\"#me1dbca3ed5\" x=\"584.709204\" y=\"157.039463\" style=\"fill: #262626; stroke: #262626; stroke-width: 0.8\"/>\n      </g>\n     </g>\n     <g id=\"text_174\">\n      <!-- 0.6 -->\n      <g style=\"fill: #262626\" transform=\"translate(591.709204 160.618369) scale(0.1 -0.1)\">\n       <use xlink:href=\"#ArialMT-30\"/>\n       <use xlink:href=\"#ArialMT-2e\" x=\"55.615234\"/>\n       <use xlink:href=\"#ArialMT-36\" x=\"83.398438\"/>\n      </g>\n     </g>\n    </g>\n    <g id=\"ytick_18\">\n     <g id=\"line2d_30\">\n      <g>\n       <use xlink:href=\"#me1dbca3ed5\" x=\"584.709204\" y=\"83.909184\" style=\"fill: #262626; stroke: #262626; stroke-width: 0.8\"/>\n      </g>\n     </g>\n     <g id=\"text_175\">\n      <!-- 0.8 -->\n      <g style=\"fill: #262626\" transform=\"translate(591.709204 87.488091) scale(0.1 -0.1)\">\n       <use xlink:href=\"#ArialMT-30\"/>\n       <use xlink:href=\"#ArialMT-2e\" x=\"55.615234\"/>\n       <use xlink:href=\"#ArialMT-38\" x=\"83.398438\"/>\n      </g>\n     </g>\n    </g>\n    <g id=\"ytick_19\">\n     <g id=\"line2d_31\">\n      <g>\n       <use xlink:href=\"#me1dbca3ed5\" x=\"584.709204\" y=\"10.778906\" style=\"fill: #262626; stroke: #262626; stroke-width: 0.8\"/>\n      </g>\n     </g>\n     <g id=\"text_176\">\n      <!-- 1.0 -->\n      <g style=\"fill: #262626\" transform=\"translate(591.709204 14.357813) scale(0.1 -0.1)\">\n       <use xlink:href=\"#ArialMT-31\"/>\n       <use xlink:href=\"#ArialMT-2e\" x=\"55.615234\"/>\n       <use xlink:href=\"#ArialMT-30\" x=\"83.398438\"/>\n      </g>\n     </g>\n    </g>\n   </g>\n   <image xlink:href=\"data:image/png;base64,\niVBORw0KGgoAAAANSUhEUgAAACAAAAJ+CAYAAADSYQJaAAADMElEQVR4nO2bgY3jQBDD5AH7b+fLuHoe9xdfGXpAZAMhHI80u0GeP19/3xS55ocr8F88Ae4ZfwLXFuDJu/0EToGU4TEHyty8AM8znoScXVDm5gWwC1KG+SQ8BVKG+YMJno6jQBnmx/AUSBlcSFIGcyAKlGE+B2gbXPnzo8C1BZgfw1MgZZhfSHAMo0AZ5sfw2gKYA1GgDPM5gL+eR4Ey2AVRoAzzXXBtAfwKokAZ5l9CrOMoUIb5MTwFUgZfwpTBryAKlGH+JeTJZ/sJnAIpgweTKFCG5/Ul7MJ8HZ8CKcPzjm9EOIZRoAzzY3htAcyBKFAGcyAKlGE+CfF0HAXKYBekDPNJeAqkDOZAFCjD/EaEvx1HgTJkfQyvLYB1HAXKMH8wwTGMAmWwjqNAGUzClGH+dHwKpAxZzwFMwihQhvmj2SmQMtgFjytZmZsXYH4Mry2AVzRRoAweTKJAGeaTEMcwCpTBnTBl8GwYBcqQz3gOML+QnAIpg3UcBcrgQpIymANRoAzzLyEmYRQow/zR7BRIGTwdpwzzdXwKpAzzOYB1HAXKYBekDPNJeAqkDJZRFCjDfBJiHUeBMuQzPobXFsAciAJlcCeMAmVwJ4xdUObmBXAnTBlec6DMzQswnwNYx1GgDK9HszI3L8D80ezaAnhFEwXKMJ8DWMdRoAzzR7NTIGWYv6TCMYwCZfCSKmV4zYEyNy+A9wNRoAzv/P1AHMMyNy+AC0nK4FoeBcownwN4XR8FyuA9YRQow/x1/bUFmK/jUyBlmL+gwDGMAmXwYBIFyjB/XX9tAebr+BRIGeY3IuafwCmQMrgTpgzmQBQogzkQBcown4TM/9ntFEgZ7IKUYT4JT4GUwRyIAmWYT0KfwCmQMtgFKYM5EAXK8PnxJexyWRdgvoywC6JAGXwJUwa/gihQBuv4dQzL3LwAHs2iQBnmk5D5NjwFUob5Mby2ANZxFCiDORAFyjC/EfHaBWVuXgAXkpTBOo4CZZjPAd6f8YXkFEgZ7IIoUIb5Lri2AJ4No0AZPv/GX0Le7/EncAqkDPNjeAqkDCZhymAORIEyvN/jt2Q4hlGgDNZxFEiXX+NGVCj/OWCiAAAAAElFTkSuQmCC\" id=\"imagef85b416903\" transform=\"scale(1 -1) translate(0 -459.36)\" x=\"561.6\" y=\"-10.8\" width=\"23.04\" height=\"459.36\"/>\n   <g id=\"LineCollection_1\"/>\n   <g id=\"patch_4\">\n    <path d=\"M 561.740688 470.149234 \nL 573.224946 470.149234 \nL 584.709204 470.149234 \nL 584.709204 10.778906 \nL 573.224946 10.778906 \nL 561.740688 10.778906 \nL 561.740688 470.149234 \nz\n\" style=\"fill: none\"/>\n   </g>\n  </g>\n </g>\n <defs>\n  <clipPath id=\"p3c42d633a0\">\n   <rect x=\"152.754687\" y=\"48.00007\" width=\"384.928\" height=\"384.928\"/>\n  </clipPath>\n </defs>\n</svg>\n"
     },
     "metadata": {},
     "output_type": "display_data"
    }
   ],
   "execution_count": 31
  },
  {
   "metadata": {},
   "cell_type": "markdown",
   "source": [
    "## Continuous Variables\n",
    "- For Children Numbers, which is a continuous variable, True/False Encoding is used. Then, the IV (Information Value) of each group is compared, and the top 2 groups with the highest IV are selected for further analysis.\n",
    "    - Since we are selecting the top 2 groups with the highest IV:\n",
    "\t- 2 or more children (0.003664)\n",
    "\t- 1 child (0.000660)"
   ],
   "id": "caece13d1c17d324"
  },
  {
   "metadata": {
    "ExecuteTime": {
     "end_time": "2025-02-12T09:39:41.598629Z",
     "start_time": "2025-02-12T09:39:41.589883Z"
    }
   },
   "cell_type": "code",
   "source": [
    "filtered_application_df.loc[filtered_application_df['CNT_CHILDREN'] >= 2,'CNT_CHILDREN']='2More'\n",
    "print(filtered_application_df['CNT_CHILDREN'].value_counts(sort=False))"
   ],
   "id": "eb0d44fe03ce867",
   "outputs": [
    {
     "name": "stdout",
     "output_type": "stream",
     "text": [
      "CNT_CHILDREN\n",
      "0        15907\n",
      "2More     3108\n",
      "1         6118\n",
      "Name: count, dtype: int64\n"
     ]
    }
   ],
   "execution_count": 32
  },
  {
   "metadata": {
    "ExecuteTime": {
     "end_time": "2025-02-12T09:41:51.470698Z",
     "start_time": "2025-02-12T09:41:51.403004Z"
    }
   },
   "cell_type": "code",
   "source": [
    "iv, data=calc_iv(filtered_application_df,'CNT_CHILDREN','target')\n",
    "ivtable.loc[ivtable['variable']=='CNT_CHILDREN','IV']=iv\n",
    "data.head()"
   ],
   "id": "c6ac66a8aeeb5310",
   "outputs": [
    {
     "name": "stdout",
     "output_type": "stream",
     "text": [
      "This variable's IV is: 0.004413547062632149\n",
      "CNT_CHILDREN\n",
      "0        15907\n",
      "1         6118\n",
      "2More     3108\n",
      "Name: count, dtype: int64\n"
     ]
    },
    {
     "data": {
      "text/plain": [
       "       Variable  Value    All   Good  Bad     Share  Bad Rate  \\\n",
       "0  CNT_CHILDREN      0  15907  15777  130  0.632913  0.008173   \n",
       "1  CNT_CHILDREN      1   6118   6066   52  0.243425  0.008500   \n",
       "2  CNT_CHILDREN  2More   3108   3087   21  0.123662  0.006757   \n",
       "\n",
       "   Distribution Good  Distribution Bad       WoE        IV  \n",
       "0           0.632852          0.640394 -0.011847  0.000089  \n",
       "1           0.243321          0.256158 -0.051410  0.000660  \n",
       "2           0.123827          0.103448  0.179811  0.003664  "
      ],
      "text/html": [
       "<div>\n",
       "<style scoped>\n",
       "    .dataframe tbody tr th:only-of-type {\n",
       "        vertical-align: middle;\n",
       "    }\n",
       "\n",
       "    .dataframe tbody tr th {\n",
       "        vertical-align: top;\n",
       "    }\n",
       "\n",
       "    .dataframe thead th {\n",
       "        text-align: right;\n",
       "    }\n",
       "</style>\n",
       "<table border=\"1\" class=\"dataframe\">\n",
       "  <thead>\n",
       "    <tr style=\"text-align: right;\">\n",
       "      <th></th>\n",
       "      <th>Variable</th>\n",
       "      <th>Value</th>\n",
       "      <th>All</th>\n",
       "      <th>Good</th>\n",
       "      <th>Bad</th>\n",
       "      <th>Share</th>\n",
       "      <th>Bad Rate</th>\n",
       "      <th>Distribution Good</th>\n",
       "      <th>Distribution Bad</th>\n",
       "      <th>WoE</th>\n",
       "      <th>IV</th>\n",
       "    </tr>\n",
       "  </thead>\n",
       "  <tbody>\n",
       "    <tr>\n",
       "      <th>0</th>\n",
       "      <td>CNT_CHILDREN</td>\n",
       "      <td>0</td>\n",
       "      <td>15907</td>\n",
       "      <td>15777</td>\n",
       "      <td>130</td>\n",
       "      <td>0.632913</td>\n",
       "      <td>0.008173</td>\n",
       "      <td>0.632852</td>\n",
       "      <td>0.640394</td>\n",
       "      <td>-0.011847</td>\n",
       "      <td>0.000089</td>\n",
       "    </tr>\n",
       "    <tr>\n",
       "      <th>1</th>\n",
       "      <td>CNT_CHILDREN</td>\n",
       "      <td>1</td>\n",
       "      <td>6118</td>\n",
       "      <td>6066</td>\n",
       "      <td>52</td>\n",
       "      <td>0.243425</td>\n",
       "      <td>0.008500</td>\n",
       "      <td>0.243321</td>\n",
       "      <td>0.256158</td>\n",
       "      <td>-0.051410</td>\n",
       "      <td>0.000660</td>\n",
       "    </tr>\n",
       "    <tr>\n",
       "      <th>2</th>\n",
       "      <td>CNT_CHILDREN</td>\n",
       "      <td>2More</td>\n",
       "      <td>3108</td>\n",
       "      <td>3087</td>\n",
       "      <td>21</td>\n",
       "      <td>0.123662</td>\n",
       "      <td>0.006757</td>\n",
       "      <td>0.123827</td>\n",
       "      <td>0.103448</td>\n",
       "      <td>0.179811</td>\n",
       "      <td>0.003664</td>\n",
       "    </tr>\n",
       "  </tbody>\n",
       "</table>\n",
       "</div>"
      ]
     },
     "execution_count": 33,
     "metadata": {},
     "output_type": "execute_result"
    }
   ],
   "execution_count": 33
  },
  {
   "metadata": {
    "ExecuteTime": {
     "end_time": "2025-02-12T09:46:04.825932Z",
     "start_time": "2025-02-12T09:46:04.798461Z"
    }
   },
   "cell_type": "code",
   "source": "filtered_application_df = convert_dummy(filtered_application_df,'CNT_CHILDREN')",
   "id": "e24ee5ec5ce90b95",
   "outputs": [],
   "execution_count": 34
  },
  {
   "metadata": {},
   "cell_type": "markdown",
   "source": [
    "## Age\n",
    "- Bucketing Continuous Variables"
   ],
   "id": "fb74f89acf05a011"
  },
  {
   "metadata": {},
   "cell_type": "code",
   "outputs": [],
   "execution_count": null,
   "source": [
    "# new_data['Age']=-(new_data['DAYS_BIRTH'])//365\n",
    "# print(new_data['Age'].value_counts(bins=10,normalize=True,sort=False))\n",
    "# new_data['Age'].plot(kind='hist',bins=20,density=True)"
   ],
   "id": "45e4b4b900a2ce29"
  },
  {
   "metadata": {},
   "cell_type": "code",
   "source": [
    "# new_data = get_category(new_data,'Age',5, [\"lowest\",\"low\",\"medium\",\"high\",\"highest\"])\n",
    "# iv, data = calc_iv(new_data,'gp_Age','target')\n",
    "# ivtable.loc[ivtable['variable']=='DAYS_BIRTH','IV'] = iv\n",
    "# data.head()"
   ],
   "id": "5b796f188031e9bf",
   "outputs": [],
   "execution_count": null
  },
  {
   "metadata": {},
   "cell_type": "code",
   "source": "# new_data = convert_dummy(new_data,'gp_Age')",
   "id": "e7f5a95c82c4738b",
   "outputs": [],
   "execution_count": null
  },
  {
   "metadata": {},
   "cell_type": "markdown",
   "source": [
    "## Age\n",
    "- Z-score Continuous Variables"
   ],
   "id": "b25f4fd53be89bef"
  },
  {
   "metadata": {
    "ExecuteTime": {
     "end_time": "2025-02-12T09:46:41.939066Z",
     "start_time": "2025-02-12T09:46:41.923834Z"
    }
   },
   "cell_type": "code",
   "source": [
    "# For Z-score normalization\n",
    "scaler_zscore = StandardScaler()\n",
    "zscore_cols = ['APPLICATION_AGE']\n",
    "# Create new column names for normalized features\n",
    "zscore_cols_scaled = [col + '_zscore' for col in zscore_cols]\n",
    "# Transform and assign to new columns\n",
    "filtered_application_df[zscore_cols_scaled] = scaler_zscore.fit_transform(filtered_application_df[zscore_cols])"
   ],
   "id": "871934efaba59ac1",
   "outputs": [],
   "execution_count": 36
  },
  {
   "metadata": {
    "ExecuteTime": {
     "end_time": "2025-02-12T09:46:53.944152Z",
     "start_time": "2025-02-12T09:46:53.935161Z"
    }
   },
   "cell_type": "code",
   "source": "filtered_application_df = filtered_application_df.drop(['APPLICATION_AGE'], axis=1)",
   "id": "513683c47b32af5b",
   "outputs": [],
   "execution_count": 37
  },
  {
   "metadata": {},
   "cell_type": "markdown",
   "source": [
    "## Working Years \n",
    "- Equal-length Bucketing"
   ],
   "id": "ce6893d9af880031"
  },
  {
   "metadata": {},
   "cell_type": "code",
   "source": [
    "# new_data['worktm']=-(new_data['DAYS_EMPLOYED'])//365\n",
    "# new_data[new_data['worktm']<0] = np.nan # replace by na\n",
    "# new_data['DAYS_EMPLOYED']\n",
    "# new_data['worktm'].fillna(new_data['worktm'].mean(),inplace=True) #replace na by mean\n",
    "# print(new_data['worktm'].value_counts(bins=20,normalize=True,sort=False))\n",
    "# new_data['worktm'].plot(kind='hist',bins=20,density=True)"
   ],
   "id": "e9303bb5bf8bf3a",
   "outputs": [],
   "execution_count": null
  },
  {
   "metadata": {},
   "cell_type": "code",
   "source": [
    "# new_data = get_category(new_data,'worktm',5, [\"lowest\",\"low\",\"medium\",\"high\",\"highest\"])\n",
    "# iv, data=calc_iv(new_data,'gp_worktm','target')\n",
    "# ivtable.loc[ivtable['variable']=='DAYS_EMPLOYED','IV']=iv\n",
    "# data.head()"
   ],
   "id": "7215c3ca4e35ffd4",
   "outputs": [],
   "execution_count": null
  },
  {
   "metadata": {},
   "cell_type": "code",
   "source": "# new_data = convert_dummy(new_data,'gp_worktm')",
   "id": "2373b3baa5ffc1f6",
   "outputs": [],
   "execution_count": null
  },
  {
   "metadata": {},
   "cell_type": "markdown",
   "source": [
    "## Working Years \n",
    "- Min-Max"
   ],
   "id": "902af647b6011aff"
  },
  {
   "metadata": {
    "ExecuteTime": {
     "end_time": "2025-02-12T09:49:18.541405Z",
     "start_time": "2025-02-12T09:49:18.511433Z"
    }
   },
   "cell_type": "code",
   "source": [
    "from sklearn.preprocessing import MinMaxScaler\n",
    "\n",
    "# วิธีใช้ Min-Max\n",
    "scaler = MinMaxScaler()\n",
    "filtered_application_df['YEARS_OF_WORKING_normalized'] = scaler.fit_transform(filtered_application_df[['YEARS_OF_WORKING']])\n",
    "filtered_application_df = filtered_application_df.drop(['YEARS_OF_WORKING'], axis=1)"
   ],
   "id": "c848c2c94bd41ce4",
   "outputs": [],
   "execution_count": 41
  },
  {
   "metadata": {},
   "cell_type": "markdown",
   "source": [
    "- Family Size\n",
    "- For CNT_FAM_MEMBERS, which is a continuous variable, True/False Encoding is used. Then, the IV (Information Value) of each group is compared, and the top 2 groups with the highest IV are selected for further analysis.\n",
    "    - Since we are selecting the top 2 groups with the highest IV:\n",
    "\t- 3 or more  (0.011779)\n",
    "\t- 1  (0.003951)"
   ],
   "id": "a4ee58fff5fb2e61"
  },
  {
   "metadata": {
    "ExecuteTime": {
     "end_time": "2025-02-12T09:52:26.149393Z",
     "start_time": "2025-02-12T09:52:26.130547Z"
    }
   },
   "cell_type": "code",
   "source": "filtered_application_df['CNT_FAM_MEMBERS'].value_counts(sort=False)",
   "id": "31683aa8594c934d",
   "outputs": [
    {
     "data": {
      "text/plain": [
       "CNT_FAM_MEMBERS\n",
       "2.0     12697\n",
       "1.0      4262\n",
       "5.0       307\n",
       "3.0      5216\n",
       "4.0      2576\n",
       "6.0        51\n",
       "15.0        3\n",
       "7.0        18\n",
       "20.0        1\n",
       "9.0         2\n",
       "Name: count, dtype: int64"
      ]
     },
     "execution_count": 44,
     "metadata": {},
     "output_type": "execute_result"
    }
   ],
   "execution_count": 44
  },
  {
   "metadata": {
    "ExecuteTime": {
     "end_time": "2025-02-12T09:52:34.167610Z",
     "start_time": "2025-02-12T09:52:34.117308Z"
    }
   },
   "cell_type": "code",
   "source": [
    "filtered_application_df['CNT_FAM_MEMBERS']=filtered_application_df['CNT_FAM_MEMBERS'].astype(int)\n",
    "filtered_application_df['CNT_FAM_MEMBERS']=filtered_application_df['CNT_FAM_MEMBERS']\n",
    "filtered_application_df['CNT_FAM_MEMBERS']=filtered_application_df['CNT_FAM_MEMBERS'].astype(object)\n",
    "filtered_application_df.loc[filtered_application_df['CNT_FAM_MEMBERS']>=3,'CNT_FAM_MEMBERS']='3more'\n",
    "iv, data=calc_iv(filtered_application_df,'CNT_FAM_MEMBERS','target')\n",
    "ivtable.loc[ivtable['variable']=='CNT_FAM_MEMBERS','IV']=iv\n",
    "data.head()"
   ],
   "id": "36a46dab94dde24b",
   "outputs": [
    {
     "name": "stdout",
     "output_type": "stream",
     "text": [
      "This variable's IV is: 0.016052843301034694\n",
      "CNT_FAM_MEMBERS\n",
      "2        12697\n",
      "3more     8174\n",
      "1         4262\n",
      "Name: count, dtype: int64\n"
     ]
    },
    {
     "data": {
      "text/plain": [
       "          Variable  Value    All   Good  Bad     Share  Bad Rate  \\\n",
       "0  CNT_FAM_MEMBERS      1   4262   4218   44  0.169578  0.010324   \n",
       "1  CNT_FAM_MEMBERS      2  12697  12597  100  0.505192  0.007876   \n",
       "2  CNT_FAM_MEMBERS  3more   8174   8115   59  0.325230  0.007218   \n",
       "\n",
       "   Distribution Good  Distribution Bad       WoE        IV  \n",
       "0           0.169194          0.216749 -0.247694  0.011779  \n",
       "1           0.505295          0.492611  0.025423  0.000322  \n",
       "2           0.325511          0.290640  0.113311  0.003951  "
      ],
      "text/html": [
       "<div>\n",
       "<style scoped>\n",
       "    .dataframe tbody tr th:only-of-type {\n",
       "        vertical-align: middle;\n",
       "    }\n",
       "\n",
       "    .dataframe tbody tr th {\n",
       "        vertical-align: top;\n",
       "    }\n",
       "\n",
       "    .dataframe thead th {\n",
       "        text-align: right;\n",
       "    }\n",
       "</style>\n",
       "<table border=\"1\" class=\"dataframe\">\n",
       "  <thead>\n",
       "    <tr style=\"text-align: right;\">\n",
       "      <th></th>\n",
       "      <th>Variable</th>\n",
       "      <th>Value</th>\n",
       "      <th>All</th>\n",
       "      <th>Good</th>\n",
       "      <th>Bad</th>\n",
       "      <th>Share</th>\n",
       "      <th>Bad Rate</th>\n",
       "      <th>Distribution Good</th>\n",
       "      <th>Distribution Bad</th>\n",
       "      <th>WoE</th>\n",
       "      <th>IV</th>\n",
       "    </tr>\n",
       "  </thead>\n",
       "  <tbody>\n",
       "    <tr>\n",
       "      <th>0</th>\n",
       "      <td>CNT_FAM_MEMBERS</td>\n",
       "      <td>1</td>\n",
       "      <td>4262</td>\n",
       "      <td>4218</td>\n",
       "      <td>44</td>\n",
       "      <td>0.169578</td>\n",
       "      <td>0.010324</td>\n",
       "      <td>0.169194</td>\n",
       "      <td>0.216749</td>\n",
       "      <td>-0.247694</td>\n",
       "      <td>0.011779</td>\n",
       "    </tr>\n",
       "    <tr>\n",
       "      <th>1</th>\n",
       "      <td>CNT_FAM_MEMBERS</td>\n",
       "      <td>2</td>\n",
       "      <td>12697</td>\n",
       "      <td>12597</td>\n",
       "      <td>100</td>\n",
       "      <td>0.505192</td>\n",
       "      <td>0.007876</td>\n",
       "      <td>0.505295</td>\n",
       "      <td>0.492611</td>\n",
       "      <td>0.025423</td>\n",
       "      <td>0.000322</td>\n",
       "    </tr>\n",
       "    <tr>\n",
       "      <th>2</th>\n",
       "      <td>CNT_FAM_MEMBERS</td>\n",
       "      <td>3more</td>\n",
       "      <td>8174</td>\n",
       "      <td>8115</td>\n",
       "      <td>59</td>\n",
       "      <td>0.325230</td>\n",
       "      <td>0.007218</td>\n",
       "      <td>0.325511</td>\n",
       "      <td>0.290640</td>\n",
       "      <td>0.113311</td>\n",
       "      <td>0.003951</td>\n",
       "    </tr>\n",
       "  </tbody>\n",
       "</table>\n",
       "</div>"
      ]
     },
     "execution_count": 45,
     "metadata": {},
     "output_type": "execute_result"
    }
   ],
   "execution_count": 45
  },
  {
   "metadata": {
    "ExecuteTime": {
     "end_time": "2025-02-12T09:52:40.380776Z",
     "start_time": "2025-02-12T09:52:40.364999Z"
    }
   },
   "cell_type": "code",
   "source": "filtered_application_df = convert_dummy(filtered_application_df,'CNT_FAM_MEMBERS')",
   "id": "f74d198ee409a17f",
   "outputs": [],
   "execution_count": 46
  },
  {
   "metadata": {},
   "cell_type": "markdown",
   "source": [
    "### Categorical Features all True/False Encoding is used.\n",
    "- Income Type"
   ],
   "id": "63eced3f7c0e68e2"
  },
  {
   "metadata": {
    "ExecuteTime": {
     "end_time": "2025-02-12T09:55:00.024075Z",
     "start_time": "2025-02-12T09:54:59.949526Z"
    }
   },
   "cell_type": "code",
   "source": [
    "print(filtered_application_df['NAME_INCOME_TYPE'].value_counts(sort=False))\n",
    "print(filtered_application_df['NAME_INCOME_TYPE'].value_counts(normalize=True,sort=False))\n",
    "filtered_application_df.loc[filtered_application_df['NAME_INCOME_TYPE']=='Pensioner','NAME_INCOME_TYPE']='State servant'\n",
    "filtered_application_df.loc[filtered_application_df['NAME_INCOME_TYPE']=='Student','NAME_INCOME_TYPE']='State servant'\n",
    "iv, data=calc_iv(filtered_application_df,'NAME_INCOME_TYPE','target')\n",
    "ivtable.loc[ivtable['variable']=='NAME_INCOME_TYPE','IV']=iv\n",
    "data.head()"
   ],
   "id": "5d34894b9076e59d",
   "outputs": [
    {
     "name": "stdout",
     "output_type": "stream",
     "text": [
      "NAME_INCOME_TYPE\n",
      "Working                 15622\n",
      "Commercial associate     7051\n",
      "State servant            2437\n",
      "Student                    10\n",
      "Pensioner                  13\n",
      "Name: count, dtype: int64\n",
      "NAME_INCOME_TYPE\n",
      "Working                 0.621573\n",
      "Commercial associate    0.280547\n",
      "State servant           0.096964\n",
      "Student                 0.000398\n",
      "Pensioner               0.000517\n",
      "Name: proportion, dtype: float64\n",
      "This variable's IV is: 0.016796668855467475\n",
      "NAME_INCOME_TYPE\n",
      "Working                 15622\n",
      "Commercial associate     7051\n",
      "State servant            2460\n",
      "Name: count, dtype: int64\n"
     ]
    },
    {
     "data": {
      "text/plain": [
       "           Variable                 Value    All   Good  Bad     Share  \\\n",
       "0  NAME_INCOME_TYPE  Commercial associate   7051   6982   69  0.280547   \n",
       "1  NAME_INCOME_TYPE         State servant   2460   2442   18  0.097879   \n",
       "2  NAME_INCOME_TYPE               Working  15622  15506  116  0.621573   \n",
       "\n",
       "   Bad Rate  Distribution Good  Distribution Bad       WoE        IV  \n",
       "0  0.009786           0.280064          0.339901 -0.193637  0.011587  \n",
       "1  0.007317           0.097954          0.088670  0.099580  0.000925  \n",
       "2  0.007425           0.621982          0.571429  0.084771  0.004285  "
      ],
      "text/html": [
       "<div>\n",
       "<style scoped>\n",
       "    .dataframe tbody tr th:only-of-type {\n",
       "        vertical-align: middle;\n",
       "    }\n",
       "\n",
       "    .dataframe tbody tr th {\n",
       "        vertical-align: top;\n",
       "    }\n",
       "\n",
       "    .dataframe thead th {\n",
       "        text-align: right;\n",
       "    }\n",
       "</style>\n",
       "<table border=\"1\" class=\"dataframe\">\n",
       "  <thead>\n",
       "    <tr style=\"text-align: right;\">\n",
       "      <th></th>\n",
       "      <th>Variable</th>\n",
       "      <th>Value</th>\n",
       "      <th>All</th>\n",
       "      <th>Good</th>\n",
       "      <th>Bad</th>\n",
       "      <th>Share</th>\n",
       "      <th>Bad Rate</th>\n",
       "      <th>Distribution Good</th>\n",
       "      <th>Distribution Bad</th>\n",
       "      <th>WoE</th>\n",
       "      <th>IV</th>\n",
       "    </tr>\n",
       "  </thead>\n",
       "  <tbody>\n",
       "    <tr>\n",
       "      <th>0</th>\n",
       "      <td>NAME_INCOME_TYPE</td>\n",
       "      <td>Commercial associate</td>\n",
       "      <td>7051</td>\n",
       "      <td>6982</td>\n",
       "      <td>69</td>\n",
       "      <td>0.280547</td>\n",
       "      <td>0.009786</td>\n",
       "      <td>0.280064</td>\n",
       "      <td>0.339901</td>\n",
       "      <td>-0.193637</td>\n",
       "      <td>0.011587</td>\n",
       "    </tr>\n",
       "    <tr>\n",
       "      <th>1</th>\n",
       "      <td>NAME_INCOME_TYPE</td>\n",
       "      <td>State servant</td>\n",
       "      <td>2460</td>\n",
       "      <td>2442</td>\n",
       "      <td>18</td>\n",
       "      <td>0.097879</td>\n",
       "      <td>0.007317</td>\n",
       "      <td>0.097954</td>\n",
       "      <td>0.088670</td>\n",
       "      <td>0.099580</td>\n",
       "      <td>0.000925</td>\n",
       "    </tr>\n",
       "    <tr>\n",
       "      <th>2</th>\n",
       "      <td>NAME_INCOME_TYPE</td>\n",
       "      <td>Working</td>\n",
       "      <td>15622</td>\n",
       "      <td>15506</td>\n",
       "      <td>116</td>\n",
       "      <td>0.621573</td>\n",
       "      <td>0.007425</td>\n",
       "      <td>0.621982</td>\n",
       "      <td>0.571429</td>\n",
       "      <td>0.084771</td>\n",
       "      <td>0.004285</td>\n",
       "    </tr>\n",
       "  </tbody>\n",
       "</table>\n",
       "</div>"
      ]
     },
     "execution_count": 48,
     "metadata": {},
     "output_type": "execute_result"
    }
   ],
   "execution_count": 48
  },
  {
   "metadata": {
    "ExecuteTime": {
     "end_time": "2025-02-12T09:55:00.957800Z",
     "start_time": "2025-02-12T09:55:00.949876Z"
    }
   },
   "cell_type": "code",
   "source": "filtered_application_df = convert_dummy(filtered_application_df,'NAME_INCOME_TYPE')",
   "id": "eadc6478b55efd19",
   "outputs": [],
   "execution_count": 49
  },
  {
   "metadata": {
    "ExecuteTime": {
     "end_time": "2025-02-12T09:55:01.750289Z",
     "start_time": "2025-02-12T09:55:01.748437Z"
    }
   },
   "cell_type": "code",
   "source": "safe_filtered_application_df_2 = filtered_application_df",
   "id": "33f6fd42be15c2ab",
   "outputs": [],
   "execution_count": 50
  },
  {
   "metadata": {},
   "cell_type": "markdown",
   "source": "## Occupation Type",
   "id": "925c8c9ce0939905"
  },
  {
   "metadata": {
    "ExecuteTime": {
     "end_time": "2025-02-12T09:55:02.705674Z",
     "start_time": "2025-02-12T09:55:02.656847Z"
    }
   },
   "cell_type": "code",
   "source": [
    "filtered_application_df.loc[(filtered_application_df['OCCUPATION_TYPE']=='Cleaning staff') | (filtered_application_df['OCCUPATION_TYPE']=='Cooking staff') | (filtered_application_df['OCCUPATION_TYPE']=='Drivers') | (filtered_application_df['OCCUPATION_TYPE']=='Laborers') | (filtered_application_df['OCCUPATION_TYPE']=='Low-skill Laborers') | (filtered_application_df['OCCUPATION_TYPE']=='Security staff') | (filtered_application_df['OCCUPATION_TYPE']=='Waiters/barmen staff'),'OCCUPATION_TYPE']='Laborwk'\n",
    "filtered_application_df.loc[(filtered_application_df['OCCUPATION_TYPE']=='Accountants') | (filtered_application_df['OCCUPATION_TYPE']=='Core staff') | (filtered_application_df['OCCUPATION_TYPE']=='HR staff') | (filtered_application_df['OCCUPATION_TYPE']=='Medicine staff') | (filtered_application_df['OCCUPATION_TYPE']=='Private service staff') | (filtered_application_df['OCCUPATION_TYPE']=='Realty agents') | (filtered_application_df['OCCUPATION_TYPE']=='Sales staff') | (filtered_application_df['OCCUPATION_TYPE']=='Secretaries'),'OCCUPATION_TYPE']='officewk'\n",
    "filtered_application_df.loc[(filtered_application_df['OCCUPATION_TYPE']=='Managers') | (filtered_application_df['OCCUPATION_TYPE']=='High skill tech staff') | (filtered_application_df['OCCUPATION_TYPE']=='IT staff'),'OCCUPATION_TYPE']='hightecwk'\n",
    "print(filtered_application_df['OCCUPATION_TYPE'].value_counts())\n",
    "iv, data=calc_iv(filtered_application_df,'OCCUPATION_TYPE','target')\n",
    "ivtable.loc[ivtable['variable']=='OCCUPATION_TYPE','IV']=iv\n",
    "data.head() "
   ],
   "id": "b0fb1ce8e64cf860",
   "outputs": [
    {
     "name": "stdout",
     "output_type": "stream",
     "text": [
      "OCCUPATION_TYPE\n",
      "Laborwk      10496\n",
      "officewk     10182\n",
      "hightecwk     4455\n",
      "Name: count, dtype: int64\n",
      "This variable's IV is: 0.0003586591854561907\n",
      "OCCUPATION_TYPE\n",
      "Laborwk      10496\n",
      "officewk     10182\n",
      "hightecwk     4455\n",
      "Name: count, dtype: int64\n"
     ]
    },
    {
     "data": {
      "text/plain": [
       "          Variable      Value    All   Good  Bad     Share  Bad Rate  \\\n",
       "0  OCCUPATION_TYPE    Laborwk  10496  10412   84  0.417618  0.008003   \n",
       "1  OCCUPATION_TYPE  hightecwk   4455   4420   35  0.177257  0.007856   \n",
       "2  OCCUPATION_TYPE   officewk  10182  10098   84  0.405125  0.008250   \n",
       "\n",
       "   Distribution Good  Distribution Bad       WoE        IV  \n",
       "0           0.417649          0.413793  0.009276  0.000036  \n",
       "1           0.177296          0.172414  0.027926  0.000136  \n",
       "2           0.405054          0.413793 -0.021345  0.000187  "
      ],
      "text/html": [
       "<div>\n",
       "<style scoped>\n",
       "    .dataframe tbody tr th:only-of-type {\n",
       "        vertical-align: middle;\n",
       "    }\n",
       "\n",
       "    .dataframe tbody tr th {\n",
       "        vertical-align: top;\n",
       "    }\n",
       "\n",
       "    .dataframe thead th {\n",
       "        text-align: right;\n",
       "    }\n",
       "</style>\n",
       "<table border=\"1\" class=\"dataframe\">\n",
       "  <thead>\n",
       "    <tr style=\"text-align: right;\">\n",
       "      <th></th>\n",
       "      <th>Variable</th>\n",
       "      <th>Value</th>\n",
       "      <th>All</th>\n",
       "      <th>Good</th>\n",
       "      <th>Bad</th>\n",
       "      <th>Share</th>\n",
       "      <th>Bad Rate</th>\n",
       "      <th>Distribution Good</th>\n",
       "      <th>Distribution Bad</th>\n",
       "      <th>WoE</th>\n",
       "      <th>IV</th>\n",
       "    </tr>\n",
       "  </thead>\n",
       "  <tbody>\n",
       "    <tr>\n",
       "      <th>0</th>\n",
       "      <td>OCCUPATION_TYPE</td>\n",
       "      <td>Laborwk</td>\n",
       "      <td>10496</td>\n",
       "      <td>10412</td>\n",
       "      <td>84</td>\n",
       "      <td>0.417618</td>\n",
       "      <td>0.008003</td>\n",
       "      <td>0.417649</td>\n",
       "      <td>0.413793</td>\n",
       "      <td>0.009276</td>\n",
       "      <td>0.000036</td>\n",
       "    </tr>\n",
       "    <tr>\n",
       "      <th>1</th>\n",
       "      <td>OCCUPATION_TYPE</td>\n",
       "      <td>hightecwk</td>\n",
       "      <td>4455</td>\n",
       "      <td>4420</td>\n",
       "      <td>35</td>\n",
       "      <td>0.177257</td>\n",
       "      <td>0.007856</td>\n",
       "      <td>0.177296</td>\n",
       "      <td>0.172414</td>\n",
       "      <td>0.027926</td>\n",
       "      <td>0.000136</td>\n",
       "    </tr>\n",
       "    <tr>\n",
       "      <th>2</th>\n",
       "      <td>OCCUPATION_TYPE</td>\n",
       "      <td>officewk</td>\n",
       "      <td>10182</td>\n",
       "      <td>10098</td>\n",
       "      <td>84</td>\n",
       "      <td>0.405125</td>\n",
       "      <td>0.008250</td>\n",
       "      <td>0.405054</td>\n",
       "      <td>0.413793</td>\n",
       "      <td>-0.021345</td>\n",
       "      <td>0.000187</td>\n",
       "    </tr>\n",
       "  </tbody>\n",
       "</table>\n",
       "</div>"
      ]
     },
     "execution_count": 51,
     "metadata": {},
     "output_type": "execute_result"
    }
   ],
   "execution_count": 51
  },
  {
   "metadata": {
    "ExecuteTime": {
     "end_time": "2025-02-12T09:55:03.694953Z",
     "start_time": "2025-02-12T09:55:03.684331Z"
    }
   },
   "cell_type": "code",
   "source": "filtered_application_df = convert_dummy(filtered_application_df,'OCCUPATION_TYPE')",
   "id": "3eca448904ff3c03",
   "outputs": [],
   "execution_count": 52
  },
  {
   "metadata": {},
   "cell_type": "markdown",
   "source": "## House Type",
   "id": "296145bd580eedb4"
  },
  {
   "metadata": {
    "ExecuteTime": {
     "end_time": "2025-02-12T09:55:05.755728Z",
     "start_time": "2025-02-12T09:55:05.703615Z"
    }
   },
   "cell_type": "code",
   "source": [
    "iv, data=calc_iv(filtered_application_df,'NAME_HOUSING_TYPE','target')\n",
    "ivtable.loc[ivtable['variable']=='NAME_HOUSING_TYPE','IV']=iv\n",
    "data.head()"
   ],
   "id": "f5d5e8a0a26fd603",
   "outputs": [
    {
     "name": "stdout",
     "output_type": "stream",
     "text": [
      "This variable's IV is: 0.053800159893327607\n",
      "NAME_HOUSING_TYPE\n",
      "House / apartment      22101\n",
      "With parents            1430\n",
      "Municipal apartment      812\n",
      "Rented apartment         439\n",
      "Office apartment         199\n",
      "Co-op apartment          152\n",
      "Name: count, dtype: int64\n"
     ]
    },
    {
     "data": {
      "text/plain": [
       "            Variable                Value    All   Good  Bad     Share  \\\n",
       "0  NAME_HOUSING_TYPE      Co-op apartment    152    149    3  0.006048   \n",
       "1  NAME_HOUSING_TYPE    House / apartment  22101  21928  173  0.879362   \n",
       "2  NAME_HOUSING_TYPE  Municipal apartment    812    799   13  0.032308   \n",
       "3  NAME_HOUSING_TYPE     Office apartment    199    195    4  0.007918   \n",
       "4  NAME_HOUSING_TYPE     Rented apartment    439    436    3  0.017467   \n",
       "\n",
       "   Bad Rate  Distribution Good  Distribution Bad       WoE        IV  \n",
       "0  0.019737           0.005977          0.014778 -0.905287  0.007968  \n",
       "1  0.007828           0.879583          0.852217  0.031607  0.000865  \n",
       "2  0.016010           0.032050          0.064039 -0.692210  0.022144  \n",
       "3  0.020101           0.007822          0.019704 -0.923916  0.010978  \n",
       "4  0.006834           0.017489          0.014778  0.168409  0.000456  "
      ],
      "text/html": [
       "<div>\n",
       "<style scoped>\n",
       "    .dataframe tbody tr th:only-of-type {\n",
       "        vertical-align: middle;\n",
       "    }\n",
       "\n",
       "    .dataframe tbody tr th {\n",
       "        vertical-align: top;\n",
       "    }\n",
       "\n",
       "    .dataframe thead th {\n",
       "        text-align: right;\n",
       "    }\n",
       "</style>\n",
       "<table border=\"1\" class=\"dataframe\">\n",
       "  <thead>\n",
       "    <tr style=\"text-align: right;\">\n",
       "      <th></th>\n",
       "      <th>Variable</th>\n",
       "      <th>Value</th>\n",
       "      <th>All</th>\n",
       "      <th>Good</th>\n",
       "      <th>Bad</th>\n",
       "      <th>Share</th>\n",
       "      <th>Bad Rate</th>\n",
       "      <th>Distribution Good</th>\n",
       "      <th>Distribution Bad</th>\n",
       "      <th>WoE</th>\n",
       "      <th>IV</th>\n",
       "    </tr>\n",
       "  </thead>\n",
       "  <tbody>\n",
       "    <tr>\n",
       "      <th>0</th>\n",
       "      <td>NAME_HOUSING_TYPE</td>\n",
       "      <td>Co-op apartment</td>\n",
       "      <td>152</td>\n",
       "      <td>149</td>\n",
       "      <td>3</td>\n",
       "      <td>0.006048</td>\n",
       "      <td>0.019737</td>\n",
       "      <td>0.005977</td>\n",
       "      <td>0.014778</td>\n",
       "      <td>-0.905287</td>\n",
       "      <td>0.007968</td>\n",
       "    </tr>\n",
       "    <tr>\n",
       "      <th>1</th>\n",
       "      <td>NAME_HOUSING_TYPE</td>\n",
       "      <td>House / apartment</td>\n",
       "      <td>22101</td>\n",
       "      <td>21928</td>\n",
       "      <td>173</td>\n",
       "      <td>0.879362</td>\n",
       "      <td>0.007828</td>\n",
       "      <td>0.879583</td>\n",
       "      <td>0.852217</td>\n",
       "      <td>0.031607</td>\n",
       "      <td>0.000865</td>\n",
       "    </tr>\n",
       "    <tr>\n",
       "      <th>2</th>\n",
       "      <td>NAME_HOUSING_TYPE</td>\n",
       "      <td>Municipal apartment</td>\n",
       "      <td>812</td>\n",
       "      <td>799</td>\n",
       "      <td>13</td>\n",
       "      <td>0.032308</td>\n",
       "      <td>0.016010</td>\n",
       "      <td>0.032050</td>\n",
       "      <td>0.064039</td>\n",
       "      <td>-0.692210</td>\n",
       "      <td>0.022144</td>\n",
       "    </tr>\n",
       "    <tr>\n",
       "      <th>3</th>\n",
       "      <td>NAME_HOUSING_TYPE</td>\n",
       "      <td>Office apartment</td>\n",
       "      <td>199</td>\n",
       "      <td>195</td>\n",
       "      <td>4</td>\n",
       "      <td>0.007918</td>\n",
       "      <td>0.020101</td>\n",
       "      <td>0.007822</td>\n",
       "      <td>0.019704</td>\n",
       "      <td>-0.923916</td>\n",
       "      <td>0.010978</td>\n",
       "    </tr>\n",
       "    <tr>\n",
       "      <th>4</th>\n",
       "      <td>NAME_HOUSING_TYPE</td>\n",
       "      <td>Rented apartment</td>\n",
       "      <td>439</td>\n",
       "      <td>436</td>\n",
       "      <td>3</td>\n",
       "      <td>0.017467</td>\n",
       "      <td>0.006834</td>\n",
       "      <td>0.017489</td>\n",
       "      <td>0.014778</td>\n",
       "      <td>0.168409</td>\n",
       "      <td>0.000456</td>\n",
       "    </tr>\n",
       "  </tbody>\n",
       "</table>\n",
       "</div>"
      ]
     },
     "execution_count": 54,
     "metadata": {},
     "output_type": "execute_result"
    }
   ],
   "execution_count": 54
  },
  {
   "metadata": {
    "ExecuteTime": {
     "end_time": "2025-02-12T09:55:06.432516Z",
     "start_time": "2025-02-12T09:55:06.422590Z"
    }
   },
   "cell_type": "code",
   "source": "filtered_application_df = convert_dummy(filtered_application_df,'NAME_HOUSING_TYPE')",
   "id": "6e38c18d6588a1e5",
   "outputs": [],
   "execution_count": 55
  },
  {
   "metadata": {},
   "cell_type": "markdown",
   "source": "## Education",
   "id": "2fa96af7eae38d8"
  },
  {
   "metadata": {
    "ExecuteTime": {
     "end_time": "2025-02-12T09:55:22.040999Z",
     "start_time": "2025-02-12T09:55:21.968481Z"
    }
   },
   "cell_type": "code",
   "source": [
    "filtered_application_df.loc[filtered_application_df['NAME_EDUCATION_TYPE']=='Academic degree','NAME_EDUCATION_TYPE']='Higher education'\n",
    "iv, data=calc_iv(filtered_application_df,'NAME_EDUCATION_TYPE','target')\n",
    "ivtable.loc[ivtable['variable']=='NAME_EDUCATION_TYPE','IV']=iv\n",
    "data.head()"
   ],
   "id": "5673dce26c15e0e4",
   "outputs": [
    {
     "name": "stdout",
     "output_type": "stream",
     "text": [
      "This variable's IV is: 0.03747641717733541\n",
      "NAME_EDUCATION_TYPE\n",
      "Secondary / secondary special    16807\n",
      "Higher education                  7146\n",
      "Incomplete higher                  993\n",
      "Lower secondary                    187\n",
      "Name: count, dtype: int64\n"
     ]
    },
    {
     "data": {
      "text/plain": [
       "              Variable                          Value    All   Good  Bad  \\\n",
       "0  NAME_EDUCATION_TYPE               Higher education   7146   7081   65   \n",
       "1  NAME_EDUCATION_TYPE              Incomplete higher    993    982   11   \n",
       "2  NAME_EDUCATION_TYPE                Lower secondary    187    182    5   \n",
       "3  NAME_EDUCATION_TYPE  Secondary / secondary special  16807  16685  122   \n",
       "\n",
       "      Share  Bad Rate  Distribution Good  Distribution Bad       WoE        IV  \n",
       "0  0.284327  0.009096           0.284035          0.320197 -0.119838  0.004334  \n",
       "1  0.039510  0.011078           0.039390          0.054187 -0.318925  0.004719  \n",
       "2  0.007440  0.026738           0.007300          0.024631 -1.216052  0.021074  \n",
       "3  0.668722  0.007259           0.669274          0.600985  0.107623  0.007349  "
      ],
      "text/html": [
       "<div>\n",
       "<style scoped>\n",
       "    .dataframe tbody tr th:only-of-type {\n",
       "        vertical-align: middle;\n",
       "    }\n",
       "\n",
       "    .dataframe tbody tr th {\n",
       "        vertical-align: top;\n",
       "    }\n",
       "\n",
       "    .dataframe thead th {\n",
       "        text-align: right;\n",
       "    }\n",
       "</style>\n",
       "<table border=\"1\" class=\"dataframe\">\n",
       "  <thead>\n",
       "    <tr style=\"text-align: right;\">\n",
       "      <th></th>\n",
       "      <th>Variable</th>\n",
       "      <th>Value</th>\n",
       "      <th>All</th>\n",
       "      <th>Good</th>\n",
       "      <th>Bad</th>\n",
       "      <th>Share</th>\n",
       "      <th>Bad Rate</th>\n",
       "      <th>Distribution Good</th>\n",
       "      <th>Distribution Bad</th>\n",
       "      <th>WoE</th>\n",
       "      <th>IV</th>\n",
       "    </tr>\n",
       "  </thead>\n",
       "  <tbody>\n",
       "    <tr>\n",
       "      <th>0</th>\n",
       "      <td>NAME_EDUCATION_TYPE</td>\n",
       "      <td>Higher education</td>\n",
       "      <td>7146</td>\n",
       "      <td>7081</td>\n",
       "      <td>65</td>\n",
       "      <td>0.284327</td>\n",
       "      <td>0.009096</td>\n",
       "      <td>0.284035</td>\n",
       "      <td>0.320197</td>\n",
       "      <td>-0.119838</td>\n",
       "      <td>0.004334</td>\n",
       "    </tr>\n",
       "    <tr>\n",
       "      <th>1</th>\n",
       "      <td>NAME_EDUCATION_TYPE</td>\n",
       "      <td>Incomplete higher</td>\n",
       "      <td>993</td>\n",
       "      <td>982</td>\n",
       "      <td>11</td>\n",
       "      <td>0.039510</td>\n",
       "      <td>0.011078</td>\n",
       "      <td>0.039390</td>\n",
       "      <td>0.054187</td>\n",
       "      <td>-0.318925</td>\n",
       "      <td>0.004719</td>\n",
       "    </tr>\n",
       "    <tr>\n",
       "      <th>2</th>\n",
       "      <td>NAME_EDUCATION_TYPE</td>\n",
       "      <td>Lower secondary</td>\n",
       "      <td>187</td>\n",
       "      <td>182</td>\n",
       "      <td>5</td>\n",
       "      <td>0.007440</td>\n",
       "      <td>0.026738</td>\n",
       "      <td>0.007300</td>\n",
       "      <td>0.024631</td>\n",
       "      <td>-1.216052</td>\n",
       "      <td>0.021074</td>\n",
       "    </tr>\n",
       "    <tr>\n",
       "      <th>3</th>\n",
       "      <td>NAME_EDUCATION_TYPE</td>\n",
       "      <td>Secondary / secondary special</td>\n",
       "      <td>16807</td>\n",
       "      <td>16685</td>\n",
       "      <td>122</td>\n",
       "      <td>0.668722</td>\n",
       "      <td>0.007259</td>\n",
       "      <td>0.669274</td>\n",
       "      <td>0.600985</td>\n",
       "      <td>0.107623</td>\n",
       "      <td>0.007349</td>\n",
       "    </tr>\n",
       "  </tbody>\n",
       "</table>\n",
       "</div>"
      ]
     },
     "execution_count": 56,
     "metadata": {},
     "output_type": "execute_result"
    }
   ],
   "execution_count": 56
  },
  {
   "metadata": {
    "ExecuteTime": {
     "end_time": "2025-02-12T09:55:22.884288Z",
     "start_time": "2025-02-12T09:55:22.873197Z"
    }
   },
   "cell_type": "code",
   "source": "filtered_application_df = convert_dummy(filtered_application_df,'NAME_EDUCATION_TYPE')",
   "id": "ad78304fd7f50477",
   "outputs": [],
   "execution_count": 57
  },
  {
   "metadata": {},
   "cell_type": "markdown",
   "source": "## Marriage Condition",
   "id": "39106a7039e40313"
  },
  {
   "metadata": {
    "ExecuteTime": {
     "end_time": "2025-02-12T09:55:33.707795Z",
     "start_time": "2025-02-12T09:55:33.704489Z"
    }
   },
   "cell_type": "code",
   "source": "filtered_application_df['NAME_FAMILY_STATUS'].value_counts(normalize=True,sort=False)",
   "id": "c7a8c4fa55d8c126",
   "outputs": [
    {
     "data": {
      "text/plain": [
       "NAME_FAMILY_STATUS\n",
       "Married                 0.696654\n",
       "Single / not married    0.137031\n",
       "Civil marriage          0.084868\n",
       "Separated               0.058369\n",
       "Widow                   0.023077\n",
       "Name: proportion, dtype: float64"
      ]
     },
     "execution_count": 58,
     "metadata": {},
     "output_type": "execute_result"
    }
   ],
   "execution_count": 58
  },
  {
   "metadata": {
    "ExecuteTime": {
     "end_time": "2025-02-12T09:55:34.408237Z",
     "start_time": "2025-02-12T09:55:34.367299Z"
    }
   },
   "cell_type": "code",
   "source": [
    "iv, data=calc_iv(filtered_application_df,'NAME_FAMILY_STATUS','target')\n",
    "ivtable.loc[ivtable['variable']=='NAME_FAMILY_STATUS','IV']=iv\n",
    "data.head()"
   ],
   "id": "873d7a942f2f0a27",
   "outputs": [
    {
     "name": "stdout",
     "output_type": "stream",
     "text": [
      "This variable's IV is: 0.09334825578474858\n",
      "NAME_FAMILY_STATUS\n",
      "Married                 17509\n",
      "Single / not married     3444\n",
      "Civil marriage           2133\n",
      "Separated                1467\n",
      "Widow                     580\n",
      "Name: count, dtype: int64\n"
     ]
    },
    {
     "data": {
      "text/plain": [
       "             Variable                 Value    All   Good  Bad     Share  \\\n",
       "0  NAME_FAMILY_STATUS        Civil marriage   2133   2127    6  0.084868   \n",
       "1  NAME_FAMILY_STATUS               Married  17509  17374  135  0.696654   \n",
       "2  NAME_FAMILY_STATUS             Separated   1467   1453   14  0.058369   \n",
       "3  NAME_FAMILY_STATUS  Single / not married   3444   3402   42  0.137031   \n",
       "4  NAME_FAMILY_STATUS                 Widow    580    574    6  0.023077   \n",
       "\n",
       "   Bad Rate  Distribution Good  Distribution Bad       WoE        IV  \n",
       "0  0.002813           0.085319          0.029557  1.060087  0.059113  \n",
       "1  0.007710           0.696911          0.665025  0.046834  0.001493  \n",
       "2  0.009543           0.058283          0.068966 -0.168293  0.001798  \n",
       "3  0.012195           0.136462          0.206897 -0.416172  0.029313  \n",
       "4  0.010345           0.023024          0.029557 -0.249751  0.001631  "
      ],
      "text/html": [
       "<div>\n",
       "<style scoped>\n",
       "    .dataframe tbody tr th:only-of-type {\n",
       "        vertical-align: middle;\n",
       "    }\n",
       "\n",
       "    .dataframe tbody tr th {\n",
       "        vertical-align: top;\n",
       "    }\n",
       "\n",
       "    .dataframe thead th {\n",
       "        text-align: right;\n",
       "    }\n",
       "</style>\n",
       "<table border=\"1\" class=\"dataframe\">\n",
       "  <thead>\n",
       "    <tr style=\"text-align: right;\">\n",
       "      <th></th>\n",
       "      <th>Variable</th>\n",
       "      <th>Value</th>\n",
       "      <th>All</th>\n",
       "      <th>Good</th>\n",
       "      <th>Bad</th>\n",
       "      <th>Share</th>\n",
       "      <th>Bad Rate</th>\n",
       "      <th>Distribution Good</th>\n",
       "      <th>Distribution Bad</th>\n",
       "      <th>WoE</th>\n",
       "      <th>IV</th>\n",
       "    </tr>\n",
       "  </thead>\n",
       "  <tbody>\n",
       "    <tr>\n",
       "      <th>0</th>\n",
       "      <td>NAME_FAMILY_STATUS</td>\n",
       "      <td>Civil marriage</td>\n",
       "      <td>2133</td>\n",
       "      <td>2127</td>\n",
       "      <td>6</td>\n",
       "      <td>0.084868</td>\n",
       "      <td>0.002813</td>\n",
       "      <td>0.085319</td>\n",
       "      <td>0.029557</td>\n",
       "      <td>1.060087</td>\n",
       "      <td>0.059113</td>\n",
       "    </tr>\n",
       "    <tr>\n",
       "      <th>1</th>\n",
       "      <td>NAME_FAMILY_STATUS</td>\n",
       "      <td>Married</td>\n",
       "      <td>17509</td>\n",
       "      <td>17374</td>\n",
       "      <td>135</td>\n",
       "      <td>0.696654</td>\n",
       "      <td>0.007710</td>\n",
       "      <td>0.696911</td>\n",
       "      <td>0.665025</td>\n",
       "      <td>0.046834</td>\n",
       "      <td>0.001493</td>\n",
       "    </tr>\n",
       "    <tr>\n",
       "      <th>2</th>\n",
       "      <td>NAME_FAMILY_STATUS</td>\n",
       "      <td>Separated</td>\n",
       "      <td>1467</td>\n",
       "      <td>1453</td>\n",
       "      <td>14</td>\n",
       "      <td>0.058369</td>\n",
       "      <td>0.009543</td>\n",
       "      <td>0.058283</td>\n",
       "      <td>0.068966</td>\n",
       "      <td>-0.168293</td>\n",
       "      <td>0.001798</td>\n",
       "    </tr>\n",
       "    <tr>\n",
       "      <th>3</th>\n",
       "      <td>NAME_FAMILY_STATUS</td>\n",
       "      <td>Single / not married</td>\n",
       "      <td>3444</td>\n",
       "      <td>3402</td>\n",
       "      <td>42</td>\n",
       "      <td>0.137031</td>\n",
       "      <td>0.012195</td>\n",
       "      <td>0.136462</td>\n",
       "      <td>0.206897</td>\n",
       "      <td>-0.416172</td>\n",
       "      <td>0.029313</td>\n",
       "    </tr>\n",
       "    <tr>\n",
       "      <th>4</th>\n",
       "      <td>NAME_FAMILY_STATUS</td>\n",
       "      <td>Widow</td>\n",
       "      <td>580</td>\n",
       "      <td>574</td>\n",
       "      <td>6</td>\n",
       "      <td>0.023077</td>\n",
       "      <td>0.010345</td>\n",
       "      <td>0.023024</td>\n",
       "      <td>0.029557</td>\n",
       "      <td>-0.249751</td>\n",
       "      <td>0.001631</td>\n",
       "    </tr>\n",
       "  </tbody>\n",
       "</table>\n",
       "</div>"
      ]
     },
     "execution_count": 59,
     "metadata": {},
     "output_type": "execute_result"
    }
   ],
   "execution_count": 59
  },
  {
   "metadata": {
    "ExecuteTime": {
     "end_time": "2025-02-12T09:55:36.074649Z",
     "start_time": "2025-02-12T09:55:36.066949Z"
    }
   },
   "cell_type": "code",
   "source": "filtered_application_df = convert_dummy(filtered_application_df,'NAME_FAMILY_STATUS')",
   "id": "e7790290d34032c8",
   "outputs": [],
   "execution_count": 60
  },
  {
   "metadata": {},
   "cell_type": "markdown",
   "source": "",
   "id": "b0a652d2dcd0e20b"
  },
  {
   "metadata": {
    "ExecuteTime": {
     "end_time": "2025-02-12T09:55:56.972456Z",
     "start_time": "2025-02-12T09:55:56.804569Z"
    }
   },
   "cell_type": "code",
   "source": "filtered_application_df.to_csv('data_preprocessed/data_after_preprocess.csv')",
   "id": "70d0bdc3343cdc5c",
   "outputs": [],
   "execution_count": 61
  },
  {
   "metadata": {},
   "cell_type": "markdown",
   "source": "## IV、WOE：Concept and Application",
   "id": "ab0c1c2a23bb4f03"
  },
  {
   "metadata": {},
   "cell_type": "markdown",
   "source": [
    "Weight of Evidence(WoE):  \n",
    "\n",
    "$$wo{e_i} = \\ln {{{P_{yi}}} \\over {{P_{ni}}}} = \\ln {{{y_i}/{y_s}} \\over {{n_i}/{n_s}}}$$\n",
    "$wo{e_i}$ is the I category's WOE value. ${{P_{yi}}}$ is the proportion of the positive samples in this category to all positive samples.   ${{P_{ni}}}$ is the ratio of negative samples (${{n_i}}$) in this class to all negative samples (${{n_s}}$).\n",
    "\n",
    "Information Value (IV):  \n",
    "$$I{V_i} = ({P_{yi}} - {P_{ni}}) \\times wo{e_i}$$  \n",
    "The IV values of the various types are the difference between the conditional positive rate and the conditional negative rate multiplied by the WOE value of the variable. The total IV value of the variable can be understood as the weighted sum of the conditional positive rate and the conditional negative rate difference:\n",
    "$$IV = \\sum\\limits_i^n {I{V_i}} $$  \n",
    "\n",
    "The IV value measures the variable's ability to predict.\n"
   ],
   "id": "67a1146f8483c441"
  },
  {
   "metadata": {},
   "cell_type": "markdown",
   "source": [
    "Relationship between IV value and predictive power\n",
    "\n",
    "| IV| Ability to predict | \n",
    "|:------|:------:| \n",
    "| <0.02 | Almost no predictive power | \n",
    "|0.02~0.1 |weak predictive power|\n",
    "|0.1~0.3|Moderate predictive power|\n",
    "|0.3~0.5|Strong predictive power|\n",
    "|>0.5|Predictive power is too strong, need to check variables| "
   ],
   "id": "d8237dc5545c1b89"
  },
  {
   "metadata": {},
   "cell_type": "markdown",
   "source": "",
   "id": "5ce53bb05b4a618f"
  }
 ],
 "metadata": {
  "kernelspec": {
   "display_name": "Python 3",
   "language": "python",
   "name": "python3"
  },
  "language_info": {
   "codemirror_mode": {
    "name": "ipython",
    "version": 2
   },
   "file_extension": ".py",
   "mimetype": "text/x-python",
   "name": "python",
   "nbconvert_exporter": "python",
   "pygments_lexer": "ipython2",
   "version": "2.7.6"
  }
 },
 "nbformat": 4,
 "nbformat_minor": 5
}
