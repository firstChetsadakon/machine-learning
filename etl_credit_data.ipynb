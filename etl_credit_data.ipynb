{
 "cells": [
  {
   "metadata": {},
   "cell_type": "markdown",
   "source": "Step 1: Import Required Libraries",
   "id": "c79a28b2ed702a18"
  },
  {
   "cell_type": "code",
   "id": "initial_id",
   "metadata": {
    "collapsed": true,
    "ExecuteTime": {
     "end_time": "2025-02-07T14:33:01.297074Z",
     "start_time": "2025-02-07T14:33:01.292184Z"
    }
   },
   "source": [
    "import pandas as pd\n",
    "import numpy as np\n",
    "from datetime import datetime, timedelta"
   ],
   "outputs": [],
   "execution_count": 28
  },
  {
   "metadata": {},
   "cell_type": "markdown",
   "source": "Step 2: Load Input Files",
   "id": "9598e3f5d77f1425"
  },
  {
   "metadata": {
    "ExecuteTime": {
     "end_time": "2025-02-07T14:33:02.142105Z",
     "start_time": "2025-02-07T14:33:01.350777Z"
    }
   },
   "cell_type": "code",
   "source": [
    "# Load the input CSV files\n",
    "credit_df = pd.read_csv(\"data_set/credit_record.csv\")\n",
    "application_df = pd.read_csv(\"data_set/application_record.csv\")\n",
    "\n",
    "print(\"Credit Record Data (First 5 rows):\")\n",
    "print(credit_df.head())\n",
    "\n",
    "print(\"\\nApplication Record Data (First 5 rows):\")\n",
    "print(application_df.head())"
   ],
   "id": "f1e262b60b77a503",
   "outputs": [
    {
     "name": "stdout",
     "output_type": "stream",
     "text": [
      "Credit Record Data (First 5 rows):\n",
      "        ID  MONTHS_BALANCE STATUS\n",
      "0  5001711               0      X\n",
      "1  5001711              -1      0\n",
      "2  5001711              -2      0\n",
      "3  5001711              -3      0\n",
      "4  5001712               0      C\n",
      "\n",
      "Application Record Data (First 5 rows):\n",
      "        ID CODE_GENDER FLAG_OWN_CAR FLAG_OWN_REALTY  CNT_CHILDREN  \\\n",
      "0  5008804           M            Y               Y             0   \n",
      "1  5008805           M            Y               Y             0   \n",
      "2  5008806           M            Y               Y             0   \n",
      "3  5008808           F            N               Y             0   \n",
      "4  5008809           F            N               Y             0   \n",
      "\n",
      "   AMT_INCOME_TOTAL      NAME_INCOME_TYPE            NAME_EDUCATION_TYPE  \\\n",
      "0          427500.0               Working               Higher education   \n",
      "1          427500.0               Working               Higher education   \n",
      "2          112500.0               Working  Secondary / secondary special   \n",
      "3          270000.0  Commercial associate  Secondary / secondary special   \n",
      "4          270000.0  Commercial associate  Secondary / secondary special   \n",
      "\n",
      "     NAME_FAMILY_STATUS  NAME_HOUSING_TYPE  DAYS_BIRTH  DAYS_EMPLOYED  \\\n",
      "0        Civil marriage   Rented apartment      -12005          -4542   \n",
      "1        Civil marriage   Rented apartment      -12005          -4542   \n",
      "2               Married  House / apartment      -21474          -1134   \n",
      "3  Single / not married  House / apartment      -19110          -3051   \n",
      "4  Single / not married  House / apartment      -19110          -3051   \n",
      "\n",
      "   FLAG_MOBIL  FLAG_WORK_PHONE  FLAG_PHONE  FLAG_EMAIL OCCUPATION_TYPE  \\\n",
      "0           1                1           0           0             NaN   \n",
      "1           1                1           0           0             NaN   \n",
      "2           1                0           0           0  Security staff   \n",
      "3           1                0           1           1     Sales staff   \n",
      "4           1                0           1           1     Sales staff   \n",
      "\n",
      "   CNT_FAM_MEMBERS  \n",
      "0              2.0  \n",
      "1              2.0  \n",
      "2              2.0  \n",
      "3              1.0  \n",
      "4              1.0  \n"
     ]
    }
   ],
   "execution_count": 29
  },
  {
   "metadata": {},
   "cell_type": "markdown",
   "source": "Step 3: Remove Exact Duplicates in application_record.csv",
   "id": "becdc3b5dfa1cdee"
  },
  {
   "metadata": {
    "ExecuteTime": {
     "end_time": "2025-02-07T14:33:02.366846Z",
     "start_time": "2025-02-07T14:33:02.143311Z"
    }
   },
   "cell_type": "code",
   "source": [
    "# Remove exact duplicate rows (where all attributes are the same)\n",
    "application_df = application_df.drop_duplicates()\n",
    "\n",
    "print(f\"After removing duplicates, the application data has {len(application_df)} records.\")"
   ],
   "id": "148d21ac6b410b5b",
   "outputs": [
    {
     "name": "stdout",
     "output_type": "stream",
     "text": [
      "After removing duplicates, the application data has 438557 records.\n"
     ]
    }
   ],
   "execution_count": 30
  },
  {
   "metadata": {},
   "cell_type": "markdown",
   "source": "Step 4: Sort Data by ID",
   "id": "7b16307dda3b09a9"
  },
  {
   "metadata": {
    "ExecuteTime": {
     "end_time": "2025-02-07T14:33:02.474541Z",
     "start_time": "2025-02-07T14:33:02.367439Z"
    }
   },
   "cell_type": "code",
   "source": [
    "# Sort both datasets by 'ID'\n",
    "credit_df = credit_df.sort_values(by=\"ID\")\n",
    "application_df = application_df.sort_values(by=\"ID\")"
   ],
   "id": "8fc2e89f1befd0c7",
   "outputs": [],
   "execution_count": 31
  },
  {
   "metadata": {},
   "cell_type": "markdown",
   "source": "Step 5: Replace Values in application_record.csv",
   "id": "8cc0e449fa2ff751"
  },
  {
   "metadata": {
    "ExecuteTime": {
     "end_time": "2025-02-07T14:33:02.633884Z",
     "start_time": "2025-02-07T14:33:02.475808Z"
    }
   },
   "cell_type": "code",
   "source": [
    "# Replace 'Y' with 1 and 'N' with 0 in FLAG_OWN_CAR and FLAG_OWN_REALTY\n",
    "application_df[\"FLAG_OWN_CAR\"] = application_df[\"FLAG_OWN_CAR\"].replace({\"Y\": 1, \"N\": 0})\n",
    "application_df[\"FLAG_OWN_REALTY\"] = application_df[\"FLAG_OWN_REALTY\"].replace({\"Y\": 1, \"N\": 0})"
   ],
   "id": "a3b56850252a97d2",
   "outputs": [],
   "execution_count": 32
  },
  {
   "metadata": {},
   "cell_type": "markdown",
   "source": "Step 6: Add Constant Column",
   "id": "b0db4c1ef3a64015"
  },
  {
   "metadata": {
    "ExecuteTime": {
     "end_time": "2025-02-07T14:33:02.637910Z",
     "start_time": "2025-02-07T14:33:02.634514Z"
    }
   },
   "cell_type": "code",
   "source": [
    "# Add a fixed date column\n",
    "application_df[\"Current_Date\"] = pd.to_datetime(\"2022-01-01\")"
   ],
   "id": "a992493cbc454082",
   "outputs": [],
   "execution_count": 33
  },
  {
   "metadata": {},
   "cell_type": "markdown",
   "source": "Step 7: Calculate Age and Years of Working",
   "id": "ba4fd024142ca084"
  },
  {
   "metadata": {
    "ExecuteTime": {
     "end_time": "2025-02-07T14:33:02.643098Z",
     "start_time": "2025-02-07T14:33:02.638570Z"
    }
   },
   "cell_type": "code",
   "source": [
    "# Calculate Applicant Age and Years of Working\n",
    "application_df[\"Applicant_Age\"] = -application_df[\"DAYS_BIRTH\"] // 365\n",
    "application_df[\"Years_of_Working\"] = -application_df[\"DAYS_EMPLOYED\"] // 365"
   ],
   "id": "5450d8bd0f709487",
   "execution_count": 34,
   "outputs": []
  },
  {
   "metadata": {},
   "cell_type": "markdown",
   "source": "Step 8: Filter Application Data",
   "id": "9e60918b20949592"
  },
  {
   "metadata": {
    "ExecuteTime": {
     "end_time": "2025-02-07T14:33:02.740298Z",
     "start_time": "2025-02-07T14:33:02.644001Z"
    }
   },
   "cell_type": "code",
   "source": [
    "# Apply filtering conditions\n",
    "filtered_application_df = application_df[\n",
    "    (application_df[\"Applicant_Age\"] >= 21) &\n",
    "    application_df[\"CODE_GENDER\"].notnull() &\n",
    "    application_df[\"FLAG_OWN_CAR\"].notnull() &\n",
    "    application_df[\"FLAG_OWN_REALTY\"].notnull() &\n",
    "    application_df[\"CNT_CHILDREN\"].notnull() &\n",
    "    application_df[\"AMT_INCOME_TOTAL\"].notnull() &\n",
    "    application_df[\"NAME_INCOME_TYPE\"].notnull() &\n",
    "    application_df[\"NAME_EDUCATION_TYPE\"].notnull() &\n",
    "    application_df[\"NAME_FAMILY_STATUS\"].notnull() &\n",
    "    application_df[\"NAME_HOUSING_TYPE\"].notnull()\n",
    "    ]"
   ],
   "id": "6c015a71f4124bad",
   "outputs": [],
   "execution_count": 35
  },
  {
   "metadata": {},
   "cell_type": "markdown",
   "source": "Step 9: Process credit_record.csv",
   "id": "2cc468dc9c637445"
  },
  {
   "metadata": {
    "ExecuteTime": {
     "end_time": "2025-02-07T14:33:03.107281Z",
     "start_time": "2025-02-07T14:33:02.741133Z"
    }
   },
   "cell_type": "code",
   "source": [
    "# Map STATUS to Good Debt and Bad Debt\n",
    "status_mapping = {\"C\": \"Good Debt\", \"X\": \"Good Debt\", \"0\": \"Good Debt\",\n",
    "                  \"1\": \"Bad Debt\", \"2\": \"Bad Debt\", \"3\": \"Bad Debt\",\n",
    "                  \"4\": \"Bad Debt\", \"5\": \"Bad Debt\"}\n",
    "credit_df[\"STATUS2\"] = credit_df[\"STATUS\"].replace(status_mapping)\n",
    "\n",
    "# Create columns for Good Debt and Bad Debt\n",
    "credit_df[\"Good_Debt\"] = np.where(credit_df[\"STATUS2\"] == \"Good Debt\", 1, 0)\n",
    "credit_df[\"Bad_Debt\"] = np.where(credit_df[\"STATUS2\"] == \"Bad Debt\", 1, 0)"
   ],
   "id": "b049726381c0a3c0",
   "outputs": [],
   "execution_count": 36
  },
  {
   "metadata": {},
   "cell_type": "markdown",
   "source": "Step 10: Group credit_record.csv by ID",
   "id": "1970bb585f7b3f0a"
  },
  {
   "metadata": {
    "ExecuteTime": {
     "end_time": "2025-02-07T14:33:03.130268Z",
     "start_time": "2025-02-07T14:33:03.107895Z"
    }
   },
   "cell_type": "code",
   "source": [
    "# Group by ID and calculate total Good Debt and Bad Debt\n",
    "credit_summary = credit_df.groupby(\"ID\").agg(\n",
    "    Total_Bad_Debt=(\"Bad_Debt\", \"sum\"),\n",
    "    Total_Good_Debt=(\"Good_Debt\", \"sum\")\n",
    ").reset_index()"
   ],
   "id": "ed05def394a08a2a",
   "outputs": [],
   "execution_count": 37
  },
  {
   "metadata": {},
   "cell_type": "markdown",
   "source": " Step 11: Group application_record.csv by ID",
   "id": "1d7d5ae912142acc"
  },
  {
   "metadata": {
    "ExecuteTime": {
     "end_time": "2025-02-07T14:33:03.415520Z",
     "start_time": "2025-02-07T14:33:03.132510Z"
    }
   },
   "cell_type": "code",
   "source": [
    "# Group by ID and aggregate key fields\n",
    "application_summary = application_df.groupby(\"ID\").agg({\n",
    "    \"CODE_GENDER\": \"first\",\n",
    "    \"CNT_CHILDREN\": \"first\",\n",
    "    \"AMT_INCOME_TOTAL\": \"sum\",\n",
    "    \"NAME_INCOME_TYPE\": \"first\",\n",
    "    \"NAME_EDUCATION_TYPE\": \"first\",\n",
    "    \"NAME_FAMILY_STATUS\": \"first\",\n",
    "    \"NAME_HOUSING_TYPE\": \"first\",\n",
    "    \"FLAG_OWN_CAR\": \"first\",\n",
    "    \"FLAG_OWN_REALTY\": \"first\",\n",
    "    \"FLAG_MOBIL\": \"first\",\n",
    "    \"FLAG_WORK_PHONE\": \"first\",\n",
    "    \"FLAG_PHONE\": \"first\",\n",
    "    \"FLAG_EMAIL\": \"first\",\n",
    "    \"OCCUPATION_TYPE\": \"first\",\n",
    "    \"CNT_FAM_MEMBERS\": \"sum\",\n",
    "    \"DAYS_BIRTH\": \"first\",\n",
    "    \"DAYS_EMPLOYED\": \"first\"\n",
    "}).reset_index()"
   ],
   "id": "e58cd7bdea444935",
   "outputs": [],
   "execution_count": 38
  },
  {
   "metadata": {},
   "cell_type": "markdown",
   "source": "Step 12: Merge Processed Data",
   "id": "7cfb64814cae1805"
  },
  {
   "metadata": {
    "ExecuteTime": {
     "end_time": "2025-02-07T14:33:03.839719Z",
     "start_time": "2025-02-07T14:33:03.416292Z"
    }
   },
   "cell_type": "code",
   "source": [
    "# Merge application data with aggregated data\n",
    "application_df = pd.merge(filtered_application_df, application_summary, on=\"ID\", how=\"left\")\n",
    "\n",
    "# Merge credit summary with application data\n",
    "final_df = pd.merge(application_df, credit_summary, on=\"ID\", how=\"left\")"
   ],
   "id": "d20f0e2afa158587",
   "outputs": [],
   "execution_count": 39
  },
  {
   "metadata": {},
   "cell_type": "markdown",
   "source": "Step 13: Fill Missing Values",
   "id": "f38f9ebb216c2adb"
  },
  {
   "metadata": {
    "ExecuteTime": {
     "end_time": "2025-02-07T14:33:03.843646Z",
     "start_time": "2025-02-07T14:33:03.840471Z"
    }
   },
   "cell_type": "code",
   "source": [
    "# Fill NaN values in Total_Bad_Debt and Total_Good_Debt with 0\n",
    "final_df[\"Total_Bad_Debt\"].fillna(0, inplace=True)\n",
    "final_df[\"Total_Good_Debt\"].fillna(0, inplace=True)"
   ],
   "id": "41f1d248acd720c",
   "outputs": [],
   "execution_count": 40
  },
  {
   "metadata": {},
   "cell_type": "markdown",
   "source": "Step 14: Calculate Status Column",
   "id": "47717b2752487cdd"
  },
  {
   "metadata": {
    "ExecuteTime": {
     "end_time": "2025-02-07T14:33:03.847579Z",
     "start_time": "2025-02-07T14:33:03.844521Z"
    }
   },
   "cell_type": "code",
   "source": [
    "# Add Status column (1 if Good Debt > Bad Debt, else 0)\n",
    "final_df[\"Status\"] = np.where(final_df[\"Total_Good_Debt\"] > final_df[\"Total_Bad_Debt\"], 1, 0)"
   ],
   "id": "1b67fb7cf7834169",
   "outputs": [],
   "execution_count": 41
  },
  {
   "metadata": {},
   "cell_type": "markdown",
   "source": "Step 15: Select grouped and cleaned ",
   "id": "40c41982672eeaad"
  },
  {
   "metadata": {
    "ExecuteTime": {
     "end_time": "2025-02-07T14:33:03.953149Z",
     "start_time": "2025-02-07T14:33:03.848268Z"
    }
   },
   "cell_type": "code",
   "source": [
    "# Drop the `_x` columns since `_y` has the cleaned grouped values\n",
    "final_df = final_df.drop(columns=[col for col in final_df.columns if col.endswith('_x')])\n",
    "\n",
    "# Rename `_y` columns to their original names\n",
    "final_df = final_df.rename(columns=lambda col: col.replace('_y', '') if col.endswith('_y') else col)\n",
    "\n",
    "# Print updated columns to verify\n",
    "print(\"Updated Columns in final_df:\")\n",
    "print(final_df.columns.tolist())"
   ],
   "id": "354004bb573bb7fe",
   "outputs": [
    {
     "name": "stdout",
     "output_type": "stream",
     "text": [
      "Updated Columns in final_df:\n",
      "['ID', 'Current_Date', 'Applicant_Age', 'Years_of_Working', 'CODE_GENDER', 'CNT_CHILDREN', 'AMT_INCOME_TOTAL', 'NAME_INCOME_TYPE', 'NAME_EDUCATION_TYPE', 'NAME_FAMILY_STATUS', 'NAME_HOUSING_TYPE', 'FLAG_OWN_CAR', 'FLAG_OWN_REALTY', 'FLAG_MOBIL', 'FLAG_WORK_PHONE', 'FLAG_PHONE', 'FLAG_EMAIL', 'OCCUPATION_TYPE', 'CNT_FAM_MEMBERS', 'DAYS_BIRTH', 'DAYS_EMPLOYED', 'Total_Bad_Debt', 'Total_Good_Debt', 'Status']\n"
     ]
    }
   ],
   "execution_count": 42
  },
  {
   "metadata": {},
   "cell_type": "markdown",
   "source": "Step 16: Drop Negative Years_of_Working Values",
   "id": "4e142f8c4005ff79"
  },
  {
   "metadata": {
    "ExecuteTime": {
     "end_time": "2025-02-07T14:33:03.995061Z",
     "start_time": "2025-02-07T14:33:03.953768Z"
    }
   },
   "cell_type": "code",
   "source": [
    "# Drop rows where Years_of_Working is negative\n",
    "final_df = final_df[final_df[\"Years_of_Working\"] >= 0]\n",
    "\n",
    "# Print remaining records\n",
    "print(f\"✅ Remaining records after filtering: {len(final_df)}\")"
   ],
   "id": "ac3ce0e318a213c1",
   "outputs": [
    {
     "name": "stdout",
     "output_type": "stream",
     "text": [
      "✅ Remaining records after filtering: 363227\n"
     ]
    }
   ],
   "execution_count": 43
  },
  {
   "metadata": {},
   "cell_type": "markdown",
   "source": "Step 17: Rename and Select Columns",
   "id": "c9003474a69a0aa0"
  },
  {
   "metadata": {
    "ExecuteTime": {
     "end_time": "2025-02-07T14:35:20.601207Z",
     "start_time": "2025-02-07T14:35:20.589269Z"
    }
   },
   "cell_type": "code",
   "source": [
    "# Rename columns to match expected names\n",
    "final_df.rename(columns={\n",
    "    \"ID\":\"Applicant_ID\",\n",
    "    \"CODE_GENDER\": \"Applicant_Gender\",\n",
    "    \"FLAG_OWN_CAR\": \"Owned_Car\",\n",
    "    \"FLAG_OWN_REALTY\": \"Owned_Realty\",\n",
    "    \"CNT_CHILDREN\": \"Total_Children\",\n",
    "    \"AMT_INCOME_TOTAL\": \"Total_Income\",\n",
    "    \"NAME_INCOME_TYPE\": \"Income_Type\",\n",
    "    \"NAME_EDUCATION_TYPE\": \"Education_Type\",\n",
    "    \"NAME_FAMILY_STATUS\": \"Family_Status\",\n",
    "    \"NAME_HOUSING_TYPE\": \"Housing_Type\",\n",
    "    \"CNT_FAM_MEMBERS\": \"Total_Family_Members\"\n",
    "}, inplace=True)\n",
    "\n",
    "print(\"✅ Columns successfully renamed!\")\n",
    "print(\"Updated Columns in final_df:\", final_df.columns.tolist())  # Verify"
   ],
   "id": "7d4f2a264d362c25",
   "outputs": [
    {
     "name": "stdout",
     "output_type": "stream",
     "text": [
      "✅ Columns successfully renamed!\n",
      "Updated Columns in final_df: ['Applicant_ID', 'Current_Date', 'Applicant_Age', 'Years_of_Working', 'Applicant_Gender', 'Total_Children', 'Total_Income', 'Income_Type', 'Education_Type', 'Family_Status', 'Housing_Type', 'Owned_Car', 'Owned_Realty', 'FLAG_MOBIL', 'FLAG_WORK_PHONE', 'FLAG_PHONE', 'FLAG_EMAIL', 'OCCUPATION_TYPE', 'Total_Family_Members', 'DAYS_BIRTH', 'DAYS_EMPLOYED', 'Total_Bad_Debt', 'Total_Good_Debt', 'Status']\n"
     ]
    }
   ],
   "execution_count": 46
  },
  {
   "metadata": {},
   "cell_type": "markdown",
   "source": "Step 17-19: Final Processing",
   "id": "faf067cb035427"
  },
  {
   "metadata": {
    "ExecuteTime": {
     "end_time": "2025-02-07T14:35:24.462802Z",
     "start_time": "2025-02-07T14:35:24.413543Z"
    }
   },
   "cell_type": "code",
   "source": [
    "# Select only the required columns\n",
    "final_output = final_df[[\n",
    "    \"Applicant_ID\", \"Applicant_Gender\", \"Owned_Car\", \"Owned_Realty\",\n",
    "    \"Total_Children\", \"Total_Income\", \"Income_Type\", \"Education_Type\",\n",
    "    \"Family_Status\", \"Housing_Type\", \"Total_Family_Members\",\n",
    "    \"Applicant_Age\", \"Years_of_Working\", \"Total_Bad_Debt\", \"Total_Good_Debt\", \"Status\"\n",
    "]]\n"
   ],
   "id": "b92762eec2992da2",
   "outputs": [],
   "execution_count": 47
  },
  {
   "metadata": {},
   "cell_type": "markdown",
   "source": "Step 20: Save Final Output",
   "id": "fcdade8571e12675"
  },
  {
   "metadata": {
    "ExecuteTime": {
     "end_time": "2025-02-07T14:35:29.473683Z",
     "start_time": "2025-02-07T14:35:28.215205Z"
    }
   },
   "cell_type": "code",
   "source": [
    "# Save the final output to CSV\n",
    "final_output.to_csv(\"Application_Data.csv\", index=False, encoding=\"windows-1252\")\n",
    "print(\"\\nETL process completed! Data saved to 'Application_Data.csv'.\")"
   ],
   "id": "1258818148e4c43c",
   "outputs": [
    {
     "name": "stdout",
     "output_type": "stream",
     "text": [
      "\n",
      "ETL process completed! Data saved to 'Application_Data.csv'.\n"
     ]
    }
   ],
   "execution_count": 48
  },
  {
   "metadata": {},
   "cell_type": "code",
   "outputs": [],
   "execution_count": null,
   "source": "",
   "id": "6ea0d5fdb585cd9d"
  }
 ],
 "metadata": {
  "kernelspec": {
   "display_name": "Python 3",
   "language": "python",
   "name": "python3"
  },
  "language_info": {
   "codemirror_mode": {
    "name": "ipython",
    "version": 2
   },
   "file_extension": ".py",
   "mimetype": "text/x-python",
   "name": "python",
   "nbconvert_exporter": "python",
   "pygments_lexer": "ipython2",
   "version": "2.7.6"
  }
 },
 "nbformat": 4,
 "nbformat_minor": 5
}
