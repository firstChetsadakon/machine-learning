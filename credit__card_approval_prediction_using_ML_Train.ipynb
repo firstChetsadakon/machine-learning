{
 "cells": [
  {
   "cell_type": "code",
   "id": "initial_id",
   "metadata": {
    "collapsed": true,
    "ExecuteTime": {
     "end_time": "2025-02-12T03:23:58.208535Z",
     "start_time": "2025-02-12T03:23:58.153378Z"
    }
   },
   "source": [
    "%matplotlib inline\n",
    "%config InlineBackend.figure_format = 'svg'\n",
    "\n",
    "import warnings\n",
    "warnings.filterwarnings('ignore')\n",
    "import numpy as np\n",
    "import pandas as pd\n",
    "\n",
    "import seaborn as sns\n",
    "from imblearn.over_sampling import SMOTE\n",
    "import itertools\n",
    "\n",
    "from sklearn.model_selection import train_test_split\n",
    "from sklearn.metrics import accuracy_score, confusion_matrix\n",
    "from sklearn.linear_model import LogisticRegression\n",
    "from sklearn.tree import DecisionTreeClassifier\n",
    "\n",
    "from xgboost import XGBClassifier\n",
    "from lightgbm import LGBMClassifier\n",
    "from catboost import CatBoostClassifier\n",
    "from sklearn import svm\n",
    "from sklearn.ensemble import RandomForestClassifier\n"
   ],
   "outputs": [
    {
     "ename": "ModuleNotFoundError",
     "evalue": "No module named 'matplotlib'",
     "output_type": "error",
     "traceback": [
      "\u001B[1;31m---------------------------------------------------------------------------\u001B[0m",
      "\u001B[1;31mModuleNotFoundError\u001B[0m                       Traceback (most recent call last)",
      "Cell \u001B[1;32mIn[2], line 1\u001B[0m\n\u001B[1;32m----> 1\u001B[0m \u001B[43mget_ipython\u001B[49m\u001B[43m(\u001B[49m\u001B[43m)\u001B[49m\u001B[38;5;241;43m.\u001B[39;49m\u001B[43mrun_line_magic\u001B[49m\u001B[43m(\u001B[49m\u001B[38;5;124;43m'\u001B[39;49m\u001B[38;5;124;43mmatplotlib\u001B[39;49m\u001B[38;5;124;43m'\u001B[39;49m\u001B[43m,\u001B[49m\u001B[43m \u001B[49m\u001B[38;5;124;43m'\u001B[39;49m\u001B[38;5;124;43minline\u001B[39;49m\u001B[38;5;124;43m'\u001B[39;49m\u001B[43m)\u001B[49m\n\u001B[0;32m      2\u001B[0m get_ipython()\u001B[38;5;241m.\u001B[39mrun_line_magic(\u001B[38;5;124m'\u001B[39m\u001B[38;5;124mconfig\u001B[39m\u001B[38;5;124m'\u001B[39m, \u001B[38;5;124m\"\u001B[39m\u001B[38;5;124mInlineBackend.figure_format = \u001B[39m\u001B[38;5;124m'\u001B[39m\u001B[38;5;124msvg\u001B[39m\u001B[38;5;124m'\u001B[39m\u001B[38;5;124m\"\u001B[39m)\n\u001B[0;32m      4\u001B[0m \u001B[38;5;28;01mimport\u001B[39;00m\u001B[38;5;250m \u001B[39m\u001B[38;5;21;01mwarnings\u001B[39;00m\n",
      "File \u001B[1;32m~\\AppData\\Local\\Packages\\PythonSoftwareFoundation.Python.3.11_qbz5n2kfra8p0\\LocalCache\\local-packages\\Python311\\site-packages\\IPython\\core\\interactiveshell.py:2482\u001B[0m, in \u001B[0;36mInteractiveShell.run_line_magic\u001B[1;34m(self, magic_name, line, _stack_depth)\u001B[0m\n\u001B[0;32m   2480\u001B[0m     kwargs[\u001B[38;5;124m'\u001B[39m\u001B[38;5;124mlocal_ns\u001B[39m\u001B[38;5;124m'\u001B[39m] \u001B[38;5;241m=\u001B[39m \u001B[38;5;28mself\u001B[39m\u001B[38;5;241m.\u001B[39mget_local_scope(stack_depth)\n\u001B[0;32m   2481\u001B[0m \u001B[38;5;28;01mwith\u001B[39;00m \u001B[38;5;28mself\u001B[39m\u001B[38;5;241m.\u001B[39mbuiltin_trap:\n\u001B[1;32m-> 2482\u001B[0m     result \u001B[38;5;241m=\u001B[39m \u001B[43mfn\u001B[49m\u001B[43m(\u001B[49m\u001B[38;5;241;43m*\u001B[39;49m\u001B[43margs\u001B[49m\u001B[43m,\u001B[49m\u001B[43m \u001B[49m\u001B[38;5;241;43m*\u001B[39;49m\u001B[38;5;241;43m*\u001B[39;49m\u001B[43mkwargs\u001B[49m\u001B[43m)\u001B[49m\n\u001B[0;32m   2484\u001B[0m \u001B[38;5;66;03m# The code below prevents the output from being displayed\u001B[39;00m\n\u001B[0;32m   2485\u001B[0m \u001B[38;5;66;03m# when using magics with decorator @output_can_be_silenced\u001B[39;00m\n\u001B[0;32m   2486\u001B[0m \u001B[38;5;66;03m# when the last Python token in the expression is a ';'.\u001B[39;00m\n\u001B[0;32m   2487\u001B[0m \u001B[38;5;28;01mif\u001B[39;00m \u001B[38;5;28mgetattr\u001B[39m(fn, magic\u001B[38;5;241m.\u001B[39mMAGIC_OUTPUT_CAN_BE_SILENCED, \u001B[38;5;28;01mFalse\u001B[39;00m):\n",
      "File \u001B[1;32m~\\AppData\\Local\\Packages\\PythonSoftwareFoundation.Python.3.11_qbz5n2kfra8p0\\LocalCache\\local-packages\\Python311\\site-packages\\IPython\\core\\magics\\pylab.py:103\u001B[0m, in \u001B[0;36mPylabMagics.matplotlib\u001B[1;34m(self, line)\u001B[0m\n\u001B[0;32m     98\u001B[0m     \u001B[38;5;28mprint\u001B[39m(\n\u001B[0;32m     99\u001B[0m         \u001B[38;5;124m\"\u001B[39m\u001B[38;5;124mAvailable matplotlib backends: \u001B[39m\u001B[38;5;132;01m%s\u001B[39;00m\u001B[38;5;124m\"\u001B[39m\n\u001B[0;32m    100\u001B[0m         \u001B[38;5;241m%\u001B[39m _list_matplotlib_backends_and_gui_loops()\n\u001B[0;32m    101\u001B[0m     )\n\u001B[0;32m    102\u001B[0m \u001B[38;5;28;01melse\u001B[39;00m:\n\u001B[1;32m--> 103\u001B[0m     gui, backend \u001B[38;5;241m=\u001B[39m \u001B[38;5;28;43mself\u001B[39;49m\u001B[38;5;241;43m.\u001B[39;49m\u001B[43mshell\u001B[49m\u001B[38;5;241;43m.\u001B[39;49m\u001B[43menable_matplotlib\u001B[49m\u001B[43m(\u001B[49m\u001B[43margs\u001B[49m\u001B[38;5;241;43m.\u001B[39;49m\u001B[43mgui\u001B[49m\u001B[43m)\u001B[49m\n\u001B[0;32m    104\u001B[0m     \u001B[38;5;28mself\u001B[39m\u001B[38;5;241m.\u001B[39m_show_matplotlib_backend(args\u001B[38;5;241m.\u001B[39mgui, backend)\n",
      "File \u001B[1;32m~\\AppData\\Local\\Packages\\PythonSoftwareFoundation.Python.3.11_qbz5n2kfra8p0\\LocalCache\\local-packages\\Python311\\site-packages\\IPython\\core\\interactiveshell.py:3667\u001B[0m, in \u001B[0;36mInteractiveShell.enable_matplotlib\u001B[1;34m(self, gui)\u001B[0m\n\u001B[0;32m   3664\u001B[0m     \u001B[38;5;28;01mimport\u001B[39;00m\u001B[38;5;250m \u001B[39m\u001B[38;5;21;01mmatplotlib_inline\u001B[39;00m\u001B[38;5;21;01m.\u001B[39;00m\u001B[38;5;21;01mbackend_inline\u001B[39;00m\n\u001B[0;32m   3666\u001B[0m \u001B[38;5;28;01mfrom\u001B[39;00m\u001B[38;5;250m \u001B[39m\u001B[38;5;21;01mIPython\u001B[39;00m\u001B[38;5;21;01m.\u001B[39;00m\u001B[38;5;21;01mcore\u001B[39;00m\u001B[38;5;250m \u001B[39m\u001B[38;5;28;01mimport\u001B[39;00m pylabtools \u001B[38;5;28;01mas\u001B[39;00m pt\n\u001B[1;32m-> 3667\u001B[0m gui, backend \u001B[38;5;241m=\u001B[39m \u001B[43mpt\u001B[49m\u001B[38;5;241;43m.\u001B[39;49m\u001B[43mfind_gui_and_backend\u001B[49m\u001B[43m(\u001B[49m\u001B[43mgui\u001B[49m\u001B[43m,\u001B[49m\u001B[43m \u001B[49m\u001B[38;5;28;43mself\u001B[39;49m\u001B[38;5;241;43m.\u001B[39;49m\u001B[43mpylab_gui_select\u001B[49m\u001B[43m)\u001B[49m\n\u001B[0;32m   3669\u001B[0m \u001B[38;5;28;01mif\u001B[39;00m gui \u001B[38;5;241m!=\u001B[39m \u001B[38;5;28;01mNone\u001B[39;00m:\n\u001B[0;32m   3670\u001B[0m     \u001B[38;5;66;03m# If we have our first gui selection, store it\u001B[39;00m\n\u001B[0;32m   3671\u001B[0m     \u001B[38;5;28;01mif\u001B[39;00m \u001B[38;5;28mself\u001B[39m\u001B[38;5;241m.\u001B[39mpylab_gui_select \u001B[38;5;129;01mis\u001B[39;00m \u001B[38;5;28;01mNone\u001B[39;00m:\n",
      "File \u001B[1;32m~\\AppData\\Local\\Packages\\PythonSoftwareFoundation.Python.3.11_qbz5n2kfra8p0\\LocalCache\\local-packages\\Python311\\site-packages\\IPython\\core\\pylabtools.py:338\u001B[0m, in \u001B[0;36mfind_gui_and_backend\u001B[1;34m(gui, gui_select)\u001B[0m\n\u001B[0;32m    321\u001B[0m \u001B[38;5;28;01mdef\u001B[39;00m\u001B[38;5;250m \u001B[39m\u001B[38;5;21mfind_gui_and_backend\u001B[39m(gui\u001B[38;5;241m=\u001B[39m\u001B[38;5;28;01mNone\u001B[39;00m, gui_select\u001B[38;5;241m=\u001B[39m\u001B[38;5;28;01mNone\u001B[39;00m):\n\u001B[0;32m    322\u001B[0m \u001B[38;5;250m    \u001B[39m\u001B[38;5;124;03m\"\"\"Given a gui string return the gui and mpl backend.\u001B[39;00m\n\u001B[0;32m    323\u001B[0m \n\u001B[0;32m    324\u001B[0m \u001B[38;5;124;03m    Parameters\u001B[39;00m\n\u001B[1;32m   (...)\u001B[0m\n\u001B[0;32m    335\u001B[0m \u001B[38;5;124;03m    'WXAgg','Qt4Agg','module://matplotlib_inline.backend_inline','agg').\u001B[39;00m\n\u001B[0;32m    336\u001B[0m \u001B[38;5;124;03m    \"\"\"\u001B[39;00m\n\u001B[1;32m--> 338\u001B[0m     \u001B[38;5;28;01mimport\u001B[39;00m\u001B[38;5;250m \u001B[39m\u001B[38;5;21;01mmatplotlib\u001B[39;00m\n\u001B[0;32m    340\u001B[0m     \u001B[38;5;28;01mif\u001B[39;00m _matplotlib_manages_backends():\n\u001B[0;32m    341\u001B[0m         backend_registry \u001B[38;5;241m=\u001B[39m matplotlib\u001B[38;5;241m.\u001B[39mbackends\u001B[38;5;241m.\u001B[39mregistry\u001B[38;5;241m.\u001B[39mbackend_registry\n",
      "\u001B[1;31mModuleNotFoundError\u001B[0m: No module named 'matplotlib'"
     ]
    }
   ],
   "execution_count": 2
  },
  {
   "metadata": {},
   "cell_type": "code",
   "source": "from sklearn.preprocessing import StandardScaler, MinMaxScaler",
   "id": "8f0d2f389f00bbd3",
   "outputs": [],
   "execution_count": null
  },
  {
   "metadata": {},
   "cell_type": "markdown",
   "source": "## Using TensorFlow backend.",
   "id": "8e1b2a155c39e108"
  },
  {
   "metadata": {
    "jupyter": {
     "is_executing": true
    }
   },
   "cell_type": "code",
   "source": [
    "data = pd.read_csv(\"data_preprocessed/data_after_preprocess.csv\", encoding ='utf-8')\n",
    "# record = pd.read_csv(\"data_set/credit_record.csv\", encoding ='utf-8')"
   ],
   "id": "3b997a7c748d47e8",
   "outputs": [],
   "execution_count": null
  },
  {
   "metadata": {},
   "cell_type": "code",
   "source": "plt.rcParams['figure.facecolor'] = 'white'",
   "id": "3c147fb592519e86",
   "outputs": [],
   "execution_count": null
  },
  {
   "metadata": {},
   "cell_type": "markdown",
   "source": [
    "## Feature Engineering\n",
    "-  Response Variable"
   ],
   "id": "4d6e56f5e1599937"
  },
  {
   "metadata": {},
   "cell_type": "code",
   "source": [
    "begin_month=pd.DataFrame(record.groupby([\"ID\"])[\"MONTHS_BALANCE\"].agg(min))\n",
    "begin_month=begin_month.rename(columns={'MONTHS_BALANCE':'begin_month'})\n",
    "new_data=pd.merge(data,begin_month,how=\"left\",on=\"ID\") #merge to record data"
   ],
   "id": "30bc8f938ed12f6e",
   "outputs": [],
   "execution_count": null
  },
  {
   "metadata": {},
   "cell_type": "markdown",
   "source": "- Generally, users in risk should be in 3%, thus I choose users who overdue for more than 60 days as target risk users. Those samples are marked as '1', else are '0'.",
   "id": "ed95a6bbd1756097"
  },
  {
   "metadata": {},
   "cell_type": "code",
   "source": [
    "record['dep_value'] = None\n",
    "record['dep_value'][record['STATUS'] =='3']='Yes'\n",
    "record['dep_value'][record['STATUS'] =='4']='Yes'\n",
    "record['dep_value'][record['STATUS'] =='5']='Yes' "
   ],
   "id": "97e646fafc529574",
   "outputs": [],
   "execution_count": null
  },
  {
   "metadata": {},
   "cell_type": "code",
   "source": [
    "cpunt=record.groupby('ID').count()\n",
    "cpunt['dep_value'][cpunt['dep_value'] > 0]='Yes'\n",
    "cpunt['dep_value'][cpunt['dep_value'] == 0]='No'\n",
    "cpunt = cpunt[['dep_value']]\n",
    "new_data=pd.merge(new_data,cpunt,how='inner',on='ID')\n",
    "new_data['target']=new_data['dep_value']\n",
    "new_data.loc[new_data['target']=='Yes','target']=1\n",
    "new_data.loc[new_data['target']=='No','target']=0"
   ],
   "id": "574b90fa51fc3c78",
   "outputs": [],
   "execution_count": null
  },
  {
   "metadata": {},
   "cell_type": "code",
   "source": "new_data",
   "id": "37c1eedb344c02ac",
   "outputs": [],
   "execution_count": null
  },
  {
   "metadata": {},
   "cell_type": "code",
   "source": [
    "# Calculate Applicant Age and Years of Working\n",
    "new_data[\"APPLICATION_AGE\"] = -new_data[\"DAYS_BIRTH\"] // 365\n",
    "new_data[\"YEARS_OF_WORKING\"] = -new_data[\"DAYS_EMPLOYED\"] // 365"
   ],
   "id": "d5740b8bf1f24f71",
   "outputs": [],
   "execution_count": null
  },
  {
   "metadata": {},
   "cell_type": "code",
   "source": [
    "# Drop rows where either Years_of_Working is negative\n",
    "new_data = new_data[\n",
    "    (new_data['YEARS_OF_WORKING'] >= 0)\n",
    "    ]"
   ],
   "id": "a400ebe4ee3dcf69",
   "outputs": [],
   "execution_count": null
  },
  {
   "metadata": {},
   "cell_type": "code",
   "source": "new_data",
   "id": "4d16f70b8d06e0c8",
   "outputs": [],
   "execution_count": null
  },
  {
   "metadata": {},
   "cell_type": "code",
   "source": "new_data = new_data.drop(['DAYS_BIRTH', 'DAYS_EMPLOYED'], axis=1)",
   "id": "352cef2d8d84c948",
   "outputs": [],
   "execution_count": null
  },
  {
   "metadata": {},
   "cell_type": "code",
   "source": "new_data = new_data.drop(['dep_value'], axis=1)",
   "id": "b0cd24f441530752",
   "outputs": [],
   "execution_count": null
  },
  {
   "metadata": {},
   "cell_type": "code",
   "source": "new_data = new_data.drop(['begin_month'], axis=1)",
   "id": "a21299b51c202fe8",
   "outputs": [],
   "execution_count": null
  },
  {
   "metadata": {},
   "cell_type": "code",
   "source": "new_data",
   "id": "6dd4aea74c3be514",
   "outputs": [],
   "execution_count": null
  },
  {
   "metadata": {},
   "cell_type": "markdown",
   "source": [
    "## normalization \n",
    "- AMT_INCOME_TOTAL "
   ],
   "id": "3b3c4e420bd92237"
  },
  {
   "metadata": {},
   "cell_type": "code",
   "source": [
    "# For Z-score normalization\n",
    "scaler_zscore = StandardScaler()\n",
    "zscore_cols = ['AMT_INCOME_TOTAL']\n",
    "# Create new column names for normalized features\n",
    "zscore_cols_scaled = [col + '_zscore' for col in zscore_cols]\n",
    "# Transform and assign to new columns\n",
    "new_data[zscore_cols_scaled] = scaler_zscore.fit_transform(new_data[zscore_cols])"
   ],
   "id": "215ce1218e6cf79b",
   "outputs": [],
   "execution_count": null
  },
  {
   "metadata": {},
   "cell_type": "code",
   "source": "new_data = new_data.drop(['AMT_INCOME_TOTAL'], axis=1)",
   "id": "fa2fc31408def8b4",
   "outputs": [],
   "execution_count": null
  },
  {
   "metadata": {},
   "cell_type": "code",
   "source": "new_data",
   "id": "a2aec844c8697813",
   "outputs": [],
   "execution_count": null
  },
  {
   "metadata": {},
   "cell_type": "code",
   "source": [
    "# Apply filtering conditions\n",
    "filtered_application_df = new_data[\n",
    "    (new_data[\"APPLICATION_AGE\"] >= 21) &\n",
    "    new_data[\"CODE_GENDER\"].notnull() &\n",
    "    new_data[\"FLAG_OWN_CAR\"].notnull() &\n",
    "    new_data[\"FLAG_OWN_REALTY\"].notnull() &\n",
    "    new_data[\"CNT_CHILDREN\"].notnull() &\n",
    "    new_data[\"NAME_INCOME_TYPE\"].notnull() &\n",
    "    new_data[\"NAME_EDUCATION_TYPE\"].notnull() &\n",
    "    new_data[\"NAME_FAMILY_STATUS\"].notnull() &\n",
    "    new_data[\"NAME_HOUSING_TYPE\"].notnull()\n",
    "    ]"
   ],
   "id": "c58c275225292a28",
   "outputs": [],
   "execution_count": null
  },
  {
   "metadata": {},
   "cell_type": "code",
   "source": "filtered_application_df['FLAG_MOBIL'].value_counts()",
   "id": "eb6c96895ce220e",
   "outputs": [],
   "execution_count": null
  },
  {
   "metadata": {},
   "cell_type": "code",
   "source": "filtered_application_df['target'] = new_data['target'].astype(int)",
   "id": "869ff762f1b2133",
   "outputs": [],
   "execution_count": null
  },
  {
   "metadata": {},
   "cell_type": "code",
   "source": "filtered_application_df['target'].value_counts()",
   "id": "c40699f99be44e76",
   "outputs": [],
   "execution_count": null
  },
  {
   "metadata": {},
   "cell_type": "code",
   "source": "filtered_application_df",
   "id": "2ae61f85c3f04bb8",
   "outputs": [],
   "execution_count": null
  },
  {
   "metadata": {},
   "cell_type": "code",
   "source": [
    "numeric_cols = ['CNT_CHILDREN', 'FLAG_MOBIL', 'APPLICATION_AGE', 'YEARS_OF_WORKING',\n",
    "                'FLAG_WORK_PHONE', 'FLAG_PHONE', 'FLAG_EMAIL',\n",
    "                'CNT_FAM_MEMBERS','AMT_INCOME_TOTAL_zscore','target']\n",
    "\n",
    "# Calculate correlation matrix\n",
    "correlation_matrix = filtered_application_df[numeric_cols].corr()\n",
    "\n",
    "# Create heatmap\n",
    "plt.figure(figsize=(9, 8))\n",
    "sns.heatmap(correlation_matrix,\n",
    "            annot=True,  # Show numbers\n",
    "            cmap='coolwarm',  # Red/Blue color scheme\n",
    "            center=0,  # Center the colorbar at 0\n",
    "            fmt='.3f',  # 2 decimal places\n",
    "            square=True)  # Make cells square\n",
    "\n",
    "plt.title('Correlation Heatmap of Numeric Features')\n",
    "plt.xticks(rotation=45, ha='right')  # Rotate x-axis labels for better readability\n",
    "plt.yticks(rotation=0)\n",
    "plt.tight_layout()\n",
    "plt.show()"
   ],
   "id": "37ad44cf1b02cf5c",
   "outputs": [],
   "execution_count": null
  },
  {
   "metadata": {},
   "cell_type": "code",
   "source": "new_data = new_data.drop(['FLAG_MOBIL'], axis=1)",
   "id": "fa1b80798e26addc",
   "outputs": [],
   "execution_count": null
  },
  {
   "metadata": {},
   "cell_type": "code",
   "source": [
    "numeric_cols = ['CNT_CHILDREN', 'APPLICATION_AGE', 'YEARS_OF_WORKING',\n",
    "                'FLAG_WORK_PHONE', 'FLAG_PHONE', 'FLAG_EMAIL',\n",
    "                'CNT_FAM_MEMBERS','AMT_INCOME_TOTAL_zscore','target']\n",
    "\n",
    "# Calculate correlation matrix\n",
    "correlation_matrix = filtered_application_df[numeric_cols].corr()\n",
    "\n",
    "# Create heatmap\n",
    "plt.figure(figsize=(9, 8))\n",
    "sns.heatmap(correlation_matrix,\n",
    "            annot=True,  # Show numbers\n",
    "            cmap='coolwarm',  # Red/Blue color scheme\n",
    "            center=0,  # Center the colorbar at 0\n",
    "            fmt='.3f',  # 2 decimal places\n",
    "            square=True)  # Make cells square\n",
    "\n",
    "plt.title('Correlation Heatmap of Numeric Features')\n",
    "plt.xticks(rotation=45, ha='right')  # Rotate x-axis labels for better readability\n",
    "plt.yticks(rotation=0)\n",
    "plt.tight_layout()\n",
    "plt.show()"
   ],
   "id": "43784f605ceeea7e",
   "outputs": [],
   "execution_count": null
  },
  {
   "metadata": {},
   "cell_type": "markdown",
   "source": "## Features",
   "id": "378c34d0d568ad47"
  },
  {
   "metadata": {},
   "cell_type": "code",
   "source": [
    "# drop null and NAN\n",
    "filtered_application_df.dropna()\n",
    "filtered_application_df = filtered_application_df.mask(filtered_application_df == 'NULL').dropna()"
   ],
   "id": "14a9f818dcb469b",
   "outputs": [],
   "execution_count": null
  },
  {
   "metadata": {},
   "cell_type": "code",
   "source": "filtered_application_df",
   "id": "2c483b2d8ac2eea3",
   "outputs": [],
   "execution_count": null
  },
  {
   "metadata": {},
   "cell_type": "code",
   "source": [
    "ivtable=pd.DataFrame(filtered_application_df.columns,columns=['variable'])\n",
    "ivtable['IV']=None\n",
    "namelist = ['target','ID']\n",
    "\n",
    "for i in namelist:\n",
    "    ivtable.drop(ivtable[ivtable['variable'] == i].index, inplace=True)"
   ],
   "id": "d480e0b70a3beb39",
   "outputs": [],
   "execution_count": null
  },
  {
   "metadata": {},
   "cell_type": "markdown",
   "source": "- Define calc_iv function to calculate -> https://www.kaggle.com/code/puremath86/iv-woe-starter-for-python Information Value and WOE Value",
   "id": "dd7f3cf555d7e222"
  },
  {
   "metadata": {},
   "cell_type": "markdown",
   "source": "# Binary Features",
   "id": "f4539a29580b0b49"
  },
  {
   "metadata": {},
   "cell_type": "code",
   "source": [
    "# Calculate information value\n",
    "def calc_iv(df, feature, target, pr=False):\n",
    "    lst = []\n",
    "    df[feature] = df[feature].fillna(\"NULL\")\n",
    "\n",
    "    for i in range(df[feature].nunique()):\n",
    "        val = list(df[feature].unique())[i]\n",
    "        lst.append([feature,                                                        # Variable\n",
    "                    val,                                                            # Value\n",
    "                    df[df[feature] == val].count()[feature],                        # All\n",
    "                    df[(df[feature] == val) & (df[target] == 0)].count()[feature],  # Good (think: Fraud == 0)\n",
    "                    df[(df[feature] == val) & (df[target] == 1)].count()[feature]]) # Bad (think: Fraud == 1)\n",
    "\n",
    "    data = pd.DataFrame(lst, columns=['Variable', 'Value', 'All', 'Good', 'Bad'])\n",
    "    data['Share'] = data['All'] / data['All'].sum()\n",
    "    data['Bad Rate'] = data['Bad'] / data['All']\n",
    "    data['Distribution Good'] = (data['All'] - data['Bad']) / (data['All'].sum() - data['Bad'].sum())\n",
    "    data['Distribution Bad'] = data['Bad'] / data['Bad'].sum()\n",
    "    data['WoE'] = np.log(data['Distribution Good'] / data['Distribution Bad'])\n",
    "\n",
    "    data = data.replace({'WoE': {np.inf: 0, -np.inf: 0}})\n",
    "\n",
    "    data['IV'] = data['WoE'] * (data['Distribution Good'] - data['Distribution Bad'])\n",
    "\n",
    "    data = data.sort_values(by=['Variable', 'Value'], ascending=[True, True])\n",
    "    data.index = range(len(data.index))\n",
    "\n",
    "    if pr:\n",
    "        print(data)\n",
    "        print('IV = ', data['IV'].sum())\n",
    "\n",
    "    iv = data['IV'].sum()\n",
    "    print('This variable\\'s IV is:',iv)\n",
    "    print(df[feature].value_counts())\n",
    "    return iv, data"
   ],
   "id": "b9f931249794e080",
   "outputs": [],
   "execution_count": null
  },
  {
   "metadata": {},
   "cell_type": "code",
   "source": [
    "def convert_dummy(df, feature,rank=0):\n",
    "    pos = pd.get_dummies(df[feature], prefix=feature)\n",
    "    mode = df[feature].value_counts().index[rank]\n",
    "    biggest = feature + '_' + str(mode)\n",
    "    pos.drop([biggest],axis=1,inplace=True)\n",
    "    df.drop([feature],axis=1,inplace=True)\n",
    "    df=df.join(pos)\n",
    "    return df"
   ],
   "id": "ecfa5a40cc9860af",
   "outputs": [],
   "execution_count": null
  },
  {
   "metadata": {},
   "cell_type": "code",
   "source": [
    "def get_category(df, col, binsnum, labels, qcut = False):\n",
    "    if qcut:\n",
    "        localdf = pd.qcut(df[col], q = binsnum, labels = labels) # quantile cut\n",
    "    else:\n",
    "        localdf = pd.cut(df[col], bins = binsnum, labels = labels) # equal-length cut\n",
    "\n",
    "    localdf = pd.DataFrame(localdf)\n",
    "    name = 'gp' + '_' + col\n",
    "    localdf[name] = localdf[col]\n",
    "    df = df.join(localdf[name])\n",
    "    df[name] = df[name].astype(object)\n",
    "    return df"
   ],
   "id": "4c73b1f51b608a8b",
   "outputs": [],
   "execution_count": null
  },
  {
   "metadata": {},
   "cell_type": "code",
   "source": [
    "def plot_confusion_matrix(cm, classes,\n",
    "                          normalize=False,\n",
    "                          title='Confusion matrix',\n",
    "                          cmap=plt.cm.Blues):\n",
    "    if normalize:\n",
    "        cm = cm.astype('float') / cm.sum(axis=1)[:, np.newaxis]\n",
    "\n",
    "    print(cm)\n",
    "\n",
    "    plt.imshow(cm, interpolation='nearest', cmap=cmap)\n",
    "    plt.title(title)\n",
    "    plt.colorbar()\n",
    "    tick_marks = np.arange(len(classes))\n",
    "    plt.xticks(tick_marks, classes)\n",
    "    plt.yticks(tick_marks, classes)\n",
    "\n",
    "    fmt = '.2f' if normalize else 'd'\n",
    "    thresh = cm.max() / 2.\n",
    "    for i, j in itertools.product(range(cm.shape[0]), range(cm.shape[1])):\n",
    "        plt.text(j, i, format(cm[i, j], fmt),\n",
    "                 horizontalalignment=\"center\",\n",
    "                 color=\"white\" if cm[i, j] > thresh else \"black\")\n",
    "\n",
    "    plt.tight_layout()\n",
    "    plt.ylabel('True label')\n",
    "    plt.xlabel('Predicted label')"
   ],
   "id": "d57e43a25bd3d237",
   "outputs": [],
   "execution_count": null
  },
  {
   "metadata": {},
   "cell_type": "markdown",
   "source": "- Gender",
   "id": "70f2a67d07057ab"
  },
  {
   "metadata": {},
   "cell_type": "code",
   "source": "filtered_application_df",
   "id": "f28fe7ed30f8d91",
   "outputs": [],
   "execution_count": null
  },
  {
   "metadata": {},
   "cell_type": "code",
   "source": [
    "filtered_application_df['CODE_GENDER'] = filtered_application_df['CODE_GENDER'].replace(['F','M'],[0,1])\n",
    "print(filtered_application_df['CODE_GENDER'].value_counts())\n",
    "iv, data = calc_iv(filtered_application_df,'CODE_GENDER','target')\n",
    "ivtable.loc[ivtable['variable']=='CODE_GENDER','IV']=iv\n",
    "data.head()"
   ],
   "id": "a496a005db3dab4b",
   "outputs": [],
   "execution_count": null
  },
  {
   "metadata": {},
   "cell_type": "code",
   "source": "filtered_application_df",
   "id": "a484379f904bf2ae",
   "outputs": [],
   "execution_count": null
  },
  {
   "metadata": {},
   "cell_type": "code",
   "source": [
    "numeric_cols = ['CNT_CHILDREN', 'CODE_GENDER' ,'APPLICATION_AGE', 'YEARS_OF_WORKING',\n",
    "                'FLAG_WORK_PHONE', 'FLAG_PHONE', 'FLAG_EMAIL',\n",
    "                'CNT_FAM_MEMBERS','AMT_INCOME_TOTAL_zscore','target']\n",
    "\n",
    "# Calculate correlation matrix\n",
    "correlation_matrix = filtered_application_df[numeric_cols].corr()\n",
    "\n",
    "# Create heatmap\n",
    "plt.figure(figsize=(9, 8))\n",
    "sns.heatmap(correlation_matrix,\n",
    "            annot=True,  # Show numbers\n",
    "            cmap='coolwarm',  # Red/Blue color scheme\n",
    "            center=0,  # Center the colorbar at 0\n",
    "            fmt='.3f',  # 2 decimal places\n",
    "            square=True)  # Make cells square\n",
    "\n",
    "plt.title('Correlation Heatmap of Numeric Features')\n",
    "plt.xticks(rotation=45, ha='right')  # Rotate x-axis labels for better readability\n",
    "plt.yticks(rotation=0)\n",
    "plt.tight_layout()\n",
    "plt.show()"
   ],
   "id": "c34f2e791d071b05",
   "outputs": [],
   "execution_count": null
  },
  {
   "metadata": {},
   "cell_type": "markdown",
   "source": "- Having a car or not",
   "id": "e7e749a588bed9b3"
  },
  {
   "metadata": {},
   "cell_type": "code",
   "source": [
    "filtered_application_df['FLAG_OWN_CAR'] = filtered_application_df['FLAG_OWN_CAR'].replace(['N','Y'],[0,1])\n",
    "print(filtered_application_df['FLAG_OWN_CAR'].value_counts())\n",
    "iv, data=calc_iv(filtered_application_df,'FLAG_OWN_CAR','target')\n",
    "ivtable.loc[ivtable['variable']=='FLAG_OWN_CAR','IV']=iv\n",
    "data.head()"
   ],
   "id": "440c9ed98961d916",
   "outputs": [],
   "execution_count": null
  },
  {
   "metadata": {},
   "cell_type": "code",
   "source": "filtered_application_df",
   "id": "769a8c9f069779a",
   "outputs": [],
   "execution_count": null
  },
  {
   "metadata": {},
   "cell_type": "code",
   "source": [
    "numeric_cols = ['CNT_CHILDREN', 'FLAG_OWN_CAR','CODE_GENDER' ,'APPLICATION_AGE', 'YEARS_OF_WORKING',\n",
    "                'FLAG_WORK_PHONE', 'FLAG_PHONE', 'FLAG_EMAIL',\n",
    "                'CNT_FAM_MEMBERS','AMT_INCOME_TOTAL_zscore','target']\n",
    "\n",
    "# Calculate correlation matrix\n",
    "correlation_matrix = filtered_application_df[numeric_cols].corr()\n",
    "\n",
    "# Create heatmap\n",
    "plt.figure(figsize=(9, 8))\n",
    "sns.heatmap(correlation_matrix,\n",
    "            annot=True,  # Show numbers\n",
    "            cmap='coolwarm',  # Red/Blue color scheme\n",
    "            center=0,  # Center the colorbar at 0\n",
    "            fmt='.3f',  # 2 decimal places\n",
    "            square=True)  # Make cells square\n",
    "\n",
    "plt.title('Correlation Heatmap of Numeric Features')\n",
    "plt.xticks(rotation=45, ha='right')  # Rotate x-axis labels for better readability\n",
    "plt.yticks(rotation=0)\n",
    "plt.tight_layout()\n",
    "plt.show()"
   ],
   "id": "946afc182bc34eba",
   "outputs": [],
   "execution_count": null
  },
  {
   "metadata": {},
   "cell_type": "markdown",
   "source": "- Having house reality or not¶",
   "id": "f8f6513dd7425495"
  },
  {
   "metadata": {},
   "cell_type": "code",
   "source": [
    "filtered_application_df['FLAG_OWN_REALTY'] = filtered_application_df['FLAG_OWN_REALTY'].replace(['N','Y'],[0,1])\n",
    "print(filtered_application_df['FLAG_OWN_REALTY'].value_counts())\n",
    "iv, data=calc_iv(filtered_application_df,'FLAG_OWN_REALTY','target')\n",
    "ivtable.loc[ivtable['variable']=='FLAG_OWN_REALTY','IV']=iv\n",
    "data.head()"
   ],
   "id": "7e5138bff5109119",
   "outputs": [],
   "execution_count": null
  },
  {
   "metadata": {},
   "cell_type": "code",
   "source": [
    "numeric_cols = ['CNT_CHILDREN','FLAG_OWN_REALTY', 'FLAG_OWN_CAR','CODE_GENDER' ,'APPLICATION_AGE', 'YEARS_OF_WORKING',\n",
    "                'FLAG_WORK_PHONE', 'FLAG_PHONE', 'FLAG_EMAIL',\n",
    "                'CNT_FAM_MEMBERS','AMT_INCOME_TOTAL_zscore','target']\n",
    "\n",
    "# Calculate correlation matrix\n",
    "correlation_matrix = filtered_application_df[numeric_cols].corr()\n",
    "\n",
    "# Create heatmap\n",
    "plt.figure(figsize=(9, 8))\n",
    "sns.heatmap(correlation_matrix,\n",
    "            annot=True,  # Show numbers\n",
    "            cmap='coolwarm',  # Red/Blue color scheme\n",
    "            center=0,  # Center the colorbar at 0\n",
    "            fmt='.3f',  # 2 decimal places\n",
    "            square=True)  # Make cells square\n",
    "\n",
    "plt.title('Correlation Heatmap of Numeric Features')\n",
    "plt.xticks(rotation=45, ha='right')  # Rotate x-axis labels for better readability\n",
    "plt.yticks(rotation=0)\n",
    "plt.tight_layout()\n",
    "plt.show()"
   ],
   "id": "1cc2171a9746f8f7",
   "outputs": [],
   "execution_count": null
  },
  {
   "metadata": {},
   "cell_type": "code",
   "source": "filtered_application_df = filtered_application_df.drop(['FLAG_MOBIL'], axis=1)",
   "id": "2b883284a9dc87dd",
   "outputs": [],
   "execution_count": null
  },
  {
   "metadata": {},
   "cell_type": "code",
   "source": "filtered_application_df",
   "id": "36093f110713fa2b",
   "outputs": [],
   "execution_count": null
  },
  {
   "metadata": {},
   "cell_type": "markdown",
   "source": "- Having a phone or not",
   "id": "988d57c9b3224fec"
  },
  {
   "metadata": {},
   "cell_type": "code",
   "source": "safe_filtered_application_df = filtered_application_df",
   "id": "df5b4caf4a71f941",
   "outputs": [],
   "execution_count": null
  },
  {
   "metadata": {},
   "cell_type": "code",
   "source": [
    "filtered_application_df['FLAG_PHONE']=filtered_application_df['FLAG_PHONE'].astype(int)\n",
    "print(filtered_application_df['FLAG_PHONE'].value_counts(normalize=True,sort=False))\n",
    "filtered_application_df.drop(filtered_application_df[filtered_application_df['FLAG_PHONE'] == 'nan' ].index, inplace=True)\n",
    "iv, data=calc_iv(new_data,'FLAG_PHONE','target')\n",
    "ivtable.loc[ivtable['variable']=='FLAG_PHONE','IV']=iv\n",
    "data.head()"
   ],
   "id": "9c597a7a68a048c4",
   "outputs": [],
   "execution_count": null
  },
  {
   "metadata": {},
   "cell_type": "code",
   "source": "filtered_application_df",
   "id": "5ba11b3eac8fb8bc",
   "outputs": [],
   "execution_count": null
  },
  {
   "metadata": {},
   "cell_type": "markdown",
   "source": "- Having an email or not",
   "id": "95d09255dc8e3d8f"
  },
  {
   "metadata": {},
   "cell_type": "code",
   "source": [
    "print(filtered_application_df['FLAG_EMAIL'].value_counts(normalize=True,sort=False))\n",
    "filtered_application_df['FLAG_EMAIL']=filtered_application_df['FLAG_EMAIL'].astype(int)\n",
    "iv, data=calc_iv(new_data,'FLAG_EMAIL','target')\n",
    "ivtable.loc[ivtable['variable']=='FLAG_EMAIL','IV']=iv\n",
    "data.head()"
   ],
   "id": "611c03d07a09af8d",
   "outputs": [],
   "execution_count": null
  },
  {
   "metadata": {},
   "cell_type": "markdown",
   "source": "- Having a Work Phone or not",
   "id": "1d1e96527b53a2a0"
  },
  {
   "metadata": {},
   "cell_type": "code",
   "source": [
    "filtered_application_df['FLAG_WORK_PHONE']=filtered_application_df['FLAG_WORK_PHONE'].astype(str)\n",
    "iv, data = calc_iv(filtered_application_df,'FLAG_WORK_PHONE','target')\n",
    "new_data.drop(filtered_application_df[filtered_application_df['FLAG_WORK_PHONE'] == 'nan' ].index, inplace=True)\n",
    "ivtable.loc[ivtable['variable']=='FLAG_WORK_PHONE','IV']=iv\n",
    "data.head()"
   ],
   "id": "33a0110e7e818ec7",
   "outputs": [],
   "execution_count": null
  },
  {
   "metadata": {},
   "cell_type": "code",
   "source": "filtered_application_df",
   "id": "d26e8a1dddbdcf77",
   "outputs": [],
   "execution_count": null
  },
  {
   "metadata": {},
   "cell_type": "markdown",
   "source": [
    "## Continuous Variables\n",
    "- Children Numbers"
   ],
   "id": "caece13d1c17d324"
  },
  {
   "metadata": {},
   "cell_type": "code",
   "source": [
    "filtered_application_df.loc[filtered_application_df['CNT_CHILDREN'] >= 2,'CNT_CHILDREN']='2More'\n",
    "print(filtered_application_df['CNT_CHILDREN'].value_counts(sort=False))"
   ],
   "id": "eb0d44fe03ce867",
   "outputs": [],
   "execution_count": null
  },
  {
   "metadata": {},
   "cell_type": "code",
   "source": [
    "iv, data=calc_iv(filtered_application_df,'CNT_CHILDREN','target')\n",
    "ivtable.loc[ivtable['variable']=='CNT_CHILDREN','IV']=iv\n",
    "data.head()"
   ],
   "id": "c6ac66a8aeeb5310",
   "outputs": [],
   "execution_count": null
  },
  {
   "metadata": {},
   "cell_type": "code",
   "source": "filtered_application_df = convert_dummy(filtered_application_df,'CNT_CHILDREN')",
   "id": "e24ee5ec5ce90b95",
   "outputs": [],
   "execution_count": null
  },
  {
   "metadata": {},
   "cell_type": "code",
   "source": "filtered_application_df",
   "id": "30e5cc8037e81084",
   "outputs": [],
   "execution_count": null
  },
  {
   "metadata": {},
   "cell_type": "markdown",
   "source": [
    "## Age\n",
    "- Bucketing Continuous Variables"
   ],
   "id": "fb74f89acf05a011"
  },
  {
   "metadata": {},
   "cell_type": "code",
   "source": [
    "# new_data['Age']=-(new_data['DAYS_BIRTH'])//365\n",
    "# print(new_data['Age'].value_counts(bins=10,normalize=True,sort=False))\n",
    "# new_data['Age'].plot(kind='hist',bins=20,density=True)"
   ],
   "id": "45e4b4b900a2ce29",
   "outputs": [],
   "execution_count": null
  },
  {
   "metadata": {},
   "cell_type": "code",
   "source": [
    "# new_data = get_category(new_data,'Age',5, [\"lowest\",\"low\",\"medium\",\"high\",\"highest\"])\n",
    "# iv, data = calc_iv(new_data,'gp_Age','target')\n",
    "# ivtable.loc[ivtable['variable']=='DAYS_BIRTH','IV'] = iv\n",
    "# data.head()"
   ],
   "id": "5b796f188031e9bf",
   "outputs": [],
   "execution_count": null
  },
  {
   "metadata": {},
   "cell_type": "code",
   "source": "# new_data = convert_dummy(new_data,'gp_Age')",
   "id": "e7f5a95c82c4738b",
   "outputs": [],
   "execution_count": null
  },
  {
   "metadata": {},
   "cell_type": "markdown",
   "source": [
    "## Age\n",
    "- Z-score Continuous Variables"
   ],
   "id": "b25f4fd53be89bef"
  },
  {
   "metadata": {},
   "cell_type": "code",
   "source": [
    "# For Z-score normalization\n",
    "scaler_zscore = StandardScaler()\n",
    "zscore_cols = ['APPLICATION_AGE']\n",
    "# Create new column names for normalized features\n",
    "zscore_cols_scaled = [col + '_zscore' for col in zscore_cols]\n",
    "# Transform and assign to new columns\n",
    "filtered_application_df[zscore_cols_scaled] = scaler_zscore.fit_transform(filtered_application_df[zscore_cols])"
   ],
   "id": "871934efaba59ac1",
   "outputs": [],
   "execution_count": null
  },
  {
   "metadata": {},
   "cell_type": "code",
   "source": "filtered_application_df = filtered_application_df.drop(['APPLICATION_AGE'], axis=1)",
   "id": "513683c47b32af5b",
   "outputs": [],
   "execution_count": null
  },
  {
   "metadata": {},
   "cell_type": "code",
   "source": "filtered_application_df",
   "id": "a61b8ef6f2155a7c",
   "outputs": [],
   "execution_count": null
  },
  {
   "metadata": {},
   "cell_type": "markdown",
   "source": [
    "## Working Years \n",
    "- Equal-length Bucketing"
   ],
   "id": "ce6893d9af880031"
  },
  {
   "metadata": {},
   "cell_type": "code",
   "source": [
    "# new_data['worktm']=-(new_data['DAYS_EMPLOYED'])//365\n",
    "# new_data[new_data['worktm']<0] = np.nan # replace by na\n",
    "# new_data['DAYS_EMPLOYED']\n",
    "# new_data['worktm'].fillna(new_data['worktm'].mean(),inplace=True) #replace na by mean\n",
    "# print(new_data['worktm'].value_counts(bins=20,normalize=True,sort=False))\n",
    "# new_data['worktm'].plot(kind='hist',bins=20,density=True)"
   ],
   "id": "e9303bb5bf8bf3a",
   "outputs": [],
   "execution_count": null
  },
  {
   "metadata": {},
   "cell_type": "code",
   "source": [
    "# new_data = get_category(new_data,'worktm',5, [\"lowest\",\"low\",\"medium\",\"high\",\"highest\"])\n",
    "# iv, data=calc_iv(new_data,'gp_worktm','target')\n",
    "# ivtable.loc[ivtable['variable']=='DAYS_EMPLOYED','IV']=iv\n",
    "# data.head()"
   ],
   "id": "7215c3ca4e35ffd4",
   "outputs": [],
   "execution_count": null
  },
  {
   "metadata": {},
   "cell_type": "code",
   "source": "# new_data = convert_dummy(new_data,'gp_worktm')",
   "id": "2373b3baa5ffc1f6",
   "outputs": [],
   "execution_count": null
  },
  {
   "metadata": {},
   "cell_type": "markdown",
   "source": [
    "## Working Years \n",
    "- Min-Max"
   ],
   "id": "902af647b6011aff"
  },
  {
   "metadata": {},
   "cell_type": "code",
   "source": [
    "from sklearn.preprocessing import MinMaxScaler\n",
    "\n",
    "# วิธีใช้ Min-Max\n",
    "scaler = MinMaxScaler()\n",
    "filtered_application_df['YEARS_OF_WORKING_normalized'] = scaler.fit_transform(filtered_application_df[['YEARS_OF_WORKING']])"
   ],
   "id": "c848c2c94bd41ce4",
   "outputs": [],
   "execution_count": null
  },
  {
   "metadata": {},
   "cell_type": "code",
   "source": "filtered_application_df",
   "id": "3794dcf4fafc5c74",
   "outputs": [],
   "execution_count": null
  },
  {
   "metadata": {},
   "cell_type": "markdown",
   "source": "- Family Size",
   "id": "a4ee58fff5fb2e61"
  },
  {
   "metadata": {},
   "cell_type": "code",
   "source": "filtered_application_df['CNT_FAM_MEMBERS'] = filtered_application_df['CNT_FAM_MEMBERS'].astype(int)",
   "id": "5aeef7c90f108eb9",
   "outputs": [],
   "execution_count": null
  },
  {
   "metadata": {},
   "cell_type": "code",
   "source": "filtered_application_df",
   "id": "897274d24dd14692",
   "outputs": [],
   "execution_count": null
  },
  {
   "metadata": {},
   "cell_type": "code",
   "source": "filtered_application_df['CNT_FAM_MEMBERS'].value_counts(sort=False)",
   "id": "31683aa8594c934d",
   "outputs": [],
   "execution_count": null
  },
  {
   "metadata": {},
   "cell_type": "code",
   "source": [
    "filtered_application_df['CNT_FAM_MEMBERS']=filtered_application_df['CNT_FAM_MEMBERS'].astype(int)\n",
    "filtered_application_df['CNT_FAM_MEMBERS']=filtered_application_df['CNT_FAM_MEMBERS']\n",
    "filtered_application_df['CNT_FAM_MEMBERS']=filtered_application_df['CNT_FAM_MEMBERS'].astype(object)\n",
    "filtered_application_df.loc[filtered_application_df['CNT_FAM_MEMBERS']>=3,'CNT_FAM_MEMBERS']='3more'\n",
    "iv, data=calc_iv(filtered_application_df,'CNT_FAM_MEMBERS','target')\n",
    "ivtable.loc[ivtable['variable']=='CNT_FAM_MEMBERS','IV']=iv\n",
    "data.head()"
   ],
   "id": "36a46dab94dde24b",
   "outputs": [],
   "execution_count": null
  },
  {
   "metadata": {},
   "cell_type": "code",
   "source": "filtered_application_df = convert_dummy(filtered_application_df,'CNT_FAM_MEMBERS')",
   "id": "f74d198ee409a17f",
   "outputs": [],
   "execution_count": null
  },
  {
   "metadata": {},
   "cell_type": "code",
   "source": "filtered_application_df",
   "id": "9e86170374ed40c3",
   "outputs": [],
   "execution_count": null
  },
  {
   "metadata": {},
   "cell_type": "markdown",
   "source": [
    "### Categorical Features\n",
    "- Income Type"
   ],
   "id": "63eced3f7c0e68e2"
  },
  {
   "metadata": {},
   "cell_type": "code",
   "source": [
    "print(filtered_application_df['NAME_INCOME_TYPE'].value_counts(sort=False))\n",
    "print(filtered_application_df['NAME_INCOME_TYPE'].value_counts(normalize=True,sort=False))\n",
    "filtered_application_df.loc[filtered_application_df['NAME_INCOME_TYPE']=='Pensioner','NAME_INCOME_TYPE']='State servant'\n",
    "filtered_application_df.loc[filtered_application_df['NAME_INCOME_TYPE']=='Student','NAME_INCOME_TYPE']='State servant'\n",
    "iv, data=calc_iv(filtered_application_df,'NAME_INCOME_TYPE','target')\n",
    "ivtable.loc[ivtable['variable']=='NAME_INCOME_TYPE','IV']=iv\n",
    "data.head()"
   ],
   "id": "5d34894b9076e59d",
   "outputs": [],
   "execution_count": null
  },
  {
   "metadata": {},
   "cell_type": "code",
   "source": "filtered_application_df = convert_dummy(filtered_application_df,'NAME_INCOME_TYPE')",
   "id": "eadc6478b55efd19",
   "outputs": [],
   "execution_count": null
  },
  {
   "metadata": {},
   "cell_type": "code",
   "source": "safe_filtered_application_df_2 = filtered_application_df",
   "id": "33f6fd42be15c2ab",
   "outputs": [],
   "execution_count": null
  },
  {
   "metadata": {},
   "cell_type": "markdown",
   "source": "## Occupation Type",
   "id": "925c8c9ce0939905"
  },
  {
   "metadata": {},
   "cell_type": "code",
   "source": [
    "filtered_application_df.loc[(filtered_application_df['OCCUPATION_TYPE']=='Cleaning staff') | (filtered_application_df['OCCUPATION_TYPE']=='Cooking staff') | (filtered_application_df['OCCUPATION_TYPE']=='Drivers') | (filtered_application_df['OCCUPATION_TYPE']=='Laborers') | (filtered_application_df['OCCUPATION_TYPE']=='Low-skill Laborers') | (filtered_application_df['OCCUPATION_TYPE']=='Security staff') | (filtered_application_df['OCCUPATION_TYPE']=='Waiters/barmen staff'),'OCCUPATION_TYPE']='Laborwk'\n",
    "filtered_application_df.loc[(filtered_application_df['OCCUPATION_TYPE']=='Accountants') | (filtered_application_df['OCCUPATION_TYPE']=='Core staff') | (filtered_application_df['OCCUPATION_TYPE']=='HR staff') | (filtered_application_df['OCCUPATION_TYPE']=='Medicine staff') | (filtered_application_df['OCCUPATION_TYPE']=='Private service staff') | (filtered_application_df['OCCUPATION_TYPE']=='Realty agents') | (filtered_application_df['OCCUPATION_TYPE']=='Sales staff') | (filtered_application_df['OCCUPATION_TYPE']=='Secretaries'),'OCCUPATION_TYPE']='officewk'\n",
    "filtered_application_df.loc[(filtered_application_df['OCCUPATION_TYPE']=='Managers') | (filtered_application_df['OCCUPATION_TYPE']=='High skill tech staff') | (filtered_application_df['OCCUPATION_TYPE']=='IT staff'),'OCCUPATION_TYPE']='hightecwk'\n",
    "print(filtered_application_df['OCCUPATION_TYPE'].value_counts())\n",
    "iv, data=calc_iv(filtered_application_df,'OCCUPATION_TYPE','target')\n",
    "ivtable.loc[ivtable['variable']=='OCCUPATION_TYPE','IV']=iv\n",
    "data.head() "
   ],
   "id": "b0fb1ce8e64cf860",
   "outputs": [],
   "execution_count": null
  },
  {
   "metadata": {},
   "cell_type": "code",
   "source": "filtered_application_df = convert_dummy(filtered_application_df,'OCCUPATION_TYPE')",
   "id": "3eca448904ff3c03",
   "outputs": [],
   "execution_count": null
  },
  {
   "metadata": {},
   "cell_type": "code",
   "source": "filtered_application_df",
   "id": "a039c151f9fa3fc1",
   "outputs": [],
   "execution_count": null
  },
  {
   "metadata": {},
   "cell_type": "markdown",
   "source": "## House Type",
   "id": "296145bd580eedb4"
  },
  {
   "metadata": {},
   "cell_type": "code",
   "source": [
    "iv, data=calc_iv(filtered_application_df,'NAME_HOUSING_TYPE','target')\n",
    "ivtable.loc[ivtable['variable']=='NAME_HOUSING_TYPE','IV']=iv\n",
    "data.head()"
   ],
   "id": "f5d5e8a0a26fd603",
   "outputs": [],
   "execution_count": null
  },
  {
   "metadata": {},
   "cell_type": "code",
   "source": "filtered_application_df = convert_dummy(filtered_application_df,'NAME_HOUSING_TYPE')",
   "id": "6e38c18d6588a1e5",
   "outputs": [],
   "execution_count": null
  },
  {
   "metadata": {},
   "cell_type": "code",
   "source": "filtered_application_df",
   "id": "a9af7a115e0f6841",
   "outputs": [],
   "execution_count": null
  },
  {
   "metadata": {},
   "cell_type": "markdown",
   "source": "## Education",
   "id": "2fa96af7eae38d8"
  },
  {
   "metadata": {},
   "cell_type": "code",
   "source": [
    "filtered_application_df.loc[filtered_application_df['NAME_EDUCATION_TYPE']=='Academic degree','NAME_EDUCATION_TYPE']='Higher education'\n",
    "iv, data=calc_iv(filtered_application_df,'NAME_EDUCATION_TYPE','target')\n",
    "ivtable.loc[ivtable['variable']=='NAME_EDUCATION_TYPE','IV']=iv\n",
    "data.head()"
   ],
   "id": "5673dce26c15e0e4",
   "outputs": [],
   "execution_count": null
  },
  {
   "metadata": {},
   "cell_type": "code",
   "source": "filtered_application_df = convert_dummy(filtered_application_df,'NAME_EDUCATION_TYPE')",
   "id": "ad78304fd7f50477",
   "outputs": [],
   "execution_count": null
  },
  {
   "metadata": {},
   "cell_type": "code",
   "source": "filtered_application_df",
   "id": "2f87ac78717dc4a9",
   "outputs": [],
   "execution_count": null
  },
  {
   "metadata": {},
   "cell_type": "markdown",
   "source": "## Marriage Condition",
   "id": "39106a7039e40313"
  },
  {
   "metadata": {},
   "cell_type": "code",
   "source": "filtered_application_df['NAME_FAMILY_STATUS'].value_counts(normalize=True,sort=False)",
   "id": "c7a8c4fa55d8c126",
   "outputs": [],
   "execution_count": null
  },
  {
   "metadata": {},
   "cell_type": "code",
   "source": [
    "iv, data=calc_iv(filtered_application_df,'NAME_FAMILY_STATUS','target')\n",
    "ivtable.loc[ivtable['variable']=='NAME_FAMILY_STATUS','IV']=iv\n",
    "data.head()"
   ],
   "id": "873d7a942f2f0a27",
   "outputs": [],
   "execution_count": null
  },
  {
   "metadata": {},
   "cell_type": "code",
   "source": "filtered_application_df = convert_dummy(filtered_application_df,'NAME_FAMILY_STATUS')",
   "id": "e7790290d34032c8",
   "outputs": [],
   "execution_count": null
  },
  {
   "metadata": {},
   "cell_type": "code",
   "source": "filtered_application_df",
   "id": "69d4f375666258bb",
   "outputs": [],
   "execution_count": null
  },
  {
   "metadata": {},
   "cell_type": "code",
   "source": "filtered_application_df.to_csv('data_after_preprocess.csv')",
   "id": "70d0bdc3343cdc5c",
   "outputs": [],
   "execution_count": null
  },
  {
   "metadata": {},
   "cell_type": "markdown",
   "source": "## IV、WOE：Concept and Application",
   "id": "ab0c1c2a23bb4f03"
  },
  {
   "metadata": {},
   "cell_type": "markdown",
   "source": [
    "Weight of Evidence(WoE):  \n",
    "\n",
    "$$wo{e_i} = \\ln {{{P_{yi}}} \\over {{P_{ni}}}} = \\ln {{{y_i}/{y_s}} \\over {{n_i}/{n_s}}}$$\n",
    "$wo{e_i}$ is the I category's WOE value. ${{P_{yi}}}$ is the proportion of the positive samples in this category to all positive samples.   ${{P_{ni}}}$ is the ratio of negative samples (${{n_i}}$) in this class to all negative samples (${{n_s}}$).\n",
    "\n",
    "Information Value (IV):  \n",
    "$$I{V_i} = ({P_{yi}} - {P_{ni}}) \\times wo{e_i}$$  \n",
    "The IV values of the various types are the difference between the conditional positive rate and the conditional negative rate multiplied by the WOE value of the variable. The total IV value of the variable can be understood as the weighted sum of the conditional positive rate and the conditional negative rate difference:\n",
    "$$IV = \\sum\\limits_i^n {I{V_i}} $$  \n",
    "\n",
    "The IV value measures the variable's ability to predict.\n"
   ],
   "id": "67a1146f8483c441"
  },
  {
   "metadata": {},
   "cell_type": "markdown",
   "source": [
    "Relationship between IV value and predictive power\n",
    "\n",
    "| IV| Ability to predict | \n",
    "|:------|:------:| \n",
    "| <0.02 | Almost no predictive power | \n",
    "|0.02~0.1 |weak predictive power|\n",
    "|0.1~0.3|Moderate predictive power|\n",
    "|0.3~0.5|Strong predictive power|\n",
    "|>0.5|Predictive power is too strong, need to check variables| "
   ],
   "id": "d8237dc5545c1b89"
  },
  {
   "metadata": {},
   "cell_type": "code",
   "source": [
    "ivtable=ivtable.sort_values(by='IV',ascending=False)\n",
    "ivtable.loc[ivtable['variable']=='DAYS_BIRTH','variable']='agegp'\n",
    "ivtable.loc[ivtable['variable']=='DAYS_EMPLOYED','variable']='worktmgp'\n",
    "ivtable.loc[ivtable['variable']=='inc','variable']='incgp'\n",
    "ivtable"
   ],
   "id": "c2b24cfe996820eb",
   "outputs": [],
   "execution_count": null
  },
  {
   "metadata": {},
   "cell_type": "markdown",
   "source": [
    "# Algorithms\n",
    "- Split Dataset"
   ],
   "id": "f8f9c5415f1c108d"
  },
  {
   "metadata": {},
   "cell_type": "code",
   "source": "new_data",
   "id": "b4ad913f747ba7fb",
   "outputs": [],
   "execution_count": null
  },
  {
   "metadata": {},
   "cell_type": "code",
   "source": [
    "Y = new_data['target']\n",
    "X = new_data[['Gender','Reality','ChldNo_1', 'ChldNo_2More','wkphone',\n",
    "              'gp_Age_high', 'gp_Age_highest', 'gp_Age_low',\n",
    "              'gp_Age_lowest','gp_worktm_high', 'gp_worktm_highest',\n",
    "              'gp_worktm_low', 'gp_worktm_medium','occyp_hightecwk',\n",
    "              'occyp_officewk','famsizegp_1', 'famsizegp_3more',\n",
    "              'houtp_Co-op apartment', 'houtp_Municipal apartment',\n",
    "              'houtp_Office apartment', 'houtp_Rented apartment',\n",
    "              'houtp_With parents','edutp_Higher education',\n",
    "              'edutp_Incomplete higher', 'edutp_Lower secondary','famtp_Civil marriage',\n",
    "              'famtp_Separated','famtp_Single / not married','famtp_Widow']]"
   ],
   "id": "488de7caaa99f07d",
   "outputs": [],
   "execution_count": null
  },
  {
   "metadata": {},
   "cell_type": "markdown",
   "source": "+ Using Synthetic Minority Over-Sampling Technique(`SMOTE`) to overcome sample imbalance problem.",
   "id": "e2ad23f0a16b5a5f"
  },
  {
   "metadata": {},
   "cell_type": "code",
   "source": [
    "Y = Y.astype('int')\n",
    "X_balance,Y_balance = SMOTE().fit_resample(X,Y)\n",
    "X_balance = pd.DataFrame(X_balance, columns = X.columns)"
   ],
   "id": "6dfdd01a037c7c6e",
   "outputs": [],
   "execution_count": null
  },
  {
   "metadata": {},
   "cell_type": "markdown",
   "source": "+ After over sampling, the number between 1 and 0 is balanced. It can be seen from the confusion matrix.",
   "id": "b157391a8b23308a"
  },
  {
   "metadata": {},
   "cell_type": "code",
   "source": "",
   "id": "1b9ead6878dcb750",
   "outputs": [],
   "execution_count": null
  },
  {
   "metadata": {},
   "cell_type": "code",
   "source": [
    "X_train, X_test, y_train, y_test = train_test_split(X_balance,Y_balance,\n",
    "                                                    stratify=Y_balance, test_size=0.3,\n",
    "                                                    random_state = 10086)"
   ],
   "id": "1150e6ad3ddada30",
   "outputs": [],
   "execution_count": null
  },
  {
   "metadata": {},
   "cell_type": "code",
   "source": "print(X_train)",
   "id": "cdfd3c4794bd790b",
   "outputs": [],
   "execution_count": null
  },
  {
   "metadata": {},
   "cell_type": "markdown",
   "source": [
    "## Logistic Regression   \n",
    "\n",
    "$$\\log ({p \\over {1 - p}}) = {\\beta _0} + {\\beta _1}{x_1} +  \\cdot  \\cdot  \\cdot  + {\\beta _q}{x_q}$$"
   ],
   "id": "e98d4a1bb6d8ca14"
  },
  {
   "metadata": {},
   "cell_type": "code",
   "source": [
    "model = LogisticRegression(C=0.8,\n",
    "                           random_state=0,\n",
    "                           solver='lbfgs')\n",
    "model.fit(X_train, y_train)\n",
    "y_predict = model.predict(X_test)\n",
    "\n",
    "print('Accuracy Score is {:.5}'.format(accuracy_score(y_test, y_predict)))\n",
    "print(pd.DataFrame(confusion_matrix(y_test,y_predict)))\n",
    "\n",
    "sns.set_style('white')\n",
    "class_names = ['0','1']\n",
    "plot_confusion_matrix(confusion_matrix(y_test,y_predict),\n",
    "                      classes= class_names, normalize = True,\n",
    "                      title='Normalized Confusion Matrix: Logistic Regression')\n"
   ],
   "id": "864aabe980640d68",
   "outputs": [],
   "execution_count": null
  },
  {
   "metadata": {},
   "cell_type": "markdown",
   "source": "## Decision Tree",
   "id": "5f2b7aab99062d2e"
  },
  {
   "metadata": {},
   "cell_type": "code",
   "source": [
    "model = DecisionTreeClassifier(max_depth=12,\n",
    "                               min_samples_split=8,\n",
    "                               random_state=1024)\n",
    "model.fit(X_train, y_train)\n",
    "y_predict = model.predict(X_test)\n",
    "\n",
    "print('Accuracy Score is {:.5}'.format(accuracy_score(y_test, y_predict)))\n",
    "print(pd.DataFrame(confusion_matrix(y_test,y_predict)))\n",
    "\n",
    "plot_confusion_matrix(confusion_matrix(y_test,y_predict),\n",
    "                      classes=class_names, normalize = True,\n",
    "                      title='Normalized Confusion Matrix: CART')"
   ],
   "id": "f636a9944bd50d32",
   "outputs": [],
   "execution_count": null
  },
  {
   "metadata": {},
   "cell_type": "markdown",
   "source": [
    "## Random Forest   \n",
    "\n",
    "\n",
    "\n",
    "<center>\n",
    "    <img style=\"border-radius: 0.3125em;\n",
    "    box-shadow: 0 2px 4px 0 rgba(34,36,38,.12),0 2px 10px 0 rgba(34,36,38,.08);\" \n",
    "    src=\"https://d1rwhvwstyk9gu.cloudfront.net/2019/03/Random-Forest-Algorithm.jpg\">\n",
    "    <br>\n",
    "    <div style=\"color:orange; border-bottom: 1px solid #d9d9d9;\n",
    "    display: inline-block;\n",
    "    color: #999;\n",
    "    padding: 2px;\">Random Forest</div>\n",
    "</center>"
   ],
   "id": "214b12e3ffdb203d"
  },
  {
   "metadata": {},
   "cell_type": "code",
   "source": [
    "model = RandomForestClassifier(n_estimators=250,\n",
    "                               max_depth=12,\n",
    "                               min_samples_leaf=16\n",
    "                               )\n",
    "model.fit(X_train, y_train)\n",
    "y_predict = model.predict(X_test)\n",
    "\n",
    "print('Accuracy Score is {:.5}'.format(accuracy_score(y_test, y_predict)))\n",
    "print(pd.DataFrame(confusion_matrix(y_test,y_predict)))\n",
    "\n",
    "plot_confusion_matrix(confusion_matrix(y_test,y_predict),\n",
    "                      classes=class_names, normalize = True,\n",
    "                      title='Normalized Confusion Matrix: Ramdom Forests')"
   ],
   "id": "a608a1593510a4d3",
   "outputs": [],
   "execution_count": null
  },
  {
   "metadata": {},
   "cell_type": "markdown",
   "source": [
    "## SVM\n",
    "\n",
    "\n",
    "<center>\n",
    "    <img style=\"border-radius: 0.3125em;\n",
    "    box-shadow: 0 2px 4px 0 rgba(34,36,38,.12),0 2px 10px 0 rgba(34,36,38,.08);\" \n",
    "    src=\"https://i.loli.net/2019/11/13/fryWG5al7OPHDiA.gif\">\n",
    "    <br>\n",
    "    <div style=\"color:orange; border-bottom: 1px solid #d9d9d9;\n",
    "    display: inline-block;\n",
    "    color: #999;\n",
    "    padding: 2px;\">Support Vector Machine</div>\n",
    "</center>"
   ],
   "id": "ca887588bb5f622e"
  },
  {
   "metadata": {},
   "cell_type": "code",
   "source": [
    "model = svm.SVC(C = 0.8,\n",
    "                kernel='linear')\n",
    "model.fit(X_train, y_train)\n",
    "y_predict = model.predict(X_test)\n",
    "\n",
    "print('Accuracy Score is {:.5}'.format(accuracy_score(y_test, y_predict)))\n",
    "print(pd.DataFrame(confusion_matrix(y_test,y_predict)))\n",
    "\n",
    "plot_confusion_matrix(confusion_matrix(y_test,y_predict),\n",
    "                      classes=class_names, normalize = True,\n",
    "                      title='Normalized Confusion Matrix: SVM')"
   ],
   "id": "40b824df227d8a48",
   "outputs": [],
   "execution_count": null
  },
  {
   "metadata": {},
   "cell_type": "markdown",
   "source": "",
   "id": "bdfcaf302cca706"
  },
  {
   "metadata": {},
   "cell_type": "markdown",
   "source": "## Showing important features:",
   "id": "2067fc84783f1b2"
  },
  {
   "metadata": {},
   "cell_type": "code",
   "source": [
    "# def plot_importance(classifier, x_train, point_size = 25):\n",
    "#     '''plot feature importance'''\n",
    "#     values = sorted(zip(x_train.columns, classifier.feature_importances_), key = lambda x: x[1] * -1)\n",
    "#     imp = pd.DataFrame(values,columns = [\"Name\", \"Score\"])\n",
    "#     imp.sort_values(by = 'Score',inplace = True)\n",
    "#     sns.scatterplot(x = 'Score',y='Name', linewidth = 0,\n",
    "#                     data = imp,s = point_size, color='red').set(\n",
    "#         xlabel='importance',\n",
    "#         ylabel='features')\n",
    "# \n",
    "# plot_importance(model, X_train,20)   "
   ],
   "id": "63b00964ca2b102a",
   "outputs": [],
   "execution_count": null
  },
  {
   "metadata": {},
   "cell_type": "code",
   "source": "",
   "id": "9c27164be3033f8c",
   "outputs": [],
   "execution_count": null
  }
 ],
 "metadata": {
  "kernelspec": {
   "display_name": "Python 3",
   "language": "python",
   "name": "python3"
  },
  "language_info": {
   "codemirror_mode": {
    "name": "ipython",
    "version": 2
   },
   "file_extension": ".py",
   "mimetype": "text/x-python",
   "name": "python",
   "nbconvert_exporter": "python",
   "pygments_lexer": "ipython2",
   "version": "2.7.6"
  }
 },
 "nbformat": 4,
 "nbformat_minor": 5
}
